{
 "cells": [
  {
   "cell_type": "code",
   "execution_count": 1,
   "id": "05275d15-ee41-4aa9-986f-80f01ce993dc",
   "metadata": {},
   "outputs": [],
   "source": [
    "import pandas as pd\n",
    "import seaborn as sns\n",
    "import matplotlib.pyplot as plt"
   ]
  },
  {
   "cell_type": "code",
   "execution_count": 2,
   "id": "c47c3963-2c3e-47bb-ba65-02b9596120ef",
   "metadata": {},
   "outputs": [
    {
     "data": {
      "text/html": [
       "<div>\n",
       "<style scoped>\n",
       "    .dataframe tbody tr th:only-of-type {\n",
       "        vertical-align: middle;\n",
       "    }\n",
       "\n",
       "    .dataframe tbody tr th {\n",
       "        vertical-align: top;\n",
       "    }\n",
       "\n",
       "    .dataframe thead th {\n",
       "        text-align: right;\n",
       "    }\n",
       "</style>\n",
       "<table border=\"1\" class=\"dataframe\">\n",
       "  <thead>\n",
       "    <tr style=\"text-align: right;\">\n",
       "      <th></th>\n",
       "      <th>StartDateTime</th>\n",
       "      <th>TrafficJamNum</th>\n",
       "      <th>StartDate</th>\n",
       "      <th>EndDate</th>\n",
       "      <th>StartTime</th>\n",
       "      <th>EndTime</th>\n",
       "      <th>Severity</th>\n",
       "      <th>Length</th>\n",
       "      <th>Duration</th>\n",
       "      <th>HectometerStart</th>\n",
       "      <th>...</th>\n",
       "      <th>DOP Sector</th>\n",
       "      <th>Season Numerical</th>\n",
       "      <th>Severity_Categorical</th>\n",
       "      <th>DateOnly</th>\n",
       "      <th>Type</th>\n",
       "      <th>YearAndDate</th>\n",
       "      <th>Holiday</th>\n",
       "      <th>Year</th>\n",
       "      <th>Month</th>\n",
       "      <th>Day</th>\n",
       "    </tr>\n",
       "  </thead>\n",
       "  <tbody>\n",
       "    <tr>\n",
       "      <th>0</th>\n",
       "      <td>2015-01-01 01:00:00</td>\n",
       "      <td>NaN</td>\n",
       "      <td>NaN</td>\n",
       "      <td>NaN</td>\n",
       "      <td>NaN</td>\n",
       "      <td>NaN</td>\n",
       "      <td>0.0</td>\n",
       "      <td>0.0</td>\n",
       "      <td>0.0</td>\n",
       "      <td>NaN</td>\n",
       "      <td>...</td>\n",
       "      <td>1</td>\n",
       "      <td>0</td>\n",
       "      <td>2</td>\n",
       "      <td>2015-01-01</td>\n",
       "      <td>Public Holiday</td>\n",
       "      <td>2015-01-01</td>\n",
       "      <td>1.0</td>\n",
       "      <td>2015</td>\n",
       "      <td>1</td>\n",
       "      <td>1</td>\n",
       "    </tr>\n",
       "    <tr>\n",
       "      <th>1</th>\n",
       "      <td>2015-01-01 02:00:00</td>\n",
       "      <td>NaN</td>\n",
       "      <td>NaN</td>\n",
       "      <td>NaN</td>\n",
       "      <td>NaN</td>\n",
       "      <td>NaN</td>\n",
       "      <td>0.0</td>\n",
       "      <td>0.0</td>\n",
       "      <td>0.0</td>\n",
       "      <td>NaN</td>\n",
       "      <td>...</td>\n",
       "      <td>1</td>\n",
       "      <td>0</td>\n",
       "      <td>2</td>\n",
       "      <td>2015-01-01</td>\n",
       "      <td>Public Holiday</td>\n",
       "      <td>2015-01-01</td>\n",
       "      <td>1.0</td>\n",
       "      <td>2015</td>\n",
       "      <td>1</td>\n",
       "      <td>1</td>\n",
       "    </tr>\n",
       "    <tr>\n",
       "      <th>2</th>\n",
       "      <td>2015-01-01 03:00:00</td>\n",
       "      <td>NaN</td>\n",
       "      <td>NaN</td>\n",
       "      <td>NaN</td>\n",
       "      <td>NaN</td>\n",
       "      <td>NaN</td>\n",
       "      <td>0.0</td>\n",
       "      <td>0.0</td>\n",
       "      <td>0.0</td>\n",
       "      <td>NaN</td>\n",
       "      <td>...</td>\n",
       "      <td>1</td>\n",
       "      <td>0</td>\n",
       "      <td>2</td>\n",
       "      <td>2015-01-01</td>\n",
       "      <td>Public Holiday</td>\n",
       "      <td>2015-01-01</td>\n",
       "      <td>1.0</td>\n",
       "      <td>2015</td>\n",
       "      <td>1</td>\n",
       "      <td>1</td>\n",
       "    </tr>\n",
       "    <tr>\n",
       "      <th>3</th>\n",
       "      <td>2015-01-01 04:00:00</td>\n",
       "      <td>NaN</td>\n",
       "      <td>NaN</td>\n",
       "      <td>NaN</td>\n",
       "      <td>NaN</td>\n",
       "      <td>NaN</td>\n",
       "      <td>0.0</td>\n",
       "      <td>0.0</td>\n",
       "      <td>0.0</td>\n",
       "      <td>NaN</td>\n",
       "      <td>...</td>\n",
       "      <td>1</td>\n",
       "      <td>0</td>\n",
       "      <td>2</td>\n",
       "      <td>2015-01-01</td>\n",
       "      <td>Public Holiday</td>\n",
       "      <td>2015-01-01</td>\n",
       "      <td>1.0</td>\n",
       "      <td>2015</td>\n",
       "      <td>1</td>\n",
       "      <td>1</td>\n",
       "    </tr>\n",
       "    <tr>\n",
       "      <th>4</th>\n",
       "      <td>2015-01-01 05:00:00</td>\n",
       "      <td>NaN</td>\n",
       "      <td>NaN</td>\n",
       "      <td>NaN</td>\n",
       "      <td>NaN</td>\n",
       "      <td>NaN</td>\n",
       "      <td>0.0</td>\n",
       "      <td>0.0</td>\n",
       "      <td>0.0</td>\n",
       "      <td>NaN</td>\n",
       "      <td>...</td>\n",
       "      <td>1</td>\n",
       "      <td>0</td>\n",
       "      <td>2</td>\n",
       "      <td>2015-01-01</td>\n",
       "      <td>Public Holiday</td>\n",
       "      <td>2015-01-01</td>\n",
       "      <td>1.0</td>\n",
       "      <td>2015</td>\n",
       "      <td>1</td>\n",
       "      <td>1</td>\n",
       "    </tr>\n",
       "  </tbody>\n",
       "</table>\n",
       "<p>5 rows × 50 columns</p>\n",
       "</div>"
      ],
      "text/plain": [
       "         StartDateTime  TrafficJamNum StartDate EndDate StartTime EndTime  \\\n",
       "0  2015-01-01 01:00:00            NaN       NaN     NaN       NaN     NaN   \n",
       "1  2015-01-01 02:00:00            NaN       NaN     NaN       NaN     NaN   \n",
       "2  2015-01-01 03:00:00            NaN       NaN     NaN       NaN     NaN   \n",
       "3  2015-01-01 04:00:00            NaN       NaN     NaN       NaN     NaN   \n",
       "4  2015-01-01 05:00:00            NaN       NaN     NaN       NaN     NaN   \n",
       "\n",
       "   Severity  Length  Duration  HectometerStart  ...  DOP Sector  \\\n",
       "0       0.0     0.0       0.0              NaN  ...           1   \n",
       "1       0.0     0.0       0.0              NaN  ...           1   \n",
       "2       0.0     0.0       0.0              NaN  ...           1   \n",
       "3       0.0     0.0       0.0              NaN  ...           1   \n",
       "4       0.0     0.0       0.0              NaN  ...           1   \n",
       "\n",
       "  Season Numerical  Severity_Categorical    DateOnly            Type  \\\n",
       "0                0                     2  2015-01-01  Public Holiday   \n",
       "1                0                     2  2015-01-01  Public Holiday   \n",
       "2                0                     2  2015-01-01  Public Holiday   \n",
       "3                0                     2  2015-01-01  Public Holiday   \n",
       "4                0                     2  2015-01-01  Public Holiday   \n",
       "\n",
       "  YearAndDate Holiday  Year Month Day  \n",
       "0  2015-01-01     1.0  2015     1   1  \n",
       "1  2015-01-01     1.0  2015     1   1  \n",
       "2  2015-01-01     1.0  2015     1   1  \n",
       "3  2015-01-01     1.0  2015     1   1  \n",
       "4  2015-01-01     1.0  2015     1   1  \n",
       "\n",
       "[5 rows x 50 columns]"
      ]
     },
     "execution_count": 2,
     "metadata": {},
     "output_type": "execute_result"
    }
   ],
   "source": [
    "df = pd.read_csv(\"datasets/A73Oplopend.csv\")\n",
    "df.head()"
   ]
  },
  {
   "cell_type": "code",
   "execution_count": 3,
   "id": "d0727e39-613a-473f-9a94-d7be3a5c79dc",
   "metadata": {},
   "outputs": [
    {
     "data": {
      "text/plain": [
       "array([nan, 'aflopend'], dtype=object)"
      ]
     },
     "execution_count": 3,
     "metadata": {},
     "output_type": "execute_result"
    }
   ],
   "source": [
    "df2 = pd.read_csv(\"datasets/A73Aflopend.csv\",low_memory=False)\n",
    "df2['HectometerDirection'].unique()"
   ]
  },
  {
   "cell_type": "code",
   "execution_count": 4,
   "id": "84ecbf4c-0795-4ea2-a587-b9fd8f12d0f6",
   "metadata": {},
   "outputs": [
    {
     "data": {
      "text/plain": [
       "array([nan, 'oplopend'], dtype=object)"
      ]
     },
     "execution_count": 4,
     "metadata": {},
     "output_type": "execute_result"
    }
   ],
   "source": [
    "df3 = pd.read_csv(\"datasets/A2Oplopend.csv\", low_memory=False)\n",
    "df3['HectometerDirection'].unique()"
   ]
  },
  {
   "cell_type": "code",
   "execution_count": 5,
   "id": "8502a445-af47-472c-8843-5b2b9df94892",
   "metadata": {},
   "outputs": [
    {
     "data": {
      "text/html": [
       "<div>\n",
       "<style scoped>\n",
       "    .dataframe tbody tr th:only-of-type {\n",
       "        vertical-align: middle;\n",
       "    }\n",
       "\n",
       "    .dataframe tbody tr th {\n",
       "        vertical-align: top;\n",
       "    }\n",
       "\n",
       "    .dataframe thead th {\n",
       "        text-align: right;\n",
       "    }\n",
       "</style>\n",
       "<table border=\"1\" class=\"dataframe\">\n",
       "  <thead>\n",
       "    <tr style=\"text-align: right;\">\n",
       "      <th></th>\n",
       "      <th>StartDateTime</th>\n",
       "      <th>TrafficJamNum</th>\n",
       "      <th>StartDate</th>\n",
       "      <th>EndDate</th>\n",
       "      <th>StartTime</th>\n",
       "      <th>EndTime</th>\n",
       "      <th>Severity</th>\n",
       "      <th>Length</th>\n",
       "      <th>Duration</th>\n",
       "      <th>HectometerStart</th>\n",
       "      <th>...</th>\n",
       "      <th>DOP Sector</th>\n",
       "      <th>Season Numerical</th>\n",
       "      <th>Severity_Categorical</th>\n",
       "      <th>DateOnly</th>\n",
       "      <th>Type</th>\n",
       "      <th>YearAndDate</th>\n",
       "      <th>Holiday</th>\n",
       "      <th>Year</th>\n",
       "      <th>Month</th>\n",
       "      <th>Day</th>\n",
       "    </tr>\n",
       "  </thead>\n",
       "  <tbody>\n",
       "    <tr>\n",
       "      <th>0</th>\n",
       "      <td>2015-01-01 01:00:00</td>\n",
       "      <td>NaN</td>\n",
       "      <td>NaN</td>\n",
       "      <td>NaN</td>\n",
       "      <td>NaN</td>\n",
       "      <td>NaN</td>\n",
       "      <td>0.0</td>\n",
       "      <td>0.0</td>\n",
       "      <td>0.0</td>\n",
       "      <td>NaN</td>\n",
       "      <td>...</td>\n",
       "      <td>1</td>\n",
       "      <td>0</td>\n",
       "      <td>2</td>\n",
       "      <td>2015-01-01</td>\n",
       "      <td>Public Holiday</td>\n",
       "      <td>2015-01-01</td>\n",
       "      <td>1.0</td>\n",
       "      <td>2015</td>\n",
       "      <td>1</td>\n",
       "      <td>1</td>\n",
       "    </tr>\n",
       "    <tr>\n",
       "      <th>1</th>\n",
       "      <td>2015-01-01 02:00:00</td>\n",
       "      <td>NaN</td>\n",
       "      <td>NaN</td>\n",
       "      <td>NaN</td>\n",
       "      <td>NaN</td>\n",
       "      <td>NaN</td>\n",
       "      <td>0.0</td>\n",
       "      <td>0.0</td>\n",
       "      <td>0.0</td>\n",
       "      <td>NaN</td>\n",
       "      <td>...</td>\n",
       "      <td>1</td>\n",
       "      <td>0</td>\n",
       "      <td>2</td>\n",
       "      <td>2015-01-01</td>\n",
       "      <td>Public Holiday</td>\n",
       "      <td>2015-01-01</td>\n",
       "      <td>1.0</td>\n",
       "      <td>2015</td>\n",
       "      <td>1</td>\n",
       "      <td>1</td>\n",
       "    </tr>\n",
       "    <tr>\n",
       "      <th>2</th>\n",
       "      <td>2015-01-01 03:00:00</td>\n",
       "      <td>NaN</td>\n",
       "      <td>NaN</td>\n",
       "      <td>NaN</td>\n",
       "      <td>NaN</td>\n",
       "      <td>NaN</td>\n",
       "      <td>0.0</td>\n",
       "      <td>0.0</td>\n",
       "      <td>0.0</td>\n",
       "      <td>NaN</td>\n",
       "      <td>...</td>\n",
       "      <td>1</td>\n",
       "      <td>0</td>\n",
       "      <td>2</td>\n",
       "      <td>2015-01-01</td>\n",
       "      <td>Public Holiday</td>\n",
       "      <td>2015-01-01</td>\n",
       "      <td>1.0</td>\n",
       "      <td>2015</td>\n",
       "      <td>1</td>\n",
       "      <td>1</td>\n",
       "    </tr>\n",
       "    <tr>\n",
       "      <th>3</th>\n",
       "      <td>2015-01-01 04:00:00</td>\n",
       "      <td>NaN</td>\n",
       "      <td>NaN</td>\n",
       "      <td>NaN</td>\n",
       "      <td>NaN</td>\n",
       "      <td>NaN</td>\n",
       "      <td>0.0</td>\n",
       "      <td>0.0</td>\n",
       "      <td>0.0</td>\n",
       "      <td>NaN</td>\n",
       "      <td>...</td>\n",
       "      <td>1</td>\n",
       "      <td>0</td>\n",
       "      <td>2</td>\n",
       "      <td>2015-01-01</td>\n",
       "      <td>Public Holiday</td>\n",
       "      <td>2015-01-01</td>\n",
       "      <td>1.0</td>\n",
       "      <td>2015</td>\n",
       "      <td>1</td>\n",
       "      <td>1</td>\n",
       "    </tr>\n",
       "    <tr>\n",
       "      <th>4</th>\n",
       "      <td>2015-01-01 05:00:00</td>\n",
       "      <td>NaN</td>\n",
       "      <td>NaN</td>\n",
       "      <td>NaN</td>\n",
       "      <td>NaN</td>\n",
       "      <td>NaN</td>\n",
       "      <td>0.0</td>\n",
       "      <td>0.0</td>\n",
       "      <td>0.0</td>\n",
       "      <td>NaN</td>\n",
       "      <td>...</td>\n",
       "      <td>1</td>\n",
       "      <td>0</td>\n",
       "      <td>2</td>\n",
       "      <td>2015-01-01</td>\n",
       "      <td>Public Holiday</td>\n",
       "      <td>2015-01-01</td>\n",
       "      <td>1.0</td>\n",
       "      <td>2015</td>\n",
       "      <td>1</td>\n",
       "      <td>1</td>\n",
       "    </tr>\n",
       "  </tbody>\n",
       "</table>\n",
       "<p>5 rows × 50 columns</p>\n",
       "</div>"
      ],
      "text/plain": [
       "         StartDateTime  TrafficJamNum StartDate EndDate StartTime EndTime  \\\n",
       "0  2015-01-01 01:00:00            NaN       NaN     NaN       NaN     NaN   \n",
       "1  2015-01-01 02:00:00            NaN       NaN     NaN       NaN     NaN   \n",
       "2  2015-01-01 03:00:00            NaN       NaN     NaN       NaN     NaN   \n",
       "3  2015-01-01 04:00:00            NaN       NaN     NaN       NaN     NaN   \n",
       "4  2015-01-01 05:00:00            NaN       NaN     NaN       NaN     NaN   \n",
       "\n",
       "   Severity  Length  Duration  HectometerStart  ...  DOP Sector  \\\n",
       "0       0.0     0.0       0.0              NaN  ...           1   \n",
       "1       0.0     0.0       0.0              NaN  ...           1   \n",
       "2       0.0     0.0       0.0              NaN  ...           1   \n",
       "3       0.0     0.0       0.0              NaN  ...           1   \n",
       "4       0.0     0.0       0.0              NaN  ...           1   \n",
       "\n",
       "  Season Numerical  Severity_Categorical    DateOnly            Type  \\\n",
       "0                0                     2  2015-01-01  Public Holiday   \n",
       "1                0                     2  2015-01-01  Public Holiday   \n",
       "2                0                     2  2015-01-01  Public Holiday   \n",
       "3                0                     2  2015-01-01  Public Holiday   \n",
       "4                0                     2  2015-01-01  Public Holiday   \n",
       "\n",
       "  YearAndDate Holiday  Year Month Day  \n",
       "0  2015-01-01     1.0  2015     1   1  \n",
       "1  2015-01-01     1.0  2015     1   1  \n",
       "2  2015-01-01     1.0  2015     1   1  \n",
       "3  2015-01-01     1.0  2015     1   1  \n",
       "4  2015-01-01     1.0  2015     1   1  \n",
       "\n",
       "[5 rows x 50 columns]"
      ]
     },
     "execution_count": 5,
     "metadata": {},
     "output_type": "execute_result"
    }
   ],
   "source": [
    "df1 = pd.read_csv(\"datasets/A2Aflopend.csv\", low_memory=False)\n",
    "df1.head()"
   ]
  },
  {
   "cell_type": "code",
   "execution_count": 6,
   "id": "b394324c-075d-4194-be45-cbf7810e275a",
   "metadata": {},
   "outputs": [
    {
     "data": {
      "text/plain": [
       "(86335, 50)"
      ]
     },
     "execution_count": 6,
     "metadata": {},
     "output_type": "execute_result"
    }
   ],
   "source": [
    "df.shape\n"
   ]
  },
  {
   "cell_type": "code",
   "execution_count": 7,
   "id": "26054e6f-4d6f-43f7-8816-1f90a19c65e6",
   "metadata": {},
   "outputs": [
    {
     "data": {
      "text/plain": [
       "(144645, 50)"
      ]
     },
     "execution_count": 7,
     "metadata": {},
     "output_type": "execute_result"
    }
   ],
   "source": [
    "df1.shape"
   ]
  },
  {
   "cell_type": "code",
   "execution_count": 8,
   "id": "b1f5e408-3cba-40b2-8207-315caef5c4d0",
   "metadata": {},
   "outputs": [
    {
     "data": {
      "text/plain": [
       "0        1\n",
       "1        1\n",
       "2        1\n",
       "3        1\n",
       "4        1\n",
       "        ..\n",
       "86330    1\n",
       "86331    1\n",
       "86332    1\n",
       "86333    1\n",
       "86334    1\n",
       "Name: HectometerDirection, Length: 86335, dtype: int64"
      ]
     },
     "execution_count": 8,
     "metadata": {},
     "output_type": "execute_result"
    }
   ],
   "source": [
    "df['HectometerDirection'] = 1\n",
    "df['HectometerDirection']"
   ]
  },
  {
   "cell_type": "code",
   "execution_count": 9,
   "id": "afd11538-1762-4edb-9747-9c4e4bf6f80a",
   "metadata": {},
   "outputs": [
    {
     "data": {
      "text/plain": [
       "0         0\n",
       "1         0\n",
       "2         0\n",
       "3         0\n",
       "4         0\n",
       "         ..\n",
       "144640    0\n",
       "144641    0\n",
       "144642    0\n",
       "144643    0\n",
       "144644    0\n",
       "Name: HectometerDirection, Length: 144645, dtype: int64"
      ]
     },
     "execution_count": 9,
     "metadata": {},
     "output_type": "execute_result"
    }
   ],
   "source": [
    "df1['HectometerDirection'] = 0\n",
    "df1['HectometerDirection']"
   ]
  },
  {
   "cell_type": "code",
   "execution_count": 10,
   "id": "574f856d-959b-4d0d-aad2-c7e1dbc15c13",
   "metadata": {},
   "outputs": [
    {
     "data": {
      "text/plain": [
       "0        0\n",
       "1        0\n",
       "2        0\n",
       "3        0\n",
       "4        0\n",
       "        ..\n",
       "82884    0\n",
       "82885    0\n",
       "82886    0\n",
       "82887    0\n",
       "82888    0\n",
       "Name: HectometerDirection, Length: 82889, dtype: int64"
      ]
     },
     "execution_count": 10,
     "metadata": {},
     "output_type": "execute_result"
    }
   ],
   "source": [
    "df2['HectometerDirection'] = 0\n",
    "df2['HectometerDirection']"
   ]
  },
  {
   "cell_type": "code",
   "execution_count": 11,
   "id": "f5934cee-ebe7-477e-a999-cf65b2273ed2",
   "metadata": {},
   "outputs": [
    {
     "data": {
      "text/plain": [
       "0         1\n",
       "1         1\n",
       "2         1\n",
       "3         1\n",
       "4         1\n",
       "         ..\n",
       "150198    1\n",
       "150199    1\n",
       "150200    1\n",
       "150201    1\n",
       "150202    1\n",
       "Name: HectometerDirection, Length: 150203, dtype: int64"
      ]
     },
     "execution_count": 11,
     "metadata": {},
     "output_type": "execute_result"
    }
   ],
   "source": [
    "df3['HectometerDirection'] = 1\n",
    "df3['HectometerDirection']"
   ]
  },
  {
   "cell_type": "code",
   "execution_count": 12,
   "id": "b6a27c6a-ccd6-431a-b448-8cad669e26e4",
   "metadata": {},
   "outputs": [
    {
     "data": {
      "text/plain": [
       "(144645, 50)"
      ]
     },
     "execution_count": 12,
     "metadata": {},
     "output_type": "execute_result"
    }
   ],
   "source": [
    "df1.shape"
   ]
  },
  {
   "cell_type": "code",
   "execution_count": 13,
   "id": "7c4f9021-50c5-4d0f-b66c-eaacbb517f38",
   "metadata": {},
   "outputs": [
    {
     "data": {
      "text/plain": [
       "(86335, 50)"
      ]
     },
     "execution_count": 13,
     "metadata": {},
     "output_type": "execute_result"
    }
   ],
   "source": [
    "df.shape"
   ]
  },
  {
   "cell_type": "code",
   "execution_count": 14,
   "id": "aec40d4d-350e-4f12-8927-94147d44d89f",
   "metadata": {},
   "outputs": [
    {
     "data": {
      "text/plain": [
       "(82889, 50)"
      ]
     },
     "execution_count": 14,
     "metadata": {},
     "output_type": "execute_result"
    }
   ],
   "source": [
    "df2.shape"
   ]
  },
  {
   "cell_type": "code",
   "execution_count": 15,
   "id": "2f28a644-e9f0-4e99-867e-d4998aa7bbc0",
   "metadata": {},
   "outputs": [
    {
     "data": {
      "text/plain": [
       "(150203, 50)"
      ]
     },
     "execution_count": 15,
     "metadata": {},
     "output_type": "execute_result"
    }
   ],
   "source": [
    "df3.shape"
   ]
  },
  {
   "cell_type": "code",
   "execution_count": 16,
   "id": "fcd10993-777d-4707-b548-683970ef18a7",
   "metadata": {},
   "outputs": [
    {
     "data": {
      "text/plain": [
       "(169224, 50)"
      ]
     },
     "execution_count": 16,
     "metadata": {},
     "output_type": "execute_result"
    }
   ],
   "source": [
    "a73 = pd.concat([df, df2], axis=0, ignore_index=True)\n",
    "a73.shape"
   ]
  },
  {
   "cell_type": "code",
   "execution_count": 17,
   "id": "d00f2bcc-3b12-4fe3-a16f-9039cd1b841f",
   "metadata": {},
   "outputs": [
    {
     "data": {
      "text/plain": [
       "(294848, 50)"
      ]
     },
     "execution_count": 17,
     "metadata": {},
     "output_type": "execute_result"
    }
   ],
   "source": [
    "a2 = pd.concat([df1, df3], axis=0, ignore_index=True)\n",
    "a2.shape"
   ]
  },
  {
   "cell_type": "code",
   "execution_count": 18,
   "id": "9873843e-00bc-4153-a2f6-bb213bcf9dea",
   "metadata": {},
   "outputs": [
    {
     "data": {
      "text/plain": [
       "(464072, 50)"
      ]
     },
     "execution_count": 18,
     "metadata": {},
     "output_type": "execute_result"
    }
   ],
   "source": [
    "combined = pd.concat([a2, a73], axis=0, ignore_index=True)\n",
    "combined.shape"
   ]
  },
  {
   "cell_type": "code",
   "execution_count": 19,
   "id": "fa8590ed-bcce-4282-8808-182701b751ee",
   "metadata": {},
   "outputs": [
    {
     "data": {
      "text/plain": [
       "RoadDescr\n",
       "A2     294848\n",
       "A73    169224\n",
       "Name: count, dtype: int64"
      ]
     },
     "execution_count": 19,
     "metadata": {},
     "output_type": "execute_result"
    }
   ],
   "source": [
    "combined['RoadDescr'].value_counts()"
   ]
  },
  {
   "cell_type": "code",
   "execution_count": 20,
   "id": "437bf63a-b23f-4389-9470-5d236096143d",
   "metadata": {},
   "outputs": [],
   "source": [
    "combined['RoadDescr'] = combined['RoadDescr'].apply(lambda x: 0 if x == 'A73' else 1 if x == 'A2' else df['RoadDescr'])\n"
   ]
  },
  {
   "cell_type": "code",
   "execution_count": 21,
   "id": "4ab06c78-5efc-477e-99d5-8d79eb69cd05",
   "metadata": {},
   "outputs": [
    {
     "data": {
      "text/plain": [
       "0         1\n",
       "1         1\n",
       "2         1\n",
       "3         1\n",
       "4         1\n",
       "         ..\n",
       "464067    0\n",
       "464068    0\n",
       "464069    0\n",
       "464070    0\n",
       "464071    0\n",
       "Name: RoadDescr, Length: 464072, dtype: int64"
      ]
     },
     "execution_count": 21,
     "metadata": {},
     "output_type": "execute_result"
    }
   ],
   "source": [
    "combined['RoadDescr']"
   ]
  },
  {
   "cell_type": "code",
   "execution_count": 22,
   "id": "0b36ed27-5fcc-417b-839d-2e73a968d1fa",
   "metadata": {},
   "outputs": [],
   "source": [
    "from sklearn.model_selection import train_test_split\n",
    "from sklearn.ensemble import RandomForestClassifier\n",
    "from sklearn.metrics import mean_absolute_error, mean_squared_error, r2_score"
   ]
  },
  {
   "cell_type": "code",
   "execution_count": 23,
   "id": "e03d1463-9753-4714-bb5f-88d3e34af2ee",
   "metadata": {},
   "outputs": [],
   "source": [
    "target = \"Severity_Categorical\"\n",
    "y = combined[target]\n",
    "features = ['Hour','Month', 'Year', 'Day', 'HectometerDirection', 'RoadDescr'] #holiday adds 0.002, add weekend\n",
    "X = combined[features]"
   ]
  },
  {
   "cell_type": "code",
   "execution_count": 24,
   "id": "9763783e-0f46-4df7-b3ec-c9d39c1aee02",
   "metadata": {},
   "outputs": [],
   "source": [
    "categorical_features = X.select_dtypes(include=[\"object\"]).columns\n",
    "X[categorical_features] = X[categorical_features].astype(str)"
   ]
  },
  {
   "cell_type": "code",
   "execution_count": 25,
   "id": "cce9b8f7-7ae9-4ae9-8eeb-bde88b4e7526",
   "metadata": {},
   "outputs": [],
   "source": [
    "X_train, X_test, y_train, y_test = train_test_split(X, y, test_size=0.2, random_state=42)"
   ]
  },
  {
   "cell_type": "code",
   "execution_count": 26,
   "id": "8509ca0d-404e-475f-bc21-0a0391b0a0d7",
   "metadata": {},
   "outputs": [],
   "source": [
    "rf_regressor = RandomForestClassifier(n_estimators=100, random_state=42 )\n",
    "rf_regressor.fit(X_train, y_train)\n",
    "y_pred = rf_regressor.predict(X_test)"
   ]
  },
  {
   "cell_type": "code",
   "execution_count": 27,
   "id": "654e5a89-5aeb-4a93-a425-34fd70145367",
   "metadata": {},
   "outputs": [
    {
     "data": {
      "text/plain": [
       "0.9420029090125519"
      ]
     },
     "execution_count": 27,
     "metadata": {},
     "output_type": "execute_result"
    }
   ],
   "source": [
    "from sklearn.metrics import accuracy_score\n",
    "\n",
    "accuracy = accuracy_score(y_test, y_pred)\n",
    "accuracy"
   ]
  },
  {
   "cell_type": "code",
   "execution_count": 28,
   "id": "006bcc7d-cab5-4898-97ab-21fda5b3e398",
   "metadata": {},
   "outputs": [
    {
     "name": "stdout",
     "output_type": "stream",
     "text": [
      "              precision    recall  f1-score   support\n",
      "\n",
      "           0       0.95      0.95      0.95     52916\n",
      "           1       0.93      0.95      0.94     37745\n",
      "           2       0.92      0.67      0.77      2154\n",
      "\n",
      "    accuracy                           0.94     92815\n",
      "   macro avg       0.93      0.86      0.89     92815\n",
      "weighted avg       0.94      0.94      0.94     92815\n",
      "\n"
     ]
    }
   ],
   "source": [
    "from sklearn.metrics import classification_report\n",
    "report = classification_report(y_test, y_pred, output_dict=True)\n",
    "print(classification_report(y_test, y_pred))"
   ]
  },
  {
   "cell_type": "code",
   "execution_count": 29,
   "id": "469cecb0-90d5-4efb-8077-7e8177175bb3",
   "metadata": {},
   "outputs": [],
   "source": [
    "df = combined.copy()"
   ]
  },
  {
   "cell_type": "markdown",
   "id": "793ef38c-84ef-4c91-ac1d-fecfaea984f5",
   "metadata": {},
   "source": [
    "### Predictions"
   ]
  },
  {
   "cell_type": "code",
   "execution_count": 38,
   "id": "4296b946-dba2-45ee-9f13-11b0a71c389b",
   "metadata": {},
   "outputs": [],
   "source": [
    "import pandas as pd\n",
    "import matplotlib.pyplot as plt\n",
    "from sklearn.preprocessing import LabelEncoder\n",
    "from sklearn.model_selection import train_test_split\n",
    "from sklearn.ensemble import RandomForestClassifier\n",
    "from sklearn.metrics import accuracy_score, classification_report\n",
    "\n",
    "# Function to preprocess the data\n",
    "def preprocess_data(df, features, target):\n",
    "    X = df[features].copy()\n",
    "    y = df[target].copy()\n",
    "    \n",
    "    # Converting all features to integer (if they are not already)\n",
    "    X = X.apply(pd.to_numeric, errors='coerce').fillna(0).astype(int)\n",
    "    \n",
    "    # Encode 'RoadDescr' if it's not already numeric\n",
    "    label_encoder = None\n",
    "    if X['RoadDescr'].dtype == 'object':\n",
    "        label_encoder = LabelEncoder()\n",
    "        X['RoadDescr'] = label_encoder.fit_transform(X['RoadDescr'])\n",
    "    \n",
    "    return X, y, label_encoder\n",
    "\n",
    "# Function to train the model\n",
    "def train_model(X, y):\n",
    "    X_train, X_test, y_train, y_test = train_test_split(X, y, test_size=0.2, random_state=42)\n",
    "    model = RandomForestClassifier(n_estimators=100, random_state=42)\n",
    "    model.fit(X_train, y_train)\n",
    "    \n",
    "    y_pred = model.predict(X_test)\n",
    "    accuracy = accuracy_score(y_test, y_pred)\n",
    "    report = classification_report(y_test, y_pred)\n",
    "    \n",
    "    print(f\"Accuracy: {accuracy}\")\n",
    "    print(\"Classification Report:\")\n",
    "    print(report)\n",
    "    \n",
    "    return model, label_encoder\n",
    "\n",
    "# Function to make predictions with hardcoded input values\n",
    "def predict_with_hardcoded_values(model, label_encoder=None):\n",
    "    # Hardcoded input values\n",
    "    input_data = pd.DataFrame({\n",
    "        'Hour': [12],\n",
    "        'Month': [12],\n",
    "        'Year': [2024],\n",
    "        'Day': [25],\n",
    "        'HectometerDirection': [1],\n",
    "        'RoadDescr': ['1']\n",
    "    })\n",
    "    \n",
    "    # Encode 'RoadDescr' if a label encoder was used during training\n",
    "    if label_encoder is not None:\n",
    "        input_data['RoadDescr'] = label_encoder.transform(input_data['RoadDescr'])\n",
    "    \n",
    "    # Ensuring all features are integer\n",
    "    input_data = input_data.apply(pd.to_numeric, errors='coerce').fillna(0).astype(int)\n",
    "    \n",
    "    # Making the prediction\n",
    "    prediction = model.predict(input_data)\n",
    "    \n",
    "    # Visualizing the prediction\n",
    "    print(f\"Predicted Severity Category: {prediction[0]}\")\n",
    "    visualize_prediction(input_data, prediction[0])\n",
    "\n",
    "# Function to visualize the input data and prediction\n",
    "def visualize_prediction(input_data, prediction):\n",
    "    fig, ax = plt.subplots()\n",
    "    table_data = input_data.values[0]\n",
    "    column_labels = input_data.columns.tolist()\n",
    "    row_labels = [\"Input Values\"]\n",
    "    \n",
    "    ax.axis('tight')\n",
    "    ax.axis('off')\n",
    "    table = ax.table(cellText=[table_data], colLabels=column_labels, rowLabels=row_labels, loc='center')\n",
    "    ax.set_title(f'Predicted Severity Category: {prediction}', fontsize=14)\n",
    "    \n",
    "    plt.show()\n"
   ]
  },
  {
   "cell_type": "code",
   "execution_count": 39,
   "id": "4f5884fd-0838-4fa4-b218-2f9f148416df",
   "metadata": {},
   "outputs": [
    {
     "name": "stdout",
     "output_type": "stream",
     "text": [
      "Accuracy: 0.9420029090125519\n",
      "Classification Report:\n",
      "              precision    recall  f1-score   support\n",
      "\n",
      "           0       0.95      0.95      0.95     52916\n",
      "           1       0.93      0.95      0.94     37745\n",
      "           2       0.92      0.67      0.77      2154\n",
      "\n",
      "    accuracy                           0.94     92815\n",
      "   macro avg       0.93      0.86      0.89     92815\n",
      "weighted avg       0.94      0.94      0.94     92815\n",
      "\n",
      "Predicted Severity Category: 2\n"
     ]
    },
    {
     "data": {
      "image/png": "[encoded data removed]",
      "text/plain": [
       "<Figure size 640x480 with 1 Axes>"
      ]
     },
     "metadata": {},
     "output_type": "display_data"
    }
   ],
   "source": [
    "\n",
    "# Assuming 'combined' is your DataFrame\n",
    "features = ['Hour', 'Month', 'Year', 'Day', 'HectometerDirection', 'RoadDescr']\n",
    "target = \"Severity_Categorical\"\n",
    "\n",
    "# Preprocess the data\n",
    "X, y, label_encoder = preprocess_data(combined, features, target)\n",
    "\n",
    "# Train the model\n",
    "rf_regressor, label_encoder = train_model(X, y)\n",
    "\n",
    "# Make predictions with hardcoded values\n",
    "predict_with_hardcoded_values(rf_regressor, label_encoder)\n"
   ]
  },
  {
   "cell_type": "code",
   "execution_count": null,
   "id": "0c0f08fe-67eb-462d-b383-09a2eea126f0",
   "metadata": {},
   "outputs": [],
   "source": []
  }
 ],
 "metadata": {
  "kernelspec": {
   "display_name": "Python 3 (ipykernel)",
   "language": "python",
   "name": "python3"
  },
  "language_info": {
   "codemirror_mode": {
    "name": "ipython",
    "version": 3
   },
   "file_extension": ".py",
   "mimetype": "text/x-python",
   "name": "python",
   "nbconvert_exporter": "python",
   "pygments_lexer": "ipython3",
   "version": "3.12.2"
  }
 },
 "nbformat": 4,
 "nbformat_minor": 5
}
