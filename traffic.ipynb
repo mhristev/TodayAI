{
 "cells": [
  {
   "cell_type": "code",
   "execution_count": 1,
   "metadata": {},
   "outputs": [],
   "source": [
    "import pandas as pd\n",
    "import numpy as np\n",
    "import seaborn as sns\n",
    "import math\n",
    "from datetime import date\n",
    "import matplotlib.pyplot as plt\n",
    "from sklearn.ensemble import RandomForestClassifier\n",
    "from sklearn.model_selection import train_test_split\n",
    "from sklearn.metrics import accuracy_score\n",
    "from sklearnex import patch_sklearn\n",
    "from sklearn.metrics import classification_report\n",
    "from sklearn.model_selection import cross_val_score, StratifiedKFold\n",
    "import warnings"
   ]
  },
  {
   "cell_type": "markdown",
   "metadata": {},
   "source": [
    "## Traffic data\n",
    "The traffic data that is imported here is taken from the **TrafficDataCleaning file**, where detailed steps about the cleaning of the dataset have been specified as well as a data dictionary with data requirements. \n",
    "### Importing the data"
   ]
  },
  {
   "cell_type": "code",
   "execution_count": 2,
   "metadata": {},
   "outputs": [
    {
     "data": {
      "text/html": [
       "<div>\n",
       "<style scoped>\n",
       "    .dataframe tbody tr th:only-of-type {\n",
       "        vertical-align: middle;\n",
       "    }\n",
       "\n",
       "    .dataframe tbody tr th {\n",
       "        vertical-align: top;\n",
       "    }\n",
       "\n",
       "    .dataframe thead th {\n",
       "        text-align: right;\n",
       "    }\n",
       "</style>\n",
       "<table border=\"1\" class=\"dataframe\">\n",
       "  <thead>\n",
       "    <tr style=\"text-align: right;\">\n",
       "      <th></th>\n",
       "      <th>TrafficJamNum</th>\n",
       "      <th>StartDate</th>\n",
       "      <th>EndDate</th>\n",
       "      <th>StartTime</th>\n",
       "      <th>EndTime</th>\n",
       "      <th>Severity</th>\n",
       "      <th>Length</th>\n",
       "      <th>Duration</th>\n",
       "      <th>HectometerStart</th>\n",
       "      <th>HectometerEnd</th>\n",
       "      <th>...</th>\n",
       "      <th>CauseCodeDescr</th>\n",
       "      <th>CauseClass</th>\n",
       "      <th>CauseCodeClass</th>\n",
       "      <th>CauseCode</th>\n",
       "      <th>Cause_1</th>\n",
       "      <th>Cause_2</th>\n",
       "      <th>Cause_3</th>\n",
       "      <th>Cause_4</th>\n",
       "      <th>StartDateTime</th>\n",
       "      <th>EndDateTime</th>\n",
       "    </tr>\n",
       "  </thead>\n",
       "  <tbody>\n",
       "    <tr>\n",
       "      <th>331774</th>\n",
       "      <td>3297575</td>\n",
       "      <td>2022-11-29</td>\n",
       "      <td>2022-11-29</td>\n",
       "      <td>7:28:27</td>\n",
       "      <td>7:30:02</td>\n",
       "      <td>3.483</td>\n",
       "      <td>2200.0</td>\n",
       "      <td>1.583</td>\n",
       "      <td>24.1</td>\n",
       "      <td>26.3</td>\n",
       "      <td>...</td>\n",
       "      <td>Spitsfile (geen oorzaak gemeld)</td>\n",
       "      <td>[Geen oorzaakcode opgegeven door VWM 2]</td>\n",
       "      <td>[000]</td>\n",
       "      <td>001</td>\n",
       "      <td>Spitsfile (geen oorzaak gemeld)</td>\n",
       "      <td>Geen oorzaak gemeld</td>\n",
       "      <td>Drukte</td>\n",
       "      <td>Hoge intensiteit</td>\n",
       "      <td>2022-11-29 07:28:27</td>\n",
       "      <td>2022-11-29 07:30:02</td>\n",
       "    </tr>\n",
       "    <tr>\n",
       "      <th>184103</th>\n",
       "      <td>3833056</td>\n",
       "      <td>2023-11-20</td>\n",
       "      <td>2023-11-20</td>\n",
       "      <td>7:48:28</td>\n",
       "      <td>7:52:01</td>\n",
       "      <td>10.097</td>\n",
       "      <td>2844.0</td>\n",
       "      <td>3.550</td>\n",
       "      <td>24.3</td>\n",
       "      <td>21.5</td>\n",
       "      <td>...</td>\n",
       "      <td>Spitsfile (geen oorzaak gemeld)</td>\n",
       "      <td>[Geen oorzaakcode opgegeven door VWM 4]</td>\n",
       "      <td>[000]</td>\n",
       "      <td>001</td>\n",
       "      <td>Spitsfile (geen oorzaak gemeld)</td>\n",
       "      <td>Geen oorzaak gemeld</td>\n",
       "      <td>Drukte</td>\n",
       "      <td>Hoge intensiteit</td>\n",
       "      <td>2023-11-20 07:48:28</td>\n",
       "      <td>2023-11-20 07:52:01</td>\n",
       "    </tr>\n",
       "    <tr>\n",
       "      <th>318264</th>\n",
       "      <td>3267973</td>\n",
       "      <td>2022-11-10</td>\n",
       "      <td>2022-11-10</td>\n",
       "      <td>16:12:28</td>\n",
       "      <td>16:19:01</td>\n",
       "      <td>14.892</td>\n",
       "      <td>2274.0</td>\n",
       "      <td>6.550</td>\n",
       "      <td>31.8</td>\n",
       "      <td>34.1</td>\n",
       "      <td>...</td>\n",
       "      <td>Spitsfile (geen oorzaak gemeld)</td>\n",
       "      <td>[Geen oorzaakcode opgegeven door VWM 7]</td>\n",
       "      <td>[000]</td>\n",
       "      <td>001</td>\n",
       "      <td>Spitsfile (geen oorzaak gemeld)</td>\n",
       "      <td>Geen oorzaak gemeld</td>\n",
       "      <td>Drukte</td>\n",
       "      <td>Hoge intensiteit</td>\n",
       "      <td>2022-11-10 16:12:28</td>\n",
       "      <td>2022-11-10 16:19:01</td>\n",
       "    </tr>\n",
       "  </tbody>\n",
       "</table>\n",
       "<p>3 rows × 28 columns</p>\n",
       "</div>"
      ],
      "text/plain": [
       "        TrafficJamNum   StartDate     EndDate StartTime   EndTime  Severity  \\\n",
       "331774        3297575  2022-11-29  2022-11-29   7:28:27   7:30:02     3.483   \n",
       "184103        3833056  2023-11-20  2023-11-20   7:48:28   7:52:01    10.097   \n",
       "318264        3267973  2022-11-10  2022-11-10  16:12:28  16:19:01    14.892   \n",
       "\n",
       "        Length  Duration  HectometerStart  HectometerEnd  ...  \\\n",
       "331774  2200.0     1.583             24.1           26.3  ...   \n",
       "184103  2844.0     3.550             24.3           21.5  ...   \n",
       "318264  2274.0     6.550             31.8           34.1  ...   \n",
       "\n",
       "                         CauseCodeDescr  \\\n",
       "331774  Spitsfile (geen oorzaak gemeld)   \n",
       "184103  Spitsfile (geen oorzaak gemeld)   \n",
       "318264  Spitsfile (geen oorzaak gemeld)   \n",
       "\n",
       "                                     CauseClass CauseCodeClass CauseCode  \\\n",
       "331774  [Geen oorzaakcode opgegeven door VWM 2]          [000]       001   \n",
       "184103  [Geen oorzaakcode opgegeven door VWM 4]          [000]       001   \n",
       "318264  [Geen oorzaakcode opgegeven door VWM 7]          [000]       001   \n",
       "\n",
       "                                Cause_1              Cause_2 Cause_3  \\\n",
       "331774  Spitsfile (geen oorzaak gemeld)  Geen oorzaak gemeld  Drukte   \n",
       "184103  Spitsfile (geen oorzaak gemeld)  Geen oorzaak gemeld  Drukte   \n",
       "318264  Spitsfile (geen oorzaak gemeld)  Geen oorzaak gemeld  Drukte   \n",
       "\n",
       "                 Cause_4        StartDateTime          EndDateTime  \n",
       "331774  Hoge intensiteit  2022-11-29 07:28:27  2022-11-29 07:30:02  \n",
       "184103  Hoge intensiteit  2023-11-20 07:48:28  2023-11-20 07:52:01  \n",
       "318264  Hoge intensiteit  2022-11-10 16:12:28  2022-11-10 16:19:01  \n",
       "\n",
       "[3 rows x 28 columns]"
      ]
     },
     "execution_count": 2,
     "metadata": {},
     "output_type": "execute_result"
    }
   ],
   "source": [
    "traffic_data = pd.read_csv(\"datasets/CleanTraffic.csv\")\n",
    "traffic_data.sample(3)"
   ]
  },
  {
   "cell_type": "code",
   "execution_count": 3,
   "metadata": {},
   "outputs": [
    {
     "data": {
      "text/plain": [
       "(1714882, 28)"
      ]
     },
     "execution_count": 3,
     "metadata": {},
     "output_type": "execute_result"
    }
   ],
   "source": [
    "traffic_data.shape"
   ]
  },
  {
   "cell_type": "markdown",
   "metadata": {},
   "source": [
    "### Checking the data types and missing values"
   ]
  },
  {
   "cell_type": "code",
   "execution_count": 4,
   "metadata": {},
   "outputs": [
    {
     "name": "stdout",
     "output_type": "stream",
     "text": [
      "<class 'pandas.core.frame.DataFrame'>\n",
      "RangeIndex: 1714882 entries, 0 to 1714881\n",
      "Data columns (total 28 columns):\n",
      " #   Column               Dtype  \n",
      "---  ------               -----  \n",
      " 0   TrafficJamNum        int64  \n",
      " 1   StartDate            object \n",
      " 2   EndDate              object \n",
      " 3   StartTime            object \n",
      " 4   EndTime              object \n",
      " 5   Severity             float64\n",
      " 6   Length               float64\n",
      " 7   Duration             float64\n",
      " 8   HectometerStart      float64\n",
      " 9   HectometerEnd        float64\n",
      " 10  RoadLetter           object \n",
      " 11  RoadNumber           int64  \n",
      " 12  RoadDescr            object \n",
      " 13  HectometerDirection  object \n",
      " 14  RoadSectionFrom      object \n",
      " 15  RoadSectionTo        object \n",
      " 16  MainRoadFrom         object \n",
      " 17  MainRoadTo           object \n",
      " 18  CauseCodeDescr       object \n",
      " 19  CauseClass           object \n",
      " 20  CauseCodeClass       object \n",
      " 21  CauseCode            object \n",
      " 22  Cause_1              object \n",
      " 23  Cause_2              object \n",
      " 24  Cause_3              object \n",
      " 25  Cause_4              object \n",
      " 26  StartDateTime        object \n",
      " 27  EndDateTime          object \n",
      "dtypes: float64(5), int64(2), object(21)\n",
      "memory usage: 366.3+ MB\n"
     ]
    }
   ],
   "source": [
    "traffic_data.info()"
   ]
  },
  {
   "cell_type": "code",
   "execution_count": 5,
   "metadata": {},
   "outputs": [
    {
     "data": {
      "text/plain": [
       "TrafficJamNum          0\n",
       "StartDate              0\n",
       "EndDate                0\n",
       "StartTime              0\n",
       "EndTime                0\n",
       "Severity               0\n",
       "Length                 0\n",
       "Duration               0\n",
       "HectometerStart        0\n",
       "HectometerEnd          0\n",
       "RoadLetter             0\n",
       "RoadNumber             0\n",
       "RoadDescr              0\n",
       "HectometerDirection    0\n",
       "RoadSectionFrom        0\n",
       "RoadSectionTo          0\n",
       "MainRoadFrom           0\n",
       "MainRoadTo             0\n",
       "CauseCodeDescr         0\n",
       "CauseClass             0\n",
       "CauseCodeClass         0\n",
       "CauseCode              0\n",
       "Cause_1                0\n",
       "Cause_2                0\n",
       "Cause_3                0\n",
       "Cause_4                0\n",
       "StartDateTime          0\n",
       "EndDateTime            0\n",
       "dtype: int64"
      ]
     },
     "execution_count": 5,
     "metadata": {},
     "output_type": "execute_result"
    }
   ],
   "source": [
    "traffic_data.isna().sum()"
   ]
  },
  {
   "cell_type": "markdown",
   "metadata": {},
   "source": [
    "It can be concluded that the file got imported correctly and is ready to be used further."
   ]
  },
  {
   "cell_type": "markdown",
   "metadata": {},
   "source": [
    "### Altering data\n",
    "#### Adding hour"
   ]
  },
  {
   "cell_type": "code",
   "execution_count": 6,
   "metadata": {},
   "outputs": [
    {
     "data": {
      "text/html": [
       "<div>\n",
       "<style scoped>\n",
       "    .dataframe tbody tr th:only-of-type {\n",
       "        vertical-align: middle;\n",
       "    }\n",
       "\n",
       "    .dataframe tbody tr th {\n",
       "        vertical-align: top;\n",
       "    }\n",
       "\n",
       "    .dataframe thead th {\n",
       "        text-align: right;\n",
       "    }\n",
       "</style>\n",
       "<table border=\"1\" class=\"dataframe\">\n",
       "  <thead>\n",
       "    <tr style=\"text-align: right;\">\n",
       "      <th></th>\n",
       "      <th>TrafficJamNum</th>\n",
       "      <th>StartDate</th>\n",
       "      <th>EndDate</th>\n",
       "      <th>StartTime</th>\n",
       "      <th>EndTime</th>\n",
       "      <th>Severity</th>\n",
       "      <th>Length</th>\n",
       "      <th>Duration</th>\n",
       "      <th>HectometerStart</th>\n",
       "      <th>HectometerEnd</th>\n",
       "      <th>...</th>\n",
       "      <th>CauseClass</th>\n",
       "      <th>CauseCodeClass</th>\n",
       "      <th>CauseCode</th>\n",
       "      <th>Cause_1</th>\n",
       "      <th>Cause_2</th>\n",
       "      <th>Cause_3</th>\n",
       "      <th>Cause_4</th>\n",
       "      <th>StartDateTime</th>\n",
       "      <th>EndDateTime</th>\n",
       "      <th>Hour</th>\n",
       "    </tr>\n",
       "  </thead>\n",
       "  <tbody>\n",
       "    <tr>\n",
       "      <th>523616</th>\n",
       "      <td>3039128</td>\n",
       "      <td>2022-05-20</td>\n",
       "      <td>2022-05-20</td>\n",
       "      <td>18:16:27</td>\n",
       "      <td>18:19:00</td>\n",
       "      <td>3.570</td>\n",
       "      <td>1400.0</td>\n",
       "      <td>2.550</td>\n",
       "      <td>3.2</td>\n",
       "      <td>4.6</td>\n",
       "      <td>...</td>\n",
       "      <td>[Geen oorzaakcode opgegeven door VWM 3]</td>\n",
       "      <td>[000]</td>\n",
       "      <td>001</td>\n",
       "      <td>Spitsfile (geen oorzaak gemeld)</td>\n",
       "      <td>Geen oorzaak gemeld</td>\n",
       "      <td>Drukte</td>\n",
       "      <td>Hoge intensiteit</td>\n",
       "      <td>2022-05-20 18:16:27</td>\n",
       "      <td>2022-05-20 18:19:00</td>\n",
       "      <td>18</td>\n",
       "    </tr>\n",
       "    <tr>\n",
       "      <th>1577728</th>\n",
       "      <td>2384528</td>\n",
       "      <td>2018-07-24</td>\n",
       "      <td>2018-07-24</td>\n",
       "      <td>16:53:00</td>\n",
       "      <td>16:54:51</td>\n",
       "      <td>3.700</td>\n",
       "      <td>2000.0</td>\n",
       "      <td>1.850</td>\n",
       "      <td>52.4</td>\n",
       "      <td>54.4</td>\n",
       "      <td>...</td>\n",
       "      <td>[Geen oorzaakcode opgegeven door VWM 2]</td>\n",
       "      <td>[000]</td>\n",
       "      <td>001</td>\n",
       "      <td>Spitsfile (geen oorzaak gemeld)</td>\n",
       "      <td>Geen oorzaak gemeld</td>\n",
       "      <td>Drukte</td>\n",
       "      <td>Hoge intensiteit</td>\n",
       "      <td>2018-07-24 16:53:00</td>\n",
       "      <td>2018-07-24 16:54:51</td>\n",
       "      <td>16</td>\n",
       "    </tr>\n",
       "    <tr>\n",
       "      <th>1224378</th>\n",
       "      <td>2174111</td>\n",
       "      <td>2017-06-15</td>\n",
       "      <td>2017-06-15</td>\n",
       "      <td>17:12:00</td>\n",
       "      <td>17:18:58</td>\n",
       "      <td>13.933</td>\n",
       "      <td>2000.0</td>\n",
       "      <td>6.967</td>\n",
       "      <td>117.7</td>\n",
       "      <td>115.7</td>\n",
       "      <td>...</td>\n",
       "      <td>[Geen oorzaakcode opgegeven door VWM 7]</td>\n",
       "      <td>[000]</td>\n",
       "      <td>001</td>\n",
       "      <td>Spitsfile (geen oorzaak gemeld)</td>\n",
       "      <td>Geen oorzaak gemeld</td>\n",
       "      <td>Drukte</td>\n",
       "      <td>Hoge intensiteit</td>\n",
       "      <td>2017-06-15 17:12:00</td>\n",
       "      <td>2017-06-15 17:18:58</td>\n",
       "      <td>17</td>\n",
       "    </tr>\n",
       "  </tbody>\n",
       "</table>\n",
       "<p>3 rows × 29 columns</p>\n",
       "</div>"
      ],
      "text/plain": [
       "         TrafficJamNum   StartDate     EndDate StartTime   EndTime  Severity  \\\n",
       "523616         3039128  2022-05-20  2022-05-20  18:16:27  18:19:00     3.570   \n",
       "1577728        2384528  2018-07-24  2018-07-24  16:53:00  16:54:51     3.700   \n",
       "1224378        2174111  2017-06-15  2017-06-15  17:12:00  17:18:58    13.933   \n",
       "\n",
       "         Length  Duration  HectometerStart  HectometerEnd  ...  \\\n",
       "523616   1400.0     2.550              3.2            4.6  ...   \n",
       "1577728  2000.0     1.850             52.4           54.4  ...   \n",
       "1224378  2000.0     6.967            117.7          115.7  ...   \n",
       "\n",
       "                                      CauseClass  CauseCodeClass CauseCode  \\\n",
       "523616   [Geen oorzaakcode opgegeven door VWM 3]           [000]       001   \n",
       "1577728  [Geen oorzaakcode opgegeven door VWM 2]           [000]       001   \n",
       "1224378  [Geen oorzaakcode opgegeven door VWM 7]           [000]       001   \n",
       "\n",
       "                                 Cause_1              Cause_2 Cause_3  \\\n",
       "523616   Spitsfile (geen oorzaak gemeld)  Geen oorzaak gemeld  Drukte   \n",
       "1577728  Spitsfile (geen oorzaak gemeld)  Geen oorzaak gemeld  Drukte   \n",
       "1224378  Spitsfile (geen oorzaak gemeld)  Geen oorzaak gemeld  Drukte   \n",
       "\n",
       "                  Cause_4        StartDateTime          EndDateTime Hour  \n",
       "523616   Hoge intensiteit  2022-05-20 18:16:27  2022-05-20 18:19:00   18  \n",
       "1577728  Hoge intensiteit  2018-07-24 16:53:00  2018-07-24 16:54:51   16  \n",
       "1224378  Hoge intensiteit  2017-06-15 17:12:00  2017-06-15 17:18:58   17  \n",
       "\n",
       "[3 rows x 29 columns]"
      ]
     },
     "execution_count": 6,
     "metadata": {},
     "output_type": "execute_result"
    }
   ],
   "source": [
    "traffic_data['Hour'] = traffic_data['StartTime'].apply(lambda x: x.split(':')[0]).astype(int)\n",
    "traffic_data.sample(3)"
   ]
  },
  {
   "cell_type": "markdown",
   "metadata": {},
   "source": [
    "#### Keeping only relevant roads"
   ]
  },
  {
   "cell_type": "markdown",
   "metadata": {},
   "source": [
    "As we want to only have the specific roads that our client can possibly use to reach the offices, we will prepare the data for joining by filtering on the roads A2 and A73.\n",
    "An important observation is that **A2 leads from Sittard to 's-Hertogenbosch** and vice versa, whereas **A73 leads from Sittard to Boxmeer** and vice versa. Other routes are also possible, but they are significantly slower. Therefore, it is better to focus on those two only for now. Furthermore, they have been suggested by the client as the optimal routes."
   ]
  },
  {
   "cell_type": "code",
   "execution_count": 7,
   "metadata": {},
   "outputs": [
    {
     "data": {
      "text/plain": [
       "(209047, 29)"
      ]
     },
     "execution_count": 7,
     "metadata": {},
     "output_type": "execute_result"
    }
   ],
   "source": [
    "filtered_traffic= traffic_data[(traffic_data['RoadDescr'] == 'A73') | (traffic_data['RoadDescr'] == 'A2')]\n",
    "filtered_traffic.shape"
   ]
  },
  {
   "cell_type": "markdown",
   "metadata": {},
   "source": [
    "#### Subsetting the roads to contain only road sections beween relevant cities\n",
    "In order to come up with the correct hectometer markers, we consulted the https://www.hmpaal.nl/. We came up with the right answers by using a map with the relevant roads and performing a trial and error search for the correct markers. That is not the best approach, however, since at the moment the markers have been hardcoded in the filtering, which makes a potential expansion of the model impossible without further changes."
   ]
  },
  {
   "cell_type": "code",
   "execution_count": 8,
   "metadata": {},
   "outputs": [
    {
     "data": {
      "text/html": [
       "<div>\n",
       "<style scoped>\n",
       "    .dataframe tbody tr th:only-of-type {\n",
       "        vertical-align: middle;\n",
       "    }\n",
       "\n",
       "    .dataframe tbody tr th {\n",
       "        vertical-align: top;\n",
       "    }\n",
       "\n",
       "    .dataframe thead th {\n",
       "        text-align: right;\n",
       "    }\n",
       "</style>\n",
       "<table border=\"1\" class=\"dataframe\">\n",
       "  <thead>\n",
       "    <tr style=\"text-align: right;\">\n",
       "      <th></th>\n",
       "      <th>TrafficJamNum</th>\n",
       "      <th>StartDate</th>\n",
       "      <th>EndDate</th>\n",
       "      <th>StartTime</th>\n",
       "      <th>EndTime</th>\n",
       "      <th>Severity</th>\n",
       "      <th>Length</th>\n",
       "      <th>Duration</th>\n",
       "      <th>HectometerStart</th>\n",
       "      <th>HectometerEnd</th>\n",
       "      <th>...</th>\n",
       "      <th>CauseClass</th>\n",
       "      <th>CauseCodeClass</th>\n",
       "      <th>CauseCode</th>\n",
       "      <th>Cause_1</th>\n",
       "      <th>Cause_2</th>\n",
       "      <th>Cause_3</th>\n",
       "      <th>Cause_4</th>\n",
       "      <th>StartDateTime</th>\n",
       "      <th>EndDateTime</th>\n",
       "      <th>Hour</th>\n",
       "    </tr>\n",
       "  </thead>\n",
       "  <tbody>\n",
       "    <tr>\n",
       "      <th>591257</th>\n",
       "      <td>3932702</td>\n",
       "      <td>2024-02-05</td>\n",
       "      <td>2024-02-05</td>\n",
       "      <td>7:18:26</td>\n",
       "      <td>7:22:00</td>\n",
       "      <td>7.300</td>\n",
       "      <td>2047.0</td>\n",
       "      <td>3.567</td>\n",
       "      <td>164.3</td>\n",
       "      <td>166.4</td>\n",
       "      <td>...</td>\n",
       "      <td>[Geen oorzaakcode opgegeven door VWM 4]</td>\n",
       "      <td>[000]</td>\n",
       "      <td>001</td>\n",
       "      <td>Spitsfile (geen oorzaak gemeld)</td>\n",
       "      <td>Geen oorzaak gemeld</td>\n",
       "      <td>Drukte</td>\n",
       "      <td>Hoge intensiteit</td>\n",
       "      <td>2024-02-05 07:18:26</td>\n",
       "      <td>2024-02-05 07:22:00</td>\n",
       "      <td>7</td>\n",
       "    </tr>\n",
       "    <tr>\n",
       "      <th>547474</th>\n",
       "      <td>3050810</td>\n",
       "      <td>2022-05-30</td>\n",
       "      <td>2022-05-30</td>\n",
       "      <td>8:17:27</td>\n",
       "      <td>8:20:02</td>\n",
       "      <td>5.265</td>\n",
       "      <td>2038.0</td>\n",
       "      <td>2.583</td>\n",
       "      <td>164.3</td>\n",
       "      <td>166.3</td>\n",
       "      <td>...</td>\n",
       "      <td>[Geen oorzaakcode opgegeven door VWM 3]</td>\n",
       "      <td>[000]</td>\n",
       "      <td>001</td>\n",
       "      <td>Spitsfile (geen oorzaak gemeld)</td>\n",
       "      <td>Geen oorzaak gemeld</td>\n",
       "      <td>Drukte</td>\n",
       "      <td>Hoge intensiteit</td>\n",
       "      <td>2022-05-30 08:17:27</td>\n",
       "      <td>2022-05-30 08:20:02</td>\n",
       "      <td>8</td>\n",
       "    </tr>\n",
       "    <tr>\n",
       "      <th>549739</th>\n",
       "      <td>3698944</td>\n",
       "      <td>2023-09-04</td>\n",
       "      <td>2023-09-04</td>\n",
       "      <td>16:06:28</td>\n",
       "      <td>16:21:58</td>\n",
       "      <td>45.278</td>\n",
       "      <td>2921.0</td>\n",
       "      <td>15.500</td>\n",
       "      <td>172.3</td>\n",
       "      <td>174.3</td>\n",
       "      <td>...</td>\n",
       "      <td>[Geen oorzaakcode opgegeven door VWM 1], [Defe...</td>\n",
       "      <td>[000], [HBD]</td>\n",
       "      <td>HBD</td>\n",
       "      <td>Defecte vrachtwagen(s)</td>\n",
       "      <td>Defecte vrachtwagen</td>\n",
       "      <td>Incident (gestrand voertuig)</td>\n",
       "      <td>Incident</td>\n",
       "      <td>2023-09-04 16:06:28</td>\n",
       "      <td>2023-09-04 16:21:58</td>\n",
       "      <td>16</td>\n",
       "    </tr>\n",
       "  </tbody>\n",
       "</table>\n",
       "<p>3 rows × 29 columns</p>\n",
       "</div>"
      ],
      "text/plain": [
       "        TrafficJamNum   StartDate     EndDate StartTime   EndTime  Severity  \\\n",
       "591257        3932702  2024-02-05  2024-02-05   7:18:26   7:22:00     7.300   \n",
       "547474        3050810  2022-05-30  2022-05-30   8:17:27   8:20:02     5.265   \n",
       "549739        3698944  2023-09-04  2023-09-04  16:06:28  16:21:58    45.278   \n",
       "\n",
       "        Length  Duration  HectometerStart  HectometerEnd  ...  \\\n",
       "591257  2047.0     3.567            164.3          166.4  ...   \n",
       "547474  2038.0     2.583            164.3          166.3  ...   \n",
       "549739  2921.0    15.500            172.3          174.3  ...   \n",
       "\n",
       "                                               CauseClass  CauseCodeClass  \\\n",
       "591257            [Geen oorzaakcode opgegeven door VWM 4]           [000]   \n",
       "547474            [Geen oorzaakcode opgegeven door VWM 3]           [000]   \n",
       "549739  [Geen oorzaakcode opgegeven door VWM 1], [Defe...    [000], [HBD]   \n",
       "\n",
       "       CauseCode                          Cause_1              Cause_2  \\\n",
       "591257       001  Spitsfile (geen oorzaak gemeld)  Geen oorzaak gemeld   \n",
       "547474       001  Spitsfile (geen oorzaak gemeld)  Geen oorzaak gemeld   \n",
       "549739       HBD           Defecte vrachtwagen(s)  Defecte vrachtwagen   \n",
       "\n",
       "                             Cause_3           Cause_4        StartDateTime  \\\n",
       "591257                        Drukte  Hoge intensiteit  2024-02-05 07:18:26   \n",
       "547474                        Drukte  Hoge intensiteit  2022-05-30 08:17:27   \n",
       "549739  Incident (gestrand voertuig)          Incident  2023-09-04 16:06:28   \n",
       "\n",
       "                EndDateTime Hour  \n",
       "591257  2024-02-05 07:22:00    7  \n",
       "547474  2022-05-30 08:20:02    8  \n",
       "549739  2023-09-04 16:21:58   16  \n",
       "\n",
       "[3 rows x 29 columns]"
      ]
     },
     "execution_count": 8,
     "metadata": {},
     "output_type": "execute_result"
    }
   ],
   "source": [
    "filtered_a2 = filtered_traffic[\n",
    "    (filtered_traffic['RoadDescr'] == 'A2') &\n",
    "    (filtered_traffic['HectometerStart'] >= 111) &\n",
    "    (filtered_traffic['HectometerStart'] <= 235)\n",
    "]\n",
    "\n",
    "filtered_a73 = filtered_traffic[\n",
    "    (filtered_traffic['RoadDescr'] == 'A73') &\n",
    "    (filtered_traffic['HectometerStart'] >= 0) &\n",
    "    (filtered_traffic['HectometerStart'] <= 83)\n",
    "]\n",
    "\n",
    "# Combine the filtered data into a single DataFrame\n",
    "filtered_traffic = pd.concat([filtered_a2, filtered_a73])\n",
    "\n",
    "# Display a sample of 3 rows from the combined DataFrame\n",
    "filtered_traffic.sample(3)"
   ]
  },
  {
   "cell_type": "markdown",
   "metadata": {},
   "source": [
    "### Making the direction numerical\n",
    "0 = Morning (Sittard - Den Bosch)\n",
    "\n",
    "1 = Afternoon (Den Bosch - Sittard)"
   ]
  },
  {
   "cell_type": "code",
   "execution_count": 9,
   "metadata": {},
   "outputs": [
    {
     "data": {
      "text/html": [
       "<div>\n",
       "<style scoped>\n",
       "    .dataframe tbody tr th:only-of-type {\n",
       "        vertical-align: middle;\n",
       "    }\n",
       "\n",
       "    .dataframe tbody tr th {\n",
       "        vertical-align: top;\n",
       "    }\n",
       "\n",
       "    .dataframe thead th {\n",
       "        text-align: right;\n",
       "    }\n",
       "</style>\n",
       "<table border=\"1\" class=\"dataframe\">\n",
       "  <thead>\n",
       "    <tr style=\"text-align: right;\">\n",
       "      <th></th>\n",
       "      <th>TrafficJamNum</th>\n",
       "      <th>StartDate</th>\n",
       "      <th>EndDate</th>\n",
       "      <th>StartTime</th>\n",
       "      <th>EndTime</th>\n",
       "      <th>Severity</th>\n",
       "      <th>Length</th>\n",
       "      <th>Duration</th>\n",
       "      <th>HectometerStart</th>\n",
       "      <th>HectometerEnd</th>\n",
       "      <th>...</th>\n",
       "      <th>CauseCodeClass</th>\n",
       "      <th>CauseCode</th>\n",
       "      <th>Cause_1</th>\n",
       "      <th>Cause_2</th>\n",
       "      <th>Cause_3</th>\n",
       "      <th>Cause_4</th>\n",
       "      <th>StartDateTime</th>\n",
       "      <th>EndDateTime</th>\n",
       "      <th>Hour</th>\n",
       "      <th>HectometerDirectionNum</th>\n",
       "    </tr>\n",
       "  </thead>\n",
       "  <tbody>\n",
       "    <tr>\n",
       "      <th>495429</th>\n",
       "      <td>3219615</td>\n",
       "      <td>2022-10-12</td>\n",
       "      <td>2022-10-12</td>\n",
       "      <td>8:55:28</td>\n",
       "      <td>8:57:00</td>\n",
       "      <td>3.68</td>\n",
       "      <td>2400.0</td>\n",
       "      <td>1.533</td>\n",
       "      <td>164.4</td>\n",
       "      <td>166.8</td>\n",
       "      <td>...</td>\n",
       "      <td>[000]</td>\n",
       "      <td>001</td>\n",
       "      <td>Spitsfile (geen oorzaak gemeld)</td>\n",
       "      <td>Geen oorzaak gemeld</td>\n",
       "      <td>Drukte</td>\n",
       "      <td>Hoge intensiteit</td>\n",
       "      <td>2022-10-12 08:55:28</td>\n",
       "      <td>2022-10-12 08:57:00</td>\n",
       "      <td>8</td>\n",
       "      <td>0.0</td>\n",
       "    </tr>\n",
       "    <tr>\n",
       "      <th>1246004</th>\n",
       "      <td>2410291</td>\n",
       "      <td>2018-09-27</td>\n",
       "      <td>2018-09-27</td>\n",
       "      <td>17:27:00</td>\n",
       "      <td>17:29:30</td>\n",
       "      <td>5.00</td>\n",
       "      <td>2000.0</td>\n",
       "      <td>2.500</td>\n",
       "      <td>171.4</td>\n",
       "      <td>169.4</td>\n",
       "      <td>...</td>\n",
       "      <td>[000]</td>\n",
       "      <td>001</td>\n",
       "      <td>Spitsfile (geen oorzaak gemeld)</td>\n",
       "      <td>Geen oorzaak gemeld</td>\n",
       "      <td>Drukte</td>\n",
       "      <td>Hoge intensiteit</td>\n",
       "      <td>2018-09-27 17:27:00</td>\n",
       "      <td>2018-09-27 17:29:30</td>\n",
       "      <td>17</td>\n",
       "      <td>1.0</td>\n",
       "    </tr>\n",
       "    <tr>\n",
       "      <th>447386</th>\n",
       "      <td>3079064</td>\n",
       "      <td>2022-06-16</td>\n",
       "      <td>2022-06-16</td>\n",
       "      <td>7:10:24</td>\n",
       "      <td>7:12:00</td>\n",
       "      <td>3.52</td>\n",
       "      <td>2200.0</td>\n",
       "      <td>1.600</td>\n",
       "      <td>164.5</td>\n",
       "      <td>166.7</td>\n",
       "      <td>...</td>\n",
       "      <td>[000]</td>\n",
       "      <td>001</td>\n",
       "      <td>Spitsfile (geen oorzaak gemeld)</td>\n",
       "      <td>Geen oorzaak gemeld</td>\n",
       "      <td>Drukte</td>\n",
       "      <td>Hoge intensiteit</td>\n",
       "      <td>2022-06-16 07:10:24</td>\n",
       "      <td>2022-06-16 07:12:00</td>\n",
       "      <td>7</td>\n",
       "      <td>0.0</td>\n",
       "    </tr>\n",
       "  </tbody>\n",
       "</table>\n",
       "<p>3 rows × 30 columns</p>\n",
       "</div>"
      ],
      "text/plain": [
       "         TrafficJamNum   StartDate     EndDate StartTime   EndTime  Severity  \\\n",
       "495429         3219615  2022-10-12  2022-10-12   8:55:28   8:57:00      3.68   \n",
       "1246004        2410291  2018-09-27  2018-09-27  17:27:00  17:29:30      5.00   \n",
       "447386         3079064  2022-06-16  2022-06-16   7:10:24   7:12:00      3.52   \n",
       "\n",
       "         Length  Duration  HectometerStart  HectometerEnd  ... CauseCodeClass  \\\n",
       "495429   2400.0     1.533            164.4          166.8  ...          [000]   \n",
       "1246004  2000.0     2.500            171.4          169.4  ...          [000]   \n",
       "447386   2200.0     1.600            164.5          166.7  ...          [000]   \n",
       "\n",
       "         CauseCode                          Cause_1              Cause_2  \\\n",
       "495429         001  Spitsfile (geen oorzaak gemeld)  Geen oorzaak gemeld   \n",
       "1246004        001  Spitsfile (geen oorzaak gemeld)  Geen oorzaak gemeld   \n",
       "447386         001  Spitsfile (geen oorzaak gemeld)  Geen oorzaak gemeld   \n",
       "\n",
       "        Cause_3           Cause_4        StartDateTime          EndDateTime  \\\n",
       "495429   Drukte  Hoge intensiteit  2022-10-12 08:55:28  2022-10-12 08:57:00   \n",
       "1246004  Drukte  Hoge intensiteit  2018-09-27 17:27:00  2018-09-27 17:29:30   \n",
       "447386   Drukte  Hoge intensiteit  2022-06-16 07:10:24  2022-06-16 07:12:00   \n",
       "\n",
       "        Hour HectometerDirectionNum  \n",
       "495429     8                    0.0  \n",
       "1246004   17                    1.0  \n",
       "447386     7                    0.0  \n",
       "\n",
       "[3 rows x 30 columns]"
      ]
     },
     "execution_count": 9,
     "metadata": {},
     "output_type": "execute_result"
    }
   ],
   "source": [
    "warnings.filterwarnings('ignore')\n",
    "filtered_traffic.loc[filtered_traffic[\"HectometerDirection\"]==\"oplopend\", 'HectometerDirectionNum'] = 1\n",
    "filtered_traffic.loc[filtered_traffic[\"HectometerDirection\"]==\"aflopend\", 'HectometerDirectionNum'] = 0\n",
    "\n",
    "filtered_traffic.sample(3)"
   ]
  },
  {
   "cell_type": "markdown",
   "metadata": {},
   "source": [
    "### Removing useless columns"
   ]
  },
  {
   "cell_type": "code",
   "execution_count": 10,
   "metadata": {},
   "outputs": [
    {
     "name": "stdout",
     "output_type": "stream",
     "text": [
      "<class 'pandas.core.frame.DataFrame'>\n",
      "Index: 69433 entries, 43 to 1714645\n",
      "Data columns (total 5 columns):\n",
      " #   Column                  Non-Null Count  Dtype         \n",
      "---  ------                  --------------  -----         \n",
      " 0   StartDate               69433 non-null  datetime64[ns]\n",
      " 1   Duration                69433 non-null  float64       \n",
      " 2   RoadNumber              69433 non-null  int64         \n",
      " 3   Hour                    69433 non-null  int32         \n",
      " 4   HectometerDirectionNum  69433 non-null  float64       \n",
      "dtypes: datetime64[ns](1), float64(2), int32(1), int64(1)\n",
      "memory usage: 2.9 MB\n"
     ]
    }
   ],
   "source": [
    "numerical_columns = filtered_traffic.select_dtypes(include=['int64', 'float64', 'int32'])\n",
    "desired_columns = [\"StartDate\", \"Duration\", \"RoadNumber\", \"Hour\", \"HectometerDirectionNum\"]\n",
    "selected_columns = filtered_traffic.loc[:, desired_columns]\n",
    "selected_columns['StartDate'] = pd.to_datetime(selected_columns['StartDate'])\n",
    "selected_columns.info()"
   ]
  },
  {
   "cell_type": "markdown",
   "metadata": {},
   "source": [
    "### Summarising the duration per hour\n",
    "This approach has been dropped for now as it requires a lot more thought and time for testing and further exploration."
   ]
  },
  {
   "cell_type": "code",
   "execution_count": 11,
   "metadata": {},
   "outputs": [],
   "source": [
    "# selected_columns = selected_columns.groupby(['StartDate', 'RoadNumber', 'Hour', 'HectometerDirectionNum']).sum().reset_index()\n",
    "# selected_columns.head()"
   ]
  },
  {
   "cell_type": "markdown",
   "metadata": {},
   "source": [
    "## Calendar"
   ]
  },
  {
   "cell_type": "code",
   "execution_count": 12,
   "metadata": {},
   "outputs": [
    {
     "name": "stdout",
     "output_type": "stream",
     "text": [
      "<class 'pandas.core.frame.DataFrame'>\n",
      "RangeIndex: 82705 entries, 0 to 82704\n",
      "Data columns (total 2 columns):\n",
      " #   Column     Non-Null Count  Dtype         \n",
      "---  ------     --------------  -----         \n",
      " 0   StartDate  82705 non-null  datetime64[ns]\n",
      " 1   Hour       82705 non-null  int32         \n",
      "dtypes: datetime64[ns](1), int32(1)\n",
      "memory usage: 969.3 KB\n"
     ]
    }
   ],
   "source": [
    "def create_date_table2(start, end):\n",
    "    date_range = pd.date_range(start=start, end=end, freq='h')\n",
    "    df = pd.DataFrame({\"DateTime\": date_range})\n",
    "    df[\"StartDate\"] = df[\"DateTime\"].dt.date\n",
    "    df[\"Hour\"] = df[\"DateTime\"].dt.hour\n",
    "    return df\n",
    "\n",
    "calendar = create_date_table2(start='2015-01-01', end=selected_columns['StartDate'].max())\n",
    "calendar = calendar.drop(calendar.columns[0], axis=1)\n",
    "calendar['StartDate'] = pd.to_datetime(calendar['StartDate'])\n",
    "calendar.info()"
   ]
  },
  {
   "cell_type": "markdown",
   "metadata": {},
   "source": [
    "### Join road A2 and direction 1"
   ]
  },
  {
   "cell_type": "code",
   "execution_count": 13,
   "metadata": {},
   "outputs": [
    {
     "data": {
      "text/html": [
       "<div>\n",
       "<style scoped>\n",
       "    .dataframe tbody tr th:only-of-type {\n",
       "        vertical-align: middle;\n",
       "    }\n",
       "\n",
       "    .dataframe tbody tr th {\n",
       "        vertical-align: top;\n",
       "    }\n",
       "\n",
       "    .dataframe thead th {\n",
       "        text-align: right;\n",
       "    }\n",
       "</style>\n",
       "<table border=\"1\" class=\"dataframe\">\n",
       "  <thead>\n",
       "    <tr style=\"text-align: right;\">\n",
       "      <th></th>\n",
       "      <th>StartDate</th>\n",
       "      <th>Duration</th>\n",
       "      <th>RoadNumber</th>\n",
       "      <th>Hour</th>\n",
       "      <th>HectometerDirectionNum</th>\n",
       "    </tr>\n",
       "  </thead>\n",
       "  <tbody>\n",
       "    <tr>\n",
       "      <th>633923</th>\n",
       "      <td>2023-07-15</td>\n",
       "      <td>18.583</td>\n",
       "      <td>2</td>\n",
       "      <td>12</td>\n",
       "      <td>1.0</td>\n",
       "    </tr>\n",
       "    <tr>\n",
       "      <th>509668</th>\n",
       "      <td>2022-10-24</td>\n",
       "      <td>1.567</td>\n",
       "      <td>2</td>\n",
       "      <td>16</td>\n",
       "      <td>1.0</td>\n",
       "    </tr>\n",
       "  </tbody>\n",
       "</table>\n",
       "</div>"
      ],
      "text/plain": [
       "        StartDate  Duration  RoadNumber  Hour  HectometerDirectionNum\n",
       "633923 2023-07-15    18.583           2    12                     1.0\n",
       "509668 2022-10-24     1.567           2    16                     1.0"
      ]
     },
     "execution_count": 13,
     "metadata": {},
     "output_type": "execute_result"
    }
   ],
   "source": [
    "a2d1 = selected_columns[(selected_columns['RoadNumber']==2)&(selected_columns['HectometerDirectionNum']==1)]\n",
    "a2d1.sample(2)"
   ]
  },
  {
   "cell_type": "code",
   "execution_count": 14,
   "metadata": {},
   "outputs": [
    {
     "data": {
      "text/plain": [
       "StartDate                     0\n",
       "Hour                          0\n",
       "Duration                  73877\n",
       "RoadNumber                73877\n",
       "HectometerDirectionNum    73877\n",
       "dtype: int64"
      ]
     },
     "execution_count": 14,
     "metadata": {},
     "output_type": "execute_result"
    }
   ],
   "source": [
    "mergedoutera2d1 = pd.merge(calendar, a2d1, how='left', on=['StartDate', 'Hour'])\n",
    "mergedoutera2d1.isna().sum()"
   ]
  },
  {
   "cell_type": "code",
   "execution_count": 15,
   "metadata": {},
   "outputs": [
    {
     "data": {
      "text/plain": [
       "StartDate                 0\n",
       "Hour                      0\n",
       "Duration                  0\n",
       "RoadNumber                0\n",
       "HectometerDirectionNum    0\n",
       "dtype: int64"
      ]
     },
     "execution_count": 15,
     "metadata": {},
     "output_type": "execute_result"
    }
   ],
   "source": [
    "mergedoutera2d1['Duration'] = mergedoutera2d1['Duration'].fillna(0)\n",
    "mergedoutera2d1['RoadNumber'] = mergedoutera2d1['RoadNumber'].fillna(2)\n",
    "mergedoutera2d1['HectometerDirectionNum'] = mergedoutera2d1['HectometerDirectionNum'].fillna(1)\n",
    "mergedoutera2d1.isna().sum()"
   ]
  },
  {
   "cell_type": "code",
   "execution_count": 16,
   "metadata": {},
   "outputs": [
    {
     "data": {
      "text/html": [
       "<div>\n",
       "<style scoped>\n",
       "    .dataframe tbody tr th:only-of-type {\n",
       "        vertical-align: middle;\n",
       "    }\n",
       "\n",
       "    .dataframe tbody tr th {\n",
       "        vertical-align: top;\n",
       "    }\n",
       "\n",
       "    .dataframe thead th {\n",
       "        text-align: right;\n",
       "    }\n",
       "</style>\n",
       "<table border=\"1\" class=\"dataframe\">\n",
       "  <thead>\n",
       "    <tr style=\"text-align: right;\">\n",
       "      <th></th>\n",
       "      <th>StartDate</th>\n",
       "      <th>Hour</th>\n",
       "      <th>Duration</th>\n",
       "      <th>RoadNumber</th>\n",
       "      <th>HectometerDirectionNum</th>\n",
       "    </tr>\n",
       "  </thead>\n",
       "  <tbody>\n",
       "    <tr>\n",
       "      <th>58649</th>\n",
       "      <td>2021-02-14</td>\n",
       "      <td>17</td>\n",
       "      <td>0.0</td>\n",
       "      <td>2.0</td>\n",
       "      <td>1.0</td>\n",
       "    </tr>\n",
       "    <tr>\n",
       "      <th>42679</th>\n",
       "      <td>2019-06-08</td>\n",
       "      <td>7</td>\n",
       "      <td>0.0</td>\n",
       "      <td>2.0</td>\n",
       "      <td>1.0</td>\n",
       "    </tr>\n",
       "  </tbody>\n",
       "</table>\n",
       "</div>"
      ],
      "text/plain": [
       "       StartDate  Hour  Duration  RoadNumber  HectometerDirectionNum\n",
       "58649 2021-02-14    17       0.0         2.0                     1.0\n",
       "42679 2019-06-08     7       0.0         2.0                     1.0"
      ]
     },
     "execution_count": 16,
     "metadata": {},
     "output_type": "execute_result"
    }
   ],
   "source": [
    "mergedoutera2d1.sample(2)"
   ]
  },
  {
   "cell_type": "markdown",
   "metadata": {},
   "source": [
    "### Join road A2 and direction 0"
   ]
  },
  {
   "cell_type": "code",
   "execution_count": 17,
   "metadata": {},
   "outputs": [
    {
     "data": {
      "text/html": [
       "<div>\n",
       "<style scoped>\n",
       "    .dataframe tbody tr th:only-of-type {\n",
       "        vertical-align: middle;\n",
       "    }\n",
       "\n",
       "    .dataframe tbody tr th {\n",
       "        vertical-align: top;\n",
       "    }\n",
       "\n",
       "    .dataframe thead th {\n",
       "        text-align: right;\n",
       "    }\n",
       "</style>\n",
       "<table border=\"1\" class=\"dataframe\">\n",
       "  <thead>\n",
       "    <tr style=\"text-align: right;\">\n",
       "      <th></th>\n",
       "      <th>StartDate</th>\n",
       "      <th>Duration</th>\n",
       "      <th>RoadNumber</th>\n",
       "      <th>Hour</th>\n",
       "      <th>HectometerDirectionNum</th>\n",
       "    </tr>\n",
       "  </thead>\n",
       "  <tbody>\n",
       "    <tr>\n",
       "      <th>1419747</th>\n",
       "      <td>2019-01-08</td>\n",
       "      <td>6.533</td>\n",
       "      <td>2</td>\n",
       "      <td>9</td>\n",
       "      <td>0.0</td>\n",
       "    </tr>\n",
       "    <tr>\n",
       "      <th>1050209</th>\n",
       "      <td>2018-11-21</td>\n",
       "      <td>7.567</td>\n",
       "      <td>2</td>\n",
       "      <td>6</td>\n",
       "      <td>0.0</td>\n",
       "    </tr>\n",
       "  </tbody>\n",
       "</table>\n",
       "</div>"
      ],
      "text/plain": [
       "         StartDate  Duration  RoadNumber  Hour  HectometerDirectionNum\n",
       "1419747 2019-01-08     6.533           2     9                     0.0\n",
       "1050209 2018-11-21     7.567           2     6                     0.0"
      ]
     },
     "execution_count": 17,
     "metadata": {},
     "output_type": "execute_result"
    }
   ],
   "source": [
    "a2d0 = selected_columns[(selected_columns['RoadNumber']==2)&(selected_columns['HectometerDirectionNum']==0)]\n",
    "a2d0.sample(2)"
   ]
  },
  {
   "cell_type": "code",
   "execution_count": 18,
   "metadata": {},
   "outputs": [
    {
     "data": {
      "text/plain": [
       "StartDate                     0\n",
       "Hour                          0\n",
       "Duration                  71737\n",
       "RoadNumber                71737\n",
       "HectometerDirectionNum    71737\n",
       "dtype: int64"
      ]
     },
     "execution_count": 18,
     "metadata": {},
     "output_type": "execute_result"
    }
   ],
   "source": [
    "mergedoutera2d0 = pd.merge(calendar, a2d0, how='left', on=['StartDate', 'Hour'])\n",
    "mergedoutera2d0.isna().sum()"
   ]
  },
  {
   "cell_type": "code",
   "execution_count": 19,
   "metadata": {},
   "outputs": [
    {
     "data": {
      "text/plain": [
       "StartDate                 0\n",
       "Hour                      0\n",
       "Duration                  0\n",
       "RoadNumber                0\n",
       "HectometerDirectionNum    0\n",
       "dtype: int64"
      ]
     },
     "execution_count": 19,
     "metadata": {},
     "output_type": "execute_result"
    }
   ],
   "source": [
    "mergedoutera2d0['Duration'] = mergedoutera2d0['Duration'].fillna(0)\n",
    "mergedoutera2d0['RoadNumber'] = mergedoutera2d0['RoadNumber'].fillna(2)\n",
    "mergedoutera2d0['HectometerDirectionNum'] = mergedoutera2d0['HectometerDirectionNum'].fillna(0)\n",
    "mergedoutera2d0.isna().sum()"
   ]
  },
  {
   "cell_type": "code",
   "execution_count": 20,
   "metadata": {},
   "outputs": [
    {
     "data": {
      "text/html": [
       "<div>\n",
       "<style scoped>\n",
       "    .dataframe tbody tr th:only-of-type {\n",
       "        vertical-align: middle;\n",
       "    }\n",
       "\n",
       "    .dataframe tbody tr th {\n",
       "        vertical-align: top;\n",
       "    }\n",
       "\n",
       "    .dataframe thead th {\n",
       "        text-align: right;\n",
       "    }\n",
       "</style>\n",
       "<table border=\"1\" class=\"dataframe\">\n",
       "  <thead>\n",
       "    <tr style=\"text-align: right;\">\n",
       "      <th></th>\n",
       "      <th>StartDate</th>\n",
       "      <th>Hour</th>\n",
       "      <th>Duration</th>\n",
       "      <th>RoadNumber</th>\n",
       "      <th>HectometerDirectionNum</th>\n",
       "    </tr>\n",
       "  </thead>\n",
       "  <tbody>\n",
       "    <tr>\n",
       "      <th>42540</th>\n",
       "      <td>2019-02-18</td>\n",
       "      <td>9</td>\n",
       "      <td>0.0</td>\n",
       "      <td>2.0</td>\n",
       "      <td>0.0</td>\n",
       "    </tr>\n",
       "    <tr>\n",
       "      <th>14076</th>\n",
       "      <td>2016-05-19</td>\n",
       "      <td>22</td>\n",
       "      <td>0.0</td>\n",
       "      <td>2.0</td>\n",
       "      <td>0.0</td>\n",
       "    </tr>\n",
       "  </tbody>\n",
       "</table>\n",
       "</div>"
      ],
      "text/plain": [
       "       StartDate  Hour  Duration  RoadNumber  HectometerDirectionNum\n",
       "42540 2019-02-18     9       0.0         2.0                     0.0\n",
       "14076 2016-05-19    22       0.0         2.0                     0.0"
      ]
     },
     "execution_count": 20,
     "metadata": {},
     "output_type": "execute_result"
    }
   ],
   "source": [
    "mergedoutera2d0.sample(2)"
   ]
  },
  {
   "cell_type": "markdown",
   "metadata": {},
   "source": [
    "### Join A73 and direction 1"
   ]
  },
  {
   "cell_type": "code",
   "execution_count": 21,
   "metadata": {},
   "outputs": [
    {
     "data": {
      "text/html": [
       "<div>\n",
       "<style scoped>\n",
       "    .dataframe tbody tr th:only-of-type {\n",
       "        vertical-align: middle;\n",
       "    }\n",
       "\n",
       "    .dataframe tbody tr th {\n",
       "        vertical-align: top;\n",
       "    }\n",
       "\n",
       "    .dataframe thead th {\n",
       "        text-align: right;\n",
       "    }\n",
       "</style>\n",
       "<table border=\"1\" class=\"dataframe\">\n",
       "  <thead>\n",
       "    <tr style=\"text-align: right;\">\n",
       "      <th></th>\n",
       "      <th>StartDate</th>\n",
       "      <th>Duration</th>\n",
       "      <th>RoadNumber</th>\n",
       "      <th>Hour</th>\n",
       "      <th>HectometerDirectionNum</th>\n",
       "    </tr>\n",
       "  </thead>\n",
       "  <tbody>\n",
       "    <tr>\n",
       "      <th>88480</th>\n",
       "      <td>2024-05-14</td>\n",
       "      <td>3.55</td>\n",
       "      <td>73</td>\n",
       "      <td>8</td>\n",
       "      <td>1.0</td>\n",
       "    </tr>\n",
       "    <tr>\n",
       "      <th>26410</th>\n",
       "      <td>2024-03-28</td>\n",
       "      <td>52.55</td>\n",
       "      <td>73</td>\n",
       "      <td>17</td>\n",
       "      <td>1.0</td>\n",
       "    </tr>\n",
       "  </tbody>\n",
       "</table>\n",
       "</div>"
      ],
      "text/plain": [
       "       StartDate  Duration  RoadNumber  Hour  HectometerDirectionNum\n",
       "88480 2024-05-14      3.55          73     8                     1.0\n",
       "26410 2024-03-28     52.55          73    17                     1.0"
      ]
     },
     "execution_count": 21,
     "metadata": {},
     "output_type": "execute_result"
    }
   ],
   "source": [
    "a73d1 = selected_columns[(selected_columns['RoadNumber']==73)&(selected_columns['HectometerDirectionNum']==1)]\n",
    "a73d1.sample(2)"
   ]
  },
  {
   "cell_type": "code",
   "execution_count": 22,
   "metadata": {},
   "outputs": [
    {
     "data": {
      "text/plain": [
       "StartDate                     0\n",
       "Hour                          0\n",
       "Duration                  80812\n",
       "RoadNumber                80812\n",
       "HectometerDirectionNum    80812\n",
       "dtype: int64"
      ]
     },
     "execution_count": 22,
     "metadata": {},
     "output_type": "execute_result"
    }
   ],
   "source": [
    "mergedoutera73d1 = pd.merge(calendar, a73d1, how='left', on=['StartDate', 'Hour'])\n",
    "mergedoutera73d1.isna().sum()"
   ]
  },
  {
   "cell_type": "code",
   "execution_count": 23,
   "metadata": {},
   "outputs": [
    {
     "data": {
      "text/plain": [
       "StartDate                 0\n",
       "Hour                      0\n",
       "Duration                  0\n",
       "RoadNumber                0\n",
       "HectometerDirectionNum    0\n",
       "dtype: int64"
      ]
     },
     "execution_count": 23,
     "metadata": {},
     "output_type": "execute_result"
    }
   ],
   "source": [
    "mergedoutera73d1['Duration'] = mergedoutera73d1['Duration'].fillna(0)\n",
    "mergedoutera73d1['RoadNumber'] = mergedoutera73d1['RoadNumber'].fillna(73)\n",
    "mergedoutera73d1['HectometerDirectionNum'] = mergedoutera73d1['HectometerDirectionNum'].fillna(1)\n",
    "mergedoutera73d1.isna().sum()"
   ]
  },
  {
   "cell_type": "code",
   "execution_count": 24,
   "metadata": {},
   "outputs": [
    {
     "data": {
      "text/html": [
       "<div>\n",
       "<style scoped>\n",
       "    .dataframe tbody tr th:only-of-type {\n",
       "        vertical-align: middle;\n",
       "    }\n",
       "\n",
       "    .dataframe tbody tr th {\n",
       "        vertical-align: top;\n",
       "    }\n",
       "\n",
       "    .dataframe thead th {\n",
       "        text-align: right;\n",
       "    }\n",
       "</style>\n",
       "<table border=\"1\" class=\"dataframe\">\n",
       "  <thead>\n",
       "    <tr style=\"text-align: right;\">\n",
       "      <th></th>\n",
       "      <th>StartDate</th>\n",
       "      <th>Hour</th>\n",
       "      <th>Duration</th>\n",
       "      <th>RoadNumber</th>\n",
       "      <th>HectometerDirectionNum</th>\n",
       "    </tr>\n",
       "  </thead>\n",
       "  <tbody>\n",
       "    <tr>\n",
       "      <th>70421</th>\n",
       "      <td>2022-12-17</td>\n",
       "      <td>12</td>\n",
       "      <td>0.0</td>\n",
       "      <td>73.0</td>\n",
       "      <td>1.0</td>\n",
       "    </tr>\n",
       "    <tr>\n",
       "      <th>34322</th>\n",
       "      <td>2018-11-30</td>\n",
       "      <td>20</td>\n",
       "      <td>0.0</td>\n",
       "      <td>73.0</td>\n",
       "      <td>1.0</td>\n",
       "    </tr>\n",
       "  </tbody>\n",
       "</table>\n",
       "</div>"
      ],
      "text/plain": [
       "       StartDate  Hour  Duration  RoadNumber  HectometerDirectionNum\n",
       "70421 2022-12-17    12       0.0        73.0                     1.0\n",
       "34322 2018-11-30    20       0.0        73.0                     1.0"
      ]
     },
     "execution_count": 24,
     "metadata": {},
     "output_type": "execute_result"
    }
   ],
   "source": [
    "mergedoutera73d1.sample(2)"
   ]
  },
  {
   "cell_type": "markdown",
   "metadata": {},
   "source": [
    "### Join A73 and direction 0"
   ]
  },
  {
   "cell_type": "code",
   "execution_count": 25,
   "metadata": {},
   "outputs": [
    {
     "data": {
      "text/html": [
       "<div>\n",
       "<style scoped>\n",
       "    .dataframe tbody tr th:only-of-type {\n",
       "        vertical-align: middle;\n",
       "    }\n",
       "\n",
       "    .dataframe tbody tr th {\n",
       "        vertical-align: top;\n",
       "    }\n",
       "\n",
       "    .dataframe thead th {\n",
       "        text-align: right;\n",
       "    }\n",
       "</style>\n",
       "<table border=\"1\" class=\"dataframe\">\n",
       "  <thead>\n",
       "    <tr style=\"text-align: right;\">\n",
       "      <th></th>\n",
       "      <th>StartDate</th>\n",
       "      <th>Duration</th>\n",
       "      <th>RoadNumber</th>\n",
       "      <th>Hour</th>\n",
       "      <th>HectometerDirectionNum</th>\n",
       "    </tr>\n",
       "  </thead>\n",
       "  <tbody>\n",
       "    <tr>\n",
       "      <th>883846</th>\n",
       "      <td>2022-07-29</td>\n",
       "      <td>2.517</td>\n",
       "      <td>73</td>\n",
       "      <td>16</td>\n",
       "      <td>0.0</td>\n",
       "    </tr>\n",
       "    <tr>\n",
       "      <th>94432</th>\n",
       "      <td>2024-05-24</td>\n",
       "      <td>412.533</td>\n",
       "      <td>73</td>\n",
       "      <td>11</td>\n",
       "      <td>0.0</td>\n",
       "    </tr>\n",
       "  </tbody>\n",
       "</table>\n",
       "</div>"
      ],
      "text/plain": [
       "        StartDate  Duration  RoadNumber  Hour  HectometerDirectionNum\n",
       "883846 2022-07-29     2.517          73    16                     0.0\n",
       "94432  2024-05-24   412.533          73    11                     0.0"
      ]
     },
     "execution_count": 25,
     "metadata": {},
     "output_type": "execute_result"
    }
   ],
   "source": [
    "a73d0 = selected_columns[(selected_columns['RoadNumber']==73)&(selected_columns['HectometerDirectionNum']==0)]\n",
    "a73d0.sample(2)"
   ]
  },
  {
   "cell_type": "code",
   "execution_count": 26,
   "metadata": {},
   "outputs": [
    {
     "data": {
      "text/plain": [
       "StartDate                     0\n",
       "Hour                          0\n",
       "Duration                  81177\n",
       "RoadNumber                81177\n",
       "HectometerDirectionNum    81177\n",
       "dtype: int64"
      ]
     },
     "execution_count": 26,
     "metadata": {},
     "output_type": "execute_result"
    }
   ],
   "source": [
    "mergedoutera73d0 = pd.merge(calendar, a73d0, how='left', on=['StartDate', 'Hour'])\n",
    "mergedoutera73d0.isna().sum()"
   ]
  },
  {
   "cell_type": "code",
   "execution_count": 27,
   "metadata": {},
   "outputs": [
    {
     "data": {
      "text/plain": [
       "StartDate                 0\n",
       "Hour                      0\n",
       "Duration                  0\n",
       "RoadNumber                0\n",
       "HectometerDirectionNum    0\n",
       "dtype: int64"
      ]
     },
     "execution_count": 27,
     "metadata": {},
     "output_type": "execute_result"
    }
   ],
   "source": [
    "mergedoutera73d0['Duration'] = mergedoutera73d0['Duration'].fillna(0)\n",
    "mergedoutera73d0['RoadNumber'] = mergedoutera73d0['RoadNumber'].fillna(73)\n",
    "mergedoutera73d0['HectometerDirectionNum'] = mergedoutera73d0['HectometerDirectionNum'].fillna(0)\n",
    "mergedoutera73d0.isna().sum()"
   ]
  },
  {
   "cell_type": "code",
   "execution_count": 28,
   "metadata": {},
   "outputs": [
    {
     "data": {
      "text/html": [
       "<div>\n",
       "<style scoped>\n",
       "    .dataframe tbody tr th:only-of-type {\n",
       "        vertical-align: middle;\n",
       "    }\n",
       "\n",
       "    .dataframe tbody tr th {\n",
       "        vertical-align: top;\n",
       "    }\n",
       "\n",
       "    .dataframe thead th {\n",
       "        text-align: right;\n",
       "    }\n",
       "</style>\n",
       "<table border=\"1\" class=\"dataframe\">\n",
       "  <thead>\n",
       "    <tr style=\"text-align: right;\">\n",
       "      <th></th>\n",
       "      <th>StartDate</th>\n",
       "      <th>Hour</th>\n",
       "      <th>Duration</th>\n",
       "      <th>RoadNumber</th>\n",
       "      <th>HectometerDirectionNum</th>\n",
       "    </tr>\n",
       "  </thead>\n",
       "  <tbody>\n",
       "    <tr>\n",
       "      <th>58662</th>\n",
       "      <td>2021-09-09</td>\n",
       "      <td>12</td>\n",
       "      <td>0.0</td>\n",
       "      <td>73.0</td>\n",
       "      <td>0.0</td>\n",
       "    </tr>\n",
       "    <tr>\n",
       "      <th>29194</th>\n",
       "      <td>2018-04-30</td>\n",
       "      <td>21</td>\n",
       "      <td>0.0</td>\n",
       "      <td>73.0</td>\n",
       "      <td>0.0</td>\n",
       "    </tr>\n",
       "  </tbody>\n",
       "</table>\n",
       "</div>"
      ],
      "text/plain": [
       "       StartDate  Hour  Duration  RoadNumber  HectometerDirectionNum\n",
       "58662 2021-09-09    12       0.0        73.0                     0.0\n",
       "29194 2018-04-30    21       0.0        73.0                     0.0"
      ]
     },
     "execution_count": 28,
     "metadata": {},
     "output_type": "execute_result"
    }
   ],
   "source": [
    "mergedoutera73d0.sample(2)"
   ]
  },
  {
   "cell_type": "markdown",
   "metadata": {},
   "source": [
    "### Appending the 4 dataframes"
   ]
  },
  {
   "cell_type": "code",
   "execution_count": 29,
   "metadata": {},
   "outputs": [
    {
     "data": {
      "text/plain": [
       "StartDate                 0\n",
       "Hour                      0\n",
       "Duration                  0\n",
       "RoadNumber                0\n",
       "HectometerDirectionNum    0\n",
       "dtype: int64"
      ]
     },
     "execution_count": 29,
     "metadata": {},
     "output_type": "execute_result"
    }
   ],
   "source": [
    "dataframes = [mergedoutera2d0, mergedoutera2d1, mergedoutera73d0, mergedoutera73d1]\n",
    "appended_frame = pd.concat(dataframes, axis=0)\n",
    "appended_frame.isna().sum()"
   ]
  },
  {
   "cell_type": "code",
   "execution_count": 30,
   "metadata": {},
   "outputs": [
    {
     "data": {
      "text/plain": [
       "(377031, 5)"
      ]
     },
     "execution_count": 30,
     "metadata": {},
     "output_type": "execute_result"
    }
   ],
   "source": [
    "appended_frame.shape"
   ]
  },
  {
   "cell_type": "code",
   "execution_count": 31,
   "metadata": {},
   "outputs": [
    {
     "data": {
      "text/html": [
       "<div>\n",
       "<style scoped>\n",
       "    .dataframe tbody tr th:only-of-type {\n",
       "        vertical-align: middle;\n",
       "    }\n",
       "\n",
       "    .dataframe tbody tr th {\n",
       "        vertical-align: top;\n",
       "    }\n",
       "\n",
       "    .dataframe thead th {\n",
       "        text-align: right;\n",
       "    }\n",
       "</style>\n",
       "<table border=\"1\" class=\"dataframe\">\n",
       "  <thead>\n",
       "    <tr style=\"text-align: right;\">\n",
       "      <th></th>\n",
       "      <th>StartDate</th>\n",
       "      <th>Hour</th>\n",
       "      <th>Duration</th>\n",
       "      <th>RoadNumber</th>\n",
       "      <th>HectometerDirectionNum</th>\n",
       "    </tr>\n",
       "  </thead>\n",
       "  <tbody>\n",
       "    <tr>\n",
       "      <th>60722</th>\n",
       "      <td>2021-12-04</td>\n",
       "      <td>8</td>\n",
       "      <td>0.000</td>\n",
       "      <td>73.0</td>\n",
       "      <td>0.0</td>\n",
       "    </tr>\n",
       "    <tr>\n",
       "      <th>89757</th>\n",
       "      <td>2023-04-12</td>\n",
       "      <td>9</td>\n",
       "      <td>26.567</td>\n",
       "      <td>2.0</td>\n",
       "      <td>0.0</td>\n",
       "    </tr>\n",
       "    <tr>\n",
       "      <th>20772</th>\n",
       "      <td>2017-05-15</td>\n",
       "      <td>10</td>\n",
       "      <td>0.000</td>\n",
       "      <td>73.0</td>\n",
       "      <td>1.0</td>\n",
       "    </tr>\n",
       "    <tr>\n",
       "      <th>43093</th>\n",
       "      <td>2019-12-01</td>\n",
       "      <td>6</td>\n",
       "      <td>0.000</td>\n",
       "      <td>73.0</td>\n",
       "      <td>1.0</td>\n",
       "    </tr>\n",
       "    <tr>\n",
       "      <th>64073</th>\n",
       "      <td>2022-04-16</td>\n",
       "      <td>16</td>\n",
       "      <td>0.000</td>\n",
       "      <td>73.0</td>\n",
       "      <td>0.0</td>\n",
       "    </tr>\n",
       "  </tbody>\n",
       "</table>\n",
       "</div>"
      ],
      "text/plain": [
       "       StartDate  Hour  Duration  RoadNumber  HectometerDirectionNum\n",
       "60722 2021-12-04     8     0.000        73.0                     0.0\n",
       "89757 2023-04-12     9    26.567         2.0                     0.0\n",
       "20772 2017-05-15    10     0.000        73.0                     1.0\n",
       "43093 2019-12-01     6     0.000        73.0                     1.0\n",
       "64073 2022-04-16    16     0.000        73.0                     0.0"
      ]
     },
     "execution_count": 31,
     "metadata": {},
     "output_type": "execute_result"
    }
   ],
   "source": [
    "appended_frame.sample(5)"
   ]
  },
  {
   "cell_type": "code",
   "execution_count": 32,
   "metadata": {},
   "outputs": [
    {
     "data": {
      "image/png": "[encoded data removed]",
      "text/plain": [
       "<Figure size 2000x1500 with 4 Axes>"
      ]
     },
     "metadata": {},
     "output_type": "display_data"
    }
   ],
   "source": [
    "import seaborn as sns\n",
    "\n",
    "actualtr0 = appended_frame[(appended_frame['Duration']!=0)&(appended_frame['HectometerDirectionNum']==0)&(appended_frame['RoadNumber']==2)]\n",
    "actualtr0 = actualtr0['Hour'].value_counts().sort_index() \n",
    "\n",
    "fig, axes = plt.subplots(2, 2, figsize=(20, 15))\n",
    "sns.barplot(x=actualtr0.index, y=actualtr0.values, ax = axes[0,0])\n",
    "axes[0, 0].set_title('Road A2 and direction 0')\n",
    "axes[0, 0].set_xlabel('Hour')\n",
    "axes[0, 0].set_ylabel('Traffic Jams')\n",
    "\n",
    "\n",
    "actualtr1 = appended_frame[(appended_frame['Duration']!=0)&(appended_frame['HectometerDirectionNum']==1)&(appended_frame['RoadNumber']==2)]\n",
    "actualtr1 = actualtr1['Hour'].value_counts().sort_index()\n",
    "\n",
    "sns.barplot(x=actualtr1.index, y=actualtr1.values, ax = axes[0,1])\n",
    "axes[0, 1].set_title('Road A2 and direction 1')\n",
    "axes[0, 1].set_xlabel('Hour')\n",
    "axes[0, 1].set_ylabel('Traffic Jams')\n",
    "\n",
    "actualtr2 = appended_frame[(appended_frame['Duration']!=0)&(appended_frame['HectometerDirectionNum']==0)&(appended_frame['RoadNumber']==73)]\n",
    "actualtr2 = actualtr2['Hour'].value_counts().sort_index() \n",
    "\n",
    "\n",
    "sns.barplot(x=actualtr2.index, y=actualtr2.values, ax = axes[1,0])\n",
    "axes[1, 0].set_title('Road A73 and direction 0')\n",
    "axes[1, 0].set_xlabel('Hour')\n",
    "axes[1, 0].set_ylabel('Traffic Jams')\n",
    "\n",
    "\n",
    "actualtr3 = appended_frame[(appended_frame['Duration']!=0)&(appended_frame['HectometerDirectionNum']==1)&(appended_frame['RoadNumber']==73)]\n",
    "actualtr3 = actualtr3['Hour'].value_counts().sort_index()\n",
    "\n",
    "sns.barplot(x=actualtr3.index, y=actualtr3.values, ax = axes[1,1])\n",
    "axes[1, 1].set_title('Road A73 and direction 1')\n",
    "axes[1, 1].set_xlabel('Hour')\n",
    "axes[1, 1].set_ylabel('Traffic Jams')\n",
    "\n",
    "plt.tight_layout()\n",
    "plt.show()"
   ]
  },
  {
   "cell_type": "markdown",
   "metadata": {},
   "source": [
    "## Creating the category column"
   ]
  },
  {
   "cell_type": "code",
   "execution_count": 33,
   "metadata": {},
   "outputs": [
    {
     "data": {
      "text/plain": [
       "Duration Category\n",
       "none      307603\n",
       "light      51914\n",
       "heavy       9935\n",
       "medium      7579\n",
       "Name: count, dtype: int64"
      ]
     },
     "execution_count": 33,
     "metadata": {},
     "output_type": "execute_result"
    }
   ],
   "source": [
    "bins = [-np.inf, 0, 15, 30, np.inf]\n",
    "labels = ['none', 'light', 'medium', 'heavy']\n",
    "category_mapping = {'none': 0, 'light': 1, 'medium': 2, 'heavy': 3}\n",
    "\n",
    "appended_frame['Duration Category'] = pd.cut(appended_frame['Duration'].fillna(0), bins=bins, labels=labels)\n",
    "appended_frame['encoded_type'] = appended_frame['Duration Category'].map(category_mapping)\n",
    "appended_frame['encoded_type'] = appended_frame['encoded_type'].astype(int)\n",
    "\n",
    "appended_frame[\"Duration Category\"].value_counts()"
   ]
  },
  {
   "cell_type": "markdown",
   "metadata": {},
   "source": [
    "## Adding date breakdown"
   ]
  },
  {
   "cell_type": "markdown",
   "metadata": {},
   "source": [
    "### Day of the week"
   ]
  },
  {
   "cell_type": "code",
   "execution_count": 34,
   "metadata": {},
   "outputs": [],
   "source": [
    "appended_frame['WeekdayName'] = appended_frame['StartDate'].dt.day_name()\n",
    "appended_frame['Weekday'] = appended_frame['StartDate'].dt.weekday"
   ]
  },
  {
   "cell_type": "markdown",
   "metadata": {},
   "source": [
    "### Day of the year"
   ]
  },
  {
   "cell_type": "code",
   "execution_count": 35,
   "metadata": {},
   "outputs": [],
   "source": [
    "appended_frame['DayofYear'] = appended_frame['StartDate'].dt.dayofyear"
   ]
  },
  {
   "cell_type": "markdown",
   "metadata": {},
   "source": [
    "### Year"
   ]
  },
  {
   "cell_type": "code",
   "execution_count": 36,
   "metadata": {},
   "outputs": [],
   "source": [
    "appended_frame['Year'] = appended_frame['StartDate'].dt.year"
   ]
  },
  {
   "cell_type": "markdown",
   "metadata": {},
   "source": [
    "### Day of month"
   ]
  },
  {
   "cell_type": "code",
   "execution_count": 37,
   "metadata": {},
   "outputs": [],
   "source": [
    "appended_frame['DayofMonth'] = appended_frame['StartDate'].dt.day"
   ]
  },
  {
   "cell_type": "markdown",
   "metadata": {},
   "source": [
    "## Modelling"
   ]
  },
  {
   "cell_type": "markdown",
   "metadata": {},
   "source": [
    "### Random Forest"
   ]
  },
  {
   "cell_type": "code",
   "execution_count": 38,
   "metadata": {},
   "outputs": [
    {
     "name": "stderr",
     "output_type": "stream",
     "text": [
      "Intel(R) Extension for Scikit-learn* enabled (https://github.com/intel/scikit-learn-intelex)\n"
     ]
    },
    {
     "name": "stdout",
     "output_type": "stream",
     "text": [
      "Accuracy: 93%\n"
     ]
    }
   ],
   "source": [
    "warnings.filterwarnings('ignore')\n",
    "from joblib import dump\n",
    "import pickle\n",
    "patch_sklearn()\n",
    "\n",
    "target = \"encoded_type\"\n",
    "y = appended_frame[target]\n",
    "\n",
    "features = ['Hour', 'RoadNumber', 'Weekday', 'DayofYear', 'Year', 'DayofMonth', 'HectometerDirectionNum']\n",
    "X = appended_frame[features]\n",
    "\n",
    "X_train, X_test, y_train, y_test = train_test_split(X, y, test_size=0.2, random_state=42)\n",
    "\n",
    "random_forest = RandomForestClassifier(max_depth=70, min_samples_leaf=1, min_samples_split=3, n_estimators=200, bootstrap=False)\n",
    "random_forest.fit(X_train, y_train)\n",
    "\n",
    "y_pred = random_forest.predict(X_test)\n",
    "accuracy = accuracy_score(y_test, y_pred)\n",
    "accuracy_percentage = math.ceil(accuracy * 100)\n",
    "\n",
    "print(f\"Accuracy: {accuracy_percentage}%\")\n",
    "\n",
    "with open(\"model_94.pkl\", \"wb\") as file:\n",
    "    pickle.dump(random_forest, file)"
   ]
  },
  {
   "cell_type": "markdown",
   "metadata": {},
   "source": [
    "### Results and evaluation"
   ]
  },
  {
   "cell_type": "markdown",
   "metadata": {},
   "source": [
    "#### Classification report"
   ]
  },
  {
   "cell_type": "code",
   "execution_count": 39,
   "metadata": {},
   "outputs": [
    {
     "name": "stdout",
     "output_type": "stream",
     "text": [
      "              precision    recall  f1-score   support\n",
      "\n",
      "           0       0.97      0.99      0.98     61471\n",
      "           1       0.75      0.86      0.80     10402\n",
      "           2       0.19      0.07      0.10      1553\n",
      "           3       0.18      0.07      0.10      1981\n",
      "\n",
      "    accuracy                           0.92     75407\n",
      "   macro avg       0.52      0.49      0.49     75407\n",
      "weighted avg       0.91      0.92      0.91     75407\n",
      "\n"
     ]
    }
   ],
   "source": [
    "from sklearn.metrics import classification_report\n",
    "report = classification_report(y_test, y_pred, output_dict=True)\n",
    "print(classification_report(y_test, y_pred))"
   ]
  },
  {
   "cell_type": "markdown",
   "metadata": {},
   "source": [
    "#### Feature importances"
   ]
  },
  {
   "cell_type": "code",
   "execution_count": 40,
   "metadata": {},
   "outputs": [
    {
     "data": {
      "image/png": "[encoded data removed]",
      "text/plain": [
       "<Figure size 640x480 with 1 Axes>"
      ]
     },
     "metadata": {},
     "output_type": "display_data"
    }
   ],
   "source": [
    "forest_importances = pd.Series(random_forest.feature_importances_, index=features)\n",
    "standard_deviation = np.std([tree.feature_importances_ for tree in random_forest.estimators_], axis=0)\n",
    "plt.figure()\n",
    "forest_importances.plot.bar(yerr=standard_deviation)\n",
    "plt.show()"
   ]
  },
  {
   "cell_type": "markdown",
   "metadata": {},
   "source": [
    "#### Confusion matrix"
   ]
  },
  {
   "cell_type": "code",
   "execution_count": 41,
   "metadata": {},
   "outputs": [
    {
     "data": {
      "image/png": "[encoded data removed]",
      "text/plain": [
       "<Figure size 640x480 with 1 Axes>"
      ]
     },
     "metadata": {},
     "output_type": "display_data"
    }
   ],
   "source": [
    "from sklearn.metrics import confusion_matrix\n",
    " \n",
    "labels = category_mapping\n",
    " \n",
    "matrix = confusion_matrix(y_test, y_pred)\n",
    "plt.figure()\n",
    "sns.heatmap(matrix, annot=True, fmt='d', cmap='Blues', cbar=None, xticklabels=labels, yticklabels=labels)\n",
    "plt.xlabel('Predicted Label')\n",
    "plt.ylabel('True Label')\n",
    "plt.show()"
   ]
  },
  {
   "cell_type": "markdown",
   "metadata": {},
   "source": [
    "#### Cross-validation"
   ]
  },
  {
   "cell_type": "code",
   "execution_count": 42,
   "metadata": {},
   "outputs": [
    {
     "name": "stderr",
     "output_type": "stream",
     "text": [
      "Intel(R) Extension for Scikit-learn* enabled (https://github.com/intel/scikit-learn-intelex)\n"
     ]
    },
    {
     "name": "stdout",
     "output_type": "stream",
     "text": [
      "Accuracy scores for each fold: [0.92261915 0.92285122 0.92067965 0.92208869 0.92323122]\n",
      "Average accuracy score: 0.9222939850185432\n"
     ]
    }
   ],
   "source": [
    "warnings.filterwarnings('ignore')\n",
    "patch_sklearn()\n",
    "\n",
    "skf = StratifiedKFold(n_splits=5, shuffle=True, random_state=42)\n",
    "accuracy_scores = cross_val_score(random_forest, X_train, y_train, cv=skf, scoring='accuracy')# average accuracy score\n",
    "print(\"Accuracy scores for each fold:\", accuracy_scores)\n",
    "average_accuracy = accuracy_scores.mean()\n",
    "print(\"Average accuracy score:\", average_accuracy)"
   ]
  },
  {
   "cell_type": "markdown",
   "metadata": {},
   "source": [
    "### Inference"
   ]
  },
  {
   "cell_type": "code",
   "execution_count": 43,
   "metadata": {},
   "outputs": [
    {
     "data": {
      "text/html": [
       "<div>\n",
       "<style scoped>\n",
       "    .dataframe tbody tr th:only-of-type {\n",
       "        vertical-align: middle;\n",
       "    }\n",
       "\n",
       "    .dataframe tbody tr th {\n",
       "        vertical-align: top;\n",
       "    }\n",
       "\n",
       "    .dataframe thead th {\n",
       "        text-align: right;\n",
       "    }\n",
       "</style>\n",
       "<table border=\"1\" class=\"dataframe\">\n",
       "  <thead>\n",
       "    <tr style=\"text-align: right;\">\n",
       "      <th></th>\n",
       "      <th>Probability</th>\n",
       "    </tr>\n",
       "  </thead>\n",
       "  <tbody>\n",
       "    <tr>\n",
       "      <th>0</th>\n",
       "      <td>90.5</td>\n",
       "    </tr>\n",
       "    <tr>\n",
       "      <th>1</th>\n",
       "      <td>9.5</td>\n",
       "    </tr>\n",
       "    <tr>\n",
       "      <th>2</th>\n",
       "      <td>0.0</td>\n",
       "    </tr>\n",
       "    <tr>\n",
       "      <th>3</th>\n",
       "      <td>0.0</td>\n",
       "    </tr>\n",
       "  </tbody>\n",
       "</table>\n",
       "</div>"
      ],
      "text/plain": [
       "   Probability\n",
       "0         90.5\n",
       "1          9.5\n",
       "2          0.0\n",
       "3          0.0"
      ]
     },
     "execution_count": 43,
     "metadata": {},
     "output_type": "execute_result"
    }
   ],
   "source": [
    "warnings.filterwarnings('ignore')\n",
    "today = date.today()\n",
    "\n",
    "hour = 17\n",
    "road = 2\n",
    "direction = 0\n",
    "weekday = today.weekday()\n",
    "dayofyear = today.timetuple().tm_yday\n",
    "year = today.year\n",
    "dayofmonth = today.day\n",
    "\n",
    "X_inference = pd.DataFrame([{\"Hour\": hour, \n",
    "                             \"RoadNumber\": road,\n",
    "                             \"Weekday\": weekday,\n",
    "                             \"DayofYear\": dayofyear,\n",
    "                             \"Year\": year,\n",
    "                             \"DayofMonth\": dayofmonth,\n",
    "                             \"HectometerDirectionNum\": direction}])\n",
    "\n",
    "prediction = random_forest.predict_proba(X_inference)\n",
    "\n",
    "result = pd.DataFrame()\n",
    "result[\"Probability\"] = prediction[0]*100\n",
    "predicted_label_index = prediction[0]\n",
    "#predicted_label_name = category_mapping[predicted_label_index]\n",
    "\n",
    "result"
   ]
  }
 ],
 "metadata": {
  "kernelspec": {
   "display_name": "Python 3",
   "language": "python",
   "name": "python3"
  },
  "language_info": {
   "codemirror_mode": {
    "name": "ipython",
    "version": 3
   },
   "file_extension": ".py",
   "mimetype": "text/x-python",
   "name": "python",
   "nbconvert_exporter": "python",
   "pygments_lexer": "ipython3",
   "version": "3.10.6"
  }
 },
 "nbformat": 4,
 "nbformat_minor": 2
}
