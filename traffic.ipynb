{
 "cells": [
  {
   "cell_type": "code",
   "execution_count": 1,
   "metadata": {},
   "outputs": [],
   "source": [
    "import pandas as pd\n",
    "import numpy as np\n",
    "import seaborn as sns\n",
    "import math\n",
    "from datetime import date\n",
    "import matplotlib.pyplot as plt\n",
    "from sklearn.ensemble import RandomForestClassifier\n",
    "from sklearn.model_selection import train_test_split\n",
    "from sklearn.metrics import accuracy_score\n",
    "from sklearnex import patch_sklearn\n",
    "from sklearn.metrics import classification_report\n",
    "from sklearn.model_selection import cross_val_score, StratifiedKFold\n",
    "import warnings"
   ]
  },
  {
   "cell_type": "markdown",
   "metadata": {},
   "source": [
    "## Traffic data\n",
    "The traffic data that is imported here is taken from the **TrafficDataCleaning file**, where detailed steps about the cleaning of the dataset have been specified as well as a data dictionary with data requirements. \n",
    "### Importing the data"
   ]
  },
  {
   "cell_type": "code",
   "execution_count": 2,
   "metadata": {},
   "outputs": [
    {
     "data": {
      "text/html": [
       "<div>\n",
       "<style scoped>\n",
       "    .dataframe tbody tr th:only-of-type {\n",
       "        vertical-align: middle;\n",
       "    }\n",
       "\n",
       "    .dataframe tbody tr th {\n",
       "        vertical-align: top;\n",
       "    }\n",
       "\n",
       "    .dataframe thead th {\n",
       "        text-align: right;\n",
       "    }\n",
       "</style>\n",
       "<table border=\"1\" class=\"dataframe\">\n",
       "  <thead>\n",
       "    <tr style=\"text-align: right;\">\n",
       "      <th></th>\n",
       "      <th>TrafficJamNum</th>\n",
       "      <th>StartDate</th>\n",
       "      <th>EndDate</th>\n",
       "      <th>StartTime</th>\n",
       "      <th>EndTime</th>\n",
       "      <th>Severity</th>\n",
       "      <th>Length</th>\n",
       "      <th>Duration</th>\n",
       "      <th>HectometerStart</th>\n",
       "      <th>HectometerEnd</th>\n",
       "      <th>...</th>\n",
       "      <th>CauseCodeDescr</th>\n",
       "      <th>CauseClass</th>\n",
       "      <th>CauseCodeClass</th>\n",
       "      <th>CauseCode</th>\n",
       "      <th>Cause_1</th>\n",
       "      <th>Cause_2</th>\n",
       "      <th>Cause_3</th>\n",
       "      <th>Cause_4</th>\n",
       "      <th>StartDateTime</th>\n",
       "      <th>EndDateTime</th>\n",
       "    </tr>\n",
       "  </thead>\n",
       "  <tbody>\n",
       "    <tr>\n",
       "      <th>587835</th>\n",
       "      <td>3950052</td>\n",
       "      <td>2024-02-16</td>\n",
       "      <td>2024-02-16</td>\n",
       "      <td>16:49:31</td>\n",
       "      <td>16:54:00</td>\n",
       "      <td>15.617</td>\n",
       "      <td>3483.000</td>\n",
       "      <td>4.483</td>\n",
       "      <td>59.1</td>\n",
       "      <td>55.7</td>\n",
       "      <td>...</td>\n",
       "      <td>Spitsfile (geen oorzaak gemeld)</td>\n",
       "      <td>[Geen oorzaakcode opgegeven door VWM 4]</td>\n",
       "      <td>[000]</td>\n",
       "      <td>001</td>\n",
       "      <td>Spitsfile (geen oorzaak gemeld)</td>\n",
       "      <td>Geen oorzaak gemeld</td>\n",
       "      <td>Drukte</td>\n",
       "      <td>Hoge intensiteit</td>\n",
       "      <td>2024-02-16 16:49:31</td>\n",
       "      <td>2024-02-16 16:54:00</td>\n",
       "    </tr>\n",
       "    <tr>\n",
       "      <th>1004971</th>\n",
       "      <td>2349260</td>\n",
       "      <td>2018-05-24</td>\n",
       "      <td>2018-05-24</td>\n",
       "      <td>16:49:00</td>\n",
       "      <td>16:57:54</td>\n",
       "      <td>31.433</td>\n",
       "      <td>3531.835</td>\n",
       "      <td>8.900</td>\n",
       "      <td>142.2</td>\n",
       "      <td>146.2</td>\n",
       "      <td>...</td>\n",
       "      <td>Spitsfile (geen oorzaak gemeld)</td>\n",
       "      <td>[Geen oorzaakcode opgegeven door VWM 9]</td>\n",
       "      <td>[000]</td>\n",
       "      <td>001</td>\n",
       "      <td>Spitsfile (geen oorzaak gemeld)</td>\n",
       "      <td>Geen oorzaak gemeld</td>\n",
       "      <td>Drukte</td>\n",
       "      <td>Hoge intensiteit</td>\n",
       "      <td>2018-05-24 16:49:00</td>\n",
       "      <td>2018-05-24 16:57:54</td>\n",
       "    </tr>\n",
       "    <tr>\n",
       "      <th>1623635</th>\n",
       "      <td>2193115</td>\n",
       "      <td>2017-07-28</td>\n",
       "      <td>2017-07-28</td>\n",
       "      <td>12:02:00</td>\n",
       "      <td>12:16:45</td>\n",
       "      <td>51.783</td>\n",
       "      <td>3510.735</td>\n",
       "      <td>14.750</td>\n",
       "      <td>29.2</td>\n",
       "      <td>24.2</td>\n",
       "      <td>...</td>\n",
       "      <td>Ophoogscript</td>\n",
       "      <td>[Ophoogscript 15]</td>\n",
       "      <td>[YDP]</td>\n",
       "      <td>YDP</td>\n",
       "      <td>Ophoogscript</td>\n",
       "      <td>Werkzaamheden gevonden door WiFi-script</td>\n",
       "      <td>Werkzaamheden</td>\n",
       "      <td>Aanleg en gepland onderhoud</td>\n",
       "      <td>2017-07-28 12:02:00</td>\n",
       "      <td>2017-07-28 12:16:45</td>\n",
       "    </tr>\n",
       "  </tbody>\n",
       "</table>\n",
       "<p>3 rows × 28 columns</p>\n",
       "</div>"
      ],
      "text/plain": [
       "         TrafficJamNum   StartDate     EndDate StartTime   EndTime  Severity  \\\n",
       "587835         3950052  2024-02-16  2024-02-16  16:49:31  16:54:00    15.617   \n",
       "1004971        2349260  2018-05-24  2018-05-24  16:49:00  16:57:54    31.433   \n",
       "1623635        2193115  2017-07-28  2017-07-28  12:02:00  12:16:45    51.783   \n",
       "\n",
       "           Length  Duration  HectometerStart  HectometerEnd  ...  \\\n",
       "587835   3483.000     4.483             59.1           55.7  ...   \n",
       "1004971  3531.835     8.900            142.2          146.2  ...   \n",
       "1623635  3510.735    14.750             29.2           24.2  ...   \n",
       "\n",
       "                          CauseCodeDescr  \\\n",
       "587835   Spitsfile (geen oorzaak gemeld)   \n",
       "1004971  Spitsfile (geen oorzaak gemeld)   \n",
       "1623635                     Ophoogscript   \n",
       "\n",
       "                                      CauseClass CauseCodeClass CauseCode  \\\n",
       "587835   [Geen oorzaakcode opgegeven door VWM 4]          [000]       001   \n",
       "1004971  [Geen oorzaakcode opgegeven door VWM 9]          [000]       001   \n",
       "1623635                        [Ophoogscript 15]          [YDP]       YDP   \n",
       "\n",
       "                                 Cause_1  \\\n",
       "587835   Spitsfile (geen oorzaak gemeld)   \n",
       "1004971  Spitsfile (geen oorzaak gemeld)   \n",
       "1623635                     Ophoogscript   \n",
       "\n",
       "                                         Cause_2        Cause_3  \\\n",
       "587835                       Geen oorzaak gemeld         Drukte   \n",
       "1004971                      Geen oorzaak gemeld         Drukte   \n",
       "1623635  Werkzaamheden gevonden door WiFi-script  Werkzaamheden   \n",
       "\n",
       "                             Cause_4        StartDateTime          EndDateTime  \n",
       "587835              Hoge intensiteit  2024-02-16 16:49:31  2024-02-16 16:54:00  \n",
       "1004971             Hoge intensiteit  2018-05-24 16:49:00  2018-05-24 16:57:54  \n",
       "1623635  Aanleg en gepland onderhoud  2017-07-28 12:02:00  2017-07-28 12:16:45  \n",
       "\n",
       "[3 rows x 28 columns]"
      ]
     },
     "execution_count": 2,
     "metadata": {},
     "output_type": "execute_result"
    }
   ],
   "source": [
    "traffic_data = pd.read_csv(\"datasets/CleanTraffic.csv\")\n",
    "traffic_data.sample(3)"
   ]
  },
  {
   "cell_type": "code",
   "execution_count": 3,
   "metadata": {},
   "outputs": [
    {
     "data": {
      "text/plain": [
       "(1714882, 28)"
      ]
     },
     "execution_count": 3,
     "metadata": {},
     "output_type": "execute_result"
    }
   ],
   "source": [
    "traffic_data.shape"
   ]
  },
  {
   "cell_type": "markdown",
   "metadata": {},
   "source": [
    "### Checking the data types and missing values"
   ]
  },
  {
   "cell_type": "code",
   "execution_count": 4,
   "metadata": {},
   "outputs": [
    {
     "name": "stdout",
     "output_type": "stream",
     "text": [
      "<class 'pandas.core.frame.DataFrame'>\n",
      "RangeIndex: 1714882 entries, 0 to 1714881\n",
      "Data columns (total 28 columns):\n",
      " #   Column               Dtype  \n",
      "---  ------               -----  \n",
      " 0   TrafficJamNum        int64  \n",
      " 1   StartDate            object \n",
      " 2   EndDate              object \n",
      " 3   StartTime            object \n",
      " 4   EndTime              object \n",
      " 5   Severity             float64\n",
      " 6   Length               float64\n",
      " 7   Duration             float64\n",
      " 8   HectometerStart      float64\n",
      " 9   HectometerEnd        float64\n",
      " 10  RoadLetter           object \n",
      " 11  RoadNumber           int64  \n",
      " 12  RoadDescr            object \n",
      " 13  HectometerDirection  object \n",
      " 14  RoadSectionFrom      object \n",
      " 15  RoadSectionTo        object \n",
      " 16  MainRoadFrom         object \n",
      " 17  MainRoadTo           object \n",
      " 18  CauseCodeDescr       object \n",
      " 19  CauseClass           object \n",
      " 20  CauseCodeClass       object \n",
      " 21  CauseCode            object \n",
      " 22  Cause_1              object \n",
      " 23  Cause_2              object \n",
      " 24  Cause_3              object \n",
      " 25  Cause_4              object \n",
      " 26  StartDateTime        object \n",
      " 27  EndDateTime          object \n",
      "dtypes: float64(5), int64(2), object(21)\n",
      "memory usage: 366.3+ MB\n"
     ]
    }
   ],
   "source": [
    "traffic_data.info()"
   ]
  },
  {
   "cell_type": "code",
   "execution_count": 5,
   "metadata": {},
   "outputs": [
    {
     "data": {
      "text/plain": [
       "TrafficJamNum          0\n",
       "StartDate              0\n",
       "EndDate                0\n",
       "StartTime              0\n",
       "EndTime                0\n",
       "Severity               0\n",
       "Length                 0\n",
       "Duration               0\n",
       "HectometerStart        0\n",
       "HectometerEnd          0\n",
       "RoadLetter             0\n",
       "RoadNumber             0\n",
       "RoadDescr              0\n",
       "HectometerDirection    0\n",
       "RoadSectionFrom        0\n",
       "RoadSectionTo          0\n",
       "MainRoadFrom           0\n",
       "MainRoadTo             0\n",
       "CauseCodeDescr         0\n",
       "CauseClass             0\n",
       "CauseCodeClass         0\n",
       "CauseCode              0\n",
       "Cause_1                0\n",
       "Cause_2                0\n",
       "Cause_3                0\n",
       "Cause_4                0\n",
       "StartDateTime          0\n",
       "EndDateTime            0\n",
       "dtype: int64"
      ]
     },
     "execution_count": 5,
     "metadata": {},
     "output_type": "execute_result"
    }
   ],
   "source": [
    "traffic_data.isna().sum()"
   ]
  },
  {
   "cell_type": "markdown",
   "metadata": {},
   "source": [
    "### Altering data\n",
    "#### Adding hour"
   ]
  },
  {
   "cell_type": "code",
   "execution_count": 6,
   "metadata": {},
   "outputs": [
    {
     "data": {
      "text/html": [
       "<div>\n",
       "<style scoped>\n",
       "    .dataframe tbody tr th:only-of-type {\n",
       "        vertical-align: middle;\n",
       "    }\n",
       "\n",
       "    .dataframe tbody tr th {\n",
       "        vertical-align: top;\n",
       "    }\n",
       "\n",
       "    .dataframe thead th {\n",
       "        text-align: right;\n",
       "    }\n",
       "</style>\n",
       "<table border=\"1\" class=\"dataframe\">\n",
       "  <thead>\n",
       "    <tr style=\"text-align: right;\">\n",
       "      <th></th>\n",
       "      <th>TrafficJamNum</th>\n",
       "      <th>StartDate</th>\n",
       "      <th>EndDate</th>\n",
       "      <th>StartTime</th>\n",
       "      <th>EndTime</th>\n",
       "      <th>Severity</th>\n",
       "      <th>Length</th>\n",
       "      <th>Duration</th>\n",
       "      <th>HectometerStart</th>\n",
       "      <th>HectometerEnd</th>\n",
       "      <th>...</th>\n",
       "      <th>CauseClass</th>\n",
       "      <th>CauseCodeClass</th>\n",
       "      <th>CauseCode</th>\n",
       "      <th>Cause_1</th>\n",
       "      <th>Cause_2</th>\n",
       "      <th>Cause_3</th>\n",
       "      <th>Cause_4</th>\n",
       "      <th>StartDateTime</th>\n",
       "      <th>EndDateTime</th>\n",
       "      <th>Hour</th>\n",
       "    </tr>\n",
       "  </thead>\n",
       "  <tbody>\n",
       "    <tr>\n",
       "      <th>1361565</th>\n",
       "      <td>2133429</td>\n",
       "      <td>2017-04-07</td>\n",
       "      <td>2017-04-07</td>\n",
       "      <td>15:27:00</td>\n",
       "      <td>15:31:11</td>\n",
       "      <td>8.367</td>\n",
       "      <td>2000.0</td>\n",
       "      <td>4.183</td>\n",
       "      <td>163.7</td>\n",
       "      <td>165.7</td>\n",
       "      <td>...</td>\n",
       "      <td>[Geen oorzaakcode opgegeven door VWM 4]</td>\n",
       "      <td>[000]</td>\n",
       "      <td>001</td>\n",
       "      <td>Spitsfile (geen oorzaak gemeld)</td>\n",
       "      <td>Geen oorzaak gemeld</td>\n",
       "      <td>Drukte</td>\n",
       "      <td>Hoge intensiteit</td>\n",
       "      <td>2017-04-07 15:27:00</td>\n",
       "      <td>2017-04-07 15:31:11</td>\n",
       "      <td>15</td>\n",
       "    </tr>\n",
       "    <tr>\n",
       "      <th>485297</th>\n",
       "      <td>3203663</td>\n",
       "      <td>2022-10-03</td>\n",
       "      <td>2022-10-03</td>\n",
       "      <td>7:48:26</td>\n",
       "      <td>7:52:00</td>\n",
       "      <td>9.523</td>\n",
       "      <td>2670.0</td>\n",
       "      <td>3.567</td>\n",
       "      <td>19.0</td>\n",
       "      <td>16.7</td>\n",
       "      <td>...</td>\n",
       "      <td>[Geen oorzaakcode opgegeven door VWM 4]</td>\n",
       "      <td>[000]</td>\n",
       "      <td>001</td>\n",
       "      <td>Spitsfile (geen oorzaak gemeld)</td>\n",
       "      <td>Geen oorzaak gemeld</td>\n",
       "      <td>Drukte</td>\n",
       "      <td>Hoge intensiteit</td>\n",
       "      <td>2022-10-03 07:48:26</td>\n",
       "      <td>2022-10-03 07:52:00</td>\n",
       "      <td>7</td>\n",
       "    </tr>\n",
       "    <tr>\n",
       "      <th>546556</th>\n",
       "      <td>3049609</td>\n",
       "      <td>2022-05-28</td>\n",
       "      <td>2022-05-28</td>\n",
       "      <td>13:30:27</td>\n",
       "      <td>13:32:00</td>\n",
       "      <td>4.030</td>\n",
       "      <td>2600.0</td>\n",
       "      <td>1.550</td>\n",
       "      <td>19.0</td>\n",
       "      <td>16.4</td>\n",
       "      <td>...</td>\n",
       "      <td>[Geen oorzaakcode opgegeven door VWM 2]</td>\n",
       "      <td>[000]</td>\n",
       "      <td>003</td>\n",
       "      <td>File buiten spits (geen oorzaak gemeld)</td>\n",
       "      <td>Geen oorzaak gemeld</td>\n",
       "      <td>Drukte</td>\n",
       "      <td>Hoge intensiteit</td>\n",
       "      <td>2022-05-28 13:30:27</td>\n",
       "      <td>2022-05-28 13:32:00</td>\n",
       "      <td>13</td>\n",
       "    </tr>\n",
       "  </tbody>\n",
       "</table>\n",
       "<p>3 rows × 29 columns</p>\n",
       "</div>"
      ],
      "text/plain": [
       "         TrafficJamNum   StartDate     EndDate StartTime   EndTime  Severity  \\\n",
       "1361565        2133429  2017-04-07  2017-04-07  15:27:00  15:31:11     8.367   \n",
       "485297         3203663  2022-10-03  2022-10-03   7:48:26   7:52:00     9.523   \n",
       "546556         3049609  2022-05-28  2022-05-28  13:30:27  13:32:00     4.030   \n",
       "\n",
       "         Length  Duration  HectometerStart  HectometerEnd  ...  \\\n",
       "1361565  2000.0     4.183            163.7          165.7  ...   \n",
       "485297   2670.0     3.567             19.0           16.7  ...   \n",
       "546556   2600.0     1.550             19.0           16.4  ...   \n",
       "\n",
       "                                      CauseClass  CauseCodeClass CauseCode  \\\n",
       "1361565  [Geen oorzaakcode opgegeven door VWM 4]           [000]       001   \n",
       "485297   [Geen oorzaakcode opgegeven door VWM 4]           [000]       001   \n",
       "546556   [Geen oorzaakcode opgegeven door VWM 2]           [000]       003   \n",
       "\n",
       "                                         Cause_1              Cause_2 Cause_3  \\\n",
       "1361565          Spitsfile (geen oorzaak gemeld)  Geen oorzaak gemeld  Drukte   \n",
       "485297           Spitsfile (geen oorzaak gemeld)  Geen oorzaak gemeld  Drukte   \n",
       "546556   File buiten spits (geen oorzaak gemeld)  Geen oorzaak gemeld  Drukte   \n",
       "\n",
       "                  Cause_4        StartDateTime          EndDateTime Hour  \n",
       "1361565  Hoge intensiteit  2017-04-07 15:27:00  2017-04-07 15:31:11   15  \n",
       "485297   Hoge intensiteit  2022-10-03 07:48:26  2022-10-03 07:52:00    7  \n",
       "546556   Hoge intensiteit  2022-05-28 13:30:27  2022-05-28 13:32:00   13  \n",
       "\n",
       "[3 rows x 29 columns]"
      ]
     },
     "execution_count": 6,
     "metadata": {},
     "output_type": "execute_result"
    }
   ],
   "source": [
    "traffic_data['Hour'] = traffic_data['StartTime'].apply(lambda x: x.split(':')[0]).astype(int)\n",
    "traffic_data.sample(3)"
   ]
  },
  {
   "cell_type": "markdown",
   "metadata": {},
   "source": [
    "#### Keeping only relevant roads"
   ]
  },
  {
   "cell_type": "markdown",
   "metadata": {},
   "source": [
    "As we want to only have the specific roads that our client can possibly use to reach the offices, we will prepare the data for joining by filtering on the roads A2 and A73.\n",
    "An important observation is that **A2 leads from Sittard to 's-Hertogenbosch** and vice versa, whereas **A73 leads from Sittard to Boxmeer** and vice versa. Other routes are also possible, but they are significantly slower. Therefore, it is better to focus on those two only for now. Furthermore, they have been suggested by the client as the optimal routes."
   ]
  },
  {
   "cell_type": "code",
   "execution_count": 7,
   "metadata": {},
   "outputs": [
    {
     "data": {
      "text/html": [
       "<div>\n",
       "<style scoped>\n",
       "    .dataframe tbody tr th:only-of-type {\n",
       "        vertical-align: middle;\n",
       "    }\n",
       "\n",
       "    .dataframe tbody tr th {\n",
       "        vertical-align: top;\n",
       "    }\n",
       "\n",
       "    .dataframe thead th {\n",
       "        text-align: right;\n",
       "    }\n",
       "</style>\n",
       "<table border=\"1\" class=\"dataframe\">\n",
       "  <thead>\n",
       "    <tr style=\"text-align: right;\">\n",
       "      <th></th>\n",
       "      <th>TrafficJamNum</th>\n",
       "      <th>StartDate</th>\n",
       "      <th>EndDate</th>\n",
       "      <th>StartTime</th>\n",
       "      <th>EndTime</th>\n",
       "      <th>Severity</th>\n",
       "      <th>Length</th>\n",
       "      <th>Duration</th>\n",
       "      <th>HectometerStart</th>\n",
       "      <th>HectometerEnd</th>\n",
       "      <th>...</th>\n",
       "      <th>CauseClass</th>\n",
       "      <th>CauseCodeClass</th>\n",
       "      <th>CauseCode</th>\n",
       "      <th>Cause_1</th>\n",
       "      <th>Cause_2</th>\n",
       "      <th>Cause_3</th>\n",
       "      <th>Cause_4</th>\n",
       "      <th>StartDateTime</th>\n",
       "      <th>EndDateTime</th>\n",
       "      <th>Hour</th>\n",
       "    </tr>\n",
       "  </thead>\n",
       "  <tbody>\n",
       "    <tr>\n",
       "      <th>646786</th>\n",
       "      <td>3875116</td>\n",
       "      <td>2023-12-12</td>\n",
       "      <td>2023-12-12</td>\n",
       "      <td>8:06:29</td>\n",
       "      <td>8:11:03</td>\n",
       "      <td>10.465</td>\n",
       "      <td>2292.0</td>\n",
       "      <td>4.567</td>\n",
       "      <td>75.3</td>\n",
       "      <td>77.4</td>\n",
       "      <td>...</td>\n",
       "      <td>[Geen oorzaakcode opgegeven door VWM 5]</td>\n",
       "      <td>[000]</td>\n",
       "      <td>001</td>\n",
       "      <td>Spitsfile (geen oorzaak gemeld)</td>\n",
       "      <td>Geen oorzaak gemeld</td>\n",
       "      <td>Drukte</td>\n",
       "      <td>Hoge intensiteit</td>\n",
       "      <td>2023-12-12 08:06:29</td>\n",
       "      <td>2023-12-12 08:11:03</td>\n",
       "      <td>8</td>\n",
       "    </tr>\n",
       "    <tr>\n",
       "      <th>526308</th>\n",
       "      <td>3037433</td>\n",
       "      <td>2022-05-20</td>\n",
       "      <td>2022-05-20</td>\n",
       "      <td>14:21:28</td>\n",
       "      <td>14:29:00</td>\n",
       "      <td>29.748</td>\n",
       "      <td>3949.0</td>\n",
       "      <td>7.533</td>\n",
       "      <td>179.4</td>\n",
       "      <td>184.0</td>\n",
       "      <td>...</td>\n",
       "      <td>[Geen oorzaakcode opgegeven door VWM 8]</td>\n",
       "      <td>[000]</td>\n",
       "      <td>003</td>\n",
       "      <td>File buiten spits (geen oorzaak gemeld)</td>\n",
       "      <td>Geen oorzaak gemeld</td>\n",
       "      <td>Drukte</td>\n",
       "      <td>Hoge intensiteit</td>\n",
       "      <td>2022-05-20 14:21:28</td>\n",
       "      <td>2022-05-20 14:29:00</td>\n",
       "      <td>14</td>\n",
       "    </tr>\n",
       "    <tr>\n",
       "      <th>334833</th>\n",
       "      <td>3286133</td>\n",
       "      <td>2022-11-22</td>\n",
       "      <td>2022-11-22</td>\n",
       "      <td>8:25:27</td>\n",
       "      <td>8:29:01</td>\n",
       "      <td>7.817</td>\n",
       "      <td>2192.0</td>\n",
       "      <td>3.567</td>\n",
       "      <td>178.4</td>\n",
       "      <td>180.5</td>\n",
       "      <td>...</td>\n",
       "      <td>[Geen oorzaakcode opgegeven door VWM 4]</td>\n",
       "      <td>[000]</td>\n",
       "      <td>001</td>\n",
       "      <td>Spitsfile (geen oorzaak gemeld)</td>\n",
       "      <td>Geen oorzaak gemeld</td>\n",
       "      <td>Drukte</td>\n",
       "      <td>Hoge intensiteit</td>\n",
       "      <td>2022-11-22 08:25:27</td>\n",
       "      <td>2022-11-22 08:29:01</td>\n",
       "      <td>8</td>\n",
       "    </tr>\n",
       "  </tbody>\n",
       "</table>\n",
       "<p>3 rows × 29 columns</p>\n",
       "</div>"
      ],
      "text/plain": [
       "        TrafficJamNum   StartDate     EndDate StartTime   EndTime  Severity  \\\n",
       "646786        3875116  2023-12-12  2023-12-12   8:06:29   8:11:03    10.465   \n",
       "526308        3037433  2022-05-20  2022-05-20  14:21:28  14:29:00    29.748   \n",
       "334833        3286133  2022-11-22  2022-11-22   8:25:27   8:29:01     7.817   \n",
       "\n",
       "        Length  Duration  HectometerStart  HectometerEnd  ...  \\\n",
       "646786  2292.0     4.567             75.3           77.4  ...   \n",
       "526308  3949.0     7.533            179.4          184.0  ...   \n",
       "334833  2192.0     3.567            178.4          180.5  ...   \n",
       "\n",
       "                                     CauseClass  CauseCodeClass CauseCode  \\\n",
       "646786  [Geen oorzaakcode opgegeven door VWM 5]           [000]       001   \n",
       "526308  [Geen oorzaakcode opgegeven door VWM 8]           [000]       003   \n",
       "334833  [Geen oorzaakcode opgegeven door VWM 4]           [000]       001   \n",
       "\n",
       "                                        Cause_1              Cause_2 Cause_3  \\\n",
       "646786          Spitsfile (geen oorzaak gemeld)  Geen oorzaak gemeld  Drukte   \n",
       "526308  File buiten spits (geen oorzaak gemeld)  Geen oorzaak gemeld  Drukte   \n",
       "334833          Spitsfile (geen oorzaak gemeld)  Geen oorzaak gemeld  Drukte   \n",
       "\n",
       "                 Cause_4        StartDateTime          EndDateTime Hour  \n",
       "646786  Hoge intensiteit  2023-12-12 08:06:29  2023-12-12 08:11:03    8  \n",
       "526308  Hoge intensiteit  2022-05-20 14:21:28  2022-05-20 14:29:00   14  \n",
       "334833  Hoge intensiteit  2022-11-22 08:25:27  2022-11-22 08:29:01    8  \n",
       "\n",
       "[3 rows x 29 columns]"
      ]
     },
     "execution_count": 7,
     "metadata": {},
     "output_type": "execute_result"
    }
   ],
   "source": [
    "filtered_traffic= traffic_data[(traffic_data['RoadDescr'] == 'A73') | (traffic_data['RoadDescr'] == 'A2')]\n",
    "filtered_traffic.sample(3)"
   ]
  },
  {
   "cell_type": "code",
   "execution_count": 8,
   "metadata": {},
   "outputs": [
    {
     "data": {
      "text/plain": [
       "array(['aflopend'], dtype=object)"
      ]
     },
     "execution_count": 8,
     "metadata": {},
     "output_type": "execute_result"
    }
   ],
   "source": [
    "denb=filtered_traffic[(filtered_traffic[\"MainRoadFrom\"] == \"'s-Hertogenbosch\")&(filtered_traffic[\"MainRoadTo\"] == \"Utrecht\")]\n",
    "denb[\"HectometerDirection\"].unique()"
   ]
  },
  {
   "cell_type": "markdown",
   "metadata": {},
   "source": [
    "### Making the direction numerical\n",
    "0 = Morning (Sittard - Den Bosch)\n",
    "\n",
    "1 = Afternoon (Den Bosch - Sittard)"
   ]
  },
  {
   "cell_type": "code",
   "execution_count": 9,
   "metadata": {},
   "outputs": [
    {
     "data": {
      "text/html": [
       "<div>\n",
       "<style scoped>\n",
       "    .dataframe tbody tr th:only-of-type {\n",
       "        vertical-align: middle;\n",
       "    }\n",
       "\n",
       "    .dataframe tbody tr th {\n",
       "        vertical-align: top;\n",
       "    }\n",
       "\n",
       "    .dataframe thead th {\n",
       "        text-align: right;\n",
       "    }\n",
       "</style>\n",
       "<table border=\"1\" class=\"dataframe\">\n",
       "  <thead>\n",
       "    <tr style=\"text-align: right;\">\n",
       "      <th></th>\n",
       "      <th>TrafficJamNum</th>\n",
       "      <th>StartDate</th>\n",
       "      <th>EndDate</th>\n",
       "      <th>StartTime</th>\n",
       "      <th>EndTime</th>\n",
       "      <th>Severity</th>\n",
       "      <th>Length</th>\n",
       "      <th>Duration</th>\n",
       "      <th>HectometerStart</th>\n",
       "      <th>HectometerEnd</th>\n",
       "      <th>...</th>\n",
       "      <th>CauseCodeClass</th>\n",
       "      <th>CauseCode</th>\n",
       "      <th>Cause_1</th>\n",
       "      <th>Cause_2</th>\n",
       "      <th>Cause_3</th>\n",
       "      <th>Cause_4</th>\n",
       "      <th>StartDateTime</th>\n",
       "      <th>EndDateTime</th>\n",
       "      <th>Hour</th>\n",
       "      <th>HectometerDirectionNum</th>\n",
       "    </tr>\n",
       "  </thead>\n",
       "  <tbody>\n",
       "    <tr>\n",
       "      <th>743151</th>\n",
       "      <td>3908303</td>\n",
       "      <td>2024-01-17</td>\n",
       "      <td>2024-01-17</td>\n",
       "      <td>15:31:29</td>\n",
       "      <td>16:05:02</td>\n",
       "      <td>78.727</td>\n",
       "      <td>2347.000</td>\n",
       "      <td>33.550</td>\n",
       "      <td>43.9</td>\n",
       "      <td>46.1</td>\n",
       "      <td>...</td>\n",
       "      <td>[000]</td>\n",
       "      <td>001</td>\n",
       "      <td>Spitsfile (geen oorzaak gemeld)</td>\n",
       "      <td>Geen oorzaak gemeld</td>\n",
       "      <td>Drukte</td>\n",
       "      <td>Hoge intensiteit</td>\n",
       "      <td>2024-01-17 15:31:29</td>\n",
       "      <td>2024-01-17 16:05:02</td>\n",
       "      <td>15</td>\n",
       "      <td>0.0</td>\n",
       "    </tr>\n",
       "    <tr>\n",
       "      <th>1439853</th>\n",
       "      <td>2470599</td>\n",
       "      <td>2018-12-18</td>\n",
       "      <td>2018-12-18</td>\n",
       "      <td>7:36:00</td>\n",
       "      <td>7:42:50</td>\n",
       "      <td>13.667</td>\n",
       "      <td>2000.000</td>\n",
       "      <td>6.833</td>\n",
       "      <td>132.6</td>\n",
       "      <td>130.6</td>\n",
       "      <td>...</td>\n",
       "      <td>[000]</td>\n",
       "      <td>001</td>\n",
       "      <td>Spitsfile (geen oorzaak gemeld)</td>\n",
       "      <td>Geen oorzaak gemeld</td>\n",
       "      <td>Drukte</td>\n",
       "      <td>Hoge intensiteit</td>\n",
       "      <td>2018-12-18 07:36:00</td>\n",
       "      <td>2018-12-18 07:42:50</td>\n",
       "      <td>7</td>\n",
       "      <td>1.0</td>\n",
       "    </tr>\n",
       "    <tr>\n",
       "      <th>869917</th>\n",
       "      <td>2058920</td>\n",
       "      <td>2016-11-21</td>\n",
       "      <td>2016-11-21</td>\n",
       "      <td>8:16:00</td>\n",
       "      <td>8:21:18</td>\n",
       "      <td>13.083</td>\n",
       "      <td>2468.554</td>\n",
       "      <td>5.300</td>\n",
       "      <td>102.3</td>\n",
       "      <td>105.3</td>\n",
       "      <td>...</td>\n",
       "      <td>[000]</td>\n",
       "      <td>001</td>\n",
       "      <td>Spitsfile (geen oorzaak gemeld)</td>\n",
       "      <td>Geen oorzaak gemeld</td>\n",
       "      <td>Drukte</td>\n",
       "      <td>Hoge intensiteit</td>\n",
       "      <td>2016-11-21 08:16:00</td>\n",
       "      <td>2016-11-21 08:21:18</td>\n",
       "      <td>8</td>\n",
       "      <td>0.0</td>\n",
       "    </tr>\n",
       "  </tbody>\n",
       "</table>\n",
       "<p>3 rows × 30 columns</p>\n",
       "</div>"
      ],
      "text/plain": [
       "         TrafficJamNum   StartDate     EndDate StartTime   EndTime  Severity  \\\n",
       "743151         3908303  2024-01-17  2024-01-17  15:31:29  16:05:02    78.727   \n",
       "1439853        2470599  2018-12-18  2018-12-18   7:36:00   7:42:50    13.667   \n",
       "869917         2058920  2016-11-21  2016-11-21   8:16:00   8:21:18    13.083   \n",
       "\n",
       "           Length  Duration  HectometerStart  HectometerEnd  ...  \\\n",
       "743151   2347.000    33.550             43.9           46.1  ...   \n",
       "1439853  2000.000     6.833            132.6          130.6  ...   \n",
       "869917   2468.554     5.300            102.3          105.3  ...   \n",
       "\n",
       "        CauseCodeClass  CauseCode                          Cause_1  \\\n",
       "743151           [000]        001  Spitsfile (geen oorzaak gemeld)   \n",
       "1439853          [000]        001  Spitsfile (geen oorzaak gemeld)   \n",
       "869917           [000]        001  Spitsfile (geen oorzaak gemeld)   \n",
       "\n",
       "                     Cause_2 Cause_3           Cause_4        StartDateTime  \\\n",
       "743151   Geen oorzaak gemeld  Drukte  Hoge intensiteit  2024-01-17 15:31:29   \n",
       "1439853  Geen oorzaak gemeld  Drukte  Hoge intensiteit  2018-12-18 07:36:00   \n",
       "869917   Geen oorzaak gemeld  Drukte  Hoge intensiteit  2016-11-21 08:16:00   \n",
       "\n",
       "                 EndDateTime Hour HectometerDirectionNum  \n",
       "743151   2024-01-17 16:05:02   15                    0.0  \n",
       "1439853  2018-12-18 07:42:50    7                    1.0  \n",
       "869917   2016-11-21 08:21:18    8                    0.0  \n",
       "\n",
       "[3 rows x 30 columns]"
      ]
     },
     "execution_count": 9,
     "metadata": {},
     "output_type": "execute_result"
    }
   ],
   "source": [
    "warnings.filterwarnings('ignore')\n",
    "filtered_traffic.loc[filtered_traffic[\"HectometerDirection\"]==\"oplopend\", 'HectometerDirectionNum'] = 1\n",
    "filtered_traffic.loc[filtered_traffic[\"HectometerDirection\"]==\"aflopend\", 'HectometerDirectionNum'] = 0\n",
    "\n",
    "filtered_traffic.sample(3)"
   ]
  },
  {
   "cell_type": "markdown",
   "metadata": {},
   "source": [
    "### Removing useless columns"
   ]
  },
  {
   "cell_type": "code",
   "execution_count": 10,
   "metadata": {},
   "outputs": [
    {
     "name": "stdout",
     "output_type": "stream",
     "text": [
      "<class 'pandas.core.frame.DataFrame'>\n",
      "Index: 209047 entries, 9 to 1714873\n",
      "Data columns (total 5 columns):\n",
      " #   Column                  Non-Null Count   Dtype         \n",
      "---  ------                  --------------   -----         \n",
      " 0   StartDate               209047 non-null  datetime64[ns]\n",
      " 1   Duration                209047 non-null  float64       \n",
      " 2   RoadNumber              209047 non-null  int64         \n",
      " 3   Hour                    209047 non-null  int32         \n",
      " 4   HectometerDirectionNum  209047 non-null  float64       \n",
      "dtypes: datetime64[ns](1), float64(2), int32(1), int64(1)\n",
      "memory usage: 8.8 MB\n"
     ]
    }
   ],
   "source": [
    "numerical_columns = filtered_traffic.select_dtypes(include=['int64', 'float64', 'int32'])\n",
    "desired_columns = [\"StartDate\", \"Duration\", \"RoadNumber\", \"Hour\", \"HectometerDirectionNum\"]\n",
    "selected_columns = filtered_traffic.loc[:, desired_columns]\n",
    "selected_columns['StartDate'] = pd.to_datetime(selected_columns['StartDate'])\n",
    "selected_columns.info()"
   ]
  },
  {
   "cell_type": "markdown",
   "metadata": {},
   "source": [
    "It can be concluded that the file got imported correctly and is ready to be used further.\n",
    "## Calendar"
   ]
  },
  {
   "cell_type": "code",
   "execution_count": 11,
   "metadata": {},
   "outputs": [
    {
     "name": "stdout",
     "output_type": "stream",
     "text": [
      "<class 'pandas.core.frame.DataFrame'>\n",
      "RangeIndex: 82705 entries, 0 to 82704\n",
      "Data columns (total 2 columns):\n",
      " #   Column     Non-Null Count  Dtype         \n",
      "---  ------     --------------  -----         \n",
      " 0   StartDate  82705 non-null  datetime64[ns]\n",
      " 1   Hour       82705 non-null  int32         \n",
      "dtypes: datetime64[ns](1), int32(1)\n",
      "memory usage: 969.3 KB\n"
     ]
    }
   ],
   "source": [
    "def create_date_table2(start, end):\n",
    "    date_range = pd.date_range(start=start, end=end, freq='h')\n",
    "    df = pd.DataFrame({\"DateTime\": date_range})\n",
    "    df[\"StartDate\"] = df[\"DateTime\"].dt.date\n",
    "    df[\"Hour\"] = df[\"DateTime\"].dt.hour\n",
    "    return df\n",
    "\n",
    "calendar = create_date_table2(start='2015-01-01', end=selected_columns['StartDate'].max())\n",
    "calendar = calendar.drop(calendar.columns[0], axis=1)\n",
    "calendar['StartDate'] = pd.to_datetime(calendar['StartDate'])\n",
    "calendar.info()"
   ]
  },
  {
   "cell_type": "markdown",
   "metadata": {},
   "source": [
    "### Join road A2 and direction 1"
   ]
  },
  {
   "cell_type": "code",
   "execution_count": 12,
   "metadata": {},
   "outputs": [
    {
     "data": {
      "text/html": [
       "<div>\n",
       "<style scoped>\n",
       "    .dataframe tbody tr th:only-of-type {\n",
       "        vertical-align: middle;\n",
       "    }\n",
       "\n",
       "    .dataframe tbody tr th {\n",
       "        vertical-align: top;\n",
       "    }\n",
       "\n",
       "    .dataframe thead th {\n",
       "        text-align: right;\n",
       "    }\n",
       "</style>\n",
       "<table border=\"1\" class=\"dataframe\">\n",
       "  <thead>\n",
       "    <tr style=\"text-align: right;\">\n",
       "      <th></th>\n",
       "      <th>StartDate</th>\n",
       "      <th>Duration</th>\n",
       "      <th>RoadNumber</th>\n",
       "      <th>Hour</th>\n",
       "      <th>HectometerDirectionNum</th>\n",
       "    </tr>\n",
       "  </thead>\n",
       "  <tbody>\n",
       "    <tr>\n",
       "      <th>1704888</th>\n",
       "      <td>2022-01-27</td>\n",
       "      <td>44.2</td>\n",
       "      <td>2</td>\n",
       "      <td>16</td>\n",
       "      <td>1.0</td>\n",
       "    </tr>\n",
       "    <tr>\n",
       "      <th>1596531</th>\n",
       "      <td>2018-02-07</td>\n",
       "      <td>5.2</td>\n",
       "      <td>2</td>\n",
       "      <td>17</td>\n",
       "      <td>1.0</td>\n",
       "    </tr>\n",
       "  </tbody>\n",
       "</table>\n",
       "</div>"
      ],
      "text/plain": [
       "         StartDate  Duration  RoadNumber  Hour  HectometerDirectionNum\n",
       "1704888 2022-01-27      44.2           2    16                     1.0\n",
       "1596531 2018-02-07       5.2           2    17                     1.0"
      ]
     },
     "execution_count": 12,
     "metadata": {},
     "output_type": "execute_result"
    }
   ],
   "source": [
    "a2d1 = selected_columns[(selected_columns['RoadNumber']==2)&(selected_columns['HectometerDirectionNum']==1)]\n",
    "a2d1.sample(2)"
   ]
  },
  {
   "cell_type": "code",
   "execution_count": 13,
   "metadata": {},
   "outputs": [
    {
     "data": {
      "text/plain": [
       "StartDate                     0\n",
       "Hour                          0\n",
       "Duration                  68061\n",
       "RoadNumber                68061\n",
       "HectometerDirectionNum    68061\n",
       "dtype: int64"
      ]
     },
     "execution_count": 13,
     "metadata": {},
     "output_type": "execute_result"
    }
   ],
   "source": [
    "mergedoutera2d1 = pd.merge(calendar, a2d1, how='left', on=['StartDate', 'Hour'])\n",
    "mergedoutera2d1.isna().sum()"
   ]
  },
  {
   "cell_type": "code",
   "execution_count": 14,
   "metadata": {},
   "outputs": [
    {
     "data": {
      "text/plain": [
       "StartDate                 0\n",
       "Hour                      0\n",
       "Duration                  0\n",
       "RoadNumber                0\n",
       "HectometerDirectionNum    0\n",
       "dtype: int64"
      ]
     },
     "execution_count": 14,
     "metadata": {},
     "output_type": "execute_result"
    }
   ],
   "source": [
    "mergedoutera2d1['Duration'] = mergedoutera2d1['Duration'].fillna(0)\n",
    "mergedoutera2d1['RoadNumber'] = mergedoutera2d1['RoadNumber'].fillna(2)\n",
    "mergedoutera2d1['HectometerDirectionNum'] = mergedoutera2d1['HectometerDirectionNum'].fillna(1)\n",
    "mergedoutera2d1.isna().sum()"
   ]
  },
  {
   "cell_type": "code",
   "execution_count": 15,
   "metadata": {},
   "outputs": [
    {
     "data": {
      "text/html": [
       "<div>\n",
       "<style scoped>\n",
       "    .dataframe tbody tr th:only-of-type {\n",
       "        vertical-align: middle;\n",
       "    }\n",
       "\n",
       "    .dataframe tbody tr th {\n",
       "        vertical-align: top;\n",
       "    }\n",
       "\n",
       "    .dataframe thead th {\n",
       "        text-align: right;\n",
       "    }\n",
       "</style>\n",
       "<table border=\"1\" class=\"dataframe\">\n",
       "  <thead>\n",
       "    <tr style=\"text-align: right;\">\n",
       "      <th></th>\n",
       "      <th>StartDate</th>\n",
       "      <th>Hour</th>\n",
       "      <th>Duration</th>\n",
       "      <th>RoadNumber</th>\n",
       "      <th>HectometerDirectionNum</th>\n",
       "    </tr>\n",
       "  </thead>\n",
       "  <tbody>\n",
       "    <tr>\n",
       "      <th>32628</th>\n",
       "      <td>2017-01-31</td>\n",
       "      <td>3</td>\n",
       "      <td>0.000</td>\n",
       "      <td>2.0</td>\n",
       "      <td>1.0</td>\n",
       "    </tr>\n",
       "    <tr>\n",
       "      <th>12001</th>\n",
       "      <td>2015-11-02</td>\n",
       "      <td>8</td>\n",
       "      <td>13.333</td>\n",
       "      <td>2.0</td>\n",
       "      <td>1.0</td>\n",
       "    </tr>\n",
       "  </tbody>\n",
       "</table>\n",
       "</div>"
      ],
      "text/plain": [
       "       StartDate  Hour  Duration  RoadNumber  HectometerDirectionNum\n",
       "32628 2017-01-31     3     0.000         2.0                     1.0\n",
       "12001 2015-11-02     8    13.333         2.0                     1.0"
      ]
     },
     "execution_count": 15,
     "metadata": {},
     "output_type": "execute_result"
    }
   ],
   "source": [
    "mergedoutera2d1.sample(2)"
   ]
  },
  {
   "cell_type": "markdown",
   "metadata": {},
   "source": [
    "### Join road A2 and direction 0"
   ]
  },
  {
   "cell_type": "code",
   "execution_count": 16,
   "metadata": {},
   "outputs": [
    {
     "data": {
      "text/html": [
       "<div>\n",
       "<style scoped>\n",
       "    .dataframe tbody tr th:only-of-type {\n",
       "        vertical-align: middle;\n",
       "    }\n",
       "\n",
       "    .dataframe tbody tr th {\n",
       "        vertical-align: top;\n",
       "    }\n",
       "\n",
       "    .dataframe thead th {\n",
       "        text-align: right;\n",
       "    }\n",
       "</style>\n",
       "<table border=\"1\" class=\"dataframe\">\n",
       "  <thead>\n",
       "    <tr style=\"text-align: right;\">\n",
       "      <th></th>\n",
       "      <th>StartDate</th>\n",
       "      <th>Duration</th>\n",
       "      <th>RoadNumber</th>\n",
       "      <th>Hour</th>\n",
       "      <th>HectometerDirectionNum</th>\n",
       "    </tr>\n",
       "  </thead>\n",
       "  <tbody>\n",
       "    <tr>\n",
       "      <th>1489614</th>\n",
       "      <td>2018-01-15</td>\n",
       "      <td>11.633</td>\n",
       "      <td>2</td>\n",
       "      <td>7</td>\n",
       "      <td>0.0</td>\n",
       "    </tr>\n",
       "    <tr>\n",
       "      <th>678830</th>\n",
       "      <td>2022-04-25</td>\n",
       "      <td>18.533</td>\n",
       "      <td>2</td>\n",
       "      <td>8</td>\n",
       "      <td>0.0</td>\n",
       "    </tr>\n",
       "  </tbody>\n",
       "</table>\n",
       "</div>"
      ],
      "text/plain": [
       "         StartDate  Duration  RoadNumber  Hour  HectometerDirectionNum\n",
       "1489614 2018-01-15    11.633           2     7                     0.0\n",
       "678830  2022-04-25    18.533           2     8                     0.0"
      ]
     },
     "execution_count": 16,
     "metadata": {},
     "output_type": "execute_result"
    }
   ],
   "source": [
    "a2d0 = selected_columns[(selected_columns['RoadNumber']==2)&(selected_columns['HectometerDirectionNum']==0)]\n",
    "a2d0.sample(2)"
   ]
  },
  {
   "cell_type": "code",
   "execution_count": 17,
   "metadata": {},
   "outputs": [
    {
     "data": {
      "text/plain": [
       "StartDate                     0\n",
       "Hour                          0\n",
       "Duration                  67311\n",
       "RoadNumber                67311\n",
       "HectometerDirectionNum    67311\n",
       "dtype: int64"
      ]
     },
     "execution_count": 17,
     "metadata": {},
     "output_type": "execute_result"
    }
   ],
   "source": [
    "mergedoutera2d0 = pd.merge(calendar, a2d0, how='left', on=['StartDate', 'Hour'])\n",
    "mergedoutera2d0.isna().sum()"
   ]
  },
  {
   "cell_type": "code",
   "execution_count": 18,
   "metadata": {},
   "outputs": [
    {
     "data": {
      "text/plain": [
       "StartDate                 0\n",
       "Hour                      0\n",
       "Duration                  0\n",
       "RoadNumber                0\n",
       "HectometerDirectionNum    0\n",
       "dtype: int64"
      ]
     },
     "execution_count": 18,
     "metadata": {},
     "output_type": "execute_result"
    }
   ],
   "source": [
    "mergedoutera2d0['Duration'] = mergedoutera2d0['Duration'].fillna(0)\n",
    "mergedoutera2d0['RoadNumber'] = mergedoutera2d0['RoadNumber'].fillna(2)\n",
    "mergedoutera2d0['HectometerDirectionNum'] = mergedoutera2d0['HectometerDirectionNum'].fillna(0)\n",
    "mergedoutera2d0.isna().sum()"
   ]
  },
  {
   "cell_type": "code",
   "execution_count": 19,
   "metadata": {},
   "outputs": [
    {
     "data": {
      "text/html": [
       "<div>\n",
       "<style scoped>\n",
       "    .dataframe tbody tr th:only-of-type {\n",
       "        vertical-align: middle;\n",
       "    }\n",
       "\n",
       "    .dataframe tbody tr th {\n",
       "        vertical-align: top;\n",
       "    }\n",
       "\n",
       "    .dataframe thead th {\n",
       "        text-align: right;\n",
       "    }\n",
       "</style>\n",
       "<table border=\"1\" class=\"dataframe\">\n",
       "  <thead>\n",
       "    <tr style=\"text-align: right;\">\n",
       "      <th></th>\n",
       "      <th>StartDate</th>\n",
       "      <th>Hour</th>\n",
       "      <th>Duration</th>\n",
       "      <th>RoadNumber</th>\n",
       "      <th>HectometerDirectionNum</th>\n",
       "    </tr>\n",
       "  </thead>\n",
       "  <tbody>\n",
       "    <tr>\n",
       "      <th>156517</th>\n",
       "      <td>2024-06-04</td>\n",
       "      <td>8</td>\n",
       "      <td>20.567</td>\n",
       "      <td>2.0</td>\n",
       "      <td>0.0</td>\n",
       "    </tr>\n",
       "    <tr>\n",
       "      <th>78569</th>\n",
       "      <td>2020-05-18</td>\n",
       "      <td>2</td>\n",
       "      <td>0.000</td>\n",
       "      <td>2.0</td>\n",
       "      <td>0.0</td>\n",
       "    </tr>\n",
       "  </tbody>\n",
       "</table>\n",
       "</div>"
      ],
      "text/plain": [
       "        StartDate  Hour  Duration  RoadNumber  HectometerDirectionNum\n",
       "156517 2024-06-04     8    20.567         2.0                     0.0\n",
       "78569  2020-05-18     2     0.000         2.0                     0.0"
      ]
     },
     "execution_count": 19,
     "metadata": {},
     "output_type": "execute_result"
    }
   ],
   "source": [
    "mergedoutera2d0.sample(2)"
   ]
  },
  {
   "cell_type": "markdown",
   "metadata": {},
   "source": [
    "### Join A73 and direction 1"
   ]
  },
  {
   "cell_type": "code",
   "execution_count": 20,
   "metadata": {},
   "outputs": [
    {
     "data": {
      "text/html": [
       "<div>\n",
       "<style scoped>\n",
       "    .dataframe tbody tr th:only-of-type {\n",
       "        vertical-align: middle;\n",
       "    }\n",
       "\n",
       "    .dataframe tbody tr th {\n",
       "        vertical-align: top;\n",
       "    }\n",
       "\n",
       "    .dataframe thead th {\n",
       "        text-align: right;\n",
       "    }\n",
       "</style>\n",
       "<table border=\"1\" class=\"dataframe\">\n",
       "  <thead>\n",
       "    <tr style=\"text-align: right;\">\n",
       "      <th></th>\n",
       "      <th>StartDate</th>\n",
       "      <th>Duration</th>\n",
       "      <th>RoadNumber</th>\n",
       "      <th>Hour</th>\n",
       "      <th>HectometerDirectionNum</th>\n",
       "    </tr>\n",
       "  </thead>\n",
       "  <tbody>\n",
       "    <tr>\n",
       "      <th>86793</th>\n",
       "      <td>2024-05-07</td>\n",
       "      <td>7.500</td>\n",
       "      <td>73</td>\n",
       "      <td>16</td>\n",
       "      <td>1.0</td>\n",
       "    </tr>\n",
       "    <tr>\n",
       "      <th>697773</th>\n",
       "      <td>2022-12-01</td>\n",
       "      <td>1.567</td>\n",
       "      <td>73</td>\n",
       "      <td>7</td>\n",
       "      <td>1.0</td>\n",
       "    </tr>\n",
       "  </tbody>\n",
       "</table>\n",
       "</div>"
      ],
      "text/plain": [
       "        StartDate  Duration  RoadNumber  Hour  HectometerDirectionNum\n",
       "86793  2024-05-07     7.500          73    16                     1.0\n",
       "697773 2022-12-01     1.567          73     7                     1.0"
      ]
     },
     "execution_count": 20,
     "metadata": {},
     "output_type": "execute_result"
    }
   ],
   "source": [
    "a73d1 = selected_columns[(selected_columns['RoadNumber']==73)&(selected_columns['HectometerDirectionNum']==1)]\n",
    "a73d1.sample(2)"
   ]
  },
  {
   "cell_type": "code",
   "execution_count": 21,
   "metadata": {},
   "outputs": [
    {
     "data": {
      "text/plain": [
       "StartDate                     0\n",
       "Hour                          0\n",
       "Duration                  78221\n",
       "RoadNumber                78221\n",
       "HectometerDirectionNum    78221\n",
       "dtype: int64"
      ]
     },
     "execution_count": 21,
     "metadata": {},
     "output_type": "execute_result"
    }
   ],
   "source": [
    "mergedoutera73d1 = pd.merge(calendar, a73d1, how='left', on=['StartDate', 'Hour'])\n",
    "mergedoutera73d1.isna().sum()"
   ]
  },
  {
   "cell_type": "code",
   "execution_count": 22,
   "metadata": {},
   "outputs": [
    {
     "data": {
      "text/plain": [
       "StartDate                 0\n",
       "Hour                      0\n",
       "Duration                  0\n",
       "RoadNumber                0\n",
       "HectometerDirectionNum    0\n",
       "dtype: int64"
      ]
     },
     "execution_count": 22,
     "metadata": {},
     "output_type": "execute_result"
    }
   ],
   "source": [
    "mergedoutera73d1['Duration'] = mergedoutera73d1['Duration'].fillna(0)\n",
    "mergedoutera73d1['RoadNumber'] = mergedoutera73d1['RoadNumber'].fillna(73)\n",
    "mergedoutera73d1['HectometerDirectionNum'] = mergedoutera73d1['HectometerDirectionNum'].fillna(1)\n",
    "mergedoutera73d1.isna().sum()"
   ]
  },
  {
   "cell_type": "code",
   "execution_count": 23,
   "metadata": {},
   "outputs": [
    {
     "data": {
      "text/html": [
       "<div>\n",
       "<style scoped>\n",
       "    .dataframe tbody tr th:only-of-type {\n",
       "        vertical-align: middle;\n",
       "    }\n",
       "\n",
       "    .dataframe tbody tr th {\n",
       "        vertical-align: top;\n",
       "    }\n",
       "\n",
       "    .dataframe thead th {\n",
       "        text-align: right;\n",
       "    }\n",
       "</style>\n",
       "<table border=\"1\" class=\"dataframe\">\n",
       "  <thead>\n",
       "    <tr style=\"text-align: right;\">\n",
       "      <th></th>\n",
       "      <th>StartDate</th>\n",
       "      <th>Hour</th>\n",
       "      <th>Duration</th>\n",
       "      <th>RoadNumber</th>\n",
       "      <th>HectometerDirectionNum</th>\n",
       "    </tr>\n",
       "  </thead>\n",
       "  <tbody>\n",
       "    <tr>\n",
       "      <th>84115</th>\n",
       "      <td>2023-09-18</td>\n",
       "      <td>7</td>\n",
       "      <td>4.533</td>\n",
       "      <td>73.0</td>\n",
       "      <td>1.0</td>\n",
       "    </tr>\n",
       "    <tr>\n",
       "      <th>54979</th>\n",
       "      <td>2021-02-06</td>\n",
       "      <td>4</td>\n",
       "      <td>0.000</td>\n",
       "      <td>73.0</td>\n",
       "      <td>1.0</td>\n",
       "    </tr>\n",
       "  </tbody>\n",
       "</table>\n",
       "</div>"
      ],
      "text/plain": [
       "       StartDate  Hour  Duration  RoadNumber  HectometerDirectionNum\n",
       "84115 2023-09-18     7     4.533        73.0                     1.0\n",
       "54979 2021-02-06     4     0.000        73.0                     1.0"
      ]
     },
     "execution_count": 23,
     "metadata": {},
     "output_type": "execute_result"
    }
   ],
   "source": [
    "mergedoutera73d1.sample(2)"
   ]
  },
  {
   "cell_type": "markdown",
   "metadata": {},
   "source": [
    "### Join A73 and direction 0"
   ]
  },
  {
   "cell_type": "code",
   "execution_count": 24,
   "metadata": {},
   "outputs": [
    {
     "data": {
      "text/html": [
       "<div>\n",
       "<style scoped>\n",
       "    .dataframe tbody tr th:only-of-type {\n",
       "        vertical-align: middle;\n",
       "    }\n",
       "\n",
       "    .dataframe tbody tr th {\n",
       "        vertical-align: top;\n",
       "    }\n",
       "\n",
       "    .dataframe thead th {\n",
       "        text-align: right;\n",
       "    }\n",
       "</style>\n",
       "<table border=\"1\" class=\"dataframe\">\n",
       "  <thead>\n",
       "    <tr style=\"text-align: right;\">\n",
       "      <th></th>\n",
       "      <th>StartDate</th>\n",
       "      <th>Duration</th>\n",
       "      <th>RoadNumber</th>\n",
       "      <th>Hour</th>\n",
       "      <th>HectometerDirectionNum</th>\n",
       "    </tr>\n",
       "  </thead>\n",
       "  <tbody>\n",
       "    <tr>\n",
       "      <th>1287104</th>\n",
       "      <td>2020-02-21</td>\n",
       "      <td>16.333</td>\n",
       "      <td>73</td>\n",
       "      <td>15</td>\n",
       "      <td>0.0</td>\n",
       "    </tr>\n",
       "    <tr>\n",
       "      <th>491095</th>\n",
       "      <td>2022-10-07</td>\n",
       "      <td>6.333</td>\n",
       "      <td>73</td>\n",
       "      <td>16</td>\n",
       "      <td>0.0</td>\n",
       "    </tr>\n",
       "  </tbody>\n",
       "</table>\n",
       "</div>"
      ],
      "text/plain": [
       "         StartDate  Duration  RoadNumber  Hour  HectometerDirectionNum\n",
       "1287104 2020-02-21    16.333          73    15                     0.0\n",
       "491095  2022-10-07     6.333          73    16                     0.0"
      ]
     },
     "execution_count": 24,
     "metadata": {},
     "output_type": "execute_result"
    }
   ],
   "source": [
    "a73d0 = selected_columns[(selected_columns['RoadNumber']==73)&(selected_columns['HectometerDirectionNum']==0)]\n",
    "a73d0.sample(2)"
   ]
  },
  {
   "cell_type": "code",
   "execution_count": 25,
   "metadata": {},
   "outputs": [
    {
     "data": {
      "text/plain": [
       "StartDate                     0\n",
       "Hour                          0\n",
       "Duration                  79686\n",
       "RoadNumber                79686\n",
       "HectometerDirectionNum    79686\n",
       "dtype: int64"
      ]
     },
     "execution_count": 25,
     "metadata": {},
     "output_type": "execute_result"
    }
   ],
   "source": [
    "mergedoutera73d0 = pd.merge(calendar, a73d0, how='left', on=['StartDate', 'Hour'])\n",
    "mergedoutera73d0.isna().sum()"
   ]
  },
  {
   "cell_type": "code",
   "execution_count": 26,
   "metadata": {},
   "outputs": [
    {
     "data": {
      "text/plain": [
       "StartDate                 0\n",
       "Hour                      0\n",
       "Duration                  0\n",
       "RoadNumber                0\n",
       "HectometerDirectionNum    0\n",
       "dtype: int64"
      ]
     },
     "execution_count": 26,
     "metadata": {},
     "output_type": "execute_result"
    }
   ],
   "source": [
    "mergedoutera73d0['Duration'] = mergedoutera73d0['Duration'].fillna(0)\n",
    "mergedoutera73d0['RoadNumber'] = mergedoutera73d0['RoadNumber'].fillna(73)\n",
    "mergedoutera73d0['HectometerDirectionNum'] = mergedoutera73d0['HectometerDirectionNum'].fillna(0)\n",
    "mergedoutera73d0.isna().sum()"
   ]
  },
  {
   "cell_type": "code",
   "execution_count": 27,
   "metadata": {},
   "outputs": [
    {
     "data": {
      "text/html": [
       "<div>\n",
       "<style scoped>\n",
       "    .dataframe tbody tr th:only-of-type {\n",
       "        vertical-align: middle;\n",
       "    }\n",
       "\n",
       "    .dataframe tbody tr th {\n",
       "        vertical-align: top;\n",
       "    }\n",
       "\n",
       "    .dataframe thead th {\n",
       "        text-align: right;\n",
       "    }\n",
       "</style>\n",
       "<table border=\"1\" class=\"dataframe\">\n",
       "  <thead>\n",
       "    <tr style=\"text-align: right;\">\n",
       "      <th></th>\n",
       "      <th>StartDate</th>\n",
       "      <th>Hour</th>\n",
       "      <th>Duration</th>\n",
       "      <th>RoadNumber</th>\n",
       "      <th>HectometerDirectionNum</th>\n",
       "    </tr>\n",
       "  </thead>\n",
       "  <tbody>\n",
       "    <tr>\n",
       "      <th>59407</th>\n",
       "      <td>2021-09-18</td>\n",
       "      <td>13</td>\n",
       "      <td>0.0</td>\n",
       "      <td>73.0</td>\n",
       "      <td>0.0</td>\n",
       "    </tr>\n",
       "    <tr>\n",
       "      <th>84453</th>\n",
       "      <td>2023-12-29</td>\n",
       "      <td>8</td>\n",
       "      <td>0.0</td>\n",
       "      <td>73.0</td>\n",
       "      <td>0.0</td>\n",
       "    </tr>\n",
       "  </tbody>\n",
       "</table>\n",
       "</div>"
      ],
      "text/plain": [
       "       StartDate  Hour  Duration  RoadNumber  HectometerDirectionNum\n",
       "59407 2021-09-18    13       0.0        73.0                     0.0\n",
       "84453 2023-12-29     8       0.0        73.0                     0.0"
      ]
     },
     "execution_count": 27,
     "metadata": {},
     "output_type": "execute_result"
    }
   ],
   "source": [
    "mergedoutera73d0.sample(2)"
   ]
  },
  {
   "cell_type": "markdown",
   "metadata": {},
   "source": [
    "### Appending the 4 dataframes"
   ]
  },
  {
   "cell_type": "code",
   "execution_count": 28,
   "metadata": {},
   "outputs": [
    {
     "data": {
      "text/plain": [
       "StartDate                 0\n",
       "Hour                      0\n",
       "Duration                  0\n",
       "RoadNumber                0\n",
       "HectometerDirectionNum    0\n",
       "dtype: int64"
      ]
     },
     "execution_count": 28,
     "metadata": {},
     "output_type": "execute_result"
    }
   ],
   "source": [
    "dataframes = [mergedoutera2d0, mergedoutera2d1, mergedoutera73d0, mergedoutera73d1]\n",
    "appended_frame = pd.concat(dataframes, axis=0)\n",
    "appended_frame.isna().sum()"
   ]
  },
  {
   "cell_type": "code",
   "execution_count": 29,
   "metadata": {},
   "outputs": [
    {
     "data": {
      "text/plain": [
       "(502317, 5)"
      ]
     },
     "execution_count": 29,
     "metadata": {},
     "output_type": "execute_result"
    }
   ],
   "source": [
    "appended_frame.shape"
   ]
  },
  {
   "cell_type": "code",
   "execution_count": 30,
   "metadata": {},
   "outputs": [
    {
     "data": {
      "text/html": [
       "<div>\n",
       "<style scoped>\n",
       "    .dataframe tbody tr th:only-of-type {\n",
       "        vertical-align: middle;\n",
       "    }\n",
       "\n",
       "    .dataframe tbody tr th {\n",
       "        vertical-align: top;\n",
       "    }\n",
       "\n",
       "    .dataframe thead th {\n",
       "        text-align: right;\n",
       "    }\n",
       "</style>\n",
       "<table border=\"1\" class=\"dataframe\">\n",
       "  <thead>\n",
       "    <tr style=\"text-align: right;\">\n",
       "      <th></th>\n",
       "      <th>StartDate</th>\n",
       "      <th>Hour</th>\n",
       "      <th>Duration</th>\n",
       "      <th>RoadNumber</th>\n",
       "      <th>HectometerDirectionNum</th>\n",
       "    </tr>\n",
       "  </thead>\n",
       "  <tbody>\n",
       "    <tr>\n",
       "      <th>63563</th>\n",
       "      <td>2022-01-24</td>\n",
       "      <td>12</td>\n",
       "      <td>0.000</td>\n",
       "      <td>73.0</td>\n",
       "      <td>1.0</td>\n",
       "    </tr>\n",
       "    <tr>\n",
       "      <th>85239</th>\n",
       "      <td>2020-01-28</td>\n",
       "      <td>15</td>\n",
       "      <td>12.200</td>\n",
       "      <td>2.0</td>\n",
       "      <td>1.0</td>\n",
       "    </tr>\n",
       "    <tr>\n",
       "      <th>9472</th>\n",
       "      <td>2015-10-01</td>\n",
       "      <td>8</td>\n",
       "      <td>4.833</td>\n",
       "      <td>2.0</td>\n",
       "      <td>0.0</td>\n",
       "    </tr>\n",
       "    <tr>\n",
       "      <th>46739</th>\n",
       "      <td>2017-12-15</td>\n",
       "      <td>1</td>\n",
       "      <td>0.000</td>\n",
       "      <td>2.0</td>\n",
       "      <td>1.0</td>\n",
       "    </tr>\n",
       "    <tr>\n",
       "      <th>29176</th>\n",
       "      <td>2018-04-26</td>\n",
       "      <td>3</td>\n",
       "      <td>0.000</td>\n",
       "      <td>73.0</td>\n",
       "      <td>0.0</td>\n",
       "    </tr>\n",
       "  </tbody>\n",
       "</table>\n",
       "</div>"
      ],
      "text/plain": [
       "       StartDate  Hour  Duration  RoadNumber  HectometerDirectionNum\n",
       "63563 2022-01-24    12     0.000        73.0                     1.0\n",
       "85239 2020-01-28    15    12.200         2.0                     1.0\n",
       "9472  2015-10-01     8     4.833         2.0                     0.0\n",
       "46739 2017-12-15     1     0.000         2.0                     1.0\n",
       "29176 2018-04-26     3     0.000        73.0                     0.0"
      ]
     },
     "execution_count": 30,
     "metadata": {},
     "output_type": "execute_result"
    }
   ],
   "source": [
    "appended_frame.sample(5)"
   ]
  },
  {
   "cell_type": "code",
   "execution_count": 98,
   "metadata": {},
   "outputs": [
    {
     "data": {
      "image/png": "[encoded data removed]",
      "text/plain": [
       "<Figure size 2000x1500 with 4 Axes>"
      ]
     },
     "metadata": {},
     "output_type": "display_data"
    }
   ],
   "source": [
    "import seaborn as sns\n",
    "\n",
    "actualtr0 = appended_frame[(appended_frame['Duration']!=0)&(appended_frame['HectometerDirectionNum']==0)&(appended_frame['RoadNumber']==2)]\n",
    "actualtr0 = actualtr0['Hour'].value_counts().sort_index() \n",
    "\n",
    "fig, axes = plt.subplots(2, 2, figsize=(20, 15))\n",
    "sns.barplot(x=actualtr0.index, y=actualtr0.values, ax = axes[0,0])\n",
    "axes[0, 0].set_title('Road A2 and direction 0')\n",
    "axes[0, 0].set_xlabel('Hour')\n",
    "axes[0, 0].set_ylabel('Traffic Jams')\n",
    "\n",
    "\n",
    "actualtr1 = appended_frame[(appended_frame['Duration']!=0)&(appended_frame['HectometerDirectionNum']==1)&(appended_frame['RoadNumber']==2)]\n",
    "actualtr1 = actualtr1['Hour'].value_counts().sort_index()\n",
    "\n",
    "sns.barplot(x=actualtr1.index, y=actualtr1.values, ax = axes[0,1])\n",
    "axes[0, 1].set_title('Road A2 and direction 1')\n",
    "axes[0, 1].set_xlabel('Hour')\n",
    "axes[0, 1].set_ylabel('Traffic Jams')\n",
    "\n",
    "actualtr2 = appended_frame[(appended_frame['Duration']!=0)&(appended_frame['HectometerDirectionNum']==0)&(appended_frame['RoadNumber']==73)]\n",
    "actualtr2 = actualtr2['Hour'].value_counts().sort_index() \n",
    "\n",
    "\n",
    "sns.barplot(x=actualtr2.index, y=actualtr2.values, ax = axes[1,0])\n",
    "axes[1, 0].set_title('Road A73 and direction 0')\n",
    "axes[1, 0].set_xlabel('Hour')\n",
    "axes[1, 0].set_ylabel('Traffic Jams')\n",
    "\n",
    "\n",
    "actualtr3 = appended_frame[(appended_frame['Duration']!=0)&(appended_frame['HectometerDirectionNum']==1)&(appended_frame['RoadNumber']==73)]\n",
    "actualtr3 = actualtr3['Hour'].value_counts().sort_index()\n",
    "\n",
    "sns.barplot(x=actualtr3.index, y=actualtr3.values, ax = axes[1,1])\n",
    "axes[1, 1].set_title('Road A73 and direction 1')\n",
    "axes[1, 1].set_xlabel('Hour')\n",
    "axes[1, 1].set_ylabel('Traffic Jams')\n",
    "\n",
    "plt.tight_layout()\n",
    "plt.show()"
   ]
  },
  {
   "cell_type": "markdown",
   "metadata": {},
   "source": [
    "#### Cause 1 mapping into categories for filtered_traffic"
   ]
  },
  {
   "cell_type": "code",
   "execution_count": 122,
   "metadata": {},
   "outputs": [],
   "source": [
    "\n",
    "\n",
    "# Define the classification mapping\n",
    "classification_mapping = {\n",
    "    'Accidents and Vehicle Issues': [\n",
    "        'Ongeval(len)', 'Ongeval op aansluitende weg', 'Ongevalsonderzoek', 'Ongeval met vrachtwagen(s)', \n",
    "        'Ongeval met bus(sen)', 'Ongeval met weglekkende brandstof', 'Ongeval(len) met gevaarlijke stoffen', \n",
    "        'Ongeval (len) met olielekkage', 'Ongeval over de grens', 'Ongeval op provinciale weg', \n",
    "        'Ongeval op stedelijke weg', 'Ernstig(e) ongeval(len)', 'Ongeval(len) met weglekkende chemische stoffen', \n",
    "        'Defect(e) voertuig(en)', 'Defecte vrachtwagen(s)', 'Defecte bus(sen)', 'Brandend(e) voertuig(en)', \n",
    "        'Te ho(o)g(e) voertuig(en)', 'Gekanteld(e) vrachtwagen(s)', 'Gekantelde aanhangwagen', 'Gekantelde caravan', \n",
    "        'Gekanteld(e) voertuig(en)', \"Geschaarde caravan('s)\", 'Geschaarde trekker(s) met oplegger', \n",
    "        'Voertuig(en) met gevaarlijke stoffen', 'Voertuig verliest lading', 'Spookrijder(s)', 'Verzakkingen', \n",
    "        'Gesprongen waterleiding', 'Colonne(s)', 'Verkeer ingesloten tussen afrit en incident', 'Winterse buien'\n",
    "    ],\n",
    "    'Road Conditions and Obstructions': [\n",
    "        'Er ligt rommel op de weg', 'Wegdek in slechte toestand', 'Modder op het wegdek', 'Dieren op de weg', \n",
    "        'Voorwerpen op de weg', 'Afgevallen lading(en)', 'Obstakel(s) op de weg {iets dat de weg of een deel ervan blo}', \n",
    "        'Wegwerkzaamheden', 'Opgehoogde werkzaamheden', 'Spoedreparatie', 'Opruimingswerkzaamheden', \n",
    "        'Wegwerkzaamheden over de grens', 'Asfalteringswerkzaamheden', 'Schade aan tunnel', 'Schade aan wegmeubilair', \n",
    "        'Beschadigde geleiderail', 'Tunnel gesloten', 'Rijstrook voor hulpdiensten afgesloten', \n",
    "        'Langdurige wegwerkzaamheden', 'Werkzaamheden aan geleiderail', 'Werkzaamheden in de berm', 'Rijbaan afgesloten', \n",
    "        'Onderhoudswerkzaamheden', 'Werkzaamheden aan kunstwerken', 'Tunnel onderhoudswerkzaamheden', \n",
    "        'Onderhoudswerkzaamheden aan brug(gen)', 'Werkzaamheden aan verkeersborden', 'Brug versperd', \n",
    "        'Spoorwegovergang geblokkeerd', 'Werkzaamheden in de middenberm', \n",
    "        'Verkeerssituatie gewijzigd als gevolg van wegwerkzaamheden', 'Uitgelopen werkzaamheden', 'Verkeerssituatie gewijzigd'\n",
    "    ],\n",
    "    'Weather Conditions': [\n",
    "        'Mist', 'Hagel en natte sneeuw', 'Hagelbuien', 'Zware regenval', 'Winterse buien', 'Zware hagelbuien', \n",
    "        'Regenbuien', 'Onweersbuien', 'Sneeuw op de weg', 'Water op de weg', 'IJsvorming', 'Sneeuwval', 'Regenval', \n",
    "        'Mistbanken', 'Zicht verminderd', 'Zware windstoten', 'Aanvriezende mist', 'Sneeuwploegen in actie', \n",
    "        'Vastgereden sneeuw', 'IJzel'\n",
    "    ],\n",
    "     'Rush Hours' : [\n",
    "    'Spitsfile (geen oorzaak gemeld)', \n",
    "    'Spitsfile (geen oorzaak gemeld) met gevonden werk in Spin', \n",
    "    'Terugkerend vakantieverkeer', \n",
    "    'Langzaam rijdend tot stilstaand verkeer'\n",
    "    ],\n",
    "     'Other congestion issues' : [\n",
    "    'File buiten spits (geen oorzaak gemeld)', \n",
    "    'Afremmend verkeer als gevolg van kijkers naar ongeval(len)', \n",
    "    'Extra verkeersdrukte door verkeer dat een omleiding volgt', \n",
    "    'Extra verkeersdrukte door werkzaamheden elders', \n",
    "    'Extra verkeersdrukte door incident elders', \n",
    "    'Filevorming', \n",
    "    'Alle parkeervoorzieningen zijn bezet'\n",
    "     ],\n",
    "    'Traffic Management and Controls': [\n",
    "        'Politieactie', 'Grenscontrole', 'Politiecontrolepost', 'Verkeerslichten buiten werking', \n",
    "        'Verkeerslichten werken niet goed', 'Tijdelijke verkeerslichten buiten werking', 'Snelheidscontrole', \n",
    "        'Mobiel flitsteam', 'Spitsstrook aan de rechterzijde gesloten', 'Spitsstrook aan de linkerzijde versperd', \n",
    "        'Spitsstrook aan de rechterzijde versperd', 'Spitsstrook aan de linkerzijde gesloten', 'Verkeersstop'\n",
    "    ],\n",
    "    'Environmental and External Factors': [\n",
    "        'Brand in de buurt van de weg', 'Gaslek', 'Incident op provinciale weg', 'Incident op stedelijke weg', \n",
    "        'Incident op andere rijrichting', 'Incident op vluchtstrook', 'Mensen op de weg', 'Hulpdienstvoertuigen', \n",
    "        'Explosie', 'Neergestort vliegtuig', 'Hinder door laagstaande zon', 'Slecht zicht door rookontwikkeling', \n",
    "        'Hevige brand', 'Reddings- en bergingswerk gaande', 'Explosieven opruimingsdienst aan het werk', 'Noodtoestand', \n",
    "        'Slipgevaar als gevolg van water op de weg', 'Te hoog voertuig gesignaleerd, wordt afgehandeld', 'Bokswedstrijd', \n",
    "        'Betoging', 'Staking', 'Grote dieren op de weg', 'Omgewaaide bo(o)m(en)', 'Dier(en) in nood', 'Bermbrand', \n",
    "        'Grenscontrole', 'Incident(en)'\n",
    "    ],\n",
    "    'Special Events and Social Gatherings': [\n",
    "        'Voetbalwedstrijd', 'Concert', 'Festival', 'Evenement', 'Sportevenement', 'Meerdere evenementen', 'Recreatie- en vakantieverkeer'\n",
    "    ]\n",
    "}\n",
    "\n",
    "# Create a reverse mapping for easier lookup\n",
    "reverse_mapping = {item: key for key, values in classification_mapping.items() for item in values}\n",
    "\n",
    "# Map the incidents to their respective categories\n",
    "filtered_traffic['Category'] = filtered_traffic['Cause_1'].map(reverse_mapping)\n"
   ]
  },
  {
   "cell_type": "code",
   "execution_count": 123,
   "metadata": {},
   "outputs": [
    {
     "data": {
      "text/plain": [
       "Duration Category\n",
       "light     151074\n",
       "heavy      30560\n",
       "medium     27413\n",
       "Name: count, dtype: int64"
      ]
     },
     "execution_count": 123,
     "metadata": {},
     "output_type": "execute_result"
    }
   ],
   "source": [
    "bins = [0, 15, 30, np.inf]\n",
    "labels = ['light', 'medium', 'heavy']\n",
    "category_mapping = {'none': 0, 'light': 1, 'medium': 2, 'heavy': 3}\n",
    "\n",
    "filtered_traffic['Duration Category'] = pd.cut(filtered_traffic['Duration'].fillna(0), bins=bins, labels=labels)\n",
    "filtered_traffic['encoded_type'] = filtered_traffic['Duration Category'].map(category_mapping)\n",
    "filtered_traffic['encoded_type'] = filtered_traffic['encoded_type'].astype(int)\n",
    "\n",
    "filtered_traffic[\"Duration Category\"].value_counts()"
   ]
  },
  {
   "cell_type": "code",
   "execution_count": 132,
   "metadata": {},
   "outputs": [
    {
     "data": {
      "text/plain": [
       "Category\n",
       "Rush Hours                              168868\n",
       "Other congestion issues                  25068\n",
       "Accidents and Vehicle Issues             10649\n",
       "Road Conditions and Obstructions          2353\n",
       "Special Events and Social Gatherings       172\n",
       "Environmental and External Factors         130\n",
       "Weather Conditions                         105\n",
       "Traffic Management and Controls             64\n",
       "Name: count, dtype: int64"
      ]
     },
     "execution_count": 132,
     "metadata": {},
     "output_type": "execute_result"
    }
   ],
   "source": [
    "filtered_traffic[\"Category\"].value_counts()"
   ]
  },
  {
   "cell_type": "code",
   "execution_count": 137,
   "metadata": {},
   "outputs": [
    {
     "data": {
      "text/html": [
       "<div>\n",
       "<style scoped>\n",
       "    .dataframe tbody tr th:only-of-type {\n",
       "        vertical-align: middle;\n",
       "    }\n",
       "\n",
       "    .dataframe tbody tr th {\n",
       "        vertical-align: top;\n",
       "    }\n",
       "\n",
       "    .dataframe thead th {\n",
       "        text-align: right;\n",
       "    }\n",
       "</style>\n",
       "<table border=\"1\" class=\"dataframe\">\n",
       "  <thead>\n",
       "    <tr style=\"text-align: right;\">\n",
       "      <th></th>\n",
       "      <th>Category</th>\n",
       "      <th>Duration Category</th>\n",
       "      <th>Counts</th>\n",
       "    </tr>\n",
       "  </thead>\n",
       "  <tbody>\n",
       "    <tr>\n",
       "      <th>0</th>\n",
       "      <td>Rush Hours</td>\n",
       "      <td>light</td>\n",
       "      <td>128202</td>\n",
       "    </tr>\n",
       "    <tr>\n",
       "      <th>1</th>\n",
       "      <td></td>\n",
       "      <td>medium</td>\n",
       "      <td>21736</td>\n",
       "    </tr>\n",
       "    <tr>\n",
       "      <th>2</th>\n",
       "      <td></td>\n",
       "      <td>heavy</td>\n",
       "      <td>18930</td>\n",
       "    </tr>\n",
       "    <tr>\n",
       "      <th>3</th>\n",
       "      <td>Other congestion issues</td>\n",
       "      <td>light</td>\n",
       "      <td>20024</td>\n",
       "    </tr>\n",
       "    <tr>\n",
       "      <th>4</th>\n",
       "      <td></td>\n",
       "      <td>medium</td>\n",
       "      <td>2715</td>\n",
       "    </tr>\n",
       "    <tr>\n",
       "      <th>5</th>\n",
       "      <td></td>\n",
       "      <td>heavy</td>\n",
       "      <td>2329</td>\n",
       "    </tr>\n",
       "    <tr>\n",
       "      <th>6</th>\n",
       "      <td>Accidents and Vehicle Issues</td>\n",
       "      <td>light</td>\n",
       "      <td>1321</td>\n",
       "    </tr>\n",
       "    <tr>\n",
       "      <th>7</th>\n",
       "      <td></td>\n",
       "      <td>medium</td>\n",
       "      <td>1995</td>\n",
       "    </tr>\n",
       "    <tr>\n",
       "      <th>8</th>\n",
       "      <td></td>\n",
       "      <td>heavy</td>\n",
       "      <td>7333</td>\n",
       "    </tr>\n",
       "    <tr>\n",
       "      <th>9</th>\n",
       "      <td>Road Conditions and Obstructions</td>\n",
       "      <td>light</td>\n",
       "      <td>924</td>\n",
       "    </tr>\n",
       "    <tr>\n",
       "      <th>10</th>\n",
       "      <td></td>\n",
       "      <td>medium</td>\n",
       "      <td>434</td>\n",
       "    </tr>\n",
       "    <tr>\n",
       "      <th>11</th>\n",
       "      <td></td>\n",
       "      <td>heavy</td>\n",
       "      <td>995</td>\n",
       "    </tr>\n",
       "    <tr>\n",
       "      <th>12</th>\n",
       "      <td>Special Events and Social Gatherings</td>\n",
       "      <td>light</td>\n",
       "      <td>28</td>\n",
       "    </tr>\n",
       "    <tr>\n",
       "      <th>13</th>\n",
       "      <td></td>\n",
       "      <td>medium</td>\n",
       "      <td>36</td>\n",
       "    </tr>\n",
       "    <tr>\n",
       "      <th>14</th>\n",
       "      <td></td>\n",
       "      <td>heavy</td>\n",
       "      <td>108</td>\n",
       "    </tr>\n",
       "    <tr>\n",
       "      <th>15</th>\n",
       "      <td>Environmental and External Factors</td>\n",
       "      <td>light</td>\n",
       "      <td>18</td>\n",
       "    </tr>\n",
       "    <tr>\n",
       "      <th>16</th>\n",
       "      <td></td>\n",
       "      <td>medium</td>\n",
       "      <td>28</td>\n",
       "    </tr>\n",
       "    <tr>\n",
       "      <th>17</th>\n",
       "      <td></td>\n",
       "      <td>heavy</td>\n",
       "      <td>84</td>\n",
       "    </tr>\n",
       "    <tr>\n",
       "      <th>18</th>\n",
       "      <td>Weather Conditions</td>\n",
       "      <td>light</td>\n",
       "      <td>26</td>\n",
       "    </tr>\n",
       "    <tr>\n",
       "      <th>19</th>\n",
       "      <td></td>\n",
       "      <td>medium</td>\n",
       "      <td>27</td>\n",
       "    </tr>\n",
       "    <tr>\n",
       "      <th>20</th>\n",
       "      <td></td>\n",
       "      <td>heavy</td>\n",
       "      <td>52</td>\n",
       "    </tr>\n",
       "    <tr>\n",
       "      <th>21</th>\n",
       "      <td>Traffic Management and Controls</td>\n",
       "      <td>light</td>\n",
       "      <td>10</td>\n",
       "    </tr>\n",
       "    <tr>\n",
       "      <th>22</th>\n",
       "      <td></td>\n",
       "      <td>medium</td>\n",
       "      <td>19</td>\n",
       "    </tr>\n",
       "    <tr>\n",
       "      <th>23</th>\n",
       "      <td></td>\n",
       "      <td>heavy</td>\n",
       "      <td>35</td>\n",
       "    </tr>\n",
       "  </tbody>\n",
       "</table>\n",
       "</div>"
      ],
      "text/plain": [
       "                                Category Duration Category  Counts\n",
       "0                             Rush Hours             light  128202\n",
       "1                                                   medium   21736\n",
       "2                                                    heavy   18930\n",
       "3                Other congestion issues             light   20024\n",
       "4                                                   medium    2715\n",
       "5                                                    heavy    2329\n",
       "6           Accidents and Vehicle Issues             light    1321\n",
       "7                                                   medium    1995\n",
       "8                                                    heavy    7333\n",
       "9       Road Conditions and Obstructions             light     924\n",
       "10                                                  medium     434\n",
       "11                                                   heavy     995\n",
       "12  Special Events and Social Gatherings             light      28\n",
       "13                                                  medium      36\n",
       "14                                                   heavy     108\n",
       "15    Environmental and External Factors             light      18\n",
       "16                                                  medium      28\n",
       "17                                                   heavy      84\n",
       "18                    Weather Conditions             light      26\n",
       "19                                                  medium      27\n",
       "20                                                   heavy      52\n",
       "21       Traffic Management and Controls             light      10\n",
       "22                                                  medium      19\n",
       "23                                                   heavy      35"
      ]
     },
     "execution_count": 137,
     "metadata": {},
     "output_type": "execute_result"
    }
   ],
   "source": [
    "category_order = filtered_traffic[\"Category\"].value_counts().index\n",
    "\n",
    "# Calculate value counts\n",
    "value_counts = filtered_traffic.groupby([\"Category\", \"Duration Category\"]).size().reset_index(name=\"Counts\")\n",
    "\n",
    "# Sort by category_order\n",
    "value_counts_sorted = value_counts.set_index(\"Category\").loc[category_order].reset_index()\n",
    "\n",
    "# Remove Category name for subsequent rows with the same Category\n",
    "value_counts_sorted.loc[value_counts_sorted.duplicated(subset=[\"Category\"]), \"Category\"] = \"\"\n",
    "\n",
    "# Display the sorted value counts\n",
    "value_counts_sorted"
   ]
  },
  {
   "cell_type": "markdown",
   "metadata": {},
   "source": [
    "## Creating the category column"
   ]
  },
  {
   "cell_type": "code",
   "execution_count": 32,
   "metadata": {},
   "outputs": [
    {
     "data": {
      "text/plain": [
       "Duration Category\n",
       "none      293279\n",
       "light     151066\n",
       "heavy      30559\n",
       "medium     27413\n",
       "Name: count, dtype: int64"
      ]
     },
     "execution_count": 32,
     "metadata": {},
     "output_type": "execute_result"
    }
   ],
   "source": [
    "bins = [-np.inf, 0, 15, 30, np.inf]\n",
    "labels = ['none', 'light', 'medium', 'heavy']\n",
    "category_mapping = {'none': 0, 'light': 1, 'medium': 2, 'heavy': 3}\n",
    "\n",
    "appended_frame['Duration Category'] = pd.cut(appended_frame['Duration'].fillna(0), bins=bins, labels=labels)\n",
    "appended_frame['encoded_type'] = appended_frame['Duration Category'].map(category_mapping)\n",
    "appended_frame['encoded_type'] = appended_frame['encoded_type'].astype(int)\n",
    "\n",
    "appended_frame[\"Duration Category\"].value_counts()"
   ]
  },
  {
   "cell_type": "markdown",
   "metadata": {},
   "source": [
    "## Adding date breakdown"
   ]
  },
  {
   "cell_type": "markdown",
   "metadata": {},
   "source": [
    "### Day of the week"
   ]
  },
  {
   "cell_type": "code",
   "execution_count": 33,
   "metadata": {},
   "outputs": [],
   "source": [
    "appended_frame['WeekdayName'] = appended_frame['StartDate'].dt.day_name()\n",
    "appended_frame['Weekday'] = appended_frame['StartDate'].dt.weekday"
   ]
  },
  {
   "cell_type": "markdown",
   "metadata": {},
   "source": [
    "### Day of the year"
   ]
  },
  {
   "cell_type": "code",
   "execution_count": 34,
   "metadata": {},
   "outputs": [],
   "source": [
    "appended_frame['DayofYear'] = appended_frame['StartDate'].dt.dayofyear"
   ]
  },
  {
   "cell_type": "markdown",
   "metadata": {},
   "source": [
    "### Year"
   ]
  },
  {
   "cell_type": "code",
   "execution_count": 35,
   "metadata": {},
   "outputs": [],
   "source": [
    "appended_frame['Year'] = appended_frame['StartDate'].dt.year"
   ]
  },
  {
   "cell_type": "markdown",
   "metadata": {},
   "source": [
    "### Day of month"
   ]
  },
  {
   "cell_type": "code",
   "execution_count": 36,
   "metadata": {},
   "outputs": [],
   "source": [
    "appended_frame['DayofMonth'] = appended_frame['StartDate'].dt.day"
   ]
  },
  {
   "cell_type": "markdown",
   "metadata": {},
   "source": [
    "## Modelling"
   ]
  },
  {
   "cell_type": "markdown",
   "metadata": {},
   "source": [
    "### Downsampling"
   ]
  },
  {
   "cell_type": "code",
   "execution_count": 61,
   "metadata": {},
   "outputs": [
    {
     "name": "stdout",
     "output_type": "stream",
     "text": [
      "(257972, 12)\n"
     ]
    },
    {
     "data": {
      "text/plain": [
       "Duration Category\n",
       "none      100000\n",
       "light     100000\n",
       "heavy      30559\n",
       "medium     27413\n",
       "Name: count, dtype: int64"
      ]
     },
     "execution_count": 61,
     "metadata": {},
     "output_type": "execute_result"
    }
   ],
   "source": [
    "desired_size_per_class = 100000\n",
    "category_mapping = ['none', 'light', 'medium', 'heavy']\n",
    "categories_to_downsample = category_mapping[:2]\n",
    "downsampled_data = pd.concat([appended_frame[appended_frame['Duration Category'] == label].sample(n=desired_size_per_class, replace=False)\n",
    "                              for label in categories_to_downsample])\n",
    "remaining_data = appended_frame[~appended_frame['Duration Category'].isin(categories_to_downsample)]\n",
    "downsampled_data = pd.concat([downsampled_data, remaining_data])\n",
    "\n",
    "print(downsampled_data.shape)\n",
    "downsampled_data['Duration Category'].value_counts()"
   ]
  },
  {
   "cell_type": "markdown",
   "metadata": {},
   "source": [
    "### Random Forest"
   ]
  },
  {
   "cell_type": "code",
   "execution_count": 50,
   "metadata": {},
   "outputs": [
    {
     "name": "stderr",
     "output_type": "stream",
     "text": [
      "Intel(R) Extension for Scikit-learn* enabled (https://github.com/intel/scikit-learn-intelex)\n"
     ]
    },
    {
     "name": "stdout",
     "output_type": "stream",
     "text": [
      "Accuracy: 86%\n"
     ]
    }
   ],
   "source": [
    "warnings.filterwarnings('ignore')\n",
    "\n",
    "patch_sklearn()\n",
    "\n",
    "target = \"encoded_type\"\n",
    "y = appended_frame[target]\n",
    "\n",
    "features = ['Hour', 'RoadNumber', 'Weekday', 'DayofYear', 'Year', 'DayofMonth', 'HectometerDirectionNum']\n",
    "X = appended_frame[features]\n",
    "\n",
    "X_train, X_test, y_train, y_test = train_test_split(X, y, test_size=0.2, random_state=42)\n",
    "\n",
    "random_forest = RandomForestClassifier(max_depth=70, min_samples_leaf=1, min_samples_split=3, n_estimators=200, bootstrap=False)\n",
    "random_forest.fit(X_train, y_train)\n",
    "\n",
    "y_pred = random_forest.predict(X_test)\n",
    "accuracy = accuracy_score(y_test, y_pred)\n",
    "accuracy_percentage = math.ceil(accuracy * 100)\n",
    "\n",
    "print(f\"Accuracy: {accuracy_percentage}%\")"
   ]
  },
  {
   "cell_type": "markdown",
   "metadata": {},
   "source": [
    "### Results and evaluation"
   ]
  },
  {
   "cell_type": "markdown",
   "metadata": {},
   "source": [
    "#### Classification report"
   ]
  },
  {
   "cell_type": "code",
   "execution_count": 66,
   "metadata": {},
   "outputs": [
    {
     "name": "stdout",
     "output_type": "stream",
     "text": [
      "              precision    recall  f1-score   support\n",
      "\n",
      "           0       0.97      0.98      0.97     58806\n",
      "           1       0.73      0.92      0.82     30189\n",
      "           2       0.17      0.04      0.06      5511\n",
      "           3       0.24      0.06      0.10      5958\n",
      "\n",
      "    accuracy                           0.86    100464\n",
      "   macro avg       0.53      0.50      0.49    100464\n",
      "weighted avg       0.81      0.86      0.82    100464\n",
      "\n"
     ]
    }
   ],
   "source": [
    "from sklearn.metrics import classification_report\n",
    "target_names = category_mapping\n",
    "report = classification_report(y_test, y_pred, target_names = target_names)\n",
    "print(classification_report(y_test, y_pred))"
   ]
  },
  {
   "cell_type": "markdown",
   "metadata": {},
   "source": [
    "#### Feature importances"
   ]
  },
  {
   "cell_type": "code",
   "execution_count": 52,
   "metadata": {},
   "outputs": [
    {
     "data": {
      "image/png": "[encoded data removed]",
      "text/plain": [
       "<Figure size 640x480 with 1 Axes>"
      ]
     },
     "metadata": {},
     "output_type": "display_data"
    }
   ],
   "source": [
    "forest_importances = pd.Series(random_forest.feature_importances_, index=features)\n",
    "standard_deviation = np.std([tree.feature_importances_ for tree in random_forest.estimators_], axis=0)\n",
    "plt.figure()\n",
    "forest_importances.plot.bar(yerr=standard_deviation)\n",
    "plt.show()"
   ]
  },
  {
   "cell_type": "markdown",
   "metadata": {},
   "source": [
    "#### Confusion matrix\n"
   ]
  },
  {
   "cell_type": "code",
   "execution_count": 62,
   "metadata": {},
   "outputs": [
    {
     "data": {
      "image/png": "[encoded data removed]",
      "text/plain": [
       "<Figure size 640x480 with 1 Axes>"
      ]
     },
     "metadata": {},
     "output_type": "display_data"
    }
   ],
   "source": [
    "from sklearn.metrics import confusion_matrix\n",
    "\n",
    "labels = category_mapping\n",
    "\n",
    "matrix = confusion_matrix(y_test, y_pred)\n",
    "plt.figure()\n",
    "sns.heatmap(matrix, annot=True, fmt='d', cmap='Blues', cbar=None, xticklabels=labels, yticklabels=labels)\n",
    "plt.xlabel('Predicted Label')\n",
    "plt.ylabel('True Label')\n",
    "plt.show()"
   ]
  },
  {
   "cell_type": "markdown",
   "metadata": {},
   "source": [
    "#### Cross-validation"
   ]
  },
  {
   "cell_type": "code",
   "execution_count": 41,
   "metadata": {},
   "outputs": [
    {
     "name": "stderr",
     "output_type": "stream",
     "text": [
      "Intel(R) Extension for Scikit-learn* enabled (https://github.com/intel/scikit-learn-intelex)\n"
     ]
    },
    {
     "ename": "KeyboardInterrupt",
     "evalue": "",
     "output_type": "error",
     "traceback": [
      "\u001b[1;31m---------------------------------------------------------------------------\u001b[0m",
      "\u001b[1;31mKeyboardInterrupt\u001b[0m                         Traceback (most recent call last)",
      "Cell \u001b[1;32mIn[41], line 5\u001b[0m\n\u001b[0;32m      2\u001b[0m patch_sklearn()\n\u001b[0;32m      4\u001b[0m skf \u001b[38;5;241m=\u001b[39m StratifiedKFold(n_splits\u001b[38;5;241m=\u001b[39m\u001b[38;5;241m5\u001b[39m, shuffle\u001b[38;5;241m=\u001b[39m\u001b[38;5;28;01mTrue\u001b[39;00m, random_state\u001b[38;5;241m=\u001b[39m\u001b[38;5;241m42\u001b[39m)\n\u001b[1;32m----> 5\u001b[0m accuracy_scores \u001b[38;5;241m=\u001b[39m \u001b[43mcross_val_score\u001b[49m\u001b[43m(\u001b[49m\u001b[43mrandom_forest\u001b[49m\u001b[43m,\u001b[49m\u001b[43m \u001b[49m\u001b[43mX_train\u001b[49m\u001b[43m,\u001b[49m\u001b[43m \u001b[49m\u001b[43my_train\u001b[49m\u001b[43m,\u001b[49m\u001b[43m \u001b[49m\u001b[43mcv\u001b[49m\u001b[38;5;241;43m=\u001b[39;49m\u001b[43mskf\u001b[49m\u001b[43m,\u001b[49m\u001b[43m \u001b[49m\u001b[43mscoring\u001b[49m\u001b[38;5;241;43m=\u001b[39;49m\u001b[38;5;124;43m'\u001b[39;49m\u001b[38;5;124;43maccuracy\u001b[39;49m\u001b[38;5;124;43m'\u001b[39;49m\u001b[43m)\u001b[49m\u001b[38;5;66;03m# average accuracy score\u001b[39;00m\n\u001b[0;32m      6\u001b[0m \u001b[38;5;28mprint\u001b[39m(\u001b[38;5;124m\"\u001b[39m\u001b[38;5;124mAccuracy scores for each fold:\u001b[39m\u001b[38;5;124m\"\u001b[39m, accuracy_scores)\n\u001b[0;32m      7\u001b[0m average_accuracy \u001b[38;5;241m=\u001b[39m accuracy_scores\u001b[38;5;241m.\u001b[39mmean()\n",
      "File \u001b[1;32mc:\\Users\\Ioana\\AppData\\Local\\Programs\\Python\\Python312\\Lib\\site-packages\\sklearn\\utils\\_param_validation.py:213\u001b[0m, in \u001b[0;36mvalidate_params.<locals>.decorator.<locals>.wrapper\u001b[1;34m(*args, **kwargs)\u001b[0m\n\u001b[0;32m    207\u001b[0m \u001b[38;5;28;01mtry\u001b[39;00m:\n\u001b[0;32m    208\u001b[0m     \u001b[38;5;28;01mwith\u001b[39;00m config_context(\n\u001b[0;32m    209\u001b[0m         skip_parameter_validation\u001b[38;5;241m=\u001b[39m(\n\u001b[0;32m    210\u001b[0m             prefer_skip_nested_validation \u001b[38;5;129;01mor\u001b[39;00m global_skip_validation\n\u001b[0;32m    211\u001b[0m         )\n\u001b[0;32m    212\u001b[0m     ):\n\u001b[1;32m--> 213\u001b[0m         \u001b[38;5;28;01mreturn\u001b[39;00m \u001b[43mfunc\u001b[49m\u001b[43m(\u001b[49m\u001b[38;5;241;43m*\u001b[39;49m\u001b[43margs\u001b[49m\u001b[43m,\u001b[49m\u001b[43m \u001b[49m\u001b[38;5;241;43m*\u001b[39;49m\u001b[38;5;241;43m*\u001b[39;49m\u001b[43mkwargs\u001b[49m\u001b[43m)\u001b[49m\n\u001b[0;32m    214\u001b[0m \u001b[38;5;28;01mexcept\u001b[39;00m InvalidParameterError \u001b[38;5;28;01mas\u001b[39;00m e:\n\u001b[0;32m    215\u001b[0m     \u001b[38;5;66;03m# When the function is just a wrapper around an estimator, we allow\u001b[39;00m\n\u001b[0;32m    216\u001b[0m     \u001b[38;5;66;03m# the function to delegate validation to the estimator, but we replace\u001b[39;00m\n\u001b[0;32m    217\u001b[0m     \u001b[38;5;66;03m# the name of the estimator by the name of the function in the error\u001b[39;00m\n\u001b[0;32m    218\u001b[0m     \u001b[38;5;66;03m# message to avoid confusion.\u001b[39;00m\n\u001b[0;32m    219\u001b[0m     msg \u001b[38;5;241m=\u001b[39m re\u001b[38;5;241m.\u001b[39msub(\n\u001b[0;32m    220\u001b[0m         \u001b[38;5;124mr\u001b[39m\u001b[38;5;124m\"\u001b[39m\u001b[38;5;124mparameter of \u001b[39m\u001b[38;5;124m\\\u001b[39m\u001b[38;5;124mw+ must be\u001b[39m\u001b[38;5;124m\"\u001b[39m,\n\u001b[0;32m    221\u001b[0m         \u001b[38;5;124mf\u001b[39m\u001b[38;5;124m\"\u001b[39m\u001b[38;5;124mparameter of \u001b[39m\u001b[38;5;132;01m{\u001b[39;00mfunc\u001b[38;5;241m.\u001b[39m\u001b[38;5;18m__qualname__\u001b[39m\u001b[38;5;132;01m}\u001b[39;00m\u001b[38;5;124m must be\u001b[39m\u001b[38;5;124m\"\u001b[39m,\n\u001b[0;32m    222\u001b[0m         \u001b[38;5;28mstr\u001b[39m(e),\n\u001b[0;32m    223\u001b[0m     )\n",
      "File \u001b[1;32mc:\\Users\\Ioana\\AppData\\Local\\Programs\\Python\\Python312\\Lib\\site-packages\\sklearn\\model_selection\\_validation.py:719\u001b[0m, in \u001b[0;36mcross_val_score\u001b[1;34m(estimator, X, y, groups, scoring, cv, n_jobs, verbose, fit_params, params, pre_dispatch, error_score)\u001b[0m\n\u001b[0;32m    716\u001b[0m \u001b[38;5;66;03m# To ensure multimetric format is not supported\u001b[39;00m\n\u001b[0;32m    717\u001b[0m scorer \u001b[38;5;241m=\u001b[39m check_scoring(estimator, scoring\u001b[38;5;241m=\u001b[39mscoring)\n\u001b[1;32m--> 719\u001b[0m cv_results \u001b[38;5;241m=\u001b[39m \u001b[43mcross_validate\u001b[49m\u001b[43m(\u001b[49m\n\u001b[0;32m    720\u001b[0m \u001b[43m    \u001b[49m\u001b[43mestimator\u001b[49m\u001b[38;5;241;43m=\u001b[39;49m\u001b[43mestimator\u001b[49m\u001b[43m,\u001b[49m\n\u001b[0;32m    721\u001b[0m \u001b[43m    \u001b[49m\u001b[43mX\u001b[49m\u001b[38;5;241;43m=\u001b[39;49m\u001b[43mX\u001b[49m\u001b[43m,\u001b[49m\n\u001b[0;32m    722\u001b[0m \u001b[43m    \u001b[49m\u001b[43my\u001b[49m\u001b[38;5;241;43m=\u001b[39;49m\u001b[43my\u001b[49m\u001b[43m,\u001b[49m\n\u001b[0;32m    723\u001b[0m \u001b[43m    \u001b[49m\u001b[43mgroups\u001b[49m\u001b[38;5;241;43m=\u001b[39;49m\u001b[43mgroups\u001b[49m\u001b[43m,\u001b[49m\n\u001b[0;32m    724\u001b[0m \u001b[43m    \u001b[49m\u001b[43mscoring\u001b[49m\u001b[38;5;241;43m=\u001b[39;49m\u001b[43m{\u001b[49m\u001b[38;5;124;43m\"\u001b[39;49m\u001b[38;5;124;43mscore\u001b[39;49m\u001b[38;5;124;43m\"\u001b[39;49m\u001b[43m:\u001b[49m\u001b[43m \u001b[49m\u001b[43mscorer\u001b[49m\u001b[43m}\u001b[49m\u001b[43m,\u001b[49m\n\u001b[0;32m    725\u001b[0m \u001b[43m    \u001b[49m\u001b[43mcv\u001b[49m\u001b[38;5;241;43m=\u001b[39;49m\u001b[43mcv\u001b[49m\u001b[43m,\u001b[49m\n\u001b[0;32m    726\u001b[0m \u001b[43m    \u001b[49m\u001b[43mn_jobs\u001b[49m\u001b[38;5;241;43m=\u001b[39;49m\u001b[43mn_jobs\u001b[49m\u001b[43m,\u001b[49m\n\u001b[0;32m    727\u001b[0m \u001b[43m    \u001b[49m\u001b[43mverbose\u001b[49m\u001b[38;5;241;43m=\u001b[39;49m\u001b[43mverbose\u001b[49m\u001b[43m,\u001b[49m\n\u001b[0;32m    728\u001b[0m \u001b[43m    \u001b[49m\u001b[43mfit_params\u001b[49m\u001b[38;5;241;43m=\u001b[39;49m\u001b[43mfit_params\u001b[49m\u001b[43m,\u001b[49m\n\u001b[0;32m    729\u001b[0m \u001b[43m    \u001b[49m\u001b[43mparams\u001b[49m\u001b[38;5;241;43m=\u001b[39;49m\u001b[43mparams\u001b[49m\u001b[43m,\u001b[49m\n\u001b[0;32m    730\u001b[0m \u001b[43m    \u001b[49m\u001b[43mpre_dispatch\u001b[49m\u001b[38;5;241;43m=\u001b[39;49m\u001b[43mpre_dispatch\u001b[49m\u001b[43m,\u001b[49m\n\u001b[0;32m    731\u001b[0m \u001b[43m    \u001b[49m\u001b[43merror_score\u001b[49m\u001b[38;5;241;43m=\u001b[39;49m\u001b[43merror_score\u001b[49m\u001b[43m,\u001b[49m\n\u001b[0;32m    732\u001b[0m \u001b[43m\u001b[49m\u001b[43m)\u001b[49m\n\u001b[0;32m    733\u001b[0m \u001b[38;5;28;01mreturn\u001b[39;00m cv_results[\u001b[38;5;124m\"\u001b[39m\u001b[38;5;124mtest_score\u001b[39m\u001b[38;5;124m\"\u001b[39m]\n",
      "File \u001b[1;32mc:\\Users\\Ioana\\AppData\\Local\\Programs\\Python\\Python312\\Lib\\site-packages\\sklearn\\utils\\_param_validation.py:213\u001b[0m, in \u001b[0;36mvalidate_params.<locals>.decorator.<locals>.wrapper\u001b[1;34m(*args, **kwargs)\u001b[0m\n\u001b[0;32m    207\u001b[0m \u001b[38;5;28;01mtry\u001b[39;00m:\n\u001b[0;32m    208\u001b[0m     \u001b[38;5;28;01mwith\u001b[39;00m config_context(\n\u001b[0;32m    209\u001b[0m         skip_parameter_validation\u001b[38;5;241m=\u001b[39m(\n\u001b[0;32m    210\u001b[0m             prefer_skip_nested_validation \u001b[38;5;129;01mor\u001b[39;00m global_skip_validation\n\u001b[0;32m    211\u001b[0m         )\n\u001b[0;32m    212\u001b[0m     ):\n\u001b[1;32m--> 213\u001b[0m         \u001b[38;5;28;01mreturn\u001b[39;00m \u001b[43mfunc\u001b[49m\u001b[43m(\u001b[49m\u001b[38;5;241;43m*\u001b[39;49m\u001b[43margs\u001b[49m\u001b[43m,\u001b[49m\u001b[43m \u001b[49m\u001b[38;5;241;43m*\u001b[39;49m\u001b[38;5;241;43m*\u001b[39;49m\u001b[43mkwargs\u001b[49m\u001b[43m)\u001b[49m\n\u001b[0;32m    214\u001b[0m \u001b[38;5;28;01mexcept\u001b[39;00m InvalidParameterError \u001b[38;5;28;01mas\u001b[39;00m e:\n\u001b[0;32m    215\u001b[0m     \u001b[38;5;66;03m# When the function is just a wrapper around an estimator, we allow\u001b[39;00m\n\u001b[0;32m    216\u001b[0m     \u001b[38;5;66;03m# the function to delegate validation to the estimator, but we replace\u001b[39;00m\n\u001b[0;32m    217\u001b[0m     \u001b[38;5;66;03m# the name of the estimator by the name of the function in the error\u001b[39;00m\n\u001b[0;32m    218\u001b[0m     \u001b[38;5;66;03m# message to avoid confusion.\u001b[39;00m\n\u001b[0;32m    219\u001b[0m     msg \u001b[38;5;241m=\u001b[39m re\u001b[38;5;241m.\u001b[39msub(\n\u001b[0;32m    220\u001b[0m         \u001b[38;5;124mr\u001b[39m\u001b[38;5;124m\"\u001b[39m\u001b[38;5;124mparameter of \u001b[39m\u001b[38;5;124m\\\u001b[39m\u001b[38;5;124mw+ must be\u001b[39m\u001b[38;5;124m\"\u001b[39m,\n\u001b[0;32m    221\u001b[0m         \u001b[38;5;124mf\u001b[39m\u001b[38;5;124m\"\u001b[39m\u001b[38;5;124mparameter of \u001b[39m\u001b[38;5;132;01m{\u001b[39;00mfunc\u001b[38;5;241m.\u001b[39m\u001b[38;5;18m__qualname__\u001b[39m\u001b[38;5;132;01m}\u001b[39;00m\u001b[38;5;124m must be\u001b[39m\u001b[38;5;124m\"\u001b[39m,\n\u001b[0;32m    222\u001b[0m         \u001b[38;5;28mstr\u001b[39m(e),\n\u001b[0;32m    223\u001b[0m     )\n",
      "File \u001b[1;32mc:\\Users\\Ioana\\AppData\\Local\\Programs\\Python\\Python312\\Lib\\site-packages\\sklearn\\model_selection\\_validation.py:430\u001b[0m, in \u001b[0;36mcross_validate\u001b[1;34m(estimator, X, y, groups, scoring, cv, n_jobs, verbose, fit_params, params, pre_dispatch, return_train_score, return_estimator, return_indices, error_score)\u001b[0m\n\u001b[0;32m    427\u001b[0m \u001b[38;5;66;03m# We clone the estimator to make sure that all the folds are\u001b[39;00m\n\u001b[0;32m    428\u001b[0m \u001b[38;5;66;03m# independent, and that it is pickle-able.\u001b[39;00m\n\u001b[0;32m    429\u001b[0m parallel \u001b[38;5;241m=\u001b[39m Parallel(n_jobs\u001b[38;5;241m=\u001b[39mn_jobs, verbose\u001b[38;5;241m=\u001b[39mverbose, pre_dispatch\u001b[38;5;241m=\u001b[39mpre_dispatch)\n\u001b[1;32m--> 430\u001b[0m results \u001b[38;5;241m=\u001b[39m \u001b[43mparallel\u001b[49m\u001b[43m(\u001b[49m\n\u001b[0;32m    431\u001b[0m \u001b[43m    \u001b[49m\u001b[43mdelayed\u001b[49m\u001b[43m(\u001b[49m\u001b[43m_fit_and_score\u001b[49m\u001b[43m)\u001b[49m\u001b[43m(\u001b[49m\n\u001b[0;32m    432\u001b[0m \u001b[43m        \u001b[49m\u001b[43mclone\u001b[49m\u001b[43m(\u001b[49m\u001b[43mestimator\u001b[49m\u001b[43m)\u001b[49m\u001b[43m,\u001b[49m\n\u001b[0;32m    433\u001b[0m \u001b[43m        \u001b[49m\u001b[43mX\u001b[49m\u001b[43m,\u001b[49m\n\u001b[0;32m    434\u001b[0m \u001b[43m        \u001b[49m\u001b[43my\u001b[49m\u001b[43m,\u001b[49m\n\u001b[0;32m    435\u001b[0m \u001b[43m        \u001b[49m\u001b[43mscorer\u001b[49m\u001b[38;5;241;43m=\u001b[39;49m\u001b[43mscorers\u001b[49m\u001b[43m,\u001b[49m\n\u001b[0;32m    436\u001b[0m \u001b[43m        \u001b[49m\u001b[43mtrain\u001b[49m\u001b[38;5;241;43m=\u001b[39;49m\u001b[43mtrain\u001b[49m\u001b[43m,\u001b[49m\n\u001b[0;32m    437\u001b[0m \u001b[43m        \u001b[49m\u001b[43mtest\u001b[49m\u001b[38;5;241;43m=\u001b[39;49m\u001b[43mtest\u001b[49m\u001b[43m,\u001b[49m\n\u001b[0;32m    438\u001b[0m \u001b[43m        \u001b[49m\u001b[43mverbose\u001b[49m\u001b[38;5;241;43m=\u001b[39;49m\u001b[43mverbose\u001b[49m\u001b[43m,\u001b[49m\n\u001b[0;32m    439\u001b[0m \u001b[43m        \u001b[49m\u001b[43mparameters\u001b[49m\u001b[38;5;241;43m=\u001b[39;49m\u001b[38;5;28;43;01mNone\u001b[39;49;00m\u001b[43m,\u001b[49m\n\u001b[0;32m    440\u001b[0m \u001b[43m        \u001b[49m\u001b[43mfit_params\u001b[49m\u001b[38;5;241;43m=\u001b[39;49m\u001b[43mrouted_params\u001b[49m\u001b[38;5;241;43m.\u001b[39;49m\u001b[43mestimator\u001b[49m\u001b[38;5;241;43m.\u001b[39;49m\u001b[43mfit\u001b[49m\u001b[43m,\u001b[49m\n\u001b[0;32m    441\u001b[0m \u001b[43m        \u001b[49m\u001b[43mscore_params\u001b[49m\u001b[38;5;241;43m=\u001b[39;49m\u001b[43mrouted_params\u001b[49m\u001b[38;5;241;43m.\u001b[39;49m\u001b[43mscorer\u001b[49m\u001b[38;5;241;43m.\u001b[39;49m\u001b[43mscore\u001b[49m\u001b[43m,\u001b[49m\n\u001b[0;32m    442\u001b[0m \u001b[43m        \u001b[49m\u001b[43mreturn_train_score\u001b[49m\u001b[38;5;241;43m=\u001b[39;49m\u001b[43mreturn_train_score\u001b[49m\u001b[43m,\u001b[49m\n\u001b[0;32m    443\u001b[0m \u001b[43m        \u001b[49m\u001b[43mreturn_times\u001b[49m\u001b[38;5;241;43m=\u001b[39;49m\u001b[38;5;28;43;01mTrue\u001b[39;49;00m\u001b[43m,\u001b[49m\n\u001b[0;32m    444\u001b[0m \u001b[43m        \u001b[49m\u001b[43mreturn_estimator\u001b[49m\u001b[38;5;241;43m=\u001b[39;49m\u001b[43mreturn_estimator\u001b[49m\u001b[43m,\u001b[49m\n\u001b[0;32m    445\u001b[0m \u001b[43m        \u001b[49m\u001b[43merror_score\u001b[49m\u001b[38;5;241;43m=\u001b[39;49m\u001b[43merror_score\u001b[49m\u001b[43m,\u001b[49m\n\u001b[0;32m    446\u001b[0m \u001b[43m    \u001b[49m\u001b[43m)\u001b[49m\n\u001b[0;32m    447\u001b[0m \u001b[43m    \u001b[49m\u001b[38;5;28;43;01mfor\u001b[39;49;00m\u001b[43m \u001b[49m\u001b[43mtrain\u001b[49m\u001b[43m,\u001b[49m\u001b[43m \u001b[49m\u001b[43mtest\u001b[49m\u001b[43m \u001b[49m\u001b[38;5;129;43;01min\u001b[39;49;00m\u001b[43m \u001b[49m\u001b[43mindices\u001b[49m\n\u001b[0;32m    448\u001b[0m \u001b[43m\u001b[49m\u001b[43m)\u001b[49m\n\u001b[0;32m    450\u001b[0m _warn_or_raise_about_fit_failures(results, error_score)\n\u001b[0;32m    452\u001b[0m \u001b[38;5;66;03m# For callable scoring, the return type is only know after calling. If the\u001b[39;00m\n\u001b[0;32m    453\u001b[0m \u001b[38;5;66;03m# return type is a dictionary, the error scores can now be inserted with\u001b[39;00m\n\u001b[0;32m    454\u001b[0m \u001b[38;5;66;03m# the correct key.\u001b[39;00m\n",
      "File \u001b[1;32mc:\\Users\\Ioana\\AppData\\Local\\Programs\\Python\\Python312\\Lib\\site-packages\\sklearn\\utils\\parallel.py:67\u001b[0m, in \u001b[0;36mParallel.__call__\u001b[1;34m(self, iterable)\u001b[0m\n\u001b[0;32m     62\u001b[0m config \u001b[38;5;241m=\u001b[39m get_config()\n\u001b[0;32m     63\u001b[0m iterable_with_config \u001b[38;5;241m=\u001b[39m (\n\u001b[0;32m     64\u001b[0m     (_with_config(delayed_func, config), args, kwargs)\n\u001b[0;32m     65\u001b[0m     \u001b[38;5;28;01mfor\u001b[39;00m delayed_func, args, kwargs \u001b[38;5;129;01min\u001b[39;00m iterable\n\u001b[0;32m     66\u001b[0m )\n\u001b[1;32m---> 67\u001b[0m \u001b[38;5;28;01mreturn\u001b[39;00m \u001b[38;5;28;43msuper\u001b[39;49m\u001b[43m(\u001b[49m\u001b[43m)\u001b[49m\u001b[38;5;241;43m.\u001b[39;49m\u001b[38;5;21;43m__call__\u001b[39;49m\u001b[43m(\u001b[49m\u001b[43miterable_with_config\u001b[49m\u001b[43m)\u001b[49m\n",
      "File \u001b[1;32mc:\\Users\\Ioana\\AppData\\Local\\Programs\\Python\\Python312\\Lib\\site-packages\\joblib\\parallel.py:1863\u001b[0m, in \u001b[0;36mParallel.__call__\u001b[1;34m(self, iterable)\u001b[0m\n\u001b[0;32m   1861\u001b[0m     output \u001b[38;5;241m=\u001b[39m \u001b[38;5;28mself\u001b[39m\u001b[38;5;241m.\u001b[39m_get_sequential_output(iterable)\n\u001b[0;32m   1862\u001b[0m     \u001b[38;5;28mnext\u001b[39m(output)\n\u001b[1;32m-> 1863\u001b[0m     \u001b[38;5;28;01mreturn\u001b[39;00m output \u001b[38;5;28;01mif\u001b[39;00m \u001b[38;5;28mself\u001b[39m\u001b[38;5;241m.\u001b[39mreturn_generator \u001b[38;5;28;01melse\u001b[39;00m \u001b[38;5;28;43mlist\u001b[39;49m\u001b[43m(\u001b[49m\u001b[43moutput\u001b[49m\u001b[43m)\u001b[49m\n\u001b[0;32m   1865\u001b[0m \u001b[38;5;66;03m# Let's create an ID that uniquely identifies the current call. If the\u001b[39;00m\n\u001b[0;32m   1866\u001b[0m \u001b[38;5;66;03m# call is interrupted early and that the same instance is immediately\u001b[39;00m\n\u001b[0;32m   1867\u001b[0m \u001b[38;5;66;03m# re-used, this id will be used to prevent workers that were\u001b[39;00m\n\u001b[0;32m   1868\u001b[0m \u001b[38;5;66;03m# concurrently finalizing a task from the previous call to run the\u001b[39;00m\n\u001b[0;32m   1869\u001b[0m \u001b[38;5;66;03m# callback.\u001b[39;00m\n\u001b[0;32m   1870\u001b[0m \u001b[38;5;28;01mwith\u001b[39;00m \u001b[38;5;28mself\u001b[39m\u001b[38;5;241m.\u001b[39m_lock:\n",
      "File \u001b[1;32mc:\\Users\\Ioana\\AppData\\Local\\Programs\\Python\\Python312\\Lib\\site-packages\\joblib\\parallel.py:1792\u001b[0m, in \u001b[0;36mParallel._get_sequential_output\u001b[1;34m(self, iterable)\u001b[0m\n\u001b[0;32m   1790\u001b[0m \u001b[38;5;28mself\u001b[39m\u001b[38;5;241m.\u001b[39mn_dispatched_batches \u001b[38;5;241m+\u001b[39m\u001b[38;5;241m=\u001b[39m \u001b[38;5;241m1\u001b[39m\n\u001b[0;32m   1791\u001b[0m \u001b[38;5;28mself\u001b[39m\u001b[38;5;241m.\u001b[39mn_dispatched_tasks \u001b[38;5;241m+\u001b[39m\u001b[38;5;241m=\u001b[39m \u001b[38;5;241m1\u001b[39m\n\u001b[1;32m-> 1792\u001b[0m res \u001b[38;5;241m=\u001b[39m \u001b[43mfunc\u001b[49m\u001b[43m(\u001b[49m\u001b[38;5;241;43m*\u001b[39;49m\u001b[43margs\u001b[49m\u001b[43m,\u001b[49m\u001b[43m \u001b[49m\u001b[38;5;241;43m*\u001b[39;49m\u001b[38;5;241;43m*\u001b[39;49m\u001b[43mkwargs\u001b[49m\u001b[43m)\u001b[49m\n\u001b[0;32m   1793\u001b[0m \u001b[38;5;28mself\u001b[39m\u001b[38;5;241m.\u001b[39mn_completed_tasks \u001b[38;5;241m+\u001b[39m\u001b[38;5;241m=\u001b[39m \u001b[38;5;241m1\u001b[39m\n\u001b[0;32m   1794\u001b[0m \u001b[38;5;28mself\u001b[39m\u001b[38;5;241m.\u001b[39mprint_progress()\n",
      "File \u001b[1;32mc:\\Users\\Ioana\\AppData\\Local\\Programs\\Python\\Python312\\Lib\\site-packages\\sklearnex\\utils\\parallel.py:46\u001b[0m, in \u001b[0;36m_FuncWrapper.__call__\u001b[1;34m(self, *args, **kwargs)\u001b[0m\n\u001b[0;32m     44\u001b[0m     config \u001b[38;5;241m=\u001b[39m {}\n\u001b[0;32m     45\u001b[0m \u001b[38;5;28;01mwith\u001b[39;00m config_context(\u001b[38;5;241m*\u001b[39m\u001b[38;5;241m*\u001b[39mconfig):\n\u001b[1;32m---> 46\u001b[0m     \u001b[38;5;28;01mreturn\u001b[39;00m \u001b[38;5;28;43mself\u001b[39;49m\u001b[38;5;241;43m.\u001b[39;49m\u001b[43mfunction\u001b[49m\u001b[43m(\u001b[49m\u001b[38;5;241;43m*\u001b[39;49m\u001b[43margs\u001b[49m\u001b[43m,\u001b[49m\u001b[43m \u001b[49m\u001b[38;5;241;43m*\u001b[39;49m\u001b[38;5;241;43m*\u001b[39;49m\u001b[43mkwargs\u001b[49m\u001b[43m)\u001b[49m\n",
      "File \u001b[1;32mc:\\Users\\Ioana\\AppData\\Local\\Programs\\Python\\Python312\\Lib\\site-packages\\sklearn\\model_selection\\_validation.py:895\u001b[0m, in \u001b[0;36m_fit_and_score\u001b[1;34m(estimator, X, y, scorer, train, test, verbose, parameters, fit_params, score_params, return_train_score, return_parameters, return_n_test_samples, return_times, return_estimator, split_progress, candidate_progress, error_score)\u001b[0m\n\u001b[0;32m    893\u001b[0m         estimator\u001b[38;5;241m.\u001b[39mfit(X_train, \u001b[38;5;241m*\u001b[39m\u001b[38;5;241m*\u001b[39mfit_params)\n\u001b[0;32m    894\u001b[0m     \u001b[38;5;28;01melse\u001b[39;00m:\n\u001b[1;32m--> 895\u001b[0m         \u001b[43mestimator\u001b[49m\u001b[38;5;241;43m.\u001b[39;49m\u001b[43mfit\u001b[49m\u001b[43m(\u001b[49m\u001b[43mX_train\u001b[49m\u001b[43m,\u001b[49m\u001b[43m \u001b[49m\u001b[43my_train\u001b[49m\u001b[43m,\u001b[49m\u001b[43m \u001b[49m\u001b[38;5;241;43m*\u001b[39;49m\u001b[38;5;241;43m*\u001b[39;49m\u001b[43mfit_params\u001b[49m\u001b[43m)\u001b[49m\n\u001b[0;32m    897\u001b[0m \u001b[38;5;28;01mexcept\u001b[39;00m \u001b[38;5;167;01mException\u001b[39;00m:\n\u001b[0;32m    898\u001b[0m     \u001b[38;5;66;03m# Note fit time as time until error\u001b[39;00m\n\u001b[0;32m    899\u001b[0m     fit_time \u001b[38;5;241m=\u001b[39m time\u001b[38;5;241m.\u001b[39mtime() \u001b[38;5;241m-\u001b[39m start_time\n",
      "File \u001b[1;32mc:\\Users\\Ioana\\AppData\\Local\\Programs\\Python\\Python312\\Lib\\site-packages\\sklearn\\base.py:1474\u001b[0m, in \u001b[0;36m_fit_context.<locals>.decorator.<locals>.wrapper\u001b[1;34m(estimator, *args, **kwargs)\u001b[0m\n\u001b[0;32m   1467\u001b[0m     estimator\u001b[38;5;241m.\u001b[39m_validate_params()\n\u001b[0;32m   1469\u001b[0m \u001b[38;5;28;01mwith\u001b[39;00m config_context(\n\u001b[0;32m   1470\u001b[0m     skip_parameter_validation\u001b[38;5;241m=\u001b[39m(\n\u001b[0;32m   1471\u001b[0m         prefer_skip_nested_validation \u001b[38;5;129;01mor\u001b[39;00m global_skip_validation\n\u001b[0;32m   1472\u001b[0m     )\n\u001b[0;32m   1473\u001b[0m ):\n\u001b[1;32m-> 1474\u001b[0m     \u001b[38;5;28;01mreturn\u001b[39;00m \u001b[43mfit_method\u001b[49m\u001b[43m(\u001b[49m\u001b[43mestimator\u001b[49m\u001b[43m,\u001b[49m\u001b[43m \u001b[49m\u001b[38;5;241;43m*\u001b[39;49m\u001b[43margs\u001b[49m\u001b[43m,\u001b[49m\u001b[43m \u001b[49m\u001b[38;5;241;43m*\u001b[39;49m\u001b[38;5;241;43m*\u001b[39;49m\u001b[43mkwargs\u001b[49m\u001b[43m)\u001b[49m\n",
      "File \u001b[1;32mc:\\Users\\Ioana\\AppData\\Local\\Programs\\Python\\Python312\\Lib\\site-packages\\sklearn\\ensemble\\_forest.py:489\u001b[0m, in \u001b[0;36mBaseForest.fit\u001b[1;34m(self, X, y, sample_weight)\u001b[0m\n\u001b[0;32m    478\u001b[0m trees \u001b[38;5;241m=\u001b[39m [\n\u001b[0;32m    479\u001b[0m     \u001b[38;5;28mself\u001b[39m\u001b[38;5;241m.\u001b[39m_make_estimator(append\u001b[38;5;241m=\u001b[39m\u001b[38;5;28;01mFalse\u001b[39;00m, random_state\u001b[38;5;241m=\u001b[39mrandom_state)\n\u001b[0;32m    480\u001b[0m     \u001b[38;5;28;01mfor\u001b[39;00m i \u001b[38;5;129;01min\u001b[39;00m \u001b[38;5;28mrange\u001b[39m(n_more_estimators)\n\u001b[0;32m    481\u001b[0m ]\n\u001b[0;32m    483\u001b[0m \u001b[38;5;66;03m# Parallel loop: we prefer the threading backend as the Cython code\u001b[39;00m\n\u001b[0;32m    484\u001b[0m \u001b[38;5;66;03m# for fitting the trees is internally releasing the Python GIL\u001b[39;00m\n\u001b[0;32m    485\u001b[0m \u001b[38;5;66;03m# making threading more efficient than multiprocessing in\u001b[39;00m\n\u001b[0;32m    486\u001b[0m \u001b[38;5;66;03m# that case. However, for joblib 0.12+ we respect any\u001b[39;00m\n\u001b[0;32m    487\u001b[0m \u001b[38;5;66;03m# parallel_backend contexts set at a higher level,\u001b[39;00m\n\u001b[0;32m    488\u001b[0m \u001b[38;5;66;03m# since correctness does not rely on using threads.\u001b[39;00m\n\u001b[1;32m--> 489\u001b[0m trees \u001b[38;5;241m=\u001b[39m \u001b[43mParallel\u001b[49m\u001b[43m(\u001b[49m\n\u001b[0;32m    490\u001b[0m \u001b[43m    \u001b[49m\u001b[43mn_jobs\u001b[49m\u001b[38;5;241;43m=\u001b[39;49m\u001b[38;5;28;43mself\u001b[39;49m\u001b[38;5;241;43m.\u001b[39;49m\u001b[43mn_jobs\u001b[49m\u001b[43m,\u001b[49m\n\u001b[0;32m    491\u001b[0m \u001b[43m    \u001b[49m\u001b[43mverbose\u001b[49m\u001b[38;5;241;43m=\u001b[39;49m\u001b[38;5;28;43mself\u001b[39;49m\u001b[38;5;241;43m.\u001b[39;49m\u001b[43mverbose\u001b[49m\u001b[43m,\u001b[49m\n\u001b[0;32m    492\u001b[0m \u001b[43m    \u001b[49m\u001b[43mprefer\u001b[49m\u001b[38;5;241;43m=\u001b[39;49m\u001b[38;5;124;43m\"\u001b[39;49m\u001b[38;5;124;43mthreads\u001b[39;49m\u001b[38;5;124;43m\"\u001b[39;49m\u001b[43m,\u001b[49m\n\u001b[0;32m    493\u001b[0m \u001b[43m\u001b[49m\u001b[43m)\u001b[49m\u001b[43m(\u001b[49m\n\u001b[0;32m    494\u001b[0m \u001b[43m    \u001b[49m\u001b[43mdelayed\u001b[49m\u001b[43m(\u001b[49m\u001b[43m_parallel_build_trees\u001b[49m\u001b[43m)\u001b[49m\u001b[43m(\u001b[49m\n\u001b[0;32m    495\u001b[0m \u001b[43m        \u001b[49m\u001b[43mt\u001b[49m\u001b[43m,\u001b[49m\n\u001b[0;32m    496\u001b[0m \u001b[43m        \u001b[49m\u001b[38;5;28;43mself\u001b[39;49m\u001b[38;5;241;43m.\u001b[39;49m\u001b[43mbootstrap\u001b[49m\u001b[43m,\u001b[49m\n\u001b[0;32m    497\u001b[0m \u001b[43m        \u001b[49m\u001b[43mX\u001b[49m\u001b[43m,\u001b[49m\n\u001b[0;32m    498\u001b[0m \u001b[43m        \u001b[49m\u001b[43my\u001b[49m\u001b[43m,\u001b[49m\n\u001b[0;32m    499\u001b[0m \u001b[43m        \u001b[49m\u001b[43msample_weight\u001b[49m\u001b[43m,\u001b[49m\n\u001b[0;32m    500\u001b[0m \u001b[43m        \u001b[49m\u001b[43mi\u001b[49m\u001b[43m,\u001b[49m\n\u001b[0;32m    501\u001b[0m \u001b[43m        \u001b[49m\u001b[38;5;28;43mlen\u001b[39;49m\u001b[43m(\u001b[49m\u001b[43mtrees\u001b[49m\u001b[43m)\u001b[49m\u001b[43m,\u001b[49m\n\u001b[0;32m    502\u001b[0m \u001b[43m        \u001b[49m\u001b[43mverbose\u001b[49m\u001b[38;5;241;43m=\u001b[39;49m\u001b[38;5;28;43mself\u001b[39;49m\u001b[38;5;241;43m.\u001b[39;49m\u001b[43mverbose\u001b[49m\u001b[43m,\u001b[49m\n\u001b[0;32m    503\u001b[0m \u001b[43m        \u001b[49m\u001b[43mclass_weight\u001b[49m\u001b[38;5;241;43m=\u001b[39;49m\u001b[38;5;28;43mself\u001b[39;49m\u001b[38;5;241;43m.\u001b[39;49m\u001b[43mclass_weight\u001b[49m\u001b[43m,\u001b[49m\n\u001b[0;32m    504\u001b[0m \u001b[43m        \u001b[49m\u001b[43mn_samples_bootstrap\u001b[49m\u001b[38;5;241;43m=\u001b[39;49m\u001b[43mn_samples_bootstrap\u001b[49m\u001b[43m,\u001b[49m\n\u001b[0;32m    505\u001b[0m \u001b[43m        \u001b[49m\u001b[43mmissing_values_in_feature_mask\u001b[49m\u001b[38;5;241;43m=\u001b[39;49m\u001b[43mmissing_values_in_feature_mask\u001b[49m\u001b[43m,\u001b[49m\n\u001b[0;32m    506\u001b[0m \u001b[43m    \u001b[49m\u001b[43m)\u001b[49m\n\u001b[0;32m    507\u001b[0m \u001b[43m    \u001b[49m\u001b[38;5;28;43;01mfor\u001b[39;49;00m\u001b[43m \u001b[49m\u001b[43mi\u001b[49m\u001b[43m,\u001b[49m\u001b[43m \u001b[49m\u001b[43mt\u001b[49m\u001b[43m \u001b[49m\u001b[38;5;129;43;01min\u001b[39;49;00m\u001b[43m \u001b[49m\u001b[38;5;28;43menumerate\u001b[39;49m\u001b[43m(\u001b[49m\u001b[43mtrees\u001b[49m\u001b[43m)\u001b[49m\n\u001b[0;32m    508\u001b[0m \u001b[43m\u001b[49m\u001b[43m)\u001b[49m\n\u001b[0;32m    510\u001b[0m \u001b[38;5;66;03m# Collect newly grown trees\u001b[39;00m\n\u001b[0;32m    511\u001b[0m \u001b[38;5;28mself\u001b[39m\u001b[38;5;241m.\u001b[39mestimators_\u001b[38;5;241m.\u001b[39mextend(trees)\n",
      "File \u001b[1;32mc:\\Users\\Ioana\\AppData\\Local\\Programs\\Python\\Python312\\Lib\\site-packages\\sklearn\\utils\\parallel.py:67\u001b[0m, in \u001b[0;36mParallel.__call__\u001b[1;34m(self, iterable)\u001b[0m\n\u001b[0;32m     62\u001b[0m config \u001b[38;5;241m=\u001b[39m get_config()\n\u001b[0;32m     63\u001b[0m iterable_with_config \u001b[38;5;241m=\u001b[39m (\n\u001b[0;32m     64\u001b[0m     (_with_config(delayed_func, config), args, kwargs)\n\u001b[0;32m     65\u001b[0m     \u001b[38;5;28;01mfor\u001b[39;00m delayed_func, args, kwargs \u001b[38;5;129;01min\u001b[39;00m iterable\n\u001b[0;32m     66\u001b[0m )\n\u001b[1;32m---> 67\u001b[0m \u001b[38;5;28;01mreturn\u001b[39;00m \u001b[38;5;28;43msuper\u001b[39;49m\u001b[43m(\u001b[49m\u001b[43m)\u001b[49m\u001b[38;5;241;43m.\u001b[39;49m\u001b[38;5;21;43m__call__\u001b[39;49m\u001b[43m(\u001b[49m\u001b[43miterable_with_config\u001b[49m\u001b[43m)\u001b[49m\n",
      "File \u001b[1;32mc:\\Users\\Ioana\\AppData\\Local\\Programs\\Python\\Python312\\Lib\\site-packages\\joblib\\parallel.py:1863\u001b[0m, in \u001b[0;36mParallel.__call__\u001b[1;34m(self, iterable)\u001b[0m\n\u001b[0;32m   1861\u001b[0m     output \u001b[38;5;241m=\u001b[39m \u001b[38;5;28mself\u001b[39m\u001b[38;5;241m.\u001b[39m_get_sequential_output(iterable)\n\u001b[0;32m   1862\u001b[0m     \u001b[38;5;28mnext\u001b[39m(output)\n\u001b[1;32m-> 1863\u001b[0m     \u001b[38;5;28;01mreturn\u001b[39;00m output \u001b[38;5;28;01mif\u001b[39;00m \u001b[38;5;28mself\u001b[39m\u001b[38;5;241m.\u001b[39mreturn_generator \u001b[38;5;28;01melse\u001b[39;00m \u001b[38;5;28;43mlist\u001b[39;49m\u001b[43m(\u001b[49m\u001b[43moutput\u001b[49m\u001b[43m)\u001b[49m\n\u001b[0;32m   1865\u001b[0m \u001b[38;5;66;03m# Let's create an ID that uniquely identifies the current call. If the\u001b[39;00m\n\u001b[0;32m   1866\u001b[0m \u001b[38;5;66;03m# call is interrupted early and that the same instance is immediately\u001b[39;00m\n\u001b[0;32m   1867\u001b[0m \u001b[38;5;66;03m# re-used, this id will be used to prevent workers that were\u001b[39;00m\n\u001b[0;32m   1868\u001b[0m \u001b[38;5;66;03m# concurrently finalizing a task from the previous call to run the\u001b[39;00m\n\u001b[0;32m   1869\u001b[0m \u001b[38;5;66;03m# callback.\u001b[39;00m\n\u001b[0;32m   1870\u001b[0m \u001b[38;5;28;01mwith\u001b[39;00m \u001b[38;5;28mself\u001b[39m\u001b[38;5;241m.\u001b[39m_lock:\n",
      "File \u001b[1;32mc:\\Users\\Ioana\\AppData\\Local\\Programs\\Python\\Python312\\Lib\\site-packages\\joblib\\parallel.py:1792\u001b[0m, in \u001b[0;36mParallel._get_sequential_output\u001b[1;34m(self, iterable)\u001b[0m\n\u001b[0;32m   1790\u001b[0m \u001b[38;5;28mself\u001b[39m\u001b[38;5;241m.\u001b[39mn_dispatched_batches \u001b[38;5;241m+\u001b[39m\u001b[38;5;241m=\u001b[39m \u001b[38;5;241m1\u001b[39m\n\u001b[0;32m   1791\u001b[0m \u001b[38;5;28mself\u001b[39m\u001b[38;5;241m.\u001b[39mn_dispatched_tasks \u001b[38;5;241m+\u001b[39m\u001b[38;5;241m=\u001b[39m \u001b[38;5;241m1\u001b[39m\n\u001b[1;32m-> 1792\u001b[0m res \u001b[38;5;241m=\u001b[39m \u001b[43mfunc\u001b[49m\u001b[43m(\u001b[49m\u001b[38;5;241;43m*\u001b[39;49m\u001b[43margs\u001b[49m\u001b[43m,\u001b[49m\u001b[43m \u001b[49m\u001b[38;5;241;43m*\u001b[39;49m\u001b[38;5;241;43m*\u001b[39;49m\u001b[43mkwargs\u001b[49m\u001b[43m)\u001b[49m\n\u001b[0;32m   1793\u001b[0m \u001b[38;5;28mself\u001b[39m\u001b[38;5;241m.\u001b[39mn_completed_tasks \u001b[38;5;241m+\u001b[39m\u001b[38;5;241m=\u001b[39m \u001b[38;5;241m1\u001b[39m\n\u001b[0;32m   1794\u001b[0m \u001b[38;5;28mself\u001b[39m\u001b[38;5;241m.\u001b[39mprint_progress()\n",
      "File \u001b[1;32mc:\\Users\\Ioana\\AppData\\Local\\Programs\\Python\\Python312\\Lib\\site-packages\\sklearnex\\utils\\parallel.py:46\u001b[0m, in \u001b[0;36m_FuncWrapper.__call__\u001b[1;34m(self, *args, **kwargs)\u001b[0m\n\u001b[0;32m     44\u001b[0m     config \u001b[38;5;241m=\u001b[39m {}\n\u001b[0;32m     45\u001b[0m \u001b[38;5;28;01mwith\u001b[39;00m config_context(\u001b[38;5;241m*\u001b[39m\u001b[38;5;241m*\u001b[39mconfig):\n\u001b[1;32m---> 46\u001b[0m     \u001b[38;5;28;01mreturn\u001b[39;00m \u001b[38;5;28;43mself\u001b[39;49m\u001b[38;5;241;43m.\u001b[39;49m\u001b[43mfunction\u001b[49m\u001b[43m(\u001b[49m\u001b[38;5;241;43m*\u001b[39;49m\u001b[43margs\u001b[49m\u001b[43m,\u001b[49m\u001b[43m \u001b[49m\u001b[38;5;241;43m*\u001b[39;49m\u001b[38;5;241;43m*\u001b[39;49m\u001b[43mkwargs\u001b[49m\u001b[43m)\u001b[49m\n",
      "File \u001b[1;32mc:\\Users\\Ioana\\AppData\\Local\\Programs\\Python\\Python312\\Lib\\site-packages\\sklearn\\ensemble\\_forest.py:200\u001b[0m, in \u001b[0;36m_parallel_build_trees\u001b[1;34m(tree, bootstrap, X, y, sample_weight, tree_idx, n_trees, verbose, class_weight, n_samples_bootstrap, missing_values_in_feature_mask)\u001b[0m\n\u001b[0;32m    192\u001b[0m     tree\u001b[38;5;241m.\u001b[39m_fit(\n\u001b[0;32m    193\u001b[0m         X,\n\u001b[0;32m    194\u001b[0m         y,\n\u001b[1;32m   (...)\u001b[0m\n\u001b[0;32m    197\u001b[0m         missing_values_in_feature_mask\u001b[38;5;241m=\u001b[39mmissing_values_in_feature_mask,\n\u001b[0;32m    198\u001b[0m     )\n\u001b[0;32m    199\u001b[0m \u001b[38;5;28;01melse\u001b[39;00m:\n\u001b[1;32m--> 200\u001b[0m     \u001b[43mtree\u001b[49m\u001b[38;5;241;43m.\u001b[39;49m\u001b[43m_fit\u001b[49m\u001b[43m(\u001b[49m\n\u001b[0;32m    201\u001b[0m \u001b[43m        \u001b[49m\u001b[43mX\u001b[49m\u001b[43m,\u001b[49m\n\u001b[0;32m    202\u001b[0m \u001b[43m        \u001b[49m\u001b[43my\u001b[49m\u001b[43m,\u001b[49m\n\u001b[0;32m    203\u001b[0m \u001b[43m        \u001b[49m\u001b[43msample_weight\u001b[49m\u001b[38;5;241;43m=\u001b[39;49m\u001b[43msample_weight\u001b[49m\u001b[43m,\u001b[49m\n\u001b[0;32m    204\u001b[0m \u001b[43m        \u001b[49m\u001b[43mcheck_input\u001b[49m\u001b[38;5;241;43m=\u001b[39;49m\u001b[38;5;28;43;01mFalse\u001b[39;49;00m\u001b[43m,\u001b[49m\n\u001b[0;32m    205\u001b[0m \u001b[43m        \u001b[49m\u001b[43mmissing_values_in_feature_mask\u001b[49m\u001b[38;5;241;43m=\u001b[39;49m\u001b[43mmissing_values_in_feature_mask\u001b[49m\u001b[43m,\u001b[49m\n\u001b[0;32m    206\u001b[0m \u001b[43m    \u001b[49m\u001b[43m)\u001b[49m\n\u001b[0;32m    208\u001b[0m \u001b[38;5;28;01mreturn\u001b[39;00m tree\n",
      "File \u001b[1;32mc:\\Users\\Ioana\\AppData\\Local\\Programs\\Python\\Python312\\Lib\\site-packages\\sklearn\\tree\\_classes.py:472\u001b[0m, in \u001b[0;36mBaseDecisionTree._fit\u001b[1;34m(self, X, y, sample_weight, check_input, missing_values_in_feature_mask)\u001b[0m\n\u001b[0;32m    461\u001b[0m \u001b[38;5;28;01melse\u001b[39;00m:\n\u001b[0;32m    462\u001b[0m     builder \u001b[38;5;241m=\u001b[39m BestFirstTreeBuilder(\n\u001b[0;32m    463\u001b[0m         splitter,\n\u001b[0;32m    464\u001b[0m         min_samples_split,\n\u001b[1;32m   (...)\u001b[0m\n\u001b[0;32m    469\u001b[0m         \u001b[38;5;28mself\u001b[39m\u001b[38;5;241m.\u001b[39mmin_impurity_decrease,\n\u001b[0;32m    470\u001b[0m     )\n\u001b[1;32m--> 472\u001b[0m \u001b[43mbuilder\u001b[49m\u001b[38;5;241;43m.\u001b[39;49m\u001b[43mbuild\u001b[49m\u001b[43m(\u001b[49m\u001b[38;5;28;43mself\u001b[39;49m\u001b[38;5;241;43m.\u001b[39;49m\u001b[43mtree_\u001b[49m\u001b[43m,\u001b[49m\u001b[43m \u001b[49m\u001b[43mX\u001b[49m\u001b[43m,\u001b[49m\u001b[43m \u001b[49m\u001b[43my\u001b[49m\u001b[43m,\u001b[49m\u001b[43m \u001b[49m\u001b[43msample_weight\u001b[49m\u001b[43m,\u001b[49m\u001b[43m \u001b[49m\u001b[43mmissing_values_in_feature_mask\u001b[49m\u001b[43m)\u001b[49m\n\u001b[0;32m    474\u001b[0m \u001b[38;5;28;01mif\u001b[39;00m \u001b[38;5;28mself\u001b[39m\u001b[38;5;241m.\u001b[39mn_outputs_ \u001b[38;5;241m==\u001b[39m \u001b[38;5;241m1\u001b[39m \u001b[38;5;129;01mand\u001b[39;00m is_classifier(\u001b[38;5;28mself\u001b[39m):\n\u001b[0;32m    475\u001b[0m     \u001b[38;5;28mself\u001b[39m\u001b[38;5;241m.\u001b[39mn_classes_ \u001b[38;5;241m=\u001b[39m \u001b[38;5;28mself\u001b[39m\u001b[38;5;241m.\u001b[39mn_classes_[\u001b[38;5;241m0\u001b[39m]\n",
      "\u001b[1;31mKeyboardInterrupt\u001b[0m: "
     ]
    }
   ],
   "source": [
    "warnings.filterwarnings('ignore')\n",
    "patch_sklearn()\n",
    "\n",
    "skf = StratifiedKFold(n_splits=5, shuffle=True, random_state=42)\n",
    "accuracy_scores = cross_val_score(random_forest, X_train, y_train, cv=skf, scoring='accuracy')# average accuracy score\n",
    "print(\"Accuracy scores for each fold:\", accuracy_scores)\n",
    "average_accuracy = accuracy_scores.mean()\n",
    "print(\"Average accuracy score:\", average_accuracy)"
   ]
  },
  {
   "cell_type": "markdown",
   "metadata": {},
   "source": [
    "### Inference"
   ]
  },
  {
   "cell_type": "code",
   "execution_count": null,
   "metadata": {},
   "outputs": [
    {
     "data": {
      "text/html": [
       "<div>\n",
       "<style scoped>\n",
       "    .dataframe tbody tr th:only-of-type {\n",
       "        vertical-align: middle;\n",
       "    }\n",
       "\n",
       "    .dataframe tbody tr th {\n",
       "        vertical-align: top;\n",
       "    }\n",
       "\n",
       "    .dataframe thead th {\n",
       "        text-align: right;\n",
       "    }\n",
       "</style>\n",
       "<table border=\"1\" class=\"dataframe\">\n",
       "  <thead>\n",
       "    <tr style=\"text-align: right;\">\n",
       "      <th></th>\n",
       "      <th>Probability</th>\n",
       "    </tr>\n",
       "  </thead>\n",
       "  <tbody>\n",
       "    <tr>\n",
       "      <th>0</th>\n",
       "      <td>0.095000</td>\n",
       "    </tr>\n",
       "    <tr>\n",
       "      <th>1</th>\n",
       "      <td>0.713417</td>\n",
       "    </tr>\n",
       "    <tr>\n",
       "      <th>2</th>\n",
       "      <td>0.141189</td>\n",
       "    </tr>\n",
       "    <tr>\n",
       "      <th>3</th>\n",
       "      <td>0.050394</td>\n",
       "    </tr>\n",
       "  </tbody>\n",
       "</table>\n",
       "</div>"
      ],
      "text/plain": [
       "   Probability\n",
       "0     0.095000\n",
       "1     0.713417\n",
       "2     0.141189\n",
       "3     0.050394"
      ]
     },
     "execution_count": 80,
     "metadata": {},
     "output_type": "execute_result"
    }
   ],
   "source": [
    "warnings.filterwarnings('ignore')\n",
    "today = date.today()\n",
    "\n",
    "hour = 7\n",
    "road = 2\n",
    "direction = 0\n",
    "weekday = today.weekday()\n",
    "dayofyear = today.timetuple().tm_yday\n",
    "year = today.year\n",
    "dayofmonth = today.day\n",
    "\n",
    "X_inference = pd.DataFrame([{\"Hour\": hour, \n",
    "                             \"RoadNumber\": road,\n",
    "                             \"Weekday\": weekday,\n",
    "                             \"DayofYear\": dayofyear,\n",
    "                             \"Year\": year,\n",
    "                             \"DayofMonth\": dayofmonth,\n",
    "                             \"HectometerDirectionNum\": direction}])\n",
    "\n",
    "prediction = random_forest.predict_proba(X_inference)\n",
    "\n",
    "result = pd.DataFrame()\n",
    "result[\"Probability\"] = prediction[0]\n",
    "\n",
    "result"
   ]
  }
 ],
 "metadata": {
  "kernelspec": {
   "display_name": "Python 3",
   "language": "python",
   "name": "python3"
  },
  "language_info": {
   "codemirror_mode": {
    "name": "ipython",
    "version": 3
   },
   "file_extension": ".py",
   "mimetype": "text/x-python",
   "name": "python",
   "nbconvert_exporter": "python",
   "pygments_lexer": "ipython3",
   "version": "3.12.2"
  }
 },
 "nbformat": 4,
 "nbformat_minor": 2
}
