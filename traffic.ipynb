{
 "cells": [
  {
   "cell_type": "code",
   "execution_count": 77,
   "metadata": {},
   "outputs": [],
   "source": [
    "import pandas as pd\n",
    "import numpy as np\n",
    "import seaborn as sns\n",
    "import math\n",
    "from datetime import date\n",
    "import matplotlib.pyplot as plt\n",
    "from sklearn.ensemble import RandomForestClassifier\n",
    "from sklearn.model_selection import train_test_split\n",
    "from sklearn.metrics import accuracy_score\n",
    "from sklearnex import patch_sklearn\n",
    "from sklearn.metrics import classification_report\n",
    "from sklearn.model_selection import cross_val_score, StratifiedKFold\n",
    "import warnings"
   ]
  },
  {
   "cell_type": "markdown",
   "metadata": {},
   "source": [
    "## Traffic data\n",
    "The traffic data that is imported here is taken from the **TrafficDataCleaning file**, where detailed steps about the cleaning of the dataset have been specified as well as a data dictionary with data requirements. \n",
    "### Importing the data"
   ]
  },
  {
   "cell_type": "code",
   "execution_count": 3,
   "metadata": {},
   "outputs": [
    {
     "data": {
      "text/html": [
       "<div>\n",
       "<style scoped>\n",
       "    .dataframe tbody tr th:only-of-type {\n",
       "        vertical-align: middle;\n",
       "    }\n",
       "\n",
       "    .dataframe tbody tr th {\n",
       "        vertical-align: top;\n",
       "    }\n",
       "\n",
       "    .dataframe thead th {\n",
       "        text-align: right;\n",
       "    }\n",
       "</style>\n",
       "<table border=\"1\" class=\"dataframe\">\n",
       "  <thead>\n",
       "    <tr style=\"text-align: right;\">\n",
       "      <th></th>\n",
       "      <th>TrafficJamNum</th>\n",
       "      <th>StartDate</th>\n",
       "      <th>EndDate</th>\n",
       "      <th>StartTime</th>\n",
       "      <th>EndTime</th>\n",
       "      <th>Severity</th>\n",
       "      <th>Length</th>\n",
       "      <th>Duration</th>\n",
       "      <th>HectometerStart</th>\n",
       "      <th>HectometerEnd</th>\n",
       "      <th>...</th>\n",
       "      <th>CauseCodeDescr</th>\n",
       "      <th>CauseClass</th>\n",
       "      <th>CauseCodeClass</th>\n",
       "      <th>CauseCode</th>\n",
       "      <th>Cause_1</th>\n",
       "      <th>Cause_2</th>\n",
       "      <th>Cause_3</th>\n",
       "      <th>Cause_4</th>\n",
       "      <th>StartDateTime</th>\n",
       "      <th>EndDateTime</th>\n",
       "    </tr>\n",
       "  </thead>\n",
       "  <tbody>\n",
       "    <tr>\n",
       "      <th>653514</th>\n",
       "      <td>3881935</td>\n",
       "      <td>2023-12-14</td>\n",
       "      <td>2023-12-14</td>\n",
       "      <td>17:29:31</td>\n",
       "      <td>17:42:00</td>\n",
       "      <td>31.168</td>\n",
       "      <td>2497.000</td>\n",
       "      <td>12.483</td>\n",
       "      <td>45.0</td>\n",
       "      <td>43.2</td>\n",
       "      <td>...</td>\n",
       "      <td>Spitsfile (geen oorzaak gemeld)</td>\n",
       "      <td>[Geen oorzaakcode opgegeven door VWM 12]</td>\n",
       "      <td>[000]</td>\n",
       "      <td>001</td>\n",
       "      <td>Spitsfile (geen oorzaak gemeld)</td>\n",
       "      <td>Geen oorzaak gemeld</td>\n",
       "      <td>Drukte</td>\n",
       "      <td>Hoge intensiteit</td>\n",
       "      <td>2023-12-14 17:29:31</td>\n",
       "      <td>2023-12-14 17:42:00</td>\n",
       "    </tr>\n",
       "    <tr>\n",
       "      <th>1646351</th>\n",
       "      <td>2829613</td>\n",
       "      <td>2021-07-01</td>\n",
       "      <td>2021-07-01</td>\n",
       "      <td>8:00:00</td>\n",
       "      <td>8:29:03</td>\n",
       "      <td>90.250</td>\n",
       "      <td>3106.713</td>\n",
       "      <td>29.050</td>\n",
       "      <td>24.6</td>\n",
       "      <td>28.6</td>\n",
       "      <td>...</td>\n",
       "      <td>Spitsfile (geen oorzaak gemeld)</td>\n",
       "      <td>[Geen oorzaakcode opgegeven door VWM 29]</td>\n",
       "      <td>[000]</td>\n",
       "      <td>001</td>\n",
       "      <td>Spitsfile (geen oorzaak gemeld)</td>\n",
       "      <td>Geen oorzaak gemeld</td>\n",
       "      <td>Drukte</td>\n",
       "      <td>Hoge intensiteit</td>\n",
       "      <td>2021-07-01 08:00:00</td>\n",
       "      <td>2021-07-01 08:29:03</td>\n",
       "    </tr>\n",
       "    <tr>\n",
       "      <th>1520576</th>\n",
       "      <td>2944953</td>\n",
       "      <td>2022-02-25</td>\n",
       "      <td>2022-02-25</td>\n",
       "      <td>15:53:35</td>\n",
       "      <td>15:59:01</td>\n",
       "      <td>16.868</td>\n",
       "      <td>3105.000</td>\n",
       "      <td>5.433</td>\n",
       "      <td>57.2</td>\n",
       "      <td>55.0</td>\n",
       "      <td>...</td>\n",
       "      <td>Spitsfile (geen oorzaak gemeld)</td>\n",
       "      <td>[Geen oorzaakcode opgegeven door VWM 5]</td>\n",
       "      <td>[000]</td>\n",
       "      <td>001</td>\n",
       "      <td>Spitsfile (geen oorzaak gemeld)</td>\n",
       "      <td>Geen oorzaak gemeld</td>\n",
       "      <td>Drukte</td>\n",
       "      <td>Hoge intensiteit</td>\n",
       "      <td>2022-02-25 15:53:35</td>\n",
       "      <td>2022-02-25 15:59:01</td>\n",
       "    </tr>\n",
       "  </tbody>\n",
       "</table>\n",
       "<p>3 rows × 28 columns</p>\n",
       "</div>"
      ],
      "text/plain": [
       "         TrafficJamNum   StartDate     EndDate StartTime   EndTime  Severity  \\\n",
       "653514         3881935  2023-12-14  2023-12-14  17:29:31  17:42:00    31.168   \n",
       "1646351        2829613  2021-07-01  2021-07-01   8:00:00   8:29:03    90.250   \n",
       "1520576        2944953  2022-02-25  2022-02-25  15:53:35  15:59:01    16.868   \n",
       "\n",
       "           Length  Duration  HectometerStart  HectometerEnd  ...  \\\n",
       "653514   2497.000    12.483             45.0           43.2  ...   \n",
       "1646351  3106.713    29.050             24.6           28.6  ...   \n",
       "1520576  3105.000     5.433             57.2           55.0  ...   \n",
       "\n",
       "                          CauseCodeDescr  \\\n",
       "653514   Spitsfile (geen oorzaak gemeld)   \n",
       "1646351  Spitsfile (geen oorzaak gemeld)   \n",
       "1520576  Spitsfile (geen oorzaak gemeld)   \n",
       "\n",
       "                                       CauseClass CauseCodeClass CauseCode  \\\n",
       "653514   [Geen oorzaakcode opgegeven door VWM 12]          [000]       001   \n",
       "1646351  [Geen oorzaakcode opgegeven door VWM 29]          [000]       001   \n",
       "1520576   [Geen oorzaakcode opgegeven door VWM 5]          [000]       001   \n",
       "\n",
       "                                 Cause_1              Cause_2 Cause_3  \\\n",
       "653514   Spitsfile (geen oorzaak gemeld)  Geen oorzaak gemeld  Drukte   \n",
       "1646351  Spitsfile (geen oorzaak gemeld)  Geen oorzaak gemeld  Drukte   \n",
       "1520576  Spitsfile (geen oorzaak gemeld)  Geen oorzaak gemeld  Drukte   \n",
       "\n",
       "                  Cause_4        StartDateTime          EndDateTime  \n",
       "653514   Hoge intensiteit  2023-12-14 17:29:31  2023-12-14 17:42:00  \n",
       "1646351  Hoge intensiteit  2021-07-01 08:00:00  2021-07-01 08:29:03  \n",
       "1520576  Hoge intensiteit  2022-02-25 15:53:35  2022-02-25 15:59:01  \n",
       "\n",
       "[3 rows x 28 columns]"
      ]
     },
     "execution_count": 3,
     "metadata": {},
     "output_type": "execute_result"
    }
   ],
   "source": [
    "traffic_data = pd.read_csv(\"datasets/CleanTraffic.csv\")\n",
    "traffic_data.sample(3)"
   ]
  },
  {
   "cell_type": "code",
   "execution_count": 4,
   "metadata": {},
   "outputs": [
    {
     "data": {
      "text/plain": [
       "(1714882, 28)"
      ]
     },
     "execution_count": 4,
     "metadata": {},
     "output_type": "execute_result"
    }
   ],
   "source": [
    "traffic_data.shape"
   ]
  },
  {
   "cell_type": "markdown",
   "metadata": {},
   "source": [
    "### Checking the data types and missing values"
   ]
  },
  {
   "cell_type": "code",
   "execution_count": 5,
   "metadata": {},
   "outputs": [
    {
     "name": "stdout",
     "output_type": "stream",
     "text": [
      "<class 'pandas.core.frame.DataFrame'>\n",
      "RangeIndex: 1714882 entries, 0 to 1714881\n",
      "Data columns (total 28 columns):\n",
      " #   Column               Dtype  \n",
      "---  ------               -----  \n",
      " 0   TrafficJamNum        int64  \n",
      " 1   StartDate            object \n",
      " 2   EndDate              object \n",
      " 3   StartTime            object \n",
      " 4   EndTime              object \n",
      " 5   Severity             float64\n",
      " 6   Length               float64\n",
      " 7   Duration             float64\n",
      " 8   HectometerStart      float64\n",
      " 9   HectometerEnd        float64\n",
      " 10  RoadLetter           object \n",
      " 11  RoadNumber           int64  \n",
      " 12  RoadDescr            object \n",
      " 13  HectometerDirection  object \n",
      " 14  RoadSectionFrom      object \n",
      " 15  RoadSectionTo        object \n",
      " 16  MainRoadFrom         object \n",
      " 17  MainRoadTo           object \n",
      " 18  CauseCodeDescr       object \n",
      " 19  CauseClass           object \n",
      " 20  CauseCodeClass       object \n",
      " 21  CauseCode            object \n",
      " 22  Cause_1              object \n",
      " 23  Cause_2              object \n",
      " 24  Cause_3              object \n",
      " 25  Cause_4              object \n",
      " 26  StartDateTime        object \n",
      " 27  EndDateTime          object \n",
      "dtypes: float64(5), int64(2), object(21)\n",
      "memory usage: 366.3+ MB\n"
     ]
    }
   ],
   "source": [
    "traffic_data.info()"
   ]
  },
  {
   "cell_type": "code",
   "execution_count": 6,
   "metadata": {},
   "outputs": [
    {
     "data": {
      "text/plain": [
       "TrafficJamNum          0\n",
       "StartDate              0\n",
       "EndDate                0\n",
       "StartTime              0\n",
       "EndTime                0\n",
       "Severity               0\n",
       "Length                 0\n",
       "Duration               0\n",
       "HectometerStart        0\n",
       "HectometerEnd          0\n",
       "RoadLetter             0\n",
       "RoadNumber             0\n",
       "RoadDescr              0\n",
       "HectometerDirection    0\n",
       "RoadSectionFrom        0\n",
       "RoadSectionTo          0\n",
       "MainRoadFrom           0\n",
       "MainRoadTo             0\n",
       "CauseCodeDescr         0\n",
       "CauseClass             0\n",
       "CauseCodeClass         0\n",
       "CauseCode              0\n",
       "Cause_1                0\n",
       "Cause_2                0\n",
       "Cause_3                0\n",
       "Cause_4                0\n",
       "StartDateTime          0\n",
       "EndDateTime            0\n",
       "dtype: int64"
      ]
     },
     "execution_count": 6,
     "metadata": {},
     "output_type": "execute_result"
    }
   ],
   "source": [
    "traffic_data.isna().sum()"
   ]
  },
  {
   "cell_type": "markdown",
   "metadata": {},
   "source": [
    "### Altering data\n",
    "#### Adding hour"
   ]
  },
  {
   "cell_type": "code",
   "execution_count": 7,
   "metadata": {},
   "outputs": [
    {
     "data": {
      "text/html": [
       "<div>\n",
       "<style scoped>\n",
       "    .dataframe tbody tr th:only-of-type {\n",
       "        vertical-align: middle;\n",
       "    }\n",
       "\n",
       "    .dataframe tbody tr th {\n",
       "        vertical-align: top;\n",
       "    }\n",
       "\n",
       "    .dataframe thead th {\n",
       "        text-align: right;\n",
       "    }\n",
       "</style>\n",
       "<table border=\"1\" class=\"dataframe\">\n",
       "  <thead>\n",
       "    <tr style=\"text-align: right;\">\n",
       "      <th></th>\n",
       "      <th>TrafficJamNum</th>\n",
       "      <th>StartDate</th>\n",
       "      <th>EndDate</th>\n",
       "      <th>StartTime</th>\n",
       "      <th>EndTime</th>\n",
       "      <th>Severity</th>\n",
       "      <th>Length</th>\n",
       "      <th>Duration</th>\n",
       "      <th>HectometerStart</th>\n",
       "      <th>HectometerEnd</th>\n",
       "      <th>...</th>\n",
       "      <th>CauseClass</th>\n",
       "      <th>CauseCodeClass</th>\n",
       "      <th>CauseCode</th>\n",
       "      <th>Cause_1</th>\n",
       "      <th>Cause_2</th>\n",
       "      <th>Cause_3</th>\n",
       "      <th>Cause_4</th>\n",
       "      <th>StartDateTime</th>\n",
       "      <th>EndDateTime</th>\n",
       "      <th>Hour</th>\n",
       "    </tr>\n",
       "  </thead>\n",
       "  <tbody>\n",
       "    <tr>\n",
       "      <th>797910</th>\n",
       "      <td>3348341</td>\n",
       "      <td>2023-01-12</td>\n",
       "      <td>2023-01-12</td>\n",
       "      <td>15:37:31</td>\n",
       "      <td>15:39:00</td>\n",
       "      <td>2.967</td>\n",
       "      <td>2000.000</td>\n",
       "      <td>1.483</td>\n",
       "      <td>1.8</td>\n",
       "      <td>3.8</td>\n",
       "      <td>...</td>\n",
       "      <td>[Geen oorzaakcode opgegeven door VWM 1]</td>\n",
       "      <td>[000]</td>\n",
       "      <td>001</td>\n",
       "      <td>Spitsfile (geen oorzaak gemeld)</td>\n",
       "      <td>Geen oorzaak gemeld</td>\n",
       "      <td>Drukte</td>\n",
       "      <td>Hoge intensiteit</td>\n",
       "      <td>2023-01-12 15:37:31</td>\n",
       "      <td>2023-01-12 15:39:00</td>\n",
       "      <td>15</td>\n",
       "    </tr>\n",
       "    <tr>\n",
       "      <th>217698</th>\n",
       "      <td>3853841</td>\n",
       "      <td>2023-11-30</td>\n",
       "      <td>2023-11-30</td>\n",
       "      <td>6:49:25</td>\n",
       "      <td>6:51:00</td>\n",
       "      <td>3.483</td>\n",
       "      <td>2200.000</td>\n",
       "      <td>1.583</td>\n",
       "      <td>21.7</td>\n",
       "      <td>23.9</td>\n",
       "      <td>...</td>\n",
       "      <td>[Geen oorzaakcode opgegeven door VWM 2]</td>\n",
       "      <td>[000]</td>\n",
       "      <td>001</td>\n",
       "      <td>Spitsfile (geen oorzaak gemeld)</td>\n",
       "      <td>Geen oorzaak gemeld</td>\n",
       "      <td>Drukte</td>\n",
       "      <td>Hoge intensiteit</td>\n",
       "      <td>2023-11-30 06:49:25</td>\n",
       "      <td>2023-11-30 06:51:00</td>\n",
       "      <td>6</td>\n",
       "    </tr>\n",
       "    <tr>\n",
       "      <th>1591835</th>\n",
       "      <td>2905087</td>\n",
       "      <td>2021-11-15</td>\n",
       "      <td>2021-11-15</td>\n",
       "      <td>15:33:00</td>\n",
       "      <td>16:04:23</td>\n",
       "      <td>108.195</td>\n",
       "      <td>3447.531</td>\n",
       "      <td>31.383</td>\n",
       "      <td>93.6</td>\n",
       "      <td>91.0</td>\n",
       "      <td>...</td>\n",
       "      <td>[Geen oorzaakcode opgegeven door VWM 7], [Opru...</td>\n",
       "      <td>[000], [CLE], [ACA]</td>\n",
       "      <td>ACI</td>\n",
       "      <td>Ongeval(len)</td>\n",
       "      <td>Ongeval</td>\n",
       "      <td>Ongeval</td>\n",
       "      <td>Ongeval</td>\n",
       "      <td>2021-11-15 15:33:00</td>\n",
       "      <td>2021-11-15 16:04:23</td>\n",
       "      <td>15</td>\n",
       "    </tr>\n",
       "  </tbody>\n",
       "</table>\n",
       "<p>3 rows × 29 columns</p>\n",
       "</div>"
      ],
      "text/plain": [
       "         TrafficJamNum   StartDate     EndDate StartTime   EndTime  Severity  \\\n",
       "797910         3348341  2023-01-12  2023-01-12  15:37:31  15:39:00     2.967   \n",
       "217698         3853841  2023-11-30  2023-11-30   6:49:25   6:51:00     3.483   \n",
       "1591835        2905087  2021-11-15  2021-11-15  15:33:00  16:04:23   108.195   \n",
       "\n",
       "           Length  Duration  HectometerStart  HectometerEnd  ...  \\\n",
       "797910   2000.000     1.483              1.8            3.8  ...   \n",
       "217698   2200.000     1.583             21.7           23.9  ...   \n",
       "1591835  3447.531    31.383             93.6           91.0  ...   \n",
       "\n",
       "                                                CauseClass  \\\n",
       "797910             [Geen oorzaakcode opgegeven door VWM 1]   \n",
       "217698             [Geen oorzaakcode opgegeven door VWM 2]   \n",
       "1591835  [Geen oorzaakcode opgegeven door VWM 7], [Opru...   \n",
       "\n",
       "              CauseCodeClass CauseCode                          Cause_1  \\\n",
       "797910                 [000]       001  Spitsfile (geen oorzaak gemeld)   \n",
       "217698                 [000]       001  Spitsfile (geen oorzaak gemeld)   \n",
       "1591835  [000], [CLE], [ACA]       ACI                     Ongeval(len)   \n",
       "\n",
       "                     Cause_2  Cause_3           Cause_4        StartDateTime  \\\n",
       "797910   Geen oorzaak gemeld   Drukte  Hoge intensiteit  2023-01-12 15:37:31   \n",
       "217698   Geen oorzaak gemeld   Drukte  Hoge intensiteit  2023-11-30 06:49:25   \n",
       "1591835              Ongeval  Ongeval           Ongeval  2021-11-15 15:33:00   \n",
       "\n",
       "                 EndDateTime Hour  \n",
       "797910   2023-01-12 15:39:00   15  \n",
       "217698   2023-11-30 06:51:00    6  \n",
       "1591835  2021-11-15 16:04:23   15  \n",
       "\n",
       "[3 rows x 29 columns]"
      ]
     },
     "execution_count": 7,
     "metadata": {},
     "output_type": "execute_result"
    }
   ],
   "source": [
    "traffic_data['Hour'] = traffic_data['StartTime'].apply(lambda x: x.split(':')[0]).astype(int)\n",
    "traffic_data.sample(3)"
   ]
  },
  {
   "cell_type": "markdown",
   "metadata": {},
   "source": [
    "#### Keeping only relevant roads"
   ]
  },
  {
   "cell_type": "markdown",
   "metadata": {},
   "source": [
    "As we want to only have the specific roads that our client can possibly use to reach the offices, we will prepare the data for joining by filtering on the roads A2 and A73.\n",
    "An important observation is that **A2 leads from Sittard to 's-Hertogenbosch** and vice versa, whereas **A73 leads from Sittard to Boxmeer** and vice versa. Other routes are also possible, but they are significantly slower. Therefore, it is better to focus on those two only for now. Furthermore, they have been suggested by the client as the optimal routes."
   ]
  },
  {
   "cell_type": "code",
   "execution_count": 8,
   "metadata": {},
   "outputs": [
    {
     "data": {
      "text/html": [
       "<div>\n",
       "<style scoped>\n",
       "    .dataframe tbody tr th:only-of-type {\n",
       "        vertical-align: middle;\n",
       "    }\n",
       "\n",
       "    .dataframe tbody tr th {\n",
       "        vertical-align: top;\n",
       "    }\n",
       "\n",
       "    .dataframe thead th {\n",
       "        text-align: right;\n",
       "    }\n",
       "</style>\n",
       "<table border=\"1\" class=\"dataframe\">\n",
       "  <thead>\n",
       "    <tr style=\"text-align: right;\">\n",
       "      <th></th>\n",
       "      <th>TrafficJamNum</th>\n",
       "      <th>StartDate</th>\n",
       "      <th>EndDate</th>\n",
       "      <th>StartTime</th>\n",
       "      <th>EndTime</th>\n",
       "      <th>Severity</th>\n",
       "      <th>Length</th>\n",
       "      <th>Duration</th>\n",
       "      <th>HectometerStart</th>\n",
       "      <th>HectometerEnd</th>\n",
       "      <th>...</th>\n",
       "      <th>CauseClass</th>\n",
       "      <th>CauseCodeClass</th>\n",
       "      <th>CauseCode</th>\n",
       "      <th>Cause_1</th>\n",
       "      <th>Cause_2</th>\n",
       "      <th>Cause_3</th>\n",
       "      <th>Cause_4</th>\n",
       "      <th>StartDateTime</th>\n",
       "      <th>EndDateTime</th>\n",
       "      <th>Hour</th>\n",
       "    </tr>\n",
       "  </thead>\n",
       "  <tbody>\n",
       "    <tr>\n",
       "      <th>1059462</th>\n",
       "      <td>2623126</td>\n",
       "      <td>2019-09-14</td>\n",
       "      <td>2019-09-14</td>\n",
       "      <td>11:18:00</td>\n",
       "      <td>13:00:17</td>\n",
       "      <td>525.467</td>\n",
       "      <td>5137.364</td>\n",
       "      <td>102.283</td>\n",
       "      <td>165.2</td>\n",
       "      <td>167.2</td>\n",
       "      <td>...</td>\n",
       "      <td>[Geen oorzaakcode opgegeven door VWM 1], [Onge...</td>\n",
       "      <td>[000], [ACI], [OCL], [ACA]</td>\n",
       "      <td>ACI</td>\n",
       "      <td>Ongeval(len)</td>\n",
       "      <td>Ongeval</td>\n",
       "      <td>Ongeval</td>\n",
       "      <td>Ongeval</td>\n",
       "      <td>2019-09-14 11:18:00</td>\n",
       "      <td>2019-09-14 13:00:17</td>\n",
       "      <td>11</td>\n",
       "    </tr>\n",
       "    <tr>\n",
       "      <th>33813</th>\n",
       "      <td>4002592</td>\n",
       "      <td>2024-03-25</td>\n",
       "      <td>2024-03-25</td>\n",
       "      <td>17:21:32</td>\n",
       "      <td>17:55:03</td>\n",
       "      <td>62.093</td>\n",
       "      <td>1853.000</td>\n",
       "      <td>33.517</td>\n",
       "      <td>91.9</td>\n",
       "      <td>91.9</td>\n",
       "      <td>...</td>\n",
       "      <td>[Geen oorzaakcode opgegeven door VWM 34]</td>\n",
       "      <td>[000]</td>\n",
       "      <td>001</td>\n",
       "      <td>Spitsfile (geen oorzaak gemeld)</td>\n",
       "      <td>Geen oorzaak gemeld</td>\n",
       "      <td>Drukte</td>\n",
       "      <td>Hoge intensiteit</td>\n",
       "      <td>2024-03-25 17:21:32</td>\n",
       "      <td>2024-03-25 17:55:03</td>\n",
       "      <td>17</td>\n",
       "    </tr>\n",
       "    <tr>\n",
       "      <th>424766</th>\n",
       "      <td>3057534</td>\n",
       "      <td>2022-06-02</td>\n",
       "      <td>2022-06-02</td>\n",
       "      <td>17:12:29</td>\n",
       "      <td>17:18:01</td>\n",
       "      <td>6.640</td>\n",
       "      <td>1200.000</td>\n",
       "      <td>5.533</td>\n",
       "      <td>37.0</td>\n",
       "      <td>37.1</td>\n",
       "      <td>...</td>\n",
       "      <td>[Geen oorzaakcode opgegeven door VWM 6]</td>\n",
       "      <td>[000]</td>\n",
       "      <td>001</td>\n",
       "      <td>Spitsfile (geen oorzaak gemeld)</td>\n",
       "      <td>Geen oorzaak gemeld</td>\n",
       "      <td>Drukte</td>\n",
       "      <td>Hoge intensiteit</td>\n",
       "      <td>2022-06-02 17:12:29</td>\n",
       "      <td>2022-06-02 17:18:01</td>\n",
       "      <td>17</td>\n",
       "    </tr>\n",
       "  </tbody>\n",
       "</table>\n",
       "<p>3 rows × 29 columns</p>\n",
       "</div>"
      ],
      "text/plain": [
       "         TrafficJamNum   StartDate     EndDate StartTime   EndTime  Severity  \\\n",
       "1059462        2623126  2019-09-14  2019-09-14  11:18:00  13:00:17   525.467   \n",
       "33813          4002592  2024-03-25  2024-03-25  17:21:32  17:55:03    62.093   \n",
       "424766         3057534  2022-06-02  2022-06-02  17:12:29  17:18:01     6.640   \n",
       "\n",
       "           Length  Duration  HectometerStart  HectometerEnd  ...  \\\n",
       "1059462  5137.364   102.283            165.2          167.2  ...   \n",
       "33813    1853.000    33.517             91.9           91.9  ...   \n",
       "424766   1200.000     5.533             37.0           37.1  ...   \n",
       "\n",
       "                                                CauseClass  \\\n",
       "1059462  [Geen oorzaakcode opgegeven door VWM 1], [Onge...   \n",
       "33813             [Geen oorzaakcode opgegeven door VWM 34]   \n",
       "424766             [Geen oorzaakcode opgegeven door VWM 6]   \n",
       "\n",
       "                     CauseCodeClass CauseCode  \\\n",
       "1059462  [000], [ACI], [OCL], [ACA]       ACI   \n",
       "33813                         [000]       001   \n",
       "424766                        [000]       001   \n",
       "\n",
       "                                 Cause_1              Cause_2  Cause_3  \\\n",
       "1059462                     Ongeval(len)              Ongeval  Ongeval   \n",
       "33813    Spitsfile (geen oorzaak gemeld)  Geen oorzaak gemeld   Drukte   \n",
       "424766   Spitsfile (geen oorzaak gemeld)  Geen oorzaak gemeld   Drukte   \n",
       "\n",
       "                  Cause_4        StartDateTime          EndDateTime Hour  \n",
       "1059462           Ongeval  2019-09-14 11:18:00  2019-09-14 13:00:17   11  \n",
       "33813    Hoge intensiteit  2024-03-25 17:21:32  2024-03-25 17:55:03   17  \n",
       "424766   Hoge intensiteit  2022-06-02 17:12:29  2022-06-02 17:18:01   17  \n",
       "\n",
       "[3 rows x 29 columns]"
      ]
     },
     "execution_count": 8,
     "metadata": {},
     "output_type": "execute_result"
    }
   ],
   "source": [
    "filtered_traffic= traffic_data[(traffic_data['RoadDescr'] == 'A73') | (traffic_data['RoadDescr'] == 'A2')]\n",
    "filtered_traffic.sample(3)"
   ]
  },
  {
   "cell_type": "code",
   "execution_count": 9,
   "metadata": {},
   "outputs": [
    {
     "data": {
      "text/plain": [
       "array(['aflopend'], dtype=object)"
      ]
     },
     "execution_count": 9,
     "metadata": {},
     "output_type": "execute_result"
    }
   ],
   "source": [
    "denb=filtered_traffic[(filtered_traffic[\"MainRoadFrom\"] == \"'s-Hertogenbosch\")&(filtered_traffic[\"MainRoadTo\"] == \"Utrecht\")]\n",
    "denb[\"HectometerDirection\"].unique()"
   ]
  },
  {
   "cell_type": "markdown",
   "metadata": {},
   "source": [
    "### Making the direction numerical\n",
    "0 = Morning (Sittard - Den Bosch)\n",
    "\n",
    "1 = Afternoon (Den Bosch - Sittard)"
   ]
  },
  {
   "cell_type": "code",
   "execution_count": 10,
   "metadata": {},
   "outputs": [
    {
     "name": "stderr",
     "output_type": "stream",
     "text": [
      "C:\\Users\\zashe\\AppData\\Local\\Temp\\ipykernel_19332\\1781117567.py:1: SettingWithCopyWarning: \n",
      "A value is trying to be set on a copy of a slice from a DataFrame.\n",
      "Try using .loc[row_indexer,col_indexer] = value instead\n",
      "\n",
      "See the caveats in the documentation: https://pandas.pydata.org/pandas-docs/stable/user_guide/indexing.html#returning-a-view-versus-a-copy\n",
      "  filtered_traffic.loc[filtered_traffic[\"HectometerDirection\"]==\"oplopend\", 'HectometerDirectionNum'] = 1\n"
     ]
    },
    {
     "data": {
      "text/html": [
       "<div>\n",
       "<style scoped>\n",
       "    .dataframe tbody tr th:only-of-type {\n",
       "        vertical-align: middle;\n",
       "    }\n",
       "\n",
       "    .dataframe tbody tr th {\n",
       "        vertical-align: top;\n",
       "    }\n",
       "\n",
       "    .dataframe thead th {\n",
       "        text-align: right;\n",
       "    }\n",
       "</style>\n",
       "<table border=\"1\" class=\"dataframe\">\n",
       "  <thead>\n",
       "    <tr style=\"text-align: right;\">\n",
       "      <th></th>\n",
       "      <th>TrafficJamNum</th>\n",
       "      <th>StartDate</th>\n",
       "      <th>EndDate</th>\n",
       "      <th>StartTime</th>\n",
       "      <th>EndTime</th>\n",
       "      <th>Severity</th>\n",
       "      <th>Length</th>\n",
       "      <th>Duration</th>\n",
       "      <th>HectometerStart</th>\n",
       "      <th>HectometerEnd</th>\n",
       "      <th>...</th>\n",
       "      <th>CauseCodeClass</th>\n",
       "      <th>CauseCode</th>\n",
       "      <th>Cause_1</th>\n",
       "      <th>Cause_2</th>\n",
       "      <th>Cause_3</th>\n",
       "      <th>Cause_4</th>\n",
       "      <th>StartDateTime</th>\n",
       "      <th>EndDateTime</th>\n",
       "      <th>Hour</th>\n",
       "      <th>HectometerDirectionNum</th>\n",
       "    </tr>\n",
       "  </thead>\n",
       "  <tbody>\n",
       "    <tr>\n",
       "      <th>361082</th>\n",
       "      <td>3433087</td>\n",
       "      <td>2023-03-15</td>\n",
       "      <td>2023-03-15</td>\n",
       "      <td>7:25:25</td>\n",
       "      <td>7:27:00</td>\n",
       "      <td>3.483</td>\n",
       "      <td>2200.000</td>\n",
       "      <td>1.583</td>\n",
       "      <td>186.0</td>\n",
       "      <td>188.2</td>\n",
       "      <td>...</td>\n",
       "      <td>[000]</td>\n",
       "      <td>001</td>\n",
       "      <td>Spitsfile (geen oorzaak gemeld)</td>\n",
       "      <td>Geen oorzaak gemeld</td>\n",
       "      <td>Drukte</td>\n",
       "      <td>Hoge intensiteit</td>\n",
       "      <td>2023-03-15 07:25:25</td>\n",
       "      <td>2023-03-15 07:27:00</td>\n",
       "      <td>7</td>\n",
       "      <td>0.0</td>\n",
       "    </tr>\n",
       "    <tr>\n",
       "      <th>1496368</th>\n",
       "      <td>2278176</td>\n",
       "      <td>2018-01-18</td>\n",
       "      <td>2018-01-18</td>\n",
       "      <td>6:50:00</td>\n",
       "      <td>7:37:53</td>\n",
       "      <td>171.933</td>\n",
       "      <td>3590.672</td>\n",
       "      <td>47.883</td>\n",
       "      <td>187.4</td>\n",
       "      <td>189.4</td>\n",
       "      <td>...</td>\n",
       "      <td>[000], [ACI], [ACA]</td>\n",
       "      <td>ACI</td>\n",
       "      <td>Ongeval(len)</td>\n",
       "      <td>Ongeval</td>\n",
       "      <td>Ongeval</td>\n",
       "      <td>Ongeval</td>\n",
       "      <td>2018-01-18 06:50:00</td>\n",
       "      <td>2018-01-18 07:37:53</td>\n",
       "      <td>6</td>\n",
       "      <td>0.0</td>\n",
       "    </tr>\n",
       "    <tr>\n",
       "      <th>631367</th>\n",
       "      <td>3647327</td>\n",
       "      <td>2023-07-14</td>\n",
       "      <td>2023-07-14</td>\n",
       "      <td>11:30:28</td>\n",
       "      <td>11:32:00</td>\n",
       "      <td>3.527</td>\n",
       "      <td>2300.000</td>\n",
       "      <td>1.533</td>\n",
       "      <td>60.2</td>\n",
       "      <td>57.9</td>\n",
       "      <td>...</td>\n",
       "      <td>[000]</td>\n",
       "      <td>003</td>\n",
       "      <td>File buiten spits (geen oorzaak gemeld)</td>\n",
       "      <td>Geen oorzaak gemeld</td>\n",
       "      <td>Drukte</td>\n",
       "      <td>Hoge intensiteit</td>\n",
       "      <td>2023-07-14 11:30:28</td>\n",
       "      <td>2023-07-14 11:32:00</td>\n",
       "      <td>11</td>\n",
       "      <td>1.0</td>\n",
       "    </tr>\n",
       "  </tbody>\n",
       "</table>\n",
       "<p>3 rows × 30 columns</p>\n",
       "</div>"
      ],
      "text/plain": [
       "         TrafficJamNum   StartDate     EndDate StartTime   EndTime  Severity  \\\n",
       "361082         3433087  2023-03-15  2023-03-15   7:25:25   7:27:00     3.483   \n",
       "1496368        2278176  2018-01-18  2018-01-18   6:50:00   7:37:53   171.933   \n",
       "631367         3647327  2023-07-14  2023-07-14  11:30:28  11:32:00     3.527   \n",
       "\n",
       "           Length  Duration  HectometerStart  HectometerEnd  ...  \\\n",
       "361082   2200.000     1.583            186.0          188.2  ...   \n",
       "1496368  3590.672    47.883            187.4          189.4  ...   \n",
       "631367   2300.000     1.533             60.2           57.9  ...   \n",
       "\n",
       "              CauseCodeClass  CauseCode  \\\n",
       "361082                 [000]        001   \n",
       "1496368  [000], [ACI], [ACA]        ACI   \n",
       "631367                 [000]        003   \n",
       "\n",
       "                                         Cause_1              Cause_2  \\\n",
       "361082           Spitsfile (geen oorzaak gemeld)  Geen oorzaak gemeld   \n",
       "1496368                             Ongeval(len)              Ongeval   \n",
       "631367   File buiten spits (geen oorzaak gemeld)  Geen oorzaak gemeld   \n",
       "\n",
       "         Cause_3           Cause_4        StartDateTime          EndDateTime  \\\n",
       "361082    Drukte  Hoge intensiteit  2023-03-15 07:25:25  2023-03-15 07:27:00   \n",
       "1496368  Ongeval           Ongeval  2018-01-18 06:50:00  2018-01-18 07:37:53   \n",
       "631367    Drukte  Hoge intensiteit  2023-07-14 11:30:28  2023-07-14 11:32:00   \n",
       "\n",
       "        Hour HectometerDirectionNum  \n",
       "361082     7                    0.0  \n",
       "1496368    6                    0.0  \n",
       "631367    11                    1.0  \n",
       "\n",
       "[3 rows x 30 columns]"
      ]
     },
     "execution_count": 10,
     "metadata": {},
     "output_type": "execute_result"
    }
   ],
   "source": [
    "warnings.filterwarnings('ignore')\n",
    "filtered_traffic.loc[filtered_traffic[\"HectometerDirection\"]==\"oplopend\", 'HectometerDirectionNum'] = 1\n",
    "filtered_traffic.loc[filtered_traffic[\"HectometerDirection\"]==\"aflopend\", 'HectometerDirectionNum'] = 0\n",
    "\n",
    "filtered_traffic.sample(3)"
   ]
  },
  {
   "cell_type": "markdown",
   "metadata": {},
   "source": [
    "### Removing useless columns"
   ]
  },
  {
   "cell_type": "code",
   "execution_count": 11,
   "metadata": {},
   "outputs": [
    {
     "name": "stdout",
     "output_type": "stream",
     "text": [
      "<class 'pandas.core.frame.DataFrame'>\n",
      "Index: 209047 entries, 9 to 1714873\n",
      "Data columns (total 5 columns):\n",
      " #   Column                  Non-Null Count   Dtype         \n",
      "---  ------                  --------------   -----         \n",
      " 0   StartDate               209047 non-null  datetime64[ns]\n",
      " 1   Duration                209047 non-null  float64       \n",
      " 2   RoadNumber              209047 non-null  int64         \n",
      " 3   Hour                    209047 non-null  int32         \n",
      " 4   HectometerDirectionNum  209047 non-null  float64       \n",
      "dtypes: datetime64[ns](1), float64(2), int32(1), int64(1)\n",
      "memory usage: 8.8 MB\n"
     ]
    }
   ],
   "source": [
    "numerical_columns = filtered_traffic.select_dtypes(include=['int64', 'float64', 'int32'])\n",
    "desired_columns = [\"StartDate\", \"Duration\", \"RoadNumber\", \"Hour\", \"HectometerDirectionNum\"]\n",
    "selected_columns = filtered_traffic.loc[:, desired_columns]\n",
    "selected_columns['StartDate'] = pd.to_datetime(selected_columns['StartDate'])\n",
    "selected_columns.info()"
   ]
  },
  {
   "cell_type": "markdown",
   "metadata": {},
   "source": [
    "It can be concluded that the file got imported correctly and is ready to be used further.\n",
    "## Calendar"
   ]
  },
  {
   "cell_type": "code",
   "execution_count": 12,
   "metadata": {},
   "outputs": [
    {
     "name": "stdout",
     "output_type": "stream",
     "text": [
      "<class 'pandas.core.frame.DataFrame'>\n",
      "RangeIndex: 82705 entries, 0 to 82704\n",
      "Data columns (total 2 columns):\n",
      " #   Column     Non-Null Count  Dtype         \n",
      "---  ------     --------------  -----         \n",
      " 0   StartDate  82705 non-null  datetime64[ns]\n",
      " 1   Hour       82705 non-null  int32         \n",
      "dtypes: datetime64[ns](1), int32(1)\n",
      "memory usage: 969.3 KB\n"
     ]
    }
   ],
   "source": [
    "def create_date_table2(start, end):\n",
    "    date_range = pd.date_range(start=start, end=end, freq='h')\n",
    "    df = pd.DataFrame({\"DateTime\": date_range})\n",
    "    df[\"StartDate\"] = df[\"DateTime\"].dt.date\n",
    "    df[\"Hour\"] = df[\"DateTime\"].dt.hour\n",
    "    return df\n",
    "\n",
    "calendar = create_date_table2(start='2015-01-01', end=selected_columns['StartDate'].max())\n",
    "calendar = calendar.drop(calendar.columns[0], axis=1)\n",
    "calendar['StartDate'] = pd.to_datetime(calendar['StartDate'])\n",
    "calendar.info()"
   ]
  },
  {
   "cell_type": "markdown",
   "metadata": {},
   "source": [
    "### Join road A2 and direction 1"
   ]
  },
  {
   "cell_type": "code",
   "execution_count": 13,
   "metadata": {},
   "outputs": [
    {
     "data": {
      "text/html": [
       "<div>\n",
       "<style scoped>\n",
       "    .dataframe tbody tr th:only-of-type {\n",
       "        vertical-align: middle;\n",
       "    }\n",
       "\n",
       "    .dataframe tbody tr th {\n",
       "        vertical-align: top;\n",
       "    }\n",
       "\n",
       "    .dataframe thead th {\n",
       "        text-align: right;\n",
       "    }\n",
       "</style>\n",
       "<table border=\"1\" class=\"dataframe\">\n",
       "  <thead>\n",
       "    <tr style=\"text-align: right;\">\n",
       "      <th></th>\n",
       "      <th>StartDate</th>\n",
       "      <th>Duration</th>\n",
       "      <th>RoadNumber</th>\n",
       "      <th>Hour</th>\n",
       "      <th>HectometerDirectionNum</th>\n",
       "    </tr>\n",
       "  </thead>\n",
       "  <tbody>\n",
       "    <tr>\n",
       "      <th>41493</th>\n",
       "      <td>2024-04-08</td>\n",
       "      <td>1.483</td>\n",
       "      <td>2</td>\n",
       "      <td>8</td>\n",
       "      <td>1.0</td>\n",
       "    </tr>\n",
       "    <tr>\n",
       "      <th>1110279</th>\n",
       "      <td>2020-01-23</td>\n",
       "      <td>26.217</td>\n",
       "      <td>2</td>\n",
       "      <td>17</td>\n",
       "      <td>1.0</td>\n",
       "    </tr>\n",
       "  </tbody>\n",
       "</table>\n",
       "</div>"
      ],
      "text/plain": [
       "         StartDate  Duration  RoadNumber  Hour  HectometerDirectionNum\n",
       "41493   2024-04-08     1.483           2     8                     1.0\n",
       "1110279 2020-01-23    26.217           2    17                     1.0"
      ]
     },
     "execution_count": 13,
     "metadata": {},
     "output_type": "execute_result"
    }
   ],
   "source": [
    "a2d1 = selected_columns[(selected_columns['RoadNumber']==2)&(selected_columns['HectometerDirectionNum']==1)]\n",
    "a2d1.sample(2)"
   ]
  },
  {
   "cell_type": "code",
   "execution_count": 14,
   "metadata": {},
   "outputs": [
    {
     "data": {
      "text/plain": [
       "StartDate                     0\n",
       "Hour                          0\n",
       "Duration                  68061\n",
       "RoadNumber                68061\n",
       "HectometerDirectionNum    68061\n",
       "dtype: int64"
      ]
     },
     "execution_count": 14,
     "metadata": {},
     "output_type": "execute_result"
    }
   ],
   "source": [
    "mergedoutera2d1 = pd.merge(calendar, a2d1, how='left', on=['StartDate', 'Hour'])\n",
    "mergedoutera2d1.isna().sum()"
   ]
  },
  {
   "cell_type": "code",
   "execution_count": 15,
   "metadata": {},
   "outputs": [
    {
     "data": {
      "text/plain": [
       "StartDate                 0\n",
       "Hour                      0\n",
       "Duration                  0\n",
       "RoadNumber                0\n",
       "HectometerDirectionNum    0\n",
       "dtype: int64"
      ]
     },
     "execution_count": 15,
     "metadata": {},
     "output_type": "execute_result"
    }
   ],
   "source": [
    "mergedoutera2d1['Duration'] = mergedoutera2d1['Duration'].fillna(0)\n",
    "mergedoutera2d1['RoadNumber'] = mergedoutera2d1['RoadNumber'].fillna(2)\n",
    "mergedoutera2d1['HectometerDirectionNum'] = mergedoutera2d1['HectometerDirectionNum'].fillna(1)\n",
    "mergedoutera2d1.isna().sum()"
   ]
  },
  {
   "cell_type": "code",
   "execution_count": 16,
   "metadata": {},
   "outputs": [
    {
     "data": {
      "text/html": [
       "<div>\n",
       "<style scoped>\n",
       "    .dataframe tbody tr th:only-of-type {\n",
       "        vertical-align: middle;\n",
       "    }\n",
       "\n",
       "    .dataframe tbody tr th {\n",
       "        vertical-align: top;\n",
       "    }\n",
       "\n",
       "    .dataframe thead th {\n",
       "        text-align: right;\n",
       "    }\n",
       "</style>\n",
       "<table border=\"1\" class=\"dataframe\">\n",
       "  <thead>\n",
       "    <tr style=\"text-align: right;\">\n",
       "      <th></th>\n",
       "      <th>StartDate</th>\n",
       "      <th>Hour</th>\n",
       "      <th>Duration</th>\n",
       "      <th>RoadNumber</th>\n",
       "      <th>HectometerDirectionNum</th>\n",
       "    </tr>\n",
       "  </thead>\n",
       "  <tbody>\n",
       "    <tr>\n",
       "      <th>103549</th>\n",
       "      <td>2021-12-14</td>\n",
       "      <td>22</td>\n",
       "      <td>0.00</td>\n",
       "      <td>2.0</td>\n",
       "      <td>1.0</td>\n",
       "    </tr>\n",
       "    <tr>\n",
       "      <th>29265</th>\n",
       "      <td>2016-11-15</td>\n",
       "      <td>17</td>\n",
       "      <td>13.65</td>\n",
       "      <td>2.0</td>\n",
       "      <td>1.0</td>\n",
       "    </tr>\n",
       "  </tbody>\n",
       "</table>\n",
       "</div>"
      ],
      "text/plain": [
       "        StartDate  Hour  Duration  RoadNumber  HectometerDirectionNum\n",
       "103549 2021-12-14    22      0.00         2.0                     1.0\n",
       "29265  2016-11-15    17     13.65         2.0                     1.0"
      ]
     },
     "execution_count": 16,
     "metadata": {},
     "output_type": "execute_result"
    }
   ],
   "source": [
    "mergedoutera2d1.sample(2)"
   ]
  },
  {
   "cell_type": "markdown",
   "metadata": {},
   "source": [
    "### Join road A2 and direction 0"
   ]
  },
  {
   "cell_type": "code",
   "execution_count": 17,
   "metadata": {},
   "outputs": [
    {
     "data": {
      "text/html": [
       "<div>\n",
       "<style scoped>\n",
       "    .dataframe tbody tr th:only-of-type {\n",
       "        vertical-align: middle;\n",
       "    }\n",
       "\n",
       "    .dataframe tbody tr th {\n",
       "        vertical-align: top;\n",
       "    }\n",
       "\n",
       "    .dataframe thead th {\n",
       "        text-align: right;\n",
       "    }\n",
       "</style>\n",
       "<table border=\"1\" class=\"dataframe\">\n",
       "  <thead>\n",
       "    <tr style=\"text-align: right;\">\n",
       "      <th></th>\n",
       "      <th>StartDate</th>\n",
       "      <th>Duration</th>\n",
       "      <th>RoadNumber</th>\n",
       "      <th>Hour</th>\n",
       "      <th>HectometerDirectionNum</th>\n",
       "    </tr>\n",
       "  </thead>\n",
       "  <tbody>\n",
       "    <tr>\n",
       "      <th>821324</th>\n",
       "      <td>2019-11-14</td>\n",
       "      <td>15.900</td>\n",
       "      <td>2</td>\n",
       "      <td>17</td>\n",
       "      <td>0.0</td>\n",
       "    </tr>\n",
       "    <tr>\n",
       "      <th>126622</th>\n",
       "      <td>2024-06-06</td>\n",
       "      <td>13.533</td>\n",
       "      <td>2</td>\n",
       "      <td>8</td>\n",
       "      <td>0.0</td>\n",
       "    </tr>\n",
       "  </tbody>\n",
       "</table>\n",
       "</div>"
      ],
      "text/plain": [
       "        StartDate  Duration  RoadNumber  Hour  HectometerDirectionNum\n",
       "821324 2019-11-14    15.900           2    17                     0.0\n",
       "126622 2024-06-06    13.533           2     8                     0.0"
      ]
     },
     "execution_count": 17,
     "metadata": {},
     "output_type": "execute_result"
    }
   ],
   "source": [
    "a2d0 = selected_columns[(selected_columns['RoadNumber']==2)&(selected_columns['HectometerDirectionNum']==0)]\n",
    "a2d0.sample(2)"
   ]
  },
  {
   "cell_type": "code",
   "execution_count": 18,
   "metadata": {},
   "outputs": [
    {
     "data": {
      "text/plain": [
       "StartDate                     0\n",
       "Hour                          0\n",
       "Duration                  67311\n",
       "RoadNumber                67311\n",
       "HectometerDirectionNum    67311\n",
       "dtype: int64"
      ]
     },
     "execution_count": 18,
     "metadata": {},
     "output_type": "execute_result"
    }
   ],
   "source": [
    "mergedoutera2d0 = pd.merge(calendar, a2d0, how='left', on=['StartDate', 'Hour'])\n",
    "mergedoutera2d0.isna().sum()"
   ]
  },
  {
   "cell_type": "code",
   "execution_count": 19,
   "metadata": {},
   "outputs": [
    {
     "data": {
      "text/plain": [
       "StartDate                 0\n",
       "Hour                      0\n",
       "Duration                  0\n",
       "RoadNumber                0\n",
       "HectometerDirectionNum    0\n",
       "dtype: int64"
      ]
     },
     "execution_count": 19,
     "metadata": {},
     "output_type": "execute_result"
    }
   ],
   "source": [
    "mergedoutera2d0['Duration'] = mergedoutera2d0['Duration'].fillna(0)\n",
    "mergedoutera2d0['RoadNumber'] = mergedoutera2d0['RoadNumber'].fillna(2)\n",
    "mergedoutera2d0['HectometerDirectionNum'] = mergedoutera2d0['HectometerDirectionNum'].fillna(0)\n",
    "mergedoutera2d0.isna().sum()"
   ]
  },
  {
   "cell_type": "code",
   "execution_count": 20,
   "metadata": {},
   "outputs": [
    {
     "data": {
      "text/html": [
       "<div>\n",
       "<style scoped>\n",
       "    .dataframe tbody tr th:only-of-type {\n",
       "        vertical-align: middle;\n",
       "    }\n",
       "\n",
       "    .dataframe tbody tr th {\n",
       "        vertical-align: top;\n",
       "    }\n",
       "\n",
       "    .dataframe thead th {\n",
       "        text-align: right;\n",
       "    }\n",
       "</style>\n",
       "<table border=\"1\" class=\"dataframe\">\n",
       "  <thead>\n",
       "    <tr style=\"text-align: right;\">\n",
       "      <th></th>\n",
       "      <th>StartDate</th>\n",
       "      <th>Hour</th>\n",
       "      <th>Duration</th>\n",
       "      <th>RoadNumber</th>\n",
       "      <th>HectometerDirectionNum</th>\n",
       "    </tr>\n",
       "  </thead>\n",
       "  <tbody>\n",
       "    <tr>\n",
       "      <th>39081</th>\n",
       "      <td>2017-11-06</td>\n",
       "      <td>1</td>\n",
       "      <td>0.00</td>\n",
       "      <td>2.0</td>\n",
       "      <td>0.0</td>\n",
       "    </tr>\n",
       "    <tr>\n",
       "      <th>895</th>\n",
       "      <td>2015-01-26</td>\n",
       "      <td>9</td>\n",
       "      <td>5.05</td>\n",
       "      <td>2.0</td>\n",
       "      <td>0.0</td>\n",
       "    </tr>\n",
       "  </tbody>\n",
       "</table>\n",
       "</div>"
      ],
      "text/plain": [
       "       StartDate  Hour  Duration  RoadNumber  HectometerDirectionNum\n",
       "39081 2017-11-06     1      0.00         2.0                     0.0\n",
       "895   2015-01-26     9      5.05         2.0                     0.0"
      ]
     },
     "execution_count": 20,
     "metadata": {},
     "output_type": "execute_result"
    }
   ],
   "source": [
    "mergedoutera2d0.sample(2)"
   ]
  },
  {
   "cell_type": "markdown",
   "metadata": {},
   "source": [
    "### Join A73 and direction 1"
   ]
  },
  {
   "cell_type": "code",
   "execution_count": 21,
   "metadata": {},
   "outputs": [
    {
     "data": {
      "text/html": [
       "<div>\n",
       "<style scoped>\n",
       "    .dataframe tbody tr th:only-of-type {\n",
       "        vertical-align: middle;\n",
       "    }\n",
       "\n",
       "    .dataframe tbody tr th {\n",
       "        vertical-align: top;\n",
       "    }\n",
       "\n",
       "    .dataframe thead th {\n",
       "        text-align: right;\n",
       "    }\n",
       "</style>\n",
       "<table border=\"1\" class=\"dataframe\">\n",
       "  <thead>\n",
       "    <tr style=\"text-align: right;\">\n",
       "      <th></th>\n",
       "      <th>StartDate</th>\n",
       "      <th>Duration</th>\n",
       "      <th>RoadNumber</th>\n",
       "      <th>Hour</th>\n",
       "      <th>HectometerDirectionNum</th>\n",
       "    </tr>\n",
       "  </thead>\n",
       "  <tbody>\n",
       "    <tr>\n",
       "      <th>631867</th>\n",
       "      <td>2023-07-13</td>\n",
       "      <td>4.517</td>\n",
       "      <td>73</td>\n",
       "      <td>17</td>\n",
       "      <td>1.0</td>\n",
       "    </tr>\n",
       "    <tr>\n",
       "      <th>68114</th>\n",
       "      <td>2024-04-22</td>\n",
       "      <td>4.517</td>\n",
       "      <td>73</td>\n",
       "      <td>15</td>\n",
       "      <td>1.0</td>\n",
       "    </tr>\n",
       "  </tbody>\n",
       "</table>\n",
       "</div>"
      ],
      "text/plain": [
       "        StartDate  Duration  RoadNumber  Hour  HectometerDirectionNum\n",
       "631867 2023-07-13     4.517          73    17                     1.0\n",
       "68114  2024-04-22     4.517          73    15                     1.0"
      ]
     },
     "execution_count": 21,
     "metadata": {},
     "output_type": "execute_result"
    }
   ],
   "source": [
    "a73d1 = selected_columns[(selected_columns['RoadNumber']==73)&(selected_columns['HectometerDirectionNum']==1)]\n",
    "a73d1.sample(2)"
   ]
  },
  {
   "cell_type": "code",
   "execution_count": 22,
   "metadata": {},
   "outputs": [
    {
     "data": {
      "text/plain": [
       "StartDate                     0\n",
       "Hour                          0\n",
       "Duration                  78221\n",
       "RoadNumber                78221\n",
       "HectometerDirectionNum    78221\n",
       "dtype: int64"
      ]
     },
     "execution_count": 22,
     "metadata": {},
     "output_type": "execute_result"
    }
   ],
   "source": [
    "mergedoutera73d1 = pd.merge(calendar, a73d1, how='left', on=['StartDate', 'Hour'])\n",
    "mergedoutera73d1.isna().sum()"
   ]
  },
  {
   "cell_type": "code",
   "execution_count": 23,
   "metadata": {},
   "outputs": [
    {
     "data": {
      "text/plain": [
       "StartDate                 0\n",
       "Hour                      0\n",
       "Duration                  0\n",
       "RoadNumber                0\n",
       "HectometerDirectionNum    0\n",
       "dtype: int64"
      ]
     },
     "execution_count": 23,
     "metadata": {},
     "output_type": "execute_result"
    }
   ],
   "source": [
    "mergedoutera73d1['Duration'] = mergedoutera73d1['Duration'].fillna(0)\n",
    "mergedoutera73d1['RoadNumber'] = mergedoutera73d1['RoadNumber'].fillna(73)\n",
    "mergedoutera73d1['HectometerDirectionNum'] = mergedoutera73d1['HectometerDirectionNum'].fillna(1)\n",
    "mergedoutera73d1.isna().sum()"
   ]
  },
  {
   "cell_type": "code",
   "execution_count": 24,
   "metadata": {},
   "outputs": [
    {
     "data": {
      "text/html": [
       "<div>\n",
       "<style scoped>\n",
       "    .dataframe tbody tr th:only-of-type {\n",
       "        vertical-align: middle;\n",
       "    }\n",
       "\n",
       "    .dataframe tbody tr th {\n",
       "        vertical-align: top;\n",
       "    }\n",
       "\n",
       "    .dataframe thead th {\n",
       "        text-align: right;\n",
       "    }\n",
       "</style>\n",
       "<table border=\"1\" class=\"dataframe\">\n",
       "  <thead>\n",
       "    <tr style=\"text-align: right;\">\n",
       "      <th></th>\n",
       "      <th>StartDate</th>\n",
       "      <th>Hour</th>\n",
       "      <th>Duration</th>\n",
       "      <th>RoadNumber</th>\n",
       "      <th>HectometerDirectionNum</th>\n",
       "    </tr>\n",
       "  </thead>\n",
       "  <tbody>\n",
       "    <tr>\n",
       "      <th>52294</th>\n",
       "      <td>2020-10-17</td>\n",
       "      <td>8</td>\n",
       "      <td>0.000</td>\n",
       "      <td>73.0</td>\n",
       "      <td>1.0</td>\n",
       "    </tr>\n",
       "    <tr>\n",
       "      <th>67959</th>\n",
       "      <td>2022-06-15</td>\n",
       "      <td>17</td>\n",
       "      <td>8.517</td>\n",
       "      <td>73.0</td>\n",
       "      <td>1.0</td>\n",
       "    </tr>\n",
       "  </tbody>\n",
       "</table>\n",
       "</div>"
      ],
      "text/plain": [
       "       StartDate  Hour  Duration  RoadNumber  HectometerDirectionNum\n",
       "52294 2020-10-17     8     0.000        73.0                     1.0\n",
       "67959 2022-06-15    17     8.517        73.0                     1.0"
      ]
     },
     "execution_count": 24,
     "metadata": {},
     "output_type": "execute_result"
    }
   ],
   "source": [
    "mergedoutera73d1.sample(2)"
   ]
  },
  {
   "cell_type": "markdown",
   "metadata": {},
   "source": [
    "### Join A73 and direction 0"
   ]
  },
  {
   "cell_type": "code",
   "execution_count": 25,
   "metadata": {},
   "outputs": [
    {
     "data": {
      "text/html": [
       "<div>\n",
       "<style scoped>\n",
       "    .dataframe tbody tr th:only-of-type {\n",
       "        vertical-align: middle;\n",
       "    }\n",
       "\n",
       "    .dataframe tbody tr th {\n",
       "        vertical-align: top;\n",
       "    }\n",
       "\n",
       "    .dataframe thead th {\n",
       "        text-align: right;\n",
       "    }\n",
       "</style>\n",
       "<table border=\"1\" class=\"dataframe\">\n",
       "  <thead>\n",
       "    <tr style=\"text-align: right;\">\n",
       "      <th></th>\n",
       "      <th>StartDate</th>\n",
       "      <th>Duration</th>\n",
       "      <th>RoadNumber</th>\n",
       "      <th>Hour</th>\n",
       "      <th>HectometerDirectionNum</th>\n",
       "    </tr>\n",
       "  </thead>\n",
       "  <tbody>\n",
       "    <tr>\n",
       "      <th>4558</th>\n",
       "      <td>2024-03-13</td>\n",
       "      <td>1.533</td>\n",
       "      <td>73</td>\n",
       "      <td>16</td>\n",
       "      <td>0.0</td>\n",
       "    </tr>\n",
       "    <tr>\n",
       "      <th>524151</th>\n",
       "      <td>2022-05-20</td>\n",
       "      <td>1.550</td>\n",
       "      <td>73</td>\n",
       "      <td>14</td>\n",
       "      <td>0.0</td>\n",
       "    </tr>\n",
       "  </tbody>\n",
       "</table>\n",
       "</div>"
      ],
      "text/plain": [
       "        StartDate  Duration  RoadNumber  Hour  HectometerDirectionNum\n",
       "4558   2024-03-13     1.533          73    16                     0.0\n",
       "524151 2022-05-20     1.550          73    14                     0.0"
      ]
     },
     "execution_count": 25,
     "metadata": {},
     "output_type": "execute_result"
    }
   ],
   "source": [
    "a73d0 = selected_columns[(selected_columns['RoadNumber']==73)&(selected_columns['HectometerDirectionNum']==0)]\n",
    "a73d0.sample(2)"
   ]
  },
  {
   "cell_type": "code",
   "execution_count": 26,
   "metadata": {},
   "outputs": [
    {
     "data": {
      "text/plain": [
       "StartDate                     0\n",
       "Hour                          0\n",
       "Duration                  79686\n",
       "RoadNumber                79686\n",
       "HectometerDirectionNum    79686\n",
       "dtype: int64"
      ]
     },
     "execution_count": 26,
     "metadata": {},
     "output_type": "execute_result"
    }
   ],
   "source": [
    "mergedoutera73d0 = pd.merge(calendar, a73d0, how='left', on=['StartDate', 'Hour'])\n",
    "mergedoutera73d0.isna().sum()"
   ]
  },
  {
   "cell_type": "code",
   "execution_count": 27,
   "metadata": {},
   "outputs": [
    {
     "data": {
      "text/plain": [
       "StartDate                 0\n",
       "Hour                      0\n",
       "Duration                  0\n",
       "RoadNumber                0\n",
       "HectometerDirectionNum    0\n",
       "dtype: int64"
      ]
     },
     "execution_count": 27,
     "metadata": {},
     "output_type": "execute_result"
    }
   ],
   "source": [
    "mergedoutera73d0['Duration'] = mergedoutera73d0['Duration'].fillna(0)\n",
    "mergedoutera73d0['RoadNumber'] = mergedoutera73d0['RoadNumber'].fillna(73)\n",
    "mergedoutera73d0['HectometerDirectionNum'] = mergedoutera73d0['HectometerDirectionNum'].fillna(0)\n",
    "mergedoutera73d0.isna().sum()"
   ]
  },
  {
   "cell_type": "code",
   "execution_count": 28,
   "metadata": {},
   "outputs": [
    {
     "data": {
      "text/html": [
       "<div>\n",
       "<style scoped>\n",
       "    .dataframe tbody tr th:only-of-type {\n",
       "        vertical-align: middle;\n",
       "    }\n",
       "\n",
       "    .dataframe tbody tr th {\n",
       "        vertical-align: top;\n",
       "    }\n",
       "\n",
       "    .dataframe thead th {\n",
       "        text-align: right;\n",
       "    }\n",
       "</style>\n",
       "<table border=\"1\" class=\"dataframe\">\n",
       "  <thead>\n",
       "    <tr style=\"text-align: right;\">\n",
       "      <th></th>\n",
       "      <th>StartDate</th>\n",
       "      <th>Hour</th>\n",
       "      <th>Duration</th>\n",
       "      <th>RoadNumber</th>\n",
       "      <th>HectometerDirectionNum</th>\n",
       "    </tr>\n",
       "  </thead>\n",
       "  <tbody>\n",
       "    <tr>\n",
       "      <th>73622</th>\n",
       "      <td>2023-02-07</td>\n",
       "      <td>4</td>\n",
       "      <td>0.000</td>\n",
       "      <td>73.0</td>\n",
       "      <td>0.0</td>\n",
       "    </tr>\n",
       "    <tr>\n",
       "      <th>81443</th>\n",
       "      <td>2023-09-29</td>\n",
       "      <td>17</td>\n",
       "      <td>2.667</td>\n",
       "      <td>73.0</td>\n",
       "      <td>0.0</td>\n",
       "    </tr>\n",
       "  </tbody>\n",
       "</table>\n",
       "</div>"
      ],
      "text/plain": [
       "       StartDate  Hour  Duration  RoadNumber  HectometerDirectionNum\n",
       "73622 2023-02-07     4     0.000        73.0                     0.0\n",
       "81443 2023-09-29    17     2.667        73.0                     0.0"
      ]
     },
     "execution_count": 28,
     "metadata": {},
     "output_type": "execute_result"
    }
   ],
   "source": [
    "mergedoutera73d0.sample(2)"
   ]
  },
  {
   "cell_type": "markdown",
   "metadata": {},
   "source": [
    "### Appending the 4 dataframes"
   ]
  },
  {
   "cell_type": "code",
   "execution_count": 29,
   "metadata": {},
   "outputs": [
    {
     "data": {
      "text/plain": [
       "StartDate                 0\n",
       "Hour                      0\n",
       "Duration                  0\n",
       "RoadNumber                0\n",
       "HectometerDirectionNum    0\n",
       "dtype: int64"
      ]
     },
     "execution_count": 29,
     "metadata": {},
     "output_type": "execute_result"
    }
   ],
   "source": [
    "dataframes = [mergedoutera2d0, mergedoutera2d1, mergedoutera73d0, mergedoutera73d1]\n",
    "appended_frame = pd.concat(dataframes, axis=0)\n",
    "appended_frame.isna().sum()"
   ]
  },
  {
   "cell_type": "code",
   "execution_count": 30,
   "metadata": {},
   "outputs": [
    {
     "data": {
      "text/plain": [
       "(502317, 5)"
      ]
     },
     "execution_count": 30,
     "metadata": {},
     "output_type": "execute_result"
    }
   ],
   "source": [
    "appended_frame.shape"
   ]
  },
  {
   "cell_type": "code",
   "execution_count": 31,
   "metadata": {},
   "outputs": [
    {
     "data": {
      "text/html": [
       "<div>\n",
       "<style scoped>\n",
       "    .dataframe tbody tr th:only-of-type {\n",
       "        vertical-align: middle;\n",
       "    }\n",
       "\n",
       "    .dataframe tbody tr th {\n",
       "        vertical-align: top;\n",
       "    }\n",
       "\n",
       "    .dataframe thead th {\n",
       "        text-align: right;\n",
       "    }\n",
       "</style>\n",
       "<table border=\"1\" class=\"dataframe\">\n",
       "  <thead>\n",
       "    <tr style=\"text-align: right;\">\n",
       "      <th></th>\n",
       "      <th>StartDate</th>\n",
       "      <th>Hour</th>\n",
       "      <th>Duration</th>\n",
       "      <th>RoadNumber</th>\n",
       "      <th>HectometerDirectionNum</th>\n",
       "    </tr>\n",
       "  </thead>\n",
       "  <tbody>\n",
       "    <tr>\n",
       "      <th>81812</th>\n",
       "      <td>2023-10-11</td>\n",
       "      <td>10</td>\n",
       "      <td>0.000</td>\n",
       "      <td>73.0</td>\n",
       "      <td>0.0</td>\n",
       "    </tr>\n",
       "    <tr>\n",
       "      <th>142918</th>\n",
       "      <td>2023-12-08</td>\n",
       "      <td>11</td>\n",
       "      <td>0.000</td>\n",
       "      <td>2.0</td>\n",
       "      <td>0.0</td>\n",
       "    </tr>\n",
       "    <tr>\n",
       "      <th>39581</th>\n",
       "      <td>2017-06-29</td>\n",
       "      <td>18</td>\n",
       "      <td>8.850</td>\n",
       "      <td>2.0</td>\n",
       "      <td>1.0</td>\n",
       "    </tr>\n",
       "    <tr>\n",
       "      <th>16724</th>\n",
       "      <td>2016-11-19</td>\n",
       "      <td>1</td>\n",
       "      <td>0.000</td>\n",
       "      <td>73.0</td>\n",
       "      <td>1.0</td>\n",
       "    </tr>\n",
       "    <tr>\n",
       "      <th>83284</th>\n",
       "      <td>2023-11-23</td>\n",
       "      <td>17</td>\n",
       "      <td>5.467</td>\n",
       "      <td>73.0</td>\n",
       "      <td>0.0</td>\n",
       "    </tr>\n",
       "  </tbody>\n",
       "</table>\n",
       "</div>"
      ],
      "text/plain": [
       "        StartDate  Hour  Duration  RoadNumber  HectometerDirectionNum\n",
       "81812  2023-10-11    10     0.000        73.0                     0.0\n",
       "142918 2023-12-08    11     0.000         2.0                     0.0\n",
       "39581  2017-06-29    18     8.850         2.0                     1.0\n",
       "16724  2016-11-19     1     0.000        73.0                     1.0\n",
       "83284  2023-11-23    17     5.467        73.0                     0.0"
      ]
     },
     "execution_count": 31,
     "metadata": {},
     "output_type": "execute_result"
    }
   ],
   "source": [
    "appended_frame.sample(5)"
   ]
  },
  {
   "cell_type": "code",
   "execution_count": 32,
   "metadata": {},
   "outputs": [
    {
     "data": {
      "image/png": "[encoded data removed]",
      "text/plain": [
       "<Figure size 2000x1500 with 4 Axes>"
      ]
     },
     "metadata": {},
     "output_type": "display_data"
    }
   ],
   "source": [
    "import seaborn as sns\n",
    "\n",
    "actualtr0 = appended_frame[(appended_frame['Duration']!=0)&(appended_frame['HectometerDirectionNum']==0)&(appended_frame['RoadNumber']==2)]\n",
    "actualtr0 = actualtr0['Hour'].value_counts().sort_index() \n",
    "\n",
    "fig, axes = plt.subplots(2, 2, figsize=(20, 15))\n",
    "sns.barplot(x=actualtr0.index, y=actualtr0.values, ax = axes[0,0])\n",
    "axes[0, 0].set_title('Road A2 and direction 0')\n",
    "axes[0, 0].set_xlabel('Hour')\n",
    "axes[0, 0].set_ylabel('Traffic Jams')\n",
    "\n",
    "\n",
    "actualtr1 = appended_frame[(appended_frame['Duration']!=0)&(appended_frame['HectometerDirectionNum']==1)&(appended_frame['RoadNumber']==2)]\n",
    "actualtr1 = actualtr1['Hour'].value_counts().sort_index()\n",
    "\n",
    "sns.barplot(x=actualtr1.index, y=actualtr1.values, ax = axes[0,1])\n",
    "axes[0, 1].set_title('Road A2 and direction 1')\n",
    "axes[0, 1].set_xlabel('Hour')\n",
    "axes[0, 1].set_ylabel('Traffic Jams')\n",
    "\n",
    "actualtr2 = appended_frame[(appended_frame['Duration']!=0)&(appended_frame['HectometerDirectionNum']==0)&(appended_frame['RoadNumber']==73)]\n",
    "actualtr2 = actualtr2['Hour'].value_counts().sort_index() \n",
    "\n",
    "\n",
    "sns.barplot(x=actualtr2.index, y=actualtr2.values, ax = axes[1,0])\n",
    "axes[1, 0].set_title('Road A73 and direction 0')\n",
    "axes[1, 0].set_xlabel('Hour')\n",
    "axes[1, 0].set_ylabel('Traffic Jams')\n",
    "\n",
    "\n",
    "actualtr3 = appended_frame[(appended_frame['Duration']!=0)&(appended_frame['HectometerDirectionNum']==1)&(appended_frame['RoadNumber']==73)]\n",
    "actualtr3 = actualtr3['Hour'].value_counts().sort_index()\n",
    "\n",
    "sns.barplot(x=actualtr3.index, y=actualtr3.values, ax = axes[1,1])\n",
    "axes[1, 1].set_title('Road A73 and direction 1')\n",
    "axes[1, 1].set_xlabel('Hour')\n",
    "axes[1, 1].set_ylabel('Traffic Jams')\n",
    "\n",
    "plt.tight_layout()\n",
    "plt.show()"
   ]
  },
  {
   "cell_type": "markdown",
   "metadata": {},
   "source": [
    "## Creating the category column"
   ]
  },
  {
   "cell_type": "code",
   "execution_count": 42,
   "metadata": {},
   "outputs": [
    {
     "data": {
      "text/plain": [
       "Duration Category\n",
       "none      293279\n",
       "light     151066\n",
       "heavy      30559\n",
       "medium     27413\n",
       "Name: count, dtype: int64"
      ]
     },
     "execution_count": 42,
     "metadata": {},
     "output_type": "execute_result"
    }
   ],
   "source": [
    "bins = [-np.inf, 0, 15, 30, np.inf]\n",
    "labels = ['none', 'light', 'medium', 'heavy']\n",
    "category_mapping = {'none': 0, 'light': 1, 'medium': 2, 'heavy': 3}\n",
    "\n",
    "appended_frame['Duration Category'] = pd.cut(appended_frame['Duration'].fillna(0), bins=bins, labels=labels)\n",
    "appended_frame['encoded_type'] = appended_frame['Duration Category'].map(category_mapping)\n",
    "appended_frame['encoded_type'] = appended_frame['encoded_type'].astype(int)\n",
    "\n",
    "appended_frame[\"Duration Category\"].value_counts()"
   ]
  },
  {
   "cell_type": "markdown",
   "metadata": {},
   "source": [
    "## Adding date breakdown"
   ]
  },
  {
   "cell_type": "markdown",
   "metadata": {},
   "source": [
    "### Day of the week"
   ]
  },
  {
   "cell_type": "code",
   "execution_count": 46,
   "metadata": {},
   "outputs": [],
   "source": [
    "appended_frame['WeekdayName'] = appended_frame['StartDate'].dt.day_name()\n",
    "appended_frame['Weekday'] = appended_frame['StartDate'].dt.weekday"
   ]
  },
  {
   "cell_type": "markdown",
   "metadata": {},
   "source": [
    "### Day of the year"
   ]
  },
  {
   "cell_type": "code",
   "execution_count": 50,
   "metadata": {},
   "outputs": [],
   "source": [
    "appended_frame['DayofYear'] = appended_frame['StartDate'].dt.dayofyear"
   ]
  },
  {
   "cell_type": "markdown",
   "metadata": {},
   "source": [
    "### Year"
   ]
  },
  {
   "cell_type": "code",
   "execution_count": 51,
   "metadata": {},
   "outputs": [],
   "source": [
    "appended_frame['Year'] = appended_frame['StartDate'].dt.year"
   ]
  },
  {
   "cell_type": "markdown",
   "metadata": {},
   "source": [
    "### Day of month"
   ]
  },
  {
   "cell_type": "code",
   "execution_count": 52,
   "metadata": {},
   "outputs": [],
   "source": [
    "appended_frame['DayofMonth'] = appended_frame['StartDate'].dt.day"
   ]
  },
  {
   "cell_type": "markdown",
   "metadata": {},
   "source": [
    "## Modelling"
   ]
  },
  {
   "cell_type": "markdown",
   "metadata": {},
   "source": [
    "### Downsampling"
   ]
  },
  {
   "cell_type": "code",
   "execution_count": 64,
   "metadata": {},
   "outputs": [
    {
     "name": "stdout",
     "output_type": "stream",
     "text": [
      "(360104, 12)\n"
     ]
    },
    {
     "data": {
      "text/plain": [
       "Duration Category\n",
       "none      151066\n",
       "light     151066\n",
       "heavy      30559\n",
       "medium     27413\n",
       "Name: count, dtype: int64"
      ]
     },
     "execution_count": 64,
     "metadata": {},
     "output_type": "execute_result"
    }
   ],
   "source": [
    "desired_size_per_class = 151066\n",
    "category_mapping = ['none', 'light', 'medium', 'heavy']\n",
    "categories_to_downsample = category_mapping[:2]\n",
    "downsampled_data = pd.concat([appended_frame[appended_frame['Duration Category'] == label].sample(n=desired_size_per_class, replace=False)\n",
    "                              for label in categories_to_downsample])\n",
    "remaining_data = appended_frame[~appended_frame['Duration Category'].isin(categories_to_downsample)]\n",
    "downsampled_data = pd.concat([downsampled_data, remaining_data])\n",
    "\n",
    "print(downsampled_data.shape)\n",
    "downsampled_data['Duration Category'].value_counts()"
   ]
  },
  {
   "cell_type": "markdown",
   "metadata": {},
   "source": [
    "### Random Forest"
   ]
  },
  {
   "cell_type": "code",
   "execution_count": 78,
   "metadata": {},
   "outputs": [
    {
     "name": "stderr",
     "output_type": "stream",
     "text": [
      "Intel(R) Extension for Scikit-learn* enabled (https://github.com/intel/scikit-learn-intelex)\n"
     ]
    },
    {
     "name": "stdout",
     "output_type": "stream",
     "text": [
      "Accuracy: 86%\n"
     ]
    }
   ],
   "source": [
    "warnings.filterwarnings('ignore')\n",
    "\n",
    "patch_sklearn()\n",
    "\n",
    "target = \"encoded_type\"\n",
    "y = appended_frame[target]\n",
    "\n",
    "features = ['Hour', 'RoadNumber', 'Weekday', 'DayofYear', 'Year', 'DayofMonth', 'HectometerDirectionNum']\n",
    "X = appended_frame[features]\n",
    "\n",
    "X_train, X_test, y_train, y_test = train_test_split(X, y, test_size=0.2, random_state=42)\n",
    "\n",
    "random_forest = RandomForestClassifier(max_depth=70, min_samples_leaf=1, min_samples_split=3, n_estimators=200, bootstrap=False)\n",
    "random_forest.fit(X_train, y_train)\n",
    "\n",
    "y_pred = random_forest.predict(X_test)\n",
    "accuracy = accuracy_score(y_test, y_pred)\n",
    "accuracy_percentage = math.ceil(accuracy * 100)\n",
    "\n",
    "print(f\"Accuracy: {accuracy_percentage}%\")"
   ]
  },
  {
   "cell_type": "markdown",
   "metadata": {},
   "source": [
    "### Results and evaluation"
   ]
  },
  {
   "cell_type": "markdown",
   "metadata": {},
   "source": [
    "#### Classification report"
   ]
  },
  {
   "cell_type": "code",
   "execution_count": 70,
   "metadata": {},
   "outputs": [
    {
     "name": "stdout",
     "output_type": "stream",
     "text": [
      "              precision    recall  f1-score   support\n",
      "\n",
      "           0       0.97      0.98      0.97     58806\n",
      "           1       0.73      0.92      0.81     30189\n",
      "           2       0.17      0.04      0.06      5511\n",
      "           3       0.23      0.07      0.10      5958\n",
      "\n",
      "    accuracy                           0.85    100464\n",
      "   macro avg       0.52      0.50      0.49    100464\n",
      "weighted avg       0.81      0.85      0.82    100464\n",
      "\n"
     ]
    }
   ],
   "source": [
    "from sklearn.metrics import classification_report\n",
    "report = classification_report(y_test, y_pred, output_dict=True)\n",
    "print(classification_report(y_test, y_pred))"
   ]
  },
  {
   "cell_type": "markdown",
   "metadata": {},
   "source": [
    "#### Feature importances"
   ]
  },
  {
   "cell_type": "code",
   "execution_count": 71,
   "metadata": {},
   "outputs": [
    {
     "data": {
      "image/png": "[encoded data removed]",
      "text/plain": [
       "<Figure size 640x480 with 1 Axes>"
      ]
     },
     "metadata": {},
     "output_type": "display_data"
    }
   ],
   "source": [
    "forest_importances = pd.Series(random_forest.feature_importances_, index=features)\n",
    "standard_deviation = np.std([tree.feature_importances_ for tree in random_forest.estimators_], axis=0)\n",
    "plt.figure()\n",
    "forest_importances.plot.bar(yerr=standard_deviation)\n",
    "plt.show()"
   ]
  },
  {
   "cell_type": "markdown",
   "metadata": {},
   "source": [
    "#### Cross-validation"
   ]
  },
  {
   "cell_type": "code",
   "execution_count": 79,
   "metadata": {},
   "outputs": [
    {
     "name": "stderr",
     "output_type": "stream",
     "text": [
      "Intel(R) Extension for Scikit-learn* enabled (https://github.com/intel/scikit-learn-intelex)\n"
     ]
    },
    {
     "name": "stdout",
     "output_type": "stream",
     "text": [
      "Accuracy scores for each fold: [0.84975924 0.84922422 0.84913713 0.84945875 0.85035461]\n",
      "Average accuracy score: 0.8495867907911142\n"
     ]
    }
   ],
   "source": [
    "warnings.filterwarnings('ignore')\n",
    "patch_sklearn()\n",
    "\n",
    "skf = StratifiedKFold(n_splits=5, shuffle=True, random_state=42)\n",
    "accuracy_scores = cross_val_score(random_forest, X_train, y_train, cv=skf, scoring='accuracy')# average accuracy score\n",
    "print(\"Accuracy scores for each fold:\", accuracy_scores)\n",
    "average_accuracy = accuracy_scores.mean()\n",
    "print(\"Average accuracy score:\", average_accuracy)"
   ]
  },
  {
   "cell_type": "markdown",
   "metadata": {},
   "source": [
    "### Inference"
   ]
  },
  {
   "cell_type": "code",
   "execution_count": 80,
   "metadata": {},
   "outputs": [
    {
     "data": {
      "text/html": [
       "<div>\n",
       "<style scoped>\n",
       "    .dataframe tbody tr th:only-of-type {\n",
       "        vertical-align: middle;\n",
       "    }\n",
       "\n",
       "    .dataframe tbody tr th {\n",
       "        vertical-align: top;\n",
       "    }\n",
       "\n",
       "    .dataframe thead th {\n",
       "        text-align: right;\n",
       "    }\n",
       "</style>\n",
       "<table border=\"1\" class=\"dataframe\">\n",
       "  <thead>\n",
       "    <tr style=\"text-align: right;\">\n",
       "      <th></th>\n",
       "      <th>Probability</th>\n",
       "    </tr>\n",
       "  </thead>\n",
       "  <tbody>\n",
       "    <tr>\n",
       "      <th>0</th>\n",
       "      <td>0.095000</td>\n",
       "    </tr>\n",
       "    <tr>\n",
       "      <th>1</th>\n",
       "      <td>0.713417</td>\n",
       "    </tr>\n",
       "    <tr>\n",
       "      <th>2</th>\n",
       "      <td>0.141189</td>\n",
       "    </tr>\n",
       "    <tr>\n",
       "      <th>3</th>\n",
       "      <td>0.050394</td>\n",
       "    </tr>\n",
       "  </tbody>\n",
       "</table>\n",
       "</div>"
      ],
      "text/plain": [
       "   Probability\n",
       "0     0.095000\n",
       "1     0.713417\n",
       "2     0.141189\n",
       "3     0.050394"
      ]
     },
     "execution_count": 80,
     "metadata": {},
     "output_type": "execute_result"
    }
   ],
   "source": [
    "warnings.filterwarnings('ignore')\n",
    "today = date.today()\n",
    "\n",
    "hour = 7\n",
    "road = 2\n",
    "direction = 0\n",
    "weekday = today.weekday()\n",
    "dayofyear = today.timetuple().tm_yday\n",
    "year = today.year\n",
    "dayofmonth = today.day\n",
    "\n",
    "X_inference = pd.DataFrame([{\"Hour\": hour, \n",
    "                             \"RoadNumber\": road,\n",
    "                             \"Weekday\": weekday,\n",
    "                             \"DayofYear\": dayofyear,\n",
    "                             \"Year\": year,\n",
    "                             \"DayofMonth\": dayofmonth,\n",
    "                             \"HectometerDirectionNum\": direction}])\n",
    "\n",
    "prediction = random_forest.predict_proba(X_inference)\n",
    "\n",
    "result = pd.DataFrame()\n",
    "result[\"Probability\"] = prediction[0]\n",
    "\n",
    "result"
   ]
  }
 ],
 "metadata": {
  "kernelspec": {
   "display_name": "Python 3",
   "language": "python",
   "name": "python3"
  },
  "language_info": {
   "codemirror_mode": {
    "name": "ipython",
    "version": 3
   },
   "file_extension": ".py",
   "mimetype": "text/x-python",
   "name": "python",
   "nbconvert_exporter": "python",
   "pygments_lexer": "ipython3",
   "version": "3.10.6"
  }
 },
 "nbformat": 4,
 "nbformat_minor": 2
}
