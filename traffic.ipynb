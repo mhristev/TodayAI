{
 "cells": [
  {
   "cell_type": "code",
   "execution_count": 1,
   "metadata": {},
   "outputs": [],
   "source": [
    "import pandas as pd\n",
    "import seaborn as sns\n",
    "import matplotlib.pyplot as plt"
   ]
  },
  {
   "cell_type": "markdown",
   "metadata": {},
   "source": [
    "## Traffic data\n",
    "The traffic data that is imported here is taken from the **TrafficDataCleaning file**, where detailed steps about the cleaning of the dataset have been specified as well as a data dictionary with data requirements. \n",
    "### Importing the data"
   ]
  },
  {
   "cell_type": "code",
   "execution_count": 2,
   "metadata": {},
   "outputs": [
    {
     "data": {
      "text/html": [
       "<div>\n",
       "<style scoped>\n",
       "    .dataframe tbody tr th:only-of-type {\n",
       "        vertical-align: middle;\n",
       "    }\n",
       "\n",
       "    .dataframe tbody tr th {\n",
       "        vertical-align: top;\n",
       "    }\n",
       "\n",
       "    .dataframe thead th {\n",
       "        text-align: right;\n",
       "    }\n",
       "</style>\n",
       "<table border=\"1\" class=\"dataframe\">\n",
       "  <thead>\n",
       "    <tr style=\"text-align: right;\">\n",
       "      <th></th>\n",
       "      <th>TrafficJamNum</th>\n",
       "      <th>StartDate</th>\n",
       "      <th>EndDate</th>\n",
       "      <th>StartTime</th>\n",
       "      <th>EndTime</th>\n",
       "      <th>Severity</th>\n",
       "      <th>Length</th>\n",
       "      <th>Duration</th>\n",
       "      <th>HectometerStart</th>\n",
       "      <th>HectometerEnd</th>\n",
       "      <th>...</th>\n",
       "      <th>CauseCodeDescr</th>\n",
       "      <th>CauseClass</th>\n",
       "      <th>CauseCodeClass</th>\n",
       "      <th>CauseCode</th>\n",
       "      <th>Cause_1</th>\n",
       "      <th>Cause_2</th>\n",
       "      <th>Cause_3</th>\n",
       "      <th>Cause_4</th>\n",
       "      <th>StartDateTime</th>\n",
       "      <th>EndDateTime</th>\n",
       "    </tr>\n",
       "  </thead>\n",
       "  <tbody>\n",
       "    <tr>\n",
       "      <th>812213</th>\n",
       "      <td>1835777</td>\n",
       "      <td>2015-11-17</td>\n",
       "      <td>2015-11-17</td>\n",
       "      <td>18:10:00</td>\n",
       "      <td>18:50:21</td>\n",
       "      <td>111.900</td>\n",
       "      <td>2773.234</td>\n",
       "      <td>40.350</td>\n",
       "      <td>77.3</td>\n",
       "      <td>82.3</td>\n",
       "      <td>...</td>\n",
       "      <td>Spitsfile (geen oorzaak gemeld)</td>\n",
       "      <td>[Geen oorzaakcode opgegeven door VWM 40]</td>\n",
       "      <td>[000]</td>\n",
       "      <td>001</td>\n",
       "      <td>Spitsfile (geen oorzaak gemeld)</td>\n",
       "      <td>Geen oorzaak gemeld</td>\n",
       "      <td>Drukte</td>\n",
       "      <td>Hoge intensiteit</td>\n",
       "      <td>2015-11-17 18:10:00</td>\n",
       "      <td>2015-11-17 18:50:21</td>\n",
       "    </tr>\n",
       "    <tr>\n",
       "      <th>533263</th>\n",
       "      <td>2977096</td>\n",
       "      <td>2022-04-06</td>\n",
       "      <td>2022-04-06</td>\n",
       "      <td>9:17:31</td>\n",
       "      <td>9:22:00</td>\n",
       "      <td>10.067</td>\n",
       "      <td>2245.000</td>\n",
       "      <td>4.483</td>\n",
       "      <td>45.4</td>\n",
       "      <td>47.4</td>\n",
       "      <td>...</td>\n",
       "      <td>Spitsfile (geen oorzaak gemeld)</td>\n",
       "      <td>[Geen oorzaakcode opgegeven door VWM 4]</td>\n",
       "      <td>[000]</td>\n",
       "      <td>001</td>\n",
       "      <td>Spitsfile (geen oorzaak gemeld)</td>\n",
       "      <td>Geen oorzaak gemeld</td>\n",
       "      <td>Drukte</td>\n",
       "      <td>Hoge intensiteit</td>\n",
       "      <td>2022-04-06 09:17:31</td>\n",
       "      <td>2022-04-06 09:22:00</td>\n",
       "    </tr>\n",
       "    <tr>\n",
       "      <th>442263</th>\n",
       "      <td>3710744</td>\n",
       "      <td>2023-09-11</td>\n",
       "      <td>2023-09-11</td>\n",
       "      <td>17:34:30</td>\n",
       "      <td>17:36:01</td>\n",
       "      <td>4.398</td>\n",
       "      <td>2900.000</td>\n",
       "      <td>1.517</td>\n",
       "      <td>39.6</td>\n",
       "      <td>42.5</td>\n",
       "      <td>...</td>\n",
       "      <td>Spitsfile (geen oorzaak gemeld)</td>\n",
       "      <td>[Geen oorzaakcode opgegeven door VWM 2]</td>\n",
       "      <td>[000]</td>\n",
       "      <td>001</td>\n",
       "      <td>Spitsfile (geen oorzaak gemeld)</td>\n",
       "      <td>Geen oorzaak gemeld</td>\n",
       "      <td>Drukte</td>\n",
       "      <td>Hoge intensiteit</td>\n",
       "      <td>2023-09-11 17:34:30</td>\n",
       "      <td>2023-09-11 17:36:01</td>\n",
       "    </tr>\n",
       "  </tbody>\n",
       "</table>\n",
       "<p>3 rows × 28 columns</p>\n",
       "</div>"
      ],
      "text/plain": [
       "        TrafficJamNum   StartDate     EndDate StartTime   EndTime  Severity  \\\n",
       "812213        1835777  2015-11-17  2015-11-17  18:10:00  18:50:21   111.900   \n",
       "533263        2977096  2022-04-06  2022-04-06   9:17:31   9:22:00    10.067   \n",
       "442263        3710744  2023-09-11  2023-09-11  17:34:30  17:36:01     4.398   \n",
       "\n",
       "          Length  Duration  HectometerStart  HectometerEnd  ...  \\\n",
       "812213  2773.234    40.350             77.3           82.3  ...   \n",
       "533263  2245.000     4.483             45.4           47.4  ...   \n",
       "442263  2900.000     1.517             39.6           42.5  ...   \n",
       "\n",
       "                         CauseCodeDescr  \\\n",
       "812213  Spitsfile (geen oorzaak gemeld)   \n",
       "533263  Spitsfile (geen oorzaak gemeld)   \n",
       "442263  Spitsfile (geen oorzaak gemeld)   \n",
       "\n",
       "                                      CauseClass CauseCodeClass CauseCode  \\\n",
       "812213  [Geen oorzaakcode opgegeven door VWM 40]          [000]       001   \n",
       "533263   [Geen oorzaakcode opgegeven door VWM 4]          [000]       001   \n",
       "442263   [Geen oorzaakcode opgegeven door VWM 2]          [000]       001   \n",
       "\n",
       "                                Cause_1              Cause_2 Cause_3  \\\n",
       "812213  Spitsfile (geen oorzaak gemeld)  Geen oorzaak gemeld  Drukte   \n",
       "533263  Spitsfile (geen oorzaak gemeld)  Geen oorzaak gemeld  Drukte   \n",
       "442263  Spitsfile (geen oorzaak gemeld)  Geen oorzaak gemeld  Drukte   \n",
       "\n",
       "                 Cause_4        StartDateTime          EndDateTime  \n",
       "812213  Hoge intensiteit  2015-11-17 18:10:00  2015-11-17 18:50:21  \n",
       "533263  Hoge intensiteit  2022-04-06 09:17:31  2022-04-06 09:22:00  \n",
       "442263  Hoge intensiteit  2023-09-11 17:34:30  2023-09-11 17:36:01  \n",
       "\n",
       "[3 rows x 28 columns]"
      ]
     },
     "execution_count": 2,
     "metadata": {},
     "output_type": "execute_result"
    }
   ],
   "source": [
    "traffic_data = pd.read_csv(\"datasets/CleanTraffic.csv\")\n",
    "traffic_data.sample(3)"
   ]
  },
  {
   "cell_type": "code",
   "execution_count": 3,
   "metadata": {},
   "outputs": [
    {
     "data": {
      "text/plain": [
       "(1581413, 28)"
      ]
     },
     "execution_count": 3,
     "metadata": {},
     "output_type": "execute_result"
    }
   ],
   "source": [
    "traffic_data.shape"
   ]
  },
  {
   "cell_type": "markdown",
   "metadata": {},
   "source": [
    "### Checking the data types and missing values"
   ]
  },
  {
   "cell_type": "code",
   "execution_count": 4,
   "metadata": {},
   "outputs": [
    {
     "name": "stdout",
     "output_type": "stream",
     "text": [
      "<class 'pandas.core.frame.DataFrame'>\n",
      "RangeIndex: 1581413 entries, 0 to 1581412\n",
      "Data columns (total 28 columns):\n",
      " #   Column               Non-Null Count    Dtype  \n",
      "---  ------               --------------    -----  \n",
      " 0   TrafficJamNum        1581413 non-null  int64  \n",
      " 1   StartDate            1581413 non-null  object \n",
      " 2   EndDate              1581413 non-null  object \n",
      " 3   StartTime            1581413 non-null  object \n",
      " 4   EndTime              1581413 non-null  object \n",
      " 5   Severity             1581413 non-null  float64\n",
      " 6   Length               1581413 non-null  float64\n",
      " 7   Duration             1581413 non-null  float64\n",
      " 8   HectometerStart      1581413 non-null  float64\n",
      " 9   HectometerEnd        1581413 non-null  float64\n",
      " 10  RoadLetter           1581413 non-null  object \n",
      " 11  RoadNumber           1581413 non-null  int64  \n",
      " 12  RoadDescr            1581413 non-null  object \n",
      " 13  HectometerDirection  1581413 non-null  object \n",
      " 14  RoadSectionFrom      1581413 non-null  object \n",
      " 15  RoadSectionTo        1581413 non-null  object \n",
      " 16  MainRoadFrom         1581413 non-null  object \n",
      " 17  MainRoadTo           1581413 non-null  object \n",
      " 18  CauseCodeDescr       1581413 non-null  object \n",
      " 19  CauseClass           1581413 non-null  object \n",
      " 20  CauseCodeClass       1581413 non-null  object \n",
      " 21  CauseCode            1581413 non-null  object \n",
      " 22  Cause_1              1581413 non-null  object \n",
      " 23  Cause_2              1581413 non-null  object \n",
      " 24  Cause_3              1581413 non-null  object \n",
      " 25  Cause_4              1581413 non-null  object \n",
      " 26  StartDateTime        1581413 non-null  object \n",
      " 27  EndDateTime          1581413 non-null  object \n",
      "dtypes: float64(5), int64(2), object(21)\n",
      "memory usage: 337.8+ MB\n"
     ]
    }
   ],
   "source": [
    "traffic_data.info()"
   ]
  },
  {
   "cell_type": "code",
   "execution_count": 5,
   "metadata": {},
   "outputs": [
    {
     "data": {
      "text/plain": [
       "TrafficJamNum          0\n",
       "StartDate              0\n",
       "EndDate                0\n",
       "StartTime              0\n",
       "EndTime                0\n",
       "Severity               0\n",
       "Length                 0\n",
       "Duration               0\n",
       "HectometerStart        0\n",
       "HectometerEnd          0\n",
       "RoadLetter             0\n",
       "RoadNumber             0\n",
       "RoadDescr              0\n",
       "HectometerDirection    0\n",
       "RoadSectionFrom        0\n",
       "RoadSectionTo          0\n",
       "MainRoadFrom           0\n",
       "MainRoadTo             0\n",
       "CauseCodeDescr         0\n",
       "CauseClass             0\n",
       "CauseCodeClass         0\n",
       "CauseCode              0\n",
       "Cause_1                0\n",
       "Cause_2                0\n",
       "Cause_3                0\n",
       "Cause_4                0\n",
       "StartDateTime          0\n",
       "EndDateTime            0\n",
       "dtype: int64"
      ]
     },
     "execution_count": 5,
     "metadata": {},
     "output_type": "execute_result"
    }
   ],
   "source": [
    "traffic_data.isna().sum()"
   ]
  },
  {
   "cell_type": "markdown",
   "metadata": {},
   "source": [
    "### Altering data\n",
    "#### Adding hour"
   ]
  },
  {
   "cell_type": "code",
   "execution_count": 6,
   "metadata": {},
   "outputs": [
    {
     "data": {
      "text/html": [
       "<div>\n",
       "<style scoped>\n",
       "    .dataframe tbody tr th:only-of-type {\n",
       "        vertical-align: middle;\n",
       "    }\n",
       "\n",
       "    .dataframe tbody tr th {\n",
       "        vertical-align: top;\n",
       "    }\n",
       "\n",
       "    .dataframe thead th {\n",
       "        text-align: right;\n",
       "    }\n",
       "</style>\n",
       "<table border=\"1\" class=\"dataframe\">\n",
       "  <thead>\n",
       "    <tr style=\"text-align: right;\">\n",
       "      <th></th>\n",
       "      <th>TrafficJamNum</th>\n",
       "      <th>StartDate</th>\n",
       "      <th>EndDate</th>\n",
       "      <th>StartTime</th>\n",
       "      <th>EndTime</th>\n",
       "      <th>Severity</th>\n",
       "      <th>Length</th>\n",
       "      <th>Duration</th>\n",
       "      <th>HectometerStart</th>\n",
       "      <th>HectometerEnd</th>\n",
       "      <th>...</th>\n",
       "      <th>CauseClass</th>\n",
       "      <th>CauseCodeClass</th>\n",
       "      <th>CauseCode</th>\n",
       "      <th>Cause_1</th>\n",
       "      <th>Cause_2</th>\n",
       "      <th>Cause_3</th>\n",
       "      <th>Cause_4</th>\n",
       "      <th>StartDateTime</th>\n",
       "      <th>EndDateTime</th>\n",
       "      <th>Hour</th>\n",
       "    </tr>\n",
       "  </thead>\n",
       "  <tbody>\n",
       "    <tr>\n",
       "      <th>1538316</th>\n",
       "      <td>2391802</td>\n",
       "      <td>2018-08-27</td>\n",
       "      <td>2018-08-27</td>\n",
       "      <td>17:49:00</td>\n",
       "      <td>17:54:58</td>\n",
       "      <td>14.917</td>\n",
       "      <td>2500.000</td>\n",
       "      <td>5.967</td>\n",
       "      <td>92.5</td>\n",
       "      <td>90.5</td>\n",
       "      <td>...</td>\n",
       "      <td>[Geen oorzaakcode opgegeven door VWM 6]</td>\n",
       "      <td>[000]</td>\n",
       "      <td>001</td>\n",
       "      <td>Spitsfile (geen oorzaak gemeld)</td>\n",
       "      <td>Geen oorzaak gemeld</td>\n",
       "      <td>Drukte</td>\n",
       "      <td>Hoge intensiteit</td>\n",
       "      <td>2018-08-27 17:49:00</td>\n",
       "      <td>2018-08-27 17:54:58</td>\n",
       "      <td>17</td>\n",
       "    </tr>\n",
       "    <tr>\n",
       "      <th>532532</th>\n",
       "      <td>2975076</td>\n",
       "      <td>2022-04-05</td>\n",
       "      <td>2022-04-05</td>\n",
       "      <td>8:31:31</td>\n",
       "      <td>8:33:00</td>\n",
       "      <td>3.263</td>\n",
       "      <td>2200.000</td>\n",
       "      <td>1.483</td>\n",
       "      <td>48.6</td>\n",
       "      <td>46.4</td>\n",
       "      <td>...</td>\n",
       "      <td>[Geen oorzaakcode opgegeven door VWM 1]</td>\n",
       "      <td>[000]</td>\n",
       "      <td>001</td>\n",
       "      <td>Spitsfile (geen oorzaak gemeld)</td>\n",
       "      <td>Geen oorzaak gemeld</td>\n",
       "      <td>Drukte</td>\n",
       "      <td>Hoge intensiteit</td>\n",
       "      <td>2022-04-05 08:31:31</td>\n",
       "      <td>2022-04-05 08:33:00</td>\n",
       "      <td>8</td>\n",
       "    </tr>\n",
       "    <tr>\n",
       "      <th>1573838</th>\n",
       "      <td>2808906</td>\n",
       "      <td>2021-03-28</td>\n",
       "      <td>2021-03-28</td>\n",
       "      <td>13:47:00</td>\n",
       "      <td>16:10:34</td>\n",
       "      <td>454.183</td>\n",
       "      <td>3163.571</td>\n",
       "      <td>143.567</td>\n",
       "      <td>31.4</td>\n",
       "      <td>29.4</td>\n",
       "      <td>...</td>\n",
       "      <td>[Geen oorzaakcode opgegeven door VWM 28], [Ext...</td>\n",
       "      <td>[000], [N61]</td>\n",
       "      <td>N61</td>\n",
       "      <td>Extra verkeersdrukte door verkeer dat een omle...</td>\n",
       "      <td>Incident elders</td>\n",
       "      <td>Incident</td>\n",
       "      <td>Incident</td>\n",
       "      <td>2021-03-28 13:47:00</td>\n",
       "      <td>2021-03-28 16:10:34</td>\n",
       "      <td>13</td>\n",
       "    </tr>\n",
       "  </tbody>\n",
       "</table>\n",
       "<p>3 rows × 29 columns</p>\n",
       "</div>"
      ],
      "text/plain": [
       "         TrafficJamNum   StartDate     EndDate StartTime   EndTime  Severity  \\\n",
       "1538316        2391802  2018-08-27  2018-08-27  17:49:00  17:54:58    14.917   \n",
       "532532         2975076  2022-04-05  2022-04-05   8:31:31   8:33:00     3.263   \n",
       "1573838        2808906  2021-03-28  2021-03-28  13:47:00  16:10:34   454.183   \n",
       "\n",
       "           Length  Duration  HectometerStart  HectometerEnd  ...  \\\n",
       "1538316  2500.000     5.967             92.5           90.5  ...   \n",
       "532532   2200.000     1.483             48.6           46.4  ...   \n",
       "1573838  3163.571   143.567             31.4           29.4  ...   \n",
       "\n",
       "                                                CauseClass  CauseCodeClass  \\\n",
       "1538316            [Geen oorzaakcode opgegeven door VWM 6]           [000]   \n",
       "532532             [Geen oorzaakcode opgegeven door VWM 1]           [000]   \n",
       "1573838  [Geen oorzaakcode opgegeven door VWM 28], [Ext...    [000], [N61]   \n",
       "\n",
       "        CauseCode                                            Cause_1  \\\n",
       "1538316       001                    Spitsfile (geen oorzaak gemeld)   \n",
       "532532        001                    Spitsfile (geen oorzaak gemeld)   \n",
       "1573838       N61  Extra verkeersdrukte door verkeer dat een omle...   \n",
       "\n",
       "                     Cause_2   Cause_3           Cause_4        StartDateTime  \\\n",
       "1538316  Geen oorzaak gemeld    Drukte  Hoge intensiteit  2018-08-27 17:49:00   \n",
       "532532   Geen oorzaak gemeld    Drukte  Hoge intensiteit  2022-04-05 08:31:31   \n",
       "1573838      Incident elders  Incident          Incident  2021-03-28 13:47:00   \n",
       "\n",
       "                 EndDateTime Hour  \n",
       "1538316  2018-08-27 17:54:58   17  \n",
       "532532   2022-04-05 08:33:00    8  \n",
       "1573838  2021-03-28 16:10:34   13  \n",
       "\n",
       "[3 rows x 29 columns]"
      ]
     },
     "execution_count": 6,
     "metadata": {},
     "output_type": "execute_result"
    }
   ],
   "source": [
    "traffic_data['Hour'] = traffic_data['StartTime'].apply(lambda x: x.split(':')[0]).astype(int)\n",
    "traffic_data.sample(3)"
   ]
  },
  {
   "cell_type": "markdown",
   "metadata": {},
   "source": [
    "#### Keeping only relevant roads"
   ]
  },
  {
   "cell_type": "markdown",
   "metadata": {},
   "source": [
    "As we want to only have the specific roads that our client can possibly use to reach the offices, we will prepare the data for joining by filtering on the roads A2 and A73.\n",
    "An important observation is that **A2 leads from Sittard to 's-Hertogenbosch** and vice versa, whereas **A73 leads from Sittard to Boxmeer** and vice versa. Other routes are also possible, but they are significantly slower. Therefore, it is better to focus on those two only for now. Furthermore, they have been suggested by the client as the optimal routes."
   ]
  },
  {
   "cell_type": "code",
   "execution_count": 7,
   "metadata": {},
   "outputs": [
    {
     "data": {
      "text/html": [
       "<div>\n",
       "<style scoped>\n",
       "    .dataframe tbody tr th:only-of-type {\n",
       "        vertical-align: middle;\n",
       "    }\n",
       "\n",
       "    .dataframe tbody tr th {\n",
       "        vertical-align: top;\n",
       "    }\n",
       "\n",
       "    .dataframe thead th {\n",
       "        text-align: right;\n",
       "    }\n",
       "</style>\n",
       "<table border=\"1\" class=\"dataframe\">\n",
       "  <thead>\n",
       "    <tr style=\"text-align: right;\">\n",
       "      <th></th>\n",
       "      <th>TrafficJamNum</th>\n",
       "      <th>StartDate</th>\n",
       "      <th>EndDate</th>\n",
       "      <th>StartTime</th>\n",
       "      <th>EndTime</th>\n",
       "      <th>Severity</th>\n",
       "      <th>Length</th>\n",
       "      <th>Duration</th>\n",
       "      <th>HectometerStart</th>\n",
       "      <th>HectometerEnd</th>\n",
       "      <th>...</th>\n",
       "      <th>CauseClass</th>\n",
       "      <th>CauseCodeClass</th>\n",
       "      <th>CauseCode</th>\n",
       "      <th>Cause_1</th>\n",
       "      <th>Cause_2</th>\n",
       "      <th>Cause_3</th>\n",
       "      <th>Cause_4</th>\n",
       "      <th>StartDateTime</th>\n",
       "      <th>EndDateTime</th>\n",
       "      <th>Hour</th>\n",
       "    </tr>\n",
       "  </thead>\n",
       "  <tbody>\n",
       "    <tr>\n",
       "      <th>178444</th>\n",
       "      <td>3261057</td>\n",
       "      <td>2022-11-07</td>\n",
       "      <td>2022-11-07</td>\n",
       "      <td>17:07:27</td>\n",
       "      <td>17:20:03</td>\n",
       "      <td>31.220</td>\n",
       "      <td>2478.0</td>\n",
       "      <td>12.600</td>\n",
       "      <td>59.6</td>\n",
       "      <td>57.8</td>\n",
       "      <td>...</td>\n",
       "      <td>[Geen oorzaakcode opgegeven door VWM 13]</td>\n",
       "      <td>[000]</td>\n",
       "      <td>002</td>\n",
       "      <td>Spitsfile (geen oorzaak gemeld) met gevonden w...</td>\n",
       "      <td>Geen oorzaak gemeld</td>\n",
       "      <td>Drukte</td>\n",
       "      <td>Hoge intensiteit</td>\n",
       "      <td>2022-11-07 17:07:27</td>\n",
       "      <td>2022-11-07 17:20:03</td>\n",
       "      <td>17</td>\n",
       "    </tr>\n",
       "    <tr>\n",
       "      <th>864815</th>\n",
       "      <td>2355214</td>\n",
       "      <td>2018-05-31</td>\n",
       "      <td>2018-05-31</td>\n",
       "      <td>16:32:00</td>\n",
       "      <td>16:34:40</td>\n",
       "      <td>5.333</td>\n",
       "      <td>2000.0</td>\n",
       "      <td>2.667</td>\n",
       "      <td>65.1</td>\n",
       "      <td>63.1</td>\n",
       "      <td>...</td>\n",
       "      <td>[Geen oorzaakcode opgegeven door VWM 3]</td>\n",
       "      <td>[000]</td>\n",
       "      <td>001</td>\n",
       "      <td>Spitsfile (geen oorzaak gemeld)</td>\n",
       "      <td>Geen oorzaak gemeld</td>\n",
       "      <td>Drukte</td>\n",
       "      <td>Hoge intensiteit</td>\n",
       "      <td>2018-05-31 16:32:00</td>\n",
       "      <td>2018-05-31 16:34:40</td>\n",
       "      <td>16</td>\n",
       "    </tr>\n",
       "    <tr>\n",
       "      <th>72676</th>\n",
       "      <td>3804957</td>\n",
       "      <td>2023-11-03</td>\n",
       "      <td>2023-11-03</td>\n",
       "      <td>17:12:31</td>\n",
       "      <td>17:45:03</td>\n",
       "      <td>131.972</td>\n",
       "      <td>4057.0</td>\n",
       "      <td>32.533</td>\n",
       "      <td>80.9</td>\n",
       "      <td>78.2</td>\n",
       "      <td>...</td>\n",
       "      <td>[Geen oorzaakcode opgegeven door VWM 9], [Defe...</td>\n",
       "      <td>[000], [BKD], [000]</td>\n",
       "      <td>BKD</td>\n",
       "      <td>Defect(e) voertuig(en)</td>\n",
       "      <td>Defect voertuig</td>\n",
       "      <td>Incident (gestrand voertuig)</td>\n",
       "      <td>Incident</td>\n",
       "      <td>2023-11-03 17:12:31</td>\n",
       "      <td>2023-11-03 17:45:03</td>\n",
       "      <td>17</td>\n",
       "    </tr>\n",
       "  </tbody>\n",
       "</table>\n",
       "<p>3 rows × 29 columns</p>\n",
       "</div>"
      ],
      "text/plain": [
       "        TrafficJamNum   StartDate     EndDate StartTime   EndTime  Severity  \\\n",
       "178444        3261057  2022-11-07  2022-11-07  17:07:27  17:20:03    31.220   \n",
       "864815        2355214  2018-05-31  2018-05-31  16:32:00  16:34:40     5.333   \n",
       "72676         3804957  2023-11-03  2023-11-03  17:12:31  17:45:03   131.972   \n",
       "\n",
       "        Length  Duration  HectometerStart  HectometerEnd  ...  \\\n",
       "178444  2478.0    12.600             59.6           57.8  ...   \n",
       "864815  2000.0     2.667             65.1           63.1  ...   \n",
       "72676   4057.0    32.533             80.9           78.2  ...   \n",
       "\n",
       "                                               CauseClass  \\\n",
       "178444           [Geen oorzaakcode opgegeven door VWM 13]   \n",
       "864815            [Geen oorzaakcode opgegeven door VWM 3]   \n",
       "72676   [Geen oorzaakcode opgegeven door VWM 9], [Defe...   \n",
       "\n",
       "             CauseCodeClass CauseCode  \\\n",
       "178444                [000]       002   \n",
       "864815                [000]       001   \n",
       "72676   [000], [BKD], [000]       BKD   \n",
       "\n",
       "                                                  Cause_1  \\\n",
       "178444  Spitsfile (geen oorzaak gemeld) met gevonden w...   \n",
       "864815                    Spitsfile (geen oorzaak gemeld)   \n",
       "72676                              Defect(e) voertuig(en)   \n",
       "\n",
       "                    Cause_2                       Cause_3           Cause_4  \\\n",
       "178444  Geen oorzaak gemeld                        Drukte  Hoge intensiteit   \n",
       "864815  Geen oorzaak gemeld                        Drukte  Hoge intensiteit   \n",
       "72676       Defect voertuig  Incident (gestrand voertuig)          Incident   \n",
       "\n",
       "              StartDateTime          EndDateTime Hour  \n",
       "178444  2022-11-07 17:07:27  2022-11-07 17:20:03   17  \n",
       "864815  2018-05-31 16:32:00  2018-05-31 16:34:40   16  \n",
       "72676   2023-11-03 17:12:31  2023-11-03 17:45:03   17  \n",
       "\n",
       "[3 rows x 29 columns]"
      ]
     },
     "execution_count": 7,
     "metadata": {},
     "output_type": "execute_result"
    }
   ],
   "source": [
    "filtered_traffic= traffic_data[(traffic_data['RoadDescr'] == 'A73') | (traffic_data['RoadDescr'] == 'A2')]\n",
    "filtered_traffic.sample(3)"
   ]
  },
  {
   "cell_type": "code",
   "execution_count": 8,
   "metadata": {},
   "outputs": [
    {
     "data": {
      "text/plain": [
       "array(['aflopend'], dtype=object)"
      ]
     },
     "execution_count": 8,
     "metadata": {},
     "output_type": "execute_result"
    }
   ],
   "source": [
    "denb=filtered_traffic[(filtered_traffic[\"MainRoadFrom\"] == \"'s-Hertogenbosch\")&(filtered_traffic[\"MainRoadTo\"] == \"Utrecht\")]\n",
    "denb[\"HectometerDirection\"].unique()"
   ]
  },
  {
   "cell_type": "markdown",
   "metadata": {},
   "source": [
    "### Making the direction numerical\n",
    "0 = Morning (Sittard - Den Bosch)\n",
    "\n",
    "1 = Afternoon (Den Bosch - Sittard)"
   ]
  },
  {
   "cell_type": "code",
   "execution_count": 9,
   "metadata": {},
   "outputs": [
    {
     "name": "stderr",
     "output_type": "stream",
     "text": [
      "C:\\Users\\zashe\\AppData\\Local\\Temp\\ipykernel_2020\\1781117567.py:1: SettingWithCopyWarning: \n",
      "A value is trying to be set on a copy of a slice from a DataFrame.\n",
      "Try using .loc[row_indexer,col_indexer] = value instead\n",
      "\n",
      "See the caveats in the documentation: https://pandas.pydata.org/pandas-docs/stable/user_guide/indexing.html#returning-a-view-versus-a-copy\n",
      "  filtered_traffic.loc[filtered_traffic[\"HectometerDirection\"]==\"oplopend\", 'HectometerDirectionNum'] = 1\n"
     ]
    },
    {
     "data": {
      "text/html": [
       "<div>\n",
       "<style scoped>\n",
       "    .dataframe tbody tr th:only-of-type {\n",
       "        vertical-align: middle;\n",
       "    }\n",
       "\n",
       "    .dataframe tbody tr th {\n",
       "        vertical-align: top;\n",
       "    }\n",
       "\n",
       "    .dataframe thead th {\n",
       "        text-align: right;\n",
       "    }\n",
       "</style>\n",
       "<table border=\"1\" class=\"dataframe\">\n",
       "  <thead>\n",
       "    <tr style=\"text-align: right;\">\n",
       "      <th></th>\n",
       "      <th>TrafficJamNum</th>\n",
       "      <th>StartDate</th>\n",
       "      <th>EndDate</th>\n",
       "      <th>StartTime</th>\n",
       "      <th>EndTime</th>\n",
       "      <th>Severity</th>\n",
       "      <th>Length</th>\n",
       "      <th>Duration</th>\n",
       "      <th>HectometerStart</th>\n",
       "      <th>HectometerEnd</th>\n",
       "      <th>...</th>\n",
       "      <th>CauseCodeClass</th>\n",
       "      <th>CauseCode</th>\n",
       "      <th>Cause_1</th>\n",
       "      <th>Cause_2</th>\n",
       "      <th>Cause_3</th>\n",
       "      <th>Cause_4</th>\n",
       "      <th>StartDateTime</th>\n",
       "      <th>EndDateTime</th>\n",
       "      <th>Hour</th>\n",
       "      <th>HectometerDirectionNum</th>\n",
       "    </tr>\n",
       "  </thead>\n",
       "  <tbody>\n",
       "    <tr>\n",
       "      <th>65675</th>\n",
       "      <td>3819387</td>\n",
       "      <td>2023-11-13</td>\n",
       "      <td>2023-11-13</td>\n",
       "      <td>7:35:28</td>\n",
       "      <td>7:44:00</td>\n",
       "      <td>14.782</td>\n",
       "      <td>1732.0</td>\n",
       "      <td>8.533</td>\n",
       "      <td>188.8</td>\n",
       "      <td>190.4</td>\n",
       "      <td>...</td>\n",
       "      <td>[000]</td>\n",
       "      <td>001</td>\n",
       "      <td>Spitsfile (geen oorzaak gemeld)</td>\n",
       "      <td>Geen oorzaak gemeld</td>\n",
       "      <td>Drukte</td>\n",
       "      <td>Hoge intensiteit</td>\n",
       "      <td>2023-11-13 07:35:28</td>\n",
       "      <td>2023-11-13 07:44:00</td>\n",
       "      <td>7</td>\n",
       "      <td>0.0</td>\n",
       "    </tr>\n",
       "    <tr>\n",
       "      <th>311437</th>\n",
       "      <td>3079978</td>\n",
       "      <td>2022-06-16</td>\n",
       "      <td>2022-06-16</td>\n",
       "      <td>10:12:27</td>\n",
       "      <td>10:16:00</td>\n",
       "      <td>11.017</td>\n",
       "      <td>3103.0</td>\n",
       "      <td>3.550</td>\n",
       "      <td>184.9</td>\n",
       "      <td>188.1</td>\n",
       "      <td>...</td>\n",
       "      <td>[000]</td>\n",
       "      <td>003</td>\n",
       "      <td>File buiten spits (geen oorzaak gemeld)</td>\n",
       "      <td>Geen oorzaak gemeld</td>\n",
       "      <td>Drukte</td>\n",
       "      <td>Hoge intensiteit</td>\n",
       "      <td>2022-06-16 10:12:27</td>\n",
       "      <td>2022-06-16 10:16:00</td>\n",
       "      <td>10</td>\n",
       "      <td>0.0</td>\n",
       "    </tr>\n",
       "    <tr>\n",
       "      <th>409619</th>\n",
       "      <td>3046299</td>\n",
       "      <td>2022-05-25</td>\n",
       "      <td>2022-05-25</td>\n",
       "      <td>16:12:28</td>\n",
       "      <td>16:16:02</td>\n",
       "      <td>7.133</td>\n",
       "      <td>2000.0</td>\n",
       "      <td>3.567</td>\n",
       "      <td>77.3</td>\n",
       "      <td>75.3</td>\n",
       "      <td>...</td>\n",
       "      <td>[000]</td>\n",
       "      <td>001</td>\n",
       "      <td>Spitsfile (geen oorzaak gemeld)</td>\n",
       "      <td>Geen oorzaak gemeld</td>\n",
       "      <td>Drukte</td>\n",
       "      <td>Hoge intensiteit</td>\n",
       "      <td>2022-05-25 16:12:28</td>\n",
       "      <td>2022-05-25 16:16:02</td>\n",
       "      <td>16</td>\n",
       "      <td>1.0</td>\n",
       "    </tr>\n",
       "  </tbody>\n",
       "</table>\n",
       "<p>3 rows × 30 columns</p>\n",
       "</div>"
      ],
      "text/plain": [
       "        TrafficJamNum   StartDate     EndDate StartTime   EndTime  Severity  \\\n",
       "65675         3819387  2023-11-13  2023-11-13   7:35:28   7:44:00    14.782   \n",
       "311437        3079978  2022-06-16  2022-06-16  10:12:27  10:16:00    11.017   \n",
       "409619        3046299  2022-05-25  2022-05-25  16:12:28  16:16:02     7.133   \n",
       "\n",
       "        Length  Duration  HectometerStart  HectometerEnd  ... CauseCodeClass  \\\n",
       "65675   1732.0     8.533            188.8          190.4  ...          [000]   \n",
       "311437  3103.0     3.550            184.9          188.1  ...          [000]   \n",
       "409619  2000.0     3.567             77.3           75.3  ...          [000]   \n",
       "\n",
       "        CauseCode                                  Cause_1  \\\n",
       "65675         001          Spitsfile (geen oorzaak gemeld)   \n",
       "311437        003  File buiten spits (geen oorzaak gemeld)   \n",
       "409619        001          Spitsfile (geen oorzaak gemeld)   \n",
       "\n",
       "                    Cause_2 Cause_3           Cause_4        StartDateTime  \\\n",
       "65675   Geen oorzaak gemeld  Drukte  Hoge intensiteit  2023-11-13 07:35:28   \n",
       "311437  Geen oorzaak gemeld  Drukte  Hoge intensiteit  2022-06-16 10:12:27   \n",
       "409619  Geen oorzaak gemeld  Drukte  Hoge intensiteit  2022-05-25 16:12:28   \n",
       "\n",
       "                EndDateTime Hour HectometerDirectionNum  \n",
       "65675   2023-11-13 07:44:00    7                    0.0  \n",
       "311437  2022-06-16 10:16:00   10                    0.0  \n",
       "409619  2022-05-25 16:16:02   16                    1.0  \n",
       "\n",
       "[3 rows x 30 columns]"
      ]
     },
     "execution_count": 9,
     "metadata": {},
     "output_type": "execute_result"
    }
   ],
   "source": [
    "filtered_traffic.loc[filtered_traffic[\"HectometerDirection\"]==\"oplopend\", 'HectometerDirectionNum'] = 1\n",
    "filtered_traffic.loc[filtered_traffic[\"HectometerDirection\"]==\"aflopend\", 'HectometerDirectionNum'] = 0\n",
    "\n",
    "filtered_traffic.sample(3)"
   ]
  },
  {
   "cell_type": "markdown",
   "metadata": {},
   "source": [
    "### Removing useless columns"
   ]
  },
  {
   "cell_type": "code",
   "execution_count": 13,
   "metadata": {},
   "outputs": [
    {
     "name": "stdout",
     "output_type": "stream",
     "text": [
      "<class 'pandas.core.frame.DataFrame'>\n",
      "Index: 191585 entries, 7 to 1581404\n",
      "Data columns (total 5 columns):\n",
      " #   Column                  Non-Null Count   Dtype         \n",
      "---  ------                  --------------   -----         \n",
      " 0   StartDate               191585 non-null  datetime64[ns]\n",
      " 1   Duration                191585 non-null  float64       \n",
      " 2   RoadNumber              191585 non-null  int64         \n",
      " 3   Hour                    191585 non-null  int32         \n",
      " 4   HectometerDirectionNum  191585 non-null  float64       \n",
      "dtypes: datetime64[ns](1), float64(2), int32(1), int64(1)\n",
      "memory usage: 8.0 MB\n"
     ]
    }
   ],
   "source": [
    "numerical_columns = filtered_traffic.select_dtypes(include=['int64', 'float64', 'int32'])\n",
    "selected_columns = filtered_traffic.loc[:, [\"StartDate\"]+numerical_columns.columns.tolist()]\n",
    "selected_columns = selected_columns[[\"StartDate\", \"Duration\", \"RoadNumber\", \"Hour\", \"HectometerDirectionNum\"]]\n",
    "selected_columns['StartDate'] = pd.to_datetime(selected_columns['StartDate'])\n",
    "selected_columns.info()"
   ]
  },
  {
   "cell_type": "markdown",
   "metadata": {},
   "source": [
    "It can be concluded that the file got imported correctly and is ready to be used further.\n",
    "## Calendar"
   ]
  },
  {
   "cell_type": "code",
   "execution_count": 27,
   "metadata": {},
   "outputs": [
    {
     "name": "stdout",
     "output_type": "stream",
     "text": [
      "<class 'pandas.core.frame.DataFrame'>\n",
      "RangeIndex: 80233 entries, 0 to 80232\n",
      "Data columns (total 2 columns):\n",
      " #   Column     Non-Null Count  Dtype         \n",
      "---  ------     --------------  -----         \n",
      " 0   StartDate  80233 non-null  datetime64[ns]\n",
      " 1   Hour       80233 non-null  int32         \n",
      "dtypes: datetime64[ns](1), int32(1)\n",
      "memory usage: 940.4 KB\n"
     ]
    }
   ],
   "source": [
    "def create_date_table2(start, end):\n",
    "    date_range = pd.date_range(start=start, end=end, freq='h')\n",
    "    df = pd.DataFrame({\"DateTime\": date_range})\n",
    "    df[\"StartDate\"] = df[\"DateTime\"].dt.date\n",
    "    df[\"Hour\"] = df[\"DateTime\"].dt.hour\n",
    "    return df\n",
    "\n",
    "calendar = create_date_table2(start=selected_columns['StartDate'].min(), end=selected_columns['StartDate'].max())\n",
    "calendar = calendar.drop(calendar.columns[0], axis=1)\n",
    "calendar['StartDate'] = pd.to_datetime(calendar['StartDate'])\n",
    "calendar.info()"
   ]
  },
  {
   "cell_type": "markdown",
   "metadata": {},
   "source": [
    "### Join road A2 and direction 1"
   ]
  },
  {
   "cell_type": "code",
   "execution_count": 35,
   "metadata": {},
   "outputs": [
    {
     "data": {
      "text/html": [
       "<div>\n",
       "<style scoped>\n",
       "    .dataframe tbody tr th:only-of-type {\n",
       "        vertical-align: middle;\n",
       "    }\n",
       "\n",
       "    .dataframe tbody tr th {\n",
       "        vertical-align: top;\n",
       "    }\n",
       "\n",
       "    .dataframe thead th {\n",
       "        text-align: right;\n",
       "    }\n",
       "</style>\n",
       "<table border=\"1\" class=\"dataframe\">\n",
       "  <thead>\n",
       "    <tr style=\"text-align: right;\">\n",
       "      <th></th>\n",
       "      <th>StartDate</th>\n",
       "      <th>Duration</th>\n",
       "      <th>RoadNumber</th>\n",
       "      <th>Hour</th>\n",
       "      <th>HectometerDirectionNum</th>\n",
       "    </tr>\n",
       "  </thead>\n",
       "  <tbody>\n",
       "    <tr>\n",
       "      <th>1446392</th>\n",
       "      <td>2018-07-12</td>\n",
       "      <td>3.95</td>\n",
       "      <td>2</td>\n",
       "      <td>16</td>\n",
       "      <td>1.0</td>\n",
       "    </tr>\n",
       "    <tr>\n",
       "      <th>980102</th>\n",
       "      <td>2020-01-21</td>\n",
       "      <td>1.20</td>\n",
       "      <td>2</td>\n",
       "      <td>16</td>\n",
       "      <td>1.0</td>\n",
       "    </tr>\n",
       "  </tbody>\n",
       "</table>\n",
       "</div>"
      ],
      "text/plain": [
       "         StartDate  Duration  RoadNumber  Hour  HectometerDirectionNum\n",
       "1446392 2018-07-12      3.95           2    16                     1.0\n",
       "980102  2020-01-21      1.20           2    16                     1.0"
      ]
     },
     "execution_count": 35,
     "metadata": {},
     "output_type": "execute_result"
    }
   ],
   "source": [
    "a2d1 = selected_columns[(selected_columns['RoadNumber']==2)&(selected_columns['HectometerDirectionNum']==1)]\n",
    "a2d1.sample(2)"
   ]
  },
  {
   "cell_type": "code",
   "execution_count": 36,
   "metadata": {},
   "outputs": [
    {
     "data": {
      "text/plain": [
       "StartDate                     0\n",
       "Hour                          0\n",
       "Duration                  66294\n",
       "RoadNumber                66294\n",
       "HectometerDirectionNum    66294\n",
       "dtype: int64"
      ]
     },
     "execution_count": 36,
     "metadata": {},
     "output_type": "execute_result"
    }
   ],
   "source": [
    "mergedoutera2d1 = pd.merge(calendar, a2d1, how='left', on=['StartDate', 'Hour'])\n",
    "mergedoutera2d1.isna().sum()"
   ]
  },
  {
   "cell_type": "code",
   "execution_count": 37,
   "metadata": {},
   "outputs": [
    {
     "data": {
      "text/plain": [
       "StartDate                 0\n",
       "Hour                      0\n",
       "Duration                  0\n",
       "RoadNumber                0\n",
       "HectometerDirectionNum    0\n",
       "dtype: int64"
      ]
     },
     "execution_count": 37,
     "metadata": {},
     "output_type": "execute_result"
    }
   ],
   "source": [
    "mergedoutera2d1['Duration'] = mergedoutera2d1['Duration'].fillna(0)\n",
    "mergedoutera2d1['RoadNumber'] = mergedoutera2d1['RoadNumber'].fillna(2)\n",
    "mergedoutera2d1['HectometerDirectionNum'] = mergedoutera2d1['HectometerDirectionNum'].fillna(1)\n",
    "mergedoutera2d1.isna().sum()"
   ]
  },
  {
   "cell_type": "code",
   "execution_count": 48,
   "metadata": {},
   "outputs": [
    {
     "data": {
      "text/html": [
       "<div>\n",
       "<style scoped>\n",
       "    .dataframe tbody tr th:only-of-type {\n",
       "        vertical-align: middle;\n",
       "    }\n",
       "\n",
       "    .dataframe tbody tr th {\n",
       "        vertical-align: top;\n",
       "    }\n",
       "\n",
       "    .dataframe thead th {\n",
       "        text-align: right;\n",
       "    }\n",
       "</style>\n",
       "<table border=\"1\" class=\"dataframe\">\n",
       "  <thead>\n",
       "    <tr style=\"text-align: right;\">\n",
       "      <th></th>\n",
       "      <th>StartDate</th>\n",
       "      <th>Hour</th>\n",
       "      <th>Duration</th>\n",
       "      <th>RoadNumber</th>\n",
       "      <th>HectometerDirectionNum</th>\n",
       "    </tr>\n",
       "  </thead>\n",
       "  <tbody>\n",
       "    <tr>\n",
       "      <th>63588</th>\n",
       "      <td>2018-12-07</td>\n",
       "      <td>15</td>\n",
       "      <td>22.90</td>\n",
       "      <td>2.0</td>\n",
       "      <td>1.0</td>\n",
       "    </tr>\n",
       "    <tr>\n",
       "      <th>29351</th>\n",
       "      <td>2016-11-17</td>\n",
       "      <td>15</td>\n",
       "      <td>14.05</td>\n",
       "      <td>2.0</td>\n",
       "      <td>1.0</td>\n",
       "    </tr>\n",
       "  </tbody>\n",
       "</table>\n",
       "</div>"
      ],
      "text/plain": [
       "       StartDate  Hour  Duration  RoadNumber  HectometerDirectionNum\n",
       "63588 2018-12-07    15     22.90         2.0                     1.0\n",
       "29351 2016-11-17    15     14.05         2.0                     1.0"
      ]
     },
     "execution_count": 48,
     "metadata": {},
     "output_type": "execute_result"
    }
   ],
   "source": [
    "mergedoutera2d1.sample(2)"
   ]
  },
  {
   "cell_type": "markdown",
   "metadata": {},
   "source": [
    "### Join road A2 and direction 0"
   ]
  },
  {
   "cell_type": "code",
   "execution_count": 44,
   "metadata": {},
   "outputs": [
    {
     "data": {
      "text/html": [
       "<div>\n",
       "<style scoped>\n",
       "    .dataframe tbody tr th:only-of-type {\n",
       "        vertical-align: middle;\n",
       "    }\n",
       "\n",
       "    .dataframe tbody tr th {\n",
       "        vertical-align: top;\n",
       "    }\n",
       "\n",
       "    .dataframe thead th {\n",
       "        text-align: right;\n",
       "    }\n",
       "</style>\n",
       "<table border=\"1\" class=\"dataframe\">\n",
       "  <thead>\n",
       "    <tr style=\"text-align: right;\">\n",
       "      <th></th>\n",
       "      <th>StartDate</th>\n",
       "      <th>Duration</th>\n",
       "      <th>RoadNumber</th>\n",
       "      <th>Hour</th>\n",
       "      <th>HectometerDirectionNum</th>\n",
       "    </tr>\n",
       "  </thead>\n",
       "  <tbody>\n",
       "    <tr>\n",
       "      <th>1292834</th>\n",
       "      <td>2019-01-22</td>\n",
       "      <td>22.533</td>\n",
       "      <td>2</td>\n",
       "      <td>8</td>\n",
       "      <td>0.0</td>\n",
       "    </tr>\n",
       "    <tr>\n",
       "      <th>455059</th>\n",
       "      <td>2024-02-15</td>\n",
       "      <td>11.567</td>\n",
       "      <td>2</td>\n",
       "      <td>8</td>\n",
       "      <td>0.0</td>\n",
       "    </tr>\n",
       "  </tbody>\n",
       "</table>\n",
       "</div>"
      ],
      "text/plain": [
       "         StartDate  Duration  RoadNumber  Hour  HectometerDirectionNum\n",
       "1292834 2019-01-22    22.533           2     8                     0.0\n",
       "455059  2024-02-15    11.567           2     8                     0.0"
      ]
     },
     "execution_count": 44,
     "metadata": {},
     "output_type": "execute_result"
    }
   ],
   "source": [
    "a2d0 = selected_columns[(selected_columns['RoadNumber']==2)&(selected_columns['HectometerDirectionNum']==0)]\n",
    "a2d0.sample(2)"
   ]
  },
  {
   "cell_type": "code",
   "execution_count": 45,
   "metadata": {},
   "outputs": [
    {
     "data": {
      "text/plain": [
       "StartDate                     0\n",
       "Hour                          0\n",
       "Duration                  65613\n",
       "RoadNumber                65613\n",
       "HectometerDirectionNum    65613\n",
       "dtype: int64"
      ]
     },
     "execution_count": 45,
     "metadata": {},
     "output_type": "execute_result"
    }
   ],
   "source": [
    "mergedoutera2d0 = pd.merge(calendar, a2d0, how='left', on=['StartDate', 'Hour'])\n",
    "mergedoutera2d0.isna().sum()"
   ]
  },
  {
   "cell_type": "code",
   "execution_count": 46,
   "metadata": {},
   "outputs": [
    {
     "data": {
      "text/plain": [
       "StartDate                 0\n",
       "Hour                      0\n",
       "Duration                  0\n",
       "RoadNumber                0\n",
       "HectometerDirectionNum    0\n",
       "dtype: int64"
      ]
     },
     "execution_count": 46,
     "metadata": {},
     "output_type": "execute_result"
    }
   ],
   "source": [
    "mergedoutera2d0['Duration'] = mergedoutera2d0['Duration'].fillna(0)\n",
    "mergedoutera2d0['RoadNumber'] = mergedoutera2d0['RoadNumber'].fillna(2)\n",
    "mergedoutera2d0['HectometerDirectionNum'] = mergedoutera2d0['HectometerDirectionNum'].fillna(0)\n",
    "mergedoutera2d0.isna().sum()"
   ]
  },
  {
   "cell_type": "code",
   "execution_count": 47,
   "metadata": {},
   "outputs": [
    {
     "data": {
      "text/html": [
       "<div>\n",
       "<style scoped>\n",
       "    .dataframe tbody tr th:only-of-type {\n",
       "        vertical-align: middle;\n",
       "    }\n",
       "\n",
       "    .dataframe tbody tr th {\n",
       "        vertical-align: top;\n",
       "    }\n",
       "\n",
       "    .dataframe thead th {\n",
       "        text-align: right;\n",
       "    }\n",
       "</style>\n",
       "<table border=\"1\" class=\"dataframe\">\n",
       "  <thead>\n",
       "    <tr style=\"text-align: right;\">\n",
       "      <th></th>\n",
       "      <th>StartDate</th>\n",
       "      <th>Hour</th>\n",
       "      <th>Duration</th>\n",
       "      <th>RoadNumber</th>\n",
       "      <th>HectometerDirectionNum</th>\n",
       "    </tr>\n",
       "  </thead>\n",
       "  <tbody>\n",
       "    <tr>\n",
       "      <th>52596</th>\n",
       "      <td>2018-09-30</td>\n",
       "      <td>14</td>\n",
       "      <td>0.0</td>\n",
       "      <td>2.0</td>\n",
       "      <td>0.0</td>\n",
       "    </tr>\n",
       "    <tr>\n",
       "      <th>68436</th>\n",
       "      <td>2019-09-26</td>\n",
       "      <td>4</td>\n",
       "      <td>0.0</td>\n",
       "      <td>2.0</td>\n",
       "      <td>0.0</td>\n",
       "    </tr>\n",
       "  </tbody>\n",
       "</table>\n",
       "</div>"
      ],
      "text/plain": [
       "       StartDate  Hour  Duration  RoadNumber  HectometerDirectionNum\n",
       "52596 2018-09-30    14       0.0         2.0                     0.0\n",
       "68436 2019-09-26     4       0.0         2.0                     0.0"
      ]
     },
     "execution_count": 47,
     "metadata": {},
     "output_type": "execute_result"
    }
   ],
   "source": [
    "mergedoutera2d0.sample(2)"
   ]
  },
  {
   "cell_type": "markdown",
   "metadata": {},
   "source": [
    "### Join A73 and direction 1"
   ]
  },
  {
   "cell_type": "code",
   "execution_count": 49,
   "metadata": {},
   "outputs": [
    {
     "data": {
      "text/html": [
       "<div>\n",
       "<style scoped>\n",
       "    .dataframe tbody tr th:only-of-type {\n",
       "        vertical-align: middle;\n",
       "    }\n",
       "\n",
       "    .dataframe tbody tr th {\n",
       "        vertical-align: top;\n",
       "    }\n",
       "\n",
       "    .dataframe thead th {\n",
       "        text-align: right;\n",
       "    }\n",
       "</style>\n",
       "<table border=\"1\" class=\"dataframe\">\n",
       "  <thead>\n",
       "    <tr style=\"text-align: right;\">\n",
       "      <th></th>\n",
       "      <th>StartDate</th>\n",
       "      <th>Duration</th>\n",
       "      <th>RoadNumber</th>\n",
       "      <th>Hour</th>\n",
       "      <th>HectometerDirectionNum</th>\n",
       "    </tr>\n",
       "  </thead>\n",
       "  <tbody>\n",
       "    <tr>\n",
       "      <th>369621</th>\n",
       "      <td>2022-10-28</td>\n",
       "      <td>9.533</td>\n",
       "      <td>73</td>\n",
       "      <td>16</td>\n",
       "      <td>1.0</td>\n",
       "    </tr>\n",
       "    <tr>\n",
       "      <th>344546</th>\n",
       "      <td>2022-09-16</td>\n",
       "      <td>10.533</td>\n",
       "      <td>73</td>\n",
       "      <td>17</td>\n",
       "      <td>1.0</td>\n",
       "    </tr>\n",
       "  </tbody>\n",
       "</table>\n",
       "</div>"
      ],
      "text/plain": [
       "        StartDate  Duration  RoadNumber  Hour  HectometerDirectionNum\n",
       "369621 2022-10-28     9.533          73    16                     1.0\n",
       "344546 2022-09-16    10.533          73    17                     1.0"
      ]
     },
     "execution_count": 49,
     "metadata": {},
     "output_type": "execute_result"
    }
   ],
   "source": [
    "a73d1 = selected_columns[(selected_columns['RoadNumber']==73)&(selected_columns['HectometerDirectionNum']==1)]\n",
    "a73d1.sample(2)"
   ]
  },
  {
   "cell_type": "code",
   "execution_count": 50,
   "metadata": {},
   "outputs": [
    {
     "data": {
      "text/plain": [
       "StartDate                     0\n",
       "Hour                          0\n",
       "Duration                  76121\n",
       "RoadNumber                76121\n",
       "HectometerDirectionNum    76121\n",
       "dtype: int64"
      ]
     },
     "execution_count": 50,
     "metadata": {},
     "output_type": "execute_result"
    }
   ],
   "source": [
    "mergedoutera73d1 = pd.merge(calendar, a73d1, how='left', on=['StartDate', 'Hour'])\n",
    "mergedoutera73d1.isna().sum()"
   ]
  },
  {
   "cell_type": "code",
   "execution_count": 51,
   "metadata": {},
   "outputs": [
    {
     "data": {
      "text/plain": [
       "StartDate                 0\n",
       "Hour                      0\n",
       "Duration                  0\n",
       "RoadNumber                0\n",
       "HectometerDirectionNum    0\n",
       "dtype: int64"
      ]
     },
     "execution_count": 51,
     "metadata": {},
     "output_type": "execute_result"
    }
   ],
   "source": [
    "mergedoutera73d1['Duration'] = mergedoutera73d1['Duration'].fillna(0)\n",
    "mergedoutera73d1['RoadNumber'] = mergedoutera73d1['RoadNumber'].fillna(73)\n",
    "mergedoutera73d1['HectometerDirectionNum'] = mergedoutera73d1['HectometerDirectionNum'].fillna(1)\n",
    "mergedoutera73d1.isna().sum()"
   ]
  },
  {
   "cell_type": "code",
   "execution_count": 53,
   "metadata": {},
   "outputs": [
    {
     "data": {
      "text/html": [
       "<div>\n",
       "<style scoped>\n",
       "    .dataframe tbody tr th:only-of-type {\n",
       "        vertical-align: middle;\n",
       "    }\n",
       "\n",
       "    .dataframe tbody tr th {\n",
       "        vertical-align: top;\n",
       "    }\n",
       "\n",
       "    .dataframe thead th {\n",
       "        text-align: right;\n",
       "    }\n",
       "</style>\n",
       "<table border=\"1\" class=\"dataframe\">\n",
       "  <thead>\n",
       "    <tr style=\"text-align: right;\">\n",
       "      <th></th>\n",
       "      <th>StartDate</th>\n",
       "      <th>Hour</th>\n",
       "      <th>Duration</th>\n",
       "      <th>RoadNumber</th>\n",
       "      <th>HectometerDirectionNum</th>\n",
       "    </tr>\n",
       "  </thead>\n",
       "  <tbody>\n",
       "    <tr>\n",
       "      <th>8237</th>\n",
       "      <td>2015-12-11</td>\n",
       "      <td>1</td>\n",
       "      <td>0.0</td>\n",
       "      <td>73.0</td>\n",
       "      <td>1.0</td>\n",
       "    </tr>\n",
       "    <tr>\n",
       "      <th>53180</th>\n",
       "      <td>2020-11-26</td>\n",
       "      <td>5</td>\n",
       "      <td>0.0</td>\n",
       "      <td>73.0</td>\n",
       "      <td>1.0</td>\n",
       "    </tr>\n",
       "  </tbody>\n",
       "</table>\n",
       "</div>"
      ],
      "text/plain": [
       "       StartDate  Hour  Duration  RoadNumber  HectometerDirectionNum\n",
       "8237  2015-12-11     1       0.0        73.0                     1.0\n",
       "53180 2020-11-26     5       0.0        73.0                     1.0"
      ]
     },
     "execution_count": 53,
     "metadata": {},
     "output_type": "execute_result"
    }
   ],
   "source": [
    "mergedoutera73d1.sample(2)"
   ]
  },
  {
   "cell_type": "markdown",
   "metadata": {},
   "source": [
    "### Join A73 and direction 0"
   ]
  },
  {
   "cell_type": "code",
   "execution_count": 54,
   "metadata": {},
   "outputs": [
    {
     "data": {
      "text/html": [
       "<div>\n",
       "<style scoped>\n",
       "    .dataframe tbody tr th:only-of-type {\n",
       "        vertical-align: middle;\n",
       "    }\n",
       "\n",
       "    .dataframe tbody tr th {\n",
       "        vertical-align: top;\n",
       "    }\n",
       "\n",
       "    .dataframe thead th {\n",
       "        text-align: right;\n",
       "    }\n",
       "</style>\n",
       "<table border=\"1\" class=\"dataframe\">\n",
       "  <thead>\n",
       "    <tr style=\"text-align: right;\">\n",
       "      <th></th>\n",
       "      <th>StartDate</th>\n",
       "      <th>Duration</th>\n",
       "      <th>RoadNumber</th>\n",
       "      <th>Hour</th>\n",
       "      <th>HectometerDirectionNum</th>\n",
       "    </tr>\n",
       "  </thead>\n",
       "  <tbody>\n",
       "    <tr>\n",
       "      <th>304311</th>\n",
       "      <td>2022-06-29</td>\n",
       "      <td>7.55</td>\n",
       "      <td>73</td>\n",
       "      <td>17</td>\n",
       "      <td>0.0</td>\n",
       "    </tr>\n",
       "    <tr>\n",
       "      <th>196124</th>\n",
       "      <td>2022-11-25</td>\n",
       "      <td>10.50</td>\n",
       "      <td>73</td>\n",
       "      <td>16</td>\n",
       "      <td>0.0</td>\n",
       "    </tr>\n",
       "  </tbody>\n",
       "</table>\n",
       "</div>"
      ],
      "text/plain": [
       "        StartDate  Duration  RoadNumber  Hour  HectometerDirectionNum\n",
       "304311 2022-06-29      7.55          73    17                     0.0\n",
       "196124 2022-11-25     10.50          73    16                     0.0"
      ]
     },
     "execution_count": 54,
     "metadata": {},
     "output_type": "execute_result"
    }
   ],
   "source": [
    "a73d0 = selected_columns[(selected_columns['RoadNumber']==73)&(selected_columns['HectometerDirectionNum']==0)]\n",
    "a73d0.sample(2)"
   ]
  },
  {
   "cell_type": "code",
   "execution_count": 55,
   "metadata": {},
   "outputs": [
    {
     "data": {
      "text/plain": [
       "StartDate                     0\n",
       "Hour                          0\n",
       "Duration                  77503\n",
       "RoadNumber                77503\n",
       "HectometerDirectionNum    77503\n",
       "dtype: int64"
      ]
     },
     "execution_count": 55,
     "metadata": {},
     "output_type": "execute_result"
    }
   ],
   "source": [
    "mergedoutera73d0 = pd.merge(calendar, a73d0, how='left', on=['StartDate', 'Hour'])\n",
    "mergedoutera73d0.isna().sum()"
   ]
  },
  {
   "cell_type": "code",
   "execution_count": 56,
   "metadata": {},
   "outputs": [
    {
     "data": {
      "text/plain": [
       "StartDate                 0\n",
       "Hour                      0\n",
       "Duration                  0\n",
       "RoadNumber                0\n",
       "HectometerDirectionNum    0\n",
       "dtype: int64"
      ]
     },
     "execution_count": 56,
     "metadata": {},
     "output_type": "execute_result"
    }
   ],
   "source": [
    "mergedoutera73d0['Duration'] = mergedoutera73d0['Duration'].fillna(0)\n",
    "mergedoutera73d0['RoadNumber'] = mergedoutera73d0['RoadNumber'].fillna(73)\n",
    "mergedoutera73d0['HectometerDirectionNum'] = mergedoutera73d0['HectometerDirectionNum'].fillna(0)\n",
    "mergedoutera73d0.isna().sum()"
   ]
  },
  {
   "cell_type": "code",
   "execution_count": 57,
   "metadata": {},
   "outputs": [
    {
     "data": {
      "text/html": [
       "<div>\n",
       "<style scoped>\n",
       "    .dataframe tbody tr th:only-of-type {\n",
       "        vertical-align: middle;\n",
       "    }\n",
       "\n",
       "    .dataframe tbody tr th {\n",
       "        vertical-align: top;\n",
       "    }\n",
       "\n",
       "    .dataframe thead th {\n",
       "        text-align: right;\n",
       "    }\n",
       "</style>\n",
       "<table border=\"1\" class=\"dataframe\">\n",
       "  <thead>\n",
       "    <tr style=\"text-align: right;\">\n",
       "      <th></th>\n",
       "      <th>StartDate</th>\n",
       "      <th>Hour</th>\n",
       "      <th>Duration</th>\n",
       "      <th>RoadNumber</th>\n",
       "      <th>HectometerDirectionNum</th>\n",
       "    </tr>\n",
       "  </thead>\n",
       "  <tbody>\n",
       "    <tr>\n",
       "      <th>56482</th>\n",
       "      <td>2021-05-23</td>\n",
       "      <td>23</td>\n",
       "      <td>0.0</td>\n",
       "      <td>73.0</td>\n",
       "      <td>0.0</td>\n",
       "    </tr>\n",
       "    <tr>\n",
       "      <th>38901</th>\n",
       "      <td>2019-06-02</td>\n",
       "      <td>14</td>\n",
       "      <td>0.0</td>\n",
       "      <td>73.0</td>\n",
       "      <td>0.0</td>\n",
       "    </tr>\n",
       "  </tbody>\n",
       "</table>\n",
       "</div>"
      ],
      "text/plain": [
       "       StartDate  Hour  Duration  RoadNumber  HectometerDirectionNum\n",
       "56482 2021-05-23    23       0.0        73.0                     0.0\n",
       "38901 2019-06-02    14       0.0        73.0                     0.0"
      ]
     },
     "execution_count": 57,
     "metadata": {},
     "output_type": "execute_result"
    }
   ],
   "source": [
    "mergedoutera73d0.sample(2)"
   ]
  },
  {
   "cell_type": "markdown",
   "metadata": {},
   "source": [
    "### Appending the 4 dataframes"
   ]
  },
  {
   "cell_type": "code",
   "execution_count": 61,
   "metadata": {},
   "outputs": [
    {
     "data": {
      "text/plain": [
       "StartDate                 0\n",
       "Hour                      0\n",
       "Duration                  0\n",
       "RoadNumber                0\n",
       "HectometerDirectionNum    0\n",
       "dtype: int64"
      ]
     },
     "execution_count": 61,
     "metadata": {},
     "output_type": "execute_result"
    }
   ],
   "source": [
    "dataframes = [mergedoutera2d0, mergedoutera2d1, mergedoutera73d0, mergedoutera73d1]\n",
    "appended_frame = pd.concat(dataframes, axis=0)\n",
    "appended_frame.isna().sum()"
   ]
  },
  {
   "cell_type": "code",
   "execution_count": 62,
   "metadata": {},
   "outputs": [
    {
     "data": {
      "text/plain": [
       "(476838, 5)"
      ]
     },
     "execution_count": 62,
     "metadata": {},
     "output_type": "execute_result"
    }
   ],
   "source": [
    "appended_frame.shape"
   ]
  },
  {
   "cell_type": "code",
   "execution_count": 63,
   "metadata": {},
   "outputs": [
    {
     "data": {
      "text/html": [
       "<div>\n",
       "<style scoped>\n",
       "    .dataframe tbody tr th:only-of-type {\n",
       "        vertical-align: middle;\n",
       "    }\n",
       "\n",
       "    .dataframe tbody tr th {\n",
       "        vertical-align: top;\n",
       "    }\n",
       "\n",
       "    .dataframe thead th {\n",
       "        text-align: right;\n",
       "    }\n",
       "</style>\n",
       "<table border=\"1\" class=\"dataframe\">\n",
       "  <thead>\n",
       "    <tr style=\"text-align: right;\">\n",
       "      <th></th>\n",
       "      <th>StartDate</th>\n",
       "      <th>Hour</th>\n",
       "      <th>Duration</th>\n",
       "      <th>RoadNumber</th>\n",
       "      <th>HectometerDirectionNum</th>\n",
       "    </tr>\n",
       "  </thead>\n",
       "  <tbody>\n",
       "    <tr>\n",
       "      <th>54169</th>\n",
       "      <td>2018-10-29</td>\n",
       "      <td>8</td>\n",
       "      <td>19.517</td>\n",
       "      <td>2.0</td>\n",
       "      <td>0.0</td>\n",
       "    </tr>\n",
       "    <tr>\n",
       "      <th>74238</th>\n",
       "      <td>2020-01-13</td>\n",
       "      <td>7</td>\n",
       "      <td>16.100</td>\n",
       "      <td>2.0</td>\n",
       "      <td>0.0</td>\n",
       "    </tr>\n",
       "    <tr>\n",
       "      <th>100365</th>\n",
       "      <td>2021-08-11</td>\n",
       "      <td>19</td>\n",
       "      <td>0.000</td>\n",
       "      <td>2.0</td>\n",
       "      <td>1.0</td>\n",
       "    </tr>\n",
       "    <tr>\n",
       "      <th>87954</th>\n",
       "      <td>2020-04-05</td>\n",
       "      <td>9</td>\n",
       "      <td>0.000</td>\n",
       "      <td>2.0</td>\n",
       "      <td>1.0</td>\n",
       "    </tr>\n",
       "    <tr>\n",
       "      <th>132182</th>\n",
       "      <td>2023-07-21</td>\n",
       "      <td>11</td>\n",
       "      <td>18.550</td>\n",
       "      <td>2.0</td>\n",
       "      <td>0.0</td>\n",
       "    </tr>\n",
       "  </tbody>\n",
       "</table>\n",
       "</div>"
      ],
      "text/plain": [
       "        StartDate  Hour  Duration  RoadNumber  HectometerDirectionNum\n",
       "54169  2018-10-29     8    19.517         2.0                     0.0\n",
       "74238  2020-01-13     7    16.100         2.0                     0.0\n",
       "100365 2021-08-11    19     0.000         2.0                     1.0\n",
       "87954  2020-04-05     9     0.000         2.0                     1.0\n",
       "132182 2023-07-21    11    18.550         2.0                     0.0"
      ]
     },
     "execution_count": 63,
     "metadata": {},
     "output_type": "execute_result"
    }
   ],
   "source": [
    "appended_frame.sample(5)"
   ]
  },
  {
   "cell_type": "markdown",
   "metadata": {},
   "source": [
    "### Exporting the file"
   ]
  },
  {
   "cell_type": "code",
   "execution_count": 64,
   "metadata": {},
   "outputs": [],
   "source": [
    "appended_frame.to_csv(\"datasets/LeftJoin.csv\", index=False)"
   ]
  }
 ],
 "metadata": {
  "kernelspec": {
   "display_name": "Python 3",
   "language": "python",
   "name": "python3"
  },
  "language_info": {
   "codemirror_mode": {
    "name": "ipython",
    "version": 3
   },
   "file_extension": ".py",
   "mimetype": "text/x-python",
   "name": "python",
   "nbconvert_exporter": "python",
   "pygments_lexer": "ipython3",
   "version": "3.10.6"
  }
 },
 "nbformat": 4,
 "nbformat_minor": 2
}
