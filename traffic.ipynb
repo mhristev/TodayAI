{
 "cells": [
  {
   "cell_type": "code",
   "execution_count": 1,
   "metadata": {},
   "outputs": [],
   "source": [
    "import pandas as pd\n",
    "import seaborn as sns\n",
    "import matplotlib.pyplot as plt"
   ]
  },
  {
   "cell_type": "markdown",
   "metadata": {},
   "source": [
    "## Traffic data\n",
    "The traffic data that is imported here is taken from the **TrafficDataCleaning file**, where detailed steps about the cleaning of the dataset have been specified as well as a data dictionary with data requirements. \n",
    "### Importing the data"
   ]
  },
  {
   "cell_type": "code",
   "execution_count": 2,
   "metadata": {},
   "outputs": [
    {
     "data": {
      "text/html": [
       "<div>\n",
       "<style scoped>\n",
       "    .dataframe tbody tr th:only-of-type {\n",
       "        vertical-align: middle;\n",
       "    }\n",
       "\n",
       "    .dataframe tbody tr th {\n",
       "        vertical-align: top;\n",
       "    }\n",
       "\n",
       "    .dataframe thead th {\n",
       "        text-align: right;\n",
       "    }\n",
       "</style>\n",
       "<table border=\"1\" class=\"dataframe\">\n",
       "  <thead>\n",
       "    <tr style=\"text-align: right;\">\n",
       "      <th></th>\n",
       "      <th>TrafficJamNum</th>\n",
       "      <th>StartDate</th>\n",
       "      <th>EndDate</th>\n",
       "      <th>StartTime</th>\n",
       "      <th>EndTime</th>\n",
       "      <th>Severity</th>\n",
       "      <th>Length</th>\n",
       "      <th>Duration</th>\n",
       "      <th>HectometerStart</th>\n",
       "      <th>HectometerEnd</th>\n",
       "      <th>...</th>\n",
       "      <th>CauseCodeDescr</th>\n",
       "      <th>CauseClass</th>\n",
       "      <th>CauseCodeClass</th>\n",
       "      <th>CauseCode</th>\n",
       "      <th>Cause_1</th>\n",
       "      <th>Cause_2</th>\n",
       "      <th>Cause_3</th>\n",
       "      <th>Cause_4</th>\n",
       "      <th>StartDateTime</th>\n",
       "      <th>EndDateTime</th>\n",
       "    </tr>\n",
       "  </thead>\n",
       "  <tbody>\n",
       "    <tr>\n",
       "      <th>644552</th>\n",
       "      <td>2666245</td>\n",
       "      <td>2019-10-31</td>\n",
       "      <td>2019-10-31</td>\n",
       "      <td>17:29:00</td>\n",
       "      <td>18:03:46</td>\n",
       "      <td>109.450</td>\n",
       "      <td>3148.13</td>\n",
       "      <td>34.767</td>\n",
       "      <td>12.8</td>\n",
       "      <td>10.8</td>\n",
       "      <td>...</td>\n",
       "      <td>Spitsfile (geen oorzaak gemeld)</td>\n",
       "      <td>[Geen oorzaakcode opgegeven door VWM 35]</td>\n",
       "      <td>[000]</td>\n",
       "      <td>001</td>\n",
       "      <td>Spitsfile (geen oorzaak gemeld)</td>\n",
       "      <td>Geen oorzaak gemeld</td>\n",
       "      <td>Drukte</td>\n",
       "      <td>Hoge intensiteit</td>\n",
       "      <td>2019-10-31 17:29:00</td>\n",
       "      <td>2019-10-31 18:03:46</td>\n",
       "    </tr>\n",
       "    <tr>\n",
       "      <th>552476</th>\n",
       "      <td>3006586</td>\n",
       "      <td>2022-04-29</td>\n",
       "      <td>2022-04-29</td>\n",
       "      <td>13:57:27</td>\n",
       "      <td>14:05:02</td>\n",
       "      <td>18.200</td>\n",
       "      <td>2400.00</td>\n",
       "      <td>7.583</td>\n",
       "      <td>43.3</td>\n",
       "      <td>45.6</td>\n",
       "      <td>...</td>\n",
       "      <td>File buiten spits (geen oorzaak gemeld)</td>\n",
       "      <td>[Geen oorzaakcode opgegeven door VWM 8]</td>\n",
       "      <td>[000]</td>\n",
       "      <td>003</td>\n",
       "      <td>File buiten spits (geen oorzaak gemeld)</td>\n",
       "      <td>Geen oorzaak gemeld</td>\n",
       "      <td>Drukte</td>\n",
       "      <td>Hoge intensiteit</td>\n",
       "      <td>2022-04-29 13:57:27</td>\n",
       "      <td>2022-04-29 14:05:02</td>\n",
       "    </tr>\n",
       "    <tr>\n",
       "      <th>1116877</th>\n",
       "      <td>2409708</td>\n",
       "      <td>2018-09-27</td>\n",
       "      <td>2018-09-27</td>\n",
       "      <td>9:45:00</td>\n",
       "      <td>9:57:56</td>\n",
       "      <td>25.867</td>\n",
       "      <td>2000.00</td>\n",
       "      <td>12.933</td>\n",
       "      <td>40.5</td>\n",
       "      <td>38.5</td>\n",
       "      <td>...</td>\n",
       "      <td>Spitsfile (geen oorzaak gemeld)</td>\n",
       "      <td>[Geen oorzaakcode opgegeven door VWM 13]</td>\n",
       "      <td>[000]</td>\n",
       "      <td>001</td>\n",
       "      <td>Spitsfile (geen oorzaak gemeld)</td>\n",
       "      <td>Geen oorzaak gemeld</td>\n",
       "      <td>Drukte</td>\n",
       "      <td>Hoge intensiteit</td>\n",
       "      <td>2018-09-27 09:45:00</td>\n",
       "      <td>2018-09-27 09:57:56</td>\n",
       "    </tr>\n",
       "  </tbody>\n",
       "</table>\n",
       "<p>3 rows × 28 columns</p>\n",
       "</div>"
      ],
      "text/plain": [
       "         TrafficJamNum   StartDate     EndDate StartTime   EndTime  Severity  \\\n",
       "644552         2666245  2019-10-31  2019-10-31  17:29:00  18:03:46   109.450   \n",
       "552476         3006586  2022-04-29  2022-04-29  13:57:27  14:05:02    18.200   \n",
       "1116877        2409708  2018-09-27  2018-09-27   9:45:00   9:57:56    25.867   \n",
       "\n",
       "          Length  Duration  HectometerStart  HectometerEnd  ...  \\\n",
       "644552   3148.13    34.767             12.8           10.8  ...   \n",
       "552476   2400.00     7.583             43.3           45.6  ...   \n",
       "1116877  2000.00    12.933             40.5           38.5  ...   \n",
       "\n",
       "                                  CauseCodeDescr  \\\n",
       "644552           Spitsfile (geen oorzaak gemeld)   \n",
       "552476   File buiten spits (geen oorzaak gemeld)   \n",
       "1116877          Spitsfile (geen oorzaak gemeld)   \n",
       "\n",
       "                                       CauseClass CauseCodeClass CauseCode  \\\n",
       "644552   [Geen oorzaakcode opgegeven door VWM 35]          [000]       001   \n",
       "552476    [Geen oorzaakcode opgegeven door VWM 8]          [000]       003   \n",
       "1116877  [Geen oorzaakcode opgegeven door VWM 13]          [000]       001   \n",
       "\n",
       "                                         Cause_1              Cause_2 Cause_3  \\\n",
       "644552           Spitsfile (geen oorzaak gemeld)  Geen oorzaak gemeld  Drukte   \n",
       "552476   File buiten spits (geen oorzaak gemeld)  Geen oorzaak gemeld  Drukte   \n",
       "1116877          Spitsfile (geen oorzaak gemeld)  Geen oorzaak gemeld  Drukte   \n",
       "\n",
       "                  Cause_4        StartDateTime          EndDateTime  \n",
       "644552   Hoge intensiteit  2019-10-31 17:29:00  2019-10-31 18:03:46  \n",
       "552476   Hoge intensiteit  2022-04-29 13:57:27  2022-04-29 14:05:02  \n",
       "1116877  Hoge intensiteit  2018-09-27 09:45:00  2018-09-27 09:57:56  \n",
       "\n",
       "[3 rows x 28 columns]"
      ]
     },
     "execution_count": 2,
     "metadata": {},
     "output_type": "execute_result"
    }
   ],
   "source": [
    "traffic_data = pd.read_csv(\"datasets/CleanTraffic.csv\")\n",
    "traffic_data.sample(3)"
   ]
  },
  {
   "cell_type": "code",
   "execution_count": 3,
   "metadata": {},
   "outputs": [
    {
     "data": {
      "text/plain": [
       "(1581413, 28)"
      ]
     },
     "execution_count": 3,
     "metadata": {},
     "output_type": "execute_result"
    }
   ],
   "source": [
    "traffic_data.shape"
   ]
  },
  {
   "cell_type": "markdown",
   "metadata": {},
   "source": [
    "### Checking the data types and missing values"
   ]
  },
  {
   "cell_type": "code",
   "execution_count": 4,
   "metadata": {},
   "outputs": [
    {
     "name": "stdout",
     "output_type": "stream",
     "text": [
      "<class 'pandas.core.frame.DataFrame'>\n",
      "RangeIndex: 1581413 entries, 0 to 1581412\n",
      "Data columns (total 28 columns):\n",
      " #   Column               Non-Null Count    Dtype  \n",
      "---  ------               --------------    -----  \n",
      " 0   TrafficJamNum        1581413 non-null  int64  \n",
      " 1   StartDate            1581413 non-null  object \n",
      " 2   EndDate              1581413 non-null  object \n",
      " 3   StartTime            1581413 non-null  object \n",
      " 4   EndTime              1581413 non-null  object \n",
      " 5   Severity             1581413 non-null  float64\n",
      " 6   Length               1581413 non-null  float64\n",
      " 7   Duration             1581413 non-null  float64\n",
      " 8   HectometerStart      1581413 non-null  float64\n",
      " 9   HectometerEnd        1581413 non-null  float64\n",
      " 10  RoadLetter           1581413 non-null  object \n",
      " 11  RoadNumber           1581413 non-null  int64  \n",
      " 12  RoadDescr            1581413 non-null  object \n",
      " 13  HectometerDirection  1581413 non-null  object \n",
      " 14  RoadSectionFrom      1581413 non-null  object \n",
      " 15  RoadSectionTo        1581413 non-null  object \n",
      " 16  MainRoadFrom         1581413 non-null  object \n",
      " 17  MainRoadTo           1581413 non-null  object \n",
      " 18  CauseCodeDescr       1581413 non-null  object \n",
      " 19  CauseClass           1581413 non-null  object \n",
      " 20  CauseCodeClass       1581413 non-null  object \n",
      " 21  CauseCode            1581413 non-null  object \n",
      " 22  Cause_1              1581413 non-null  object \n",
      " 23  Cause_2              1581413 non-null  object \n",
      " 24  Cause_3              1581413 non-null  object \n",
      " 25  Cause_4              1581413 non-null  object \n",
      " 26  StartDateTime        1581413 non-null  object \n",
      " 27  EndDateTime          1581413 non-null  object \n",
      "dtypes: float64(5), int64(2), object(21)\n",
      "memory usage: 337.8+ MB\n"
     ]
    }
   ],
   "source": [
    "traffic_data.info()"
   ]
  },
  {
   "cell_type": "code",
   "execution_count": 5,
   "metadata": {},
   "outputs": [
    {
     "data": {
      "text/plain": [
       "TrafficJamNum          0\n",
       "StartDate              0\n",
       "EndDate                0\n",
       "StartTime              0\n",
       "EndTime                0\n",
       "Severity               0\n",
       "Length                 0\n",
       "Duration               0\n",
       "HectometerStart        0\n",
       "HectometerEnd          0\n",
       "RoadLetter             0\n",
       "RoadNumber             0\n",
       "RoadDescr              0\n",
       "HectometerDirection    0\n",
       "RoadSectionFrom        0\n",
       "RoadSectionTo          0\n",
       "MainRoadFrom           0\n",
       "MainRoadTo             0\n",
       "CauseCodeDescr         0\n",
       "CauseClass             0\n",
       "CauseCodeClass         0\n",
       "CauseCode              0\n",
       "Cause_1                0\n",
       "Cause_2                0\n",
       "Cause_3                0\n",
       "Cause_4                0\n",
       "StartDateTime          0\n",
       "EndDateTime            0\n",
       "dtype: int64"
      ]
     },
     "execution_count": 5,
     "metadata": {},
     "output_type": "execute_result"
    }
   ],
   "source": [
    "traffic_data.isna().sum()"
   ]
  },
  {
   "cell_type": "markdown",
   "metadata": {},
   "source": [
    "### Altering data\n",
    "#### Adding hour"
   ]
  },
  {
   "cell_type": "code",
   "execution_count": 6,
   "metadata": {},
   "outputs": [
    {
     "data": {
      "text/html": [
       "<div>\n",
       "<style scoped>\n",
       "    .dataframe tbody tr th:only-of-type {\n",
       "        vertical-align: middle;\n",
       "    }\n",
       "\n",
       "    .dataframe tbody tr th {\n",
       "        vertical-align: top;\n",
       "    }\n",
       "\n",
       "    .dataframe thead th {\n",
       "        text-align: right;\n",
       "    }\n",
       "</style>\n",
       "<table border=\"1\" class=\"dataframe\">\n",
       "  <thead>\n",
       "    <tr style=\"text-align: right;\">\n",
       "      <th></th>\n",
       "      <th>TrafficJamNum</th>\n",
       "      <th>StartDate</th>\n",
       "      <th>EndDate</th>\n",
       "      <th>StartTime</th>\n",
       "      <th>EndTime</th>\n",
       "      <th>Severity</th>\n",
       "      <th>Length</th>\n",
       "      <th>Duration</th>\n",
       "      <th>HectometerStart</th>\n",
       "      <th>HectometerEnd</th>\n",
       "      <th>...</th>\n",
       "      <th>CauseClass</th>\n",
       "      <th>CauseCodeClass</th>\n",
       "      <th>CauseCode</th>\n",
       "      <th>Cause_1</th>\n",
       "      <th>Cause_2</th>\n",
       "      <th>Cause_3</th>\n",
       "      <th>Cause_4</th>\n",
       "      <th>StartDateTime</th>\n",
       "      <th>EndDateTime</th>\n",
       "      <th>Hour</th>\n",
       "    </tr>\n",
       "  </thead>\n",
       "  <tbody>\n",
       "    <tr>\n",
       "      <th>57059</th>\n",
       "      <td>3819613</td>\n",
       "      <td>2023-11-13</td>\n",
       "      <td>2023-11-13</td>\n",
       "      <td>7:58:28</td>\n",
       "      <td>8:35:04</td>\n",
       "      <td>122.885</td>\n",
       "      <td>3358.000</td>\n",
       "      <td>36.600</td>\n",
       "      <td>75.3</td>\n",
       "      <td>77.5</td>\n",
       "      <td>...</td>\n",
       "      <td>[Geen oorzaakcode opgegeven door VWM 37]</td>\n",
       "      <td>[000]</td>\n",
       "      <td>001</td>\n",
       "      <td>Spitsfile (geen oorzaak gemeld)</td>\n",
       "      <td>Geen oorzaak gemeld</td>\n",
       "      <td>Drukte</td>\n",
       "      <td>Hoge intensiteit</td>\n",
       "      <td>2023-11-13 07:58:28</td>\n",
       "      <td>2023-11-13 08:35:04</td>\n",
       "      <td>7</td>\n",
       "    </tr>\n",
       "    <tr>\n",
       "      <th>1047400</th>\n",
       "      <td>1928102</td>\n",
       "      <td>2016-05-13</td>\n",
       "      <td>2016-05-13</td>\n",
       "      <td>15:53:00</td>\n",
       "      <td>18:04:39</td>\n",
       "      <td>429.567</td>\n",
       "      <td>3262.945</td>\n",
       "      <td>131.650</td>\n",
       "      <td>109.0</td>\n",
       "      <td>107.0</td>\n",
       "      <td>...</td>\n",
       "      <td>[Geen oorzaakcode opgegeven door VWM 132]</td>\n",
       "      <td>[000]</td>\n",
       "      <td>001</td>\n",
       "      <td>Spitsfile (geen oorzaak gemeld)</td>\n",
       "      <td>Geen oorzaak gemeld</td>\n",
       "      <td>Drukte</td>\n",
       "      <td>Hoge intensiteit</td>\n",
       "      <td>2016-05-13 15:53:00</td>\n",
       "      <td>2016-05-13 18:04:39</td>\n",
       "      <td>15</td>\n",
       "    </tr>\n",
       "    <tr>\n",
       "      <th>639646</th>\n",
       "      <td>2641384</td>\n",
       "      <td>2019-10-05</td>\n",
       "      <td>2019-10-05</td>\n",
       "      <td>17:14:00</td>\n",
       "      <td>17:37:50</td>\n",
       "      <td>49.483</td>\n",
       "      <td>2076.224</td>\n",
       "      <td>23.833</td>\n",
       "      <td>54.3</td>\n",
       "      <td>57.3</td>\n",
       "      <td>...</td>\n",
       "      <td>[Geen oorzaakcode opgegeven door VWM 24]</td>\n",
       "      <td>[000]</td>\n",
       "      <td>003</td>\n",
       "      <td>File buiten spits (geen oorzaak gemeld)</td>\n",
       "      <td>Geen oorzaak gemeld</td>\n",
       "      <td>Drukte</td>\n",
       "      <td>Hoge intensiteit</td>\n",
       "      <td>2019-10-05 17:14:00</td>\n",
       "      <td>2019-10-05 17:37:50</td>\n",
       "      <td>17</td>\n",
       "    </tr>\n",
       "  </tbody>\n",
       "</table>\n",
       "<p>3 rows × 29 columns</p>\n",
       "</div>"
      ],
      "text/plain": [
       "         TrafficJamNum   StartDate     EndDate StartTime   EndTime  Severity  \\\n",
       "57059          3819613  2023-11-13  2023-11-13   7:58:28   8:35:04   122.885   \n",
       "1047400        1928102  2016-05-13  2016-05-13  15:53:00  18:04:39   429.567   \n",
       "639646         2641384  2019-10-05  2019-10-05  17:14:00  17:37:50    49.483   \n",
       "\n",
       "           Length  Duration  HectometerStart  HectometerEnd  ...  \\\n",
       "57059    3358.000    36.600             75.3           77.5  ...   \n",
       "1047400  3262.945   131.650            109.0          107.0  ...   \n",
       "639646   2076.224    23.833             54.3           57.3  ...   \n",
       "\n",
       "                                        CauseClass  CauseCodeClass CauseCode  \\\n",
       "57059     [Geen oorzaakcode opgegeven door VWM 37]           [000]       001   \n",
       "1047400  [Geen oorzaakcode opgegeven door VWM 132]           [000]       001   \n",
       "639646    [Geen oorzaakcode opgegeven door VWM 24]           [000]       003   \n",
       "\n",
       "                                         Cause_1              Cause_2 Cause_3  \\\n",
       "57059            Spitsfile (geen oorzaak gemeld)  Geen oorzaak gemeld  Drukte   \n",
       "1047400          Spitsfile (geen oorzaak gemeld)  Geen oorzaak gemeld  Drukte   \n",
       "639646   File buiten spits (geen oorzaak gemeld)  Geen oorzaak gemeld  Drukte   \n",
       "\n",
       "                  Cause_4        StartDateTime          EndDateTime Hour  \n",
       "57059    Hoge intensiteit  2023-11-13 07:58:28  2023-11-13 08:35:04    7  \n",
       "1047400  Hoge intensiteit  2016-05-13 15:53:00  2016-05-13 18:04:39   15  \n",
       "639646   Hoge intensiteit  2019-10-05 17:14:00  2019-10-05 17:37:50   17  \n",
       "\n",
       "[3 rows x 29 columns]"
      ]
     },
     "execution_count": 6,
     "metadata": {},
     "output_type": "execute_result"
    }
   ],
   "source": [
    "traffic_data['Hour'] = traffic_data['StartTime'].apply(lambda x: x.split(':')[0]).astype(int)\n",
    "traffic_data.sample(3)"
   ]
  },
  {
   "cell_type": "markdown",
   "metadata": {},
   "source": [
    "#### Keeping only relevant roads"
   ]
  },
  {
   "cell_type": "markdown",
   "metadata": {},
   "source": [
    "As we want to only have the specific roads that our client can possibly use to reach the offices, we will prepare the data for joining by filtering on the roads A2 and A73.\n",
    "An important observation is that **A2 leads from Sittard to 's-Hertogenbosch** and vice versa, whereas **A73 leads from Sittard to Boxmeer** and vice versa. Other routes are also possible, but they are significantly slower. Therefore, it is better to focus on those two only for now. Furthermore, they have been suggested by the client as the optimal routes."
   ]
  },
  {
   "cell_type": "code",
   "execution_count": 7,
   "metadata": {},
   "outputs": [
    {
     "data": {
      "text/html": [
       "<div>\n",
       "<style scoped>\n",
       "    .dataframe tbody tr th:only-of-type {\n",
       "        vertical-align: middle;\n",
       "    }\n",
       "\n",
       "    .dataframe tbody tr th {\n",
       "        vertical-align: top;\n",
       "    }\n",
       "\n",
       "    .dataframe thead th {\n",
       "        text-align: right;\n",
       "    }\n",
       "</style>\n",
       "<table border=\"1\" class=\"dataframe\">\n",
       "  <thead>\n",
       "    <tr style=\"text-align: right;\">\n",
       "      <th></th>\n",
       "      <th>TrafficJamNum</th>\n",
       "      <th>StartDate</th>\n",
       "      <th>EndDate</th>\n",
       "      <th>StartTime</th>\n",
       "      <th>EndTime</th>\n",
       "      <th>Severity</th>\n",
       "      <th>Length</th>\n",
       "      <th>Duration</th>\n",
       "      <th>HectometerStart</th>\n",
       "      <th>HectometerEnd</th>\n",
       "      <th>...</th>\n",
       "      <th>CauseClass</th>\n",
       "      <th>CauseCodeClass</th>\n",
       "      <th>CauseCode</th>\n",
       "      <th>Cause_1</th>\n",
       "      <th>Cause_2</th>\n",
       "      <th>Cause_3</th>\n",
       "      <th>Cause_4</th>\n",
       "      <th>StartDateTime</th>\n",
       "      <th>EndDateTime</th>\n",
       "      <th>Hour</th>\n",
       "    </tr>\n",
       "  </thead>\n",
       "  <tbody>\n",
       "    <tr>\n",
       "      <th>1213299</th>\n",
       "      <td>1799942</td>\n",
       "      <td>2015-09-24</td>\n",
       "      <td>2015-09-24</td>\n",
       "      <td>9:09:00</td>\n",
       "      <td>9:21:44</td>\n",
       "      <td>25.467</td>\n",
       "      <td>2000.000</td>\n",
       "      <td>12.733</td>\n",
       "      <td>55.7</td>\n",
       "      <td>57.7</td>\n",
       "      <td>...</td>\n",
       "      <td>[Geen oorzaakcode opgegeven door VWM 13]</td>\n",
       "      <td>[000]</td>\n",
       "      <td>001</td>\n",
       "      <td>Spitsfile (geen oorzaak gemeld)</td>\n",
       "      <td>Geen oorzaak gemeld</td>\n",
       "      <td>Drukte</td>\n",
       "      <td>Hoge intensiteit</td>\n",
       "      <td>2015-09-24 09:09:00</td>\n",
       "      <td>2015-09-24 09:21:44</td>\n",
       "      <td>9</td>\n",
       "    </tr>\n",
       "    <tr>\n",
       "      <th>1329349</th>\n",
       "      <td>2265431</td>\n",
       "      <td>2017-12-14</td>\n",
       "      <td>2017-12-14</td>\n",
       "      <td>8:44:00</td>\n",
       "      <td>8:49:54</td>\n",
       "      <td>11.800</td>\n",
       "      <td>2000.000</td>\n",
       "      <td>5.900</td>\n",
       "      <td>239.4</td>\n",
       "      <td>237.4</td>\n",
       "      <td>...</td>\n",
       "      <td>[Geen oorzaakcode opgegeven door VWM 6]</td>\n",
       "      <td>[000]</td>\n",
       "      <td>001</td>\n",
       "      <td>Spitsfile (geen oorzaak gemeld)</td>\n",
       "      <td>Geen oorzaak gemeld</td>\n",
       "      <td>Drukte</td>\n",
       "      <td>Hoge intensiteit</td>\n",
       "      <td>2017-12-14 08:44:00</td>\n",
       "      <td>2017-12-14 08:49:54</td>\n",
       "      <td>8</td>\n",
       "    </tr>\n",
       "    <tr>\n",
       "      <th>949155</th>\n",
       "      <td>2236071</td>\n",
       "      <td>2017-11-02</td>\n",
       "      <td>2017-11-02</td>\n",
       "      <td>7:19:00</td>\n",
       "      <td>7:26:25</td>\n",
       "      <td>20.133</td>\n",
       "      <td>2714.607</td>\n",
       "      <td>7.417</td>\n",
       "      <td>176.8</td>\n",
       "      <td>179.8</td>\n",
       "      <td>...</td>\n",
       "      <td>[Geen oorzaakcode opgegeven door VWM 7]</td>\n",
       "      <td>[000]</td>\n",
       "      <td>001</td>\n",
       "      <td>Spitsfile (geen oorzaak gemeld)</td>\n",
       "      <td>Geen oorzaak gemeld</td>\n",
       "      <td>Drukte</td>\n",
       "      <td>Hoge intensiteit</td>\n",
       "      <td>2017-11-02 07:19:00</td>\n",
       "      <td>2017-11-02 07:26:25</td>\n",
       "      <td>7</td>\n",
       "    </tr>\n",
       "  </tbody>\n",
       "</table>\n",
       "<p>3 rows × 29 columns</p>\n",
       "</div>"
      ],
      "text/plain": [
       "         TrafficJamNum   StartDate     EndDate StartTime  EndTime  Severity  \\\n",
       "1213299        1799942  2015-09-24  2015-09-24   9:09:00  9:21:44    25.467   \n",
       "1329349        2265431  2017-12-14  2017-12-14   8:44:00  8:49:54    11.800   \n",
       "949155         2236071  2017-11-02  2017-11-02   7:19:00  7:26:25    20.133   \n",
       "\n",
       "           Length  Duration  HectometerStart  HectometerEnd  ...  \\\n",
       "1213299  2000.000    12.733             55.7           57.7  ...   \n",
       "1329349  2000.000     5.900            239.4          237.4  ...   \n",
       "949155   2714.607     7.417            176.8          179.8  ...   \n",
       "\n",
       "                                       CauseClass  CauseCodeClass CauseCode  \\\n",
       "1213299  [Geen oorzaakcode opgegeven door VWM 13]           [000]       001   \n",
       "1329349   [Geen oorzaakcode opgegeven door VWM 6]           [000]       001   \n",
       "949155    [Geen oorzaakcode opgegeven door VWM 7]           [000]       001   \n",
       "\n",
       "                                 Cause_1              Cause_2 Cause_3  \\\n",
       "1213299  Spitsfile (geen oorzaak gemeld)  Geen oorzaak gemeld  Drukte   \n",
       "1329349  Spitsfile (geen oorzaak gemeld)  Geen oorzaak gemeld  Drukte   \n",
       "949155   Spitsfile (geen oorzaak gemeld)  Geen oorzaak gemeld  Drukte   \n",
       "\n",
       "                  Cause_4        StartDateTime          EndDateTime Hour  \n",
       "1213299  Hoge intensiteit  2015-09-24 09:09:00  2015-09-24 09:21:44    9  \n",
       "1329349  Hoge intensiteit  2017-12-14 08:44:00  2017-12-14 08:49:54    8  \n",
       "949155   Hoge intensiteit  2017-11-02 07:19:00  2017-11-02 07:26:25    7  \n",
       "\n",
       "[3 rows x 29 columns]"
      ]
     },
     "execution_count": 7,
     "metadata": {},
     "output_type": "execute_result"
    }
   ],
   "source": [
    "filtered_traffic= traffic_data[(traffic_data['RoadDescr'] == 'A73') | (traffic_data['RoadDescr'] == 'A2')]\n",
    "filtered_traffic.sample(3)"
   ]
  },
  {
   "cell_type": "code",
   "execution_count": 8,
   "metadata": {},
   "outputs": [
    {
     "data": {
      "text/plain": [
       "array(['aflopend'], dtype=object)"
      ]
     },
     "execution_count": 8,
     "metadata": {},
     "output_type": "execute_result"
    }
   ],
   "source": [
    "denb=filtered_traffic[(filtered_traffic[\"MainRoadFrom\"] == \"'s-Hertogenbosch\")&(filtered_traffic[\"MainRoadTo\"] == \"Utrecht\")]\n",
    "denb[\"HectometerDirection\"].unique()"
   ]
  },
  {
   "cell_type": "markdown",
   "metadata": {},
   "source": [
    "### Making the direction numerical\n",
    "0 = Morning (Sittard - Den Bosch)\n",
    "\n",
    "1 = Afternoon (Den Bosch - Sittard)"
   ]
  },
  {
   "cell_type": "code",
   "execution_count": 9,
   "metadata": {},
   "outputs": [
    {
     "name": "stderr",
     "output_type": "stream",
     "text": [
      "C:\\Users\\zashe\\AppData\\Local\\Temp\\ipykernel_17296\\1781117567.py:1: SettingWithCopyWarning: \n",
      "A value is trying to be set on a copy of a slice from a DataFrame.\n",
      "Try using .loc[row_indexer,col_indexer] = value instead\n",
      "\n",
      "See the caveats in the documentation: https://pandas.pydata.org/pandas-docs/stable/user_guide/indexing.html#returning-a-view-versus-a-copy\n",
      "  filtered_traffic.loc[filtered_traffic[\"HectometerDirection\"]==\"oplopend\", 'HectometerDirectionNum'] = 1\n"
     ]
    },
    {
     "data": {
      "text/html": [
       "<div>\n",
       "<style scoped>\n",
       "    .dataframe tbody tr th:only-of-type {\n",
       "        vertical-align: middle;\n",
       "    }\n",
       "\n",
       "    .dataframe tbody tr th {\n",
       "        vertical-align: top;\n",
       "    }\n",
       "\n",
       "    .dataframe thead th {\n",
       "        text-align: right;\n",
       "    }\n",
       "</style>\n",
       "<table border=\"1\" class=\"dataframe\">\n",
       "  <thead>\n",
       "    <tr style=\"text-align: right;\">\n",
       "      <th></th>\n",
       "      <th>TrafficJamNum</th>\n",
       "      <th>StartDate</th>\n",
       "      <th>EndDate</th>\n",
       "      <th>StartTime</th>\n",
       "      <th>EndTime</th>\n",
       "      <th>Severity</th>\n",
       "      <th>Length</th>\n",
       "      <th>Duration</th>\n",
       "      <th>HectometerStart</th>\n",
       "      <th>HectometerEnd</th>\n",
       "      <th>...</th>\n",
       "      <th>CauseCodeClass</th>\n",
       "      <th>CauseCode</th>\n",
       "      <th>Cause_1</th>\n",
       "      <th>Cause_2</th>\n",
       "      <th>Cause_3</th>\n",
       "      <th>Cause_4</th>\n",
       "      <th>StartDateTime</th>\n",
       "      <th>EndDateTime</th>\n",
       "      <th>Hour</th>\n",
       "      <th>HectometerDirectionNum</th>\n",
       "    </tr>\n",
       "  </thead>\n",
       "  <tbody>\n",
       "    <tr>\n",
       "      <th>1404326</th>\n",
       "      <td>2860774</td>\n",
       "      <td>2021-09-29</td>\n",
       "      <td>2021-09-29</td>\n",
       "      <td>8:19:00</td>\n",
       "      <td>8:26:15</td>\n",
       "      <td>15.225</td>\n",
       "      <td>2100.000</td>\n",
       "      <td>7.250</td>\n",
       "      <td>251.4</td>\n",
       "      <td>253.5</td>\n",
       "      <td>...</td>\n",
       "      <td>[000]</td>\n",
       "      <td>001</td>\n",
       "      <td>Spitsfile (geen oorzaak gemeld)</td>\n",
       "      <td>Geen oorzaak gemeld</td>\n",
       "      <td>Drukte</td>\n",
       "      <td>Hoge intensiteit</td>\n",
       "      <td>2021-09-29 08:19:00</td>\n",
       "      <td>2021-09-29 08:26:15</td>\n",
       "      <td>8</td>\n",
       "      <td>0.0</td>\n",
       "    </tr>\n",
       "    <tr>\n",
       "      <th>994600</th>\n",
       "      <td>1815793</td>\n",
       "      <td>2015-10-16</td>\n",
       "      <td>2015-10-16</td>\n",
       "      <td>18:32:00</td>\n",
       "      <td>19:17:44</td>\n",
       "      <td>91.633</td>\n",
       "      <td>2003.644</td>\n",
       "      <td>45.733</td>\n",
       "      <td>58.5</td>\n",
       "      <td>57.5</td>\n",
       "      <td>...</td>\n",
       "      <td>[000]</td>\n",
       "      <td>001</td>\n",
       "      <td>Spitsfile (geen oorzaak gemeld)</td>\n",
       "      <td>Geen oorzaak gemeld</td>\n",
       "      <td>Drukte</td>\n",
       "      <td>Hoge intensiteit</td>\n",
       "      <td>2015-10-16 18:32:00</td>\n",
       "      <td>2015-10-16 19:17:44</td>\n",
       "      <td>18</td>\n",
       "      <td>1.0</td>\n",
       "    </tr>\n",
       "    <tr>\n",
       "      <th>1110866</th>\n",
       "      <td>2407793</td>\n",
       "      <td>2018-09-25</td>\n",
       "      <td>2018-09-25</td>\n",
       "      <td>7:39:00</td>\n",
       "      <td>7:44:09</td>\n",
       "      <td>10.300</td>\n",
       "      <td>2000.000</td>\n",
       "      <td>5.150</td>\n",
       "      <td>79.2</td>\n",
       "      <td>81.2</td>\n",
       "      <td>...</td>\n",
       "      <td>[000]</td>\n",
       "      <td>001</td>\n",
       "      <td>Spitsfile (geen oorzaak gemeld)</td>\n",
       "      <td>Geen oorzaak gemeld</td>\n",
       "      <td>Drukte</td>\n",
       "      <td>Hoge intensiteit</td>\n",
       "      <td>2018-09-25 07:39:00</td>\n",
       "      <td>2018-09-25 07:44:09</td>\n",
       "      <td>7</td>\n",
       "      <td>0.0</td>\n",
       "    </tr>\n",
       "  </tbody>\n",
       "</table>\n",
       "<p>3 rows × 30 columns</p>\n",
       "</div>"
      ],
      "text/plain": [
       "         TrafficJamNum   StartDate     EndDate StartTime   EndTime  Severity  \\\n",
       "1404326        2860774  2021-09-29  2021-09-29   8:19:00   8:26:15    15.225   \n",
       "994600         1815793  2015-10-16  2015-10-16  18:32:00  19:17:44    91.633   \n",
       "1110866        2407793  2018-09-25  2018-09-25   7:39:00   7:44:09    10.300   \n",
       "\n",
       "           Length  Duration  HectometerStart  HectometerEnd  ...  \\\n",
       "1404326  2100.000     7.250            251.4          253.5  ...   \n",
       "994600   2003.644    45.733             58.5           57.5  ...   \n",
       "1110866  2000.000     5.150             79.2           81.2  ...   \n",
       "\n",
       "        CauseCodeClass  CauseCode                          Cause_1  \\\n",
       "1404326          [000]        001  Spitsfile (geen oorzaak gemeld)   \n",
       "994600           [000]        001  Spitsfile (geen oorzaak gemeld)   \n",
       "1110866          [000]        001  Spitsfile (geen oorzaak gemeld)   \n",
       "\n",
       "                     Cause_2 Cause_3           Cause_4        StartDateTime  \\\n",
       "1404326  Geen oorzaak gemeld  Drukte  Hoge intensiteit  2021-09-29 08:19:00   \n",
       "994600   Geen oorzaak gemeld  Drukte  Hoge intensiteit  2015-10-16 18:32:00   \n",
       "1110866  Geen oorzaak gemeld  Drukte  Hoge intensiteit  2018-09-25 07:39:00   \n",
       "\n",
       "                 EndDateTime Hour HectometerDirectionNum  \n",
       "1404326  2021-09-29 08:26:15    8                    0.0  \n",
       "994600   2015-10-16 19:17:44   18                    1.0  \n",
       "1110866  2018-09-25 07:44:09    7                    0.0  \n",
       "\n",
       "[3 rows x 30 columns]"
      ]
     },
     "execution_count": 9,
     "metadata": {},
     "output_type": "execute_result"
    }
   ],
   "source": [
    "filtered_traffic.loc[filtered_traffic[\"HectometerDirection\"]==\"oplopend\", 'HectometerDirectionNum'] = 1\n",
    "filtered_traffic.loc[filtered_traffic[\"HectometerDirection\"]==\"aflopend\", 'HectometerDirectionNum'] = 0\n",
    "\n",
    "filtered_traffic.sample(3)"
   ]
  },
  {
   "cell_type": "markdown",
   "metadata": {},
   "source": [
    "### Removing useless columns"
   ]
  },
  {
   "cell_type": "code",
   "execution_count": 10,
   "metadata": {},
   "outputs": [
    {
     "name": "stdout",
     "output_type": "stream",
     "text": [
      "<class 'pandas.core.frame.DataFrame'>\n",
      "Index: 191585 entries, 7 to 1581404\n",
      "Data columns (total 6 columns):\n",
      " #   Column                  Non-Null Count   Dtype         \n",
      "---  ------                  --------------   -----         \n",
      " 0   StartDate               191585 non-null  datetime64[ns]\n",
      " 1   Duration                191585 non-null  float64       \n",
      " 2   RoadNumber              191585 non-null  int64         \n",
      " 3   Hour                    191585 non-null  int32         \n",
      " 4   HectometerDirectionNum  191585 non-null  float64       \n",
      " 5   Severity                191585 non-null  float64       \n",
      "dtypes: datetime64[ns](1), float64(3), int32(1), int64(1)\n",
      "memory usage: 9.5 MB\n"
     ]
    }
   ],
   "source": [
    "numerical_columns = filtered_traffic.select_dtypes(include=['int64', 'float64', 'int32'])\n",
    "desired_columns = [\"StartDate\", \"Duration\", \"RoadNumber\", \"Hour\", \"HectometerDirectionNum\", \"Severity\"]\n",
    "selected_columns = filtered_traffic.loc[:, desired_columns]\n",
    "selected_columns['StartDate'] = pd.to_datetime(selected_columns['StartDate'])\n",
    "selected_columns.info()\n"
   ]
  },
  {
   "cell_type": "markdown",
   "metadata": {},
   "source": [
    "It can be concluded that the file got imported correctly and is ready to be used further.\n",
    "## Calendar"
   ]
  },
  {
   "cell_type": "code",
   "execution_count": 11,
   "metadata": {},
   "outputs": [
    {
     "name": "stdout",
     "output_type": "stream",
     "text": [
      "<class 'pandas.core.frame.DataFrame'>\n",
      "RangeIndex: 80305 entries, 0 to 80304\n",
      "Data columns (total 2 columns):\n",
      " #   Column     Non-Null Count  Dtype         \n",
      "---  ------     --------------  -----         \n",
      " 0   StartDate  80305 non-null  datetime64[ns]\n",
      " 1   Hour       80305 non-null  int32         \n",
      "dtypes: datetime64[ns](1), int32(1)\n",
      "memory usage: 941.2 KB\n"
     ]
    }
   ],
   "source": [
    "def create_date_table2(start, end):\n",
    "    date_range = pd.date_range(start=start, end=end, freq='h')\n",
    "    df = pd.DataFrame({\"DateTime\": date_range})\n",
    "    df[\"StartDate\"] = df[\"DateTime\"].dt.date\n",
    "    df[\"Hour\"] = df[\"DateTime\"].dt.hour\n",
    "    return df\n",
    "\n",
    "calendar = create_date_table2(start='2015-01-01', end=selected_columns['StartDate'].max())\n",
    "calendar = calendar.drop(calendar.columns[0], axis=1)\n",
    "calendar['StartDate'] = pd.to_datetime(calendar['StartDate'])\n",
    "calendar.info()"
   ]
  },
  {
   "cell_type": "markdown",
   "metadata": {},
   "source": [
    "### Join road A2 and direction 1"
   ]
  },
  {
   "cell_type": "code",
   "execution_count": 12,
   "metadata": {},
   "outputs": [
    {
     "data": {
      "text/html": [
       "<div>\n",
       "<style scoped>\n",
       "    .dataframe tbody tr th:only-of-type {\n",
       "        vertical-align: middle;\n",
       "    }\n",
       "\n",
       "    .dataframe tbody tr th {\n",
       "        vertical-align: top;\n",
       "    }\n",
       "\n",
       "    .dataframe thead th {\n",
       "        text-align: right;\n",
       "    }\n",
       "</style>\n",
       "<table border=\"1\" class=\"dataframe\">\n",
       "  <thead>\n",
       "    <tr style=\"text-align: right;\">\n",
       "      <th></th>\n",
       "      <th>StartDate</th>\n",
       "      <th>Duration</th>\n",
       "      <th>RoadNumber</th>\n",
       "      <th>Hour</th>\n",
       "      <th>HectometerDirectionNum</th>\n",
       "      <th>Severity</th>\n",
       "    </tr>\n",
       "  </thead>\n",
       "  <tbody>\n",
       "    <tr>\n",
       "      <th>1080343</th>\n",
       "      <td>2018-03-29</td>\n",
       "      <td>11.450</td>\n",
       "      <td>2</td>\n",
       "      <td>17</td>\n",
       "      <td>1.0</td>\n",
       "      <td>26.933</td>\n",
       "    </tr>\n",
       "    <tr>\n",
       "      <th>128244</th>\n",
       "      <td>2023-10-27</td>\n",
       "      <td>8.517</td>\n",
       "      <td>2</td>\n",
       "      <td>15</td>\n",
       "      <td>1.0</td>\n",
       "      <td>21.472</td>\n",
       "    </tr>\n",
       "  </tbody>\n",
       "</table>\n",
       "</div>"
      ],
      "text/plain": [
       "         StartDate  Duration  RoadNumber  Hour  HectometerDirectionNum  \\\n",
       "1080343 2018-03-29    11.450           2    17                     1.0   \n",
       "128244  2023-10-27     8.517           2    15                     1.0   \n",
       "\n",
       "         Severity  \n",
       "1080343    26.933  \n",
       "128244     21.472  "
      ]
     },
     "execution_count": 12,
     "metadata": {},
     "output_type": "execute_result"
    }
   ],
   "source": [
    "a2d1 = selected_columns[(selected_columns['RoadNumber']==2)&(selected_columns['HectometerDirectionNum']==1)]\n",
    "a2d1.sample(2)"
   ]
  },
  {
   "cell_type": "code",
   "execution_count": 13,
   "metadata": {},
   "outputs": [
    {
     "data": {
      "text/plain": [
       "StartDate                     0\n",
       "Hour                          0\n",
       "Duration                  66366\n",
       "RoadNumber                66366\n",
       "HectometerDirectionNum    66366\n",
       "Severity                  66366\n",
       "dtype: int64"
      ]
     },
     "execution_count": 13,
     "metadata": {},
     "output_type": "execute_result"
    }
   ],
   "source": [
    "mergedoutera2d1 = pd.merge(calendar, a2d1, how='left', on=['StartDate', 'Hour'])\n",
    "mergedoutera2d1.isna().sum()"
   ]
  },
  {
   "cell_type": "code",
   "execution_count": 14,
   "metadata": {},
   "outputs": [
    {
     "data": {
      "text/plain": [
       "StartDate                 0\n",
       "Hour                      0\n",
       "Duration                  0\n",
       "RoadNumber                0\n",
       "HectometerDirectionNum    0\n",
       "Severity                  0\n",
       "dtype: int64"
      ]
     },
     "execution_count": 14,
     "metadata": {},
     "output_type": "execute_result"
    }
   ],
   "source": [
    "mergedoutera2d1['Duration'] = mergedoutera2d1['Duration'].fillna(0)\n",
    "mergedoutera2d1['Severity'] = mergedoutera2d1['Severity'].fillna(0)\n",
    "mergedoutera2d1['RoadNumber'] = mergedoutera2d1['RoadNumber'].fillna(2)\n",
    "mergedoutera2d1['HectometerDirectionNum'] = mergedoutera2d1['HectometerDirectionNum'].fillna(1)\n",
    "mergedoutera2d1.isna().sum()"
   ]
  },
  {
   "cell_type": "code",
   "execution_count": 15,
   "metadata": {},
   "outputs": [
    {
     "data": {
      "text/html": [
       "<div>\n",
       "<style scoped>\n",
       "    .dataframe tbody tr th:only-of-type {\n",
       "        vertical-align: middle;\n",
       "    }\n",
       "\n",
       "    .dataframe tbody tr th {\n",
       "        vertical-align: top;\n",
       "    }\n",
       "\n",
       "    .dataframe thead th {\n",
       "        text-align: right;\n",
       "    }\n",
       "</style>\n",
       "<table border=\"1\" class=\"dataframe\">\n",
       "  <thead>\n",
       "    <tr style=\"text-align: right;\">\n",
       "      <th></th>\n",
       "      <th>StartDate</th>\n",
       "      <th>Hour</th>\n",
       "      <th>Duration</th>\n",
       "      <th>RoadNumber</th>\n",
       "      <th>HectometerDirectionNum</th>\n",
       "      <th>Severity</th>\n",
       "    </tr>\n",
       "  </thead>\n",
       "  <tbody>\n",
       "    <tr>\n",
       "      <th>23837</th>\n",
       "      <td>2016-07-15</td>\n",
       "      <td>15</td>\n",
       "      <td>56.067</td>\n",
       "      <td>2.0</td>\n",
       "      <td>1.0</td>\n",
       "      <td>169.367</td>\n",
       "    </tr>\n",
       "    <tr>\n",
       "      <th>133911</th>\n",
       "      <td>2023-05-17</td>\n",
       "      <td>16</td>\n",
       "      <td>2.517</td>\n",
       "      <td>2.0</td>\n",
       "      <td>1.0</td>\n",
       "      <td>5.285</td>\n",
       "    </tr>\n",
       "  </tbody>\n",
       "</table>\n",
       "</div>"
      ],
      "text/plain": [
       "        StartDate  Hour  Duration  RoadNumber  HectometerDirectionNum  \\\n",
       "23837  2016-07-15    15    56.067         2.0                     1.0   \n",
       "133911 2023-05-17    16     2.517         2.0                     1.0   \n",
       "\n",
       "        Severity  \n",
       "23837    169.367  \n",
       "133911     5.285  "
      ]
     },
     "execution_count": 15,
     "metadata": {},
     "output_type": "execute_result"
    }
   ],
   "source": [
    "mergedoutera2d1.sample(2)"
   ]
  },
  {
   "cell_type": "markdown",
   "metadata": {},
   "source": [
    "### Join road A2 and direction 0"
   ]
  },
  {
   "cell_type": "code",
   "execution_count": 16,
   "metadata": {},
   "outputs": [
    {
     "data": {
      "text/html": [
       "<div>\n",
       "<style scoped>\n",
       "    .dataframe tbody tr th:only-of-type {\n",
       "        vertical-align: middle;\n",
       "    }\n",
       "\n",
       "    .dataframe tbody tr th {\n",
       "        vertical-align: top;\n",
       "    }\n",
       "\n",
       "    .dataframe thead th {\n",
       "        text-align: right;\n",
       "    }\n",
       "</style>\n",
       "<table border=\"1\" class=\"dataframe\">\n",
       "  <thead>\n",
       "    <tr style=\"text-align: right;\">\n",
       "      <th></th>\n",
       "      <th>StartDate</th>\n",
       "      <th>Duration</th>\n",
       "      <th>RoadNumber</th>\n",
       "      <th>Hour</th>\n",
       "      <th>HectometerDirectionNum</th>\n",
       "      <th>Severity</th>\n",
       "    </tr>\n",
       "  </thead>\n",
       "  <tbody>\n",
       "    <tr>\n",
       "      <th>1049585</th>\n",
       "      <td>2016-05-30</td>\n",
       "      <td>10.167</td>\n",
       "      <td>2</td>\n",
       "      <td>7</td>\n",
       "      <td>0.0</td>\n",
       "      <td>23.883</td>\n",
       "    </tr>\n",
       "    <tr>\n",
       "      <th>108612</th>\n",
       "      <td>2023-10-04</td>\n",
       "      <td>3.633</td>\n",
       "      <td>2</td>\n",
       "      <td>7</td>\n",
       "      <td>0.0</td>\n",
       "      <td>7.858</td>\n",
       "    </tr>\n",
       "  </tbody>\n",
       "</table>\n",
       "</div>"
      ],
      "text/plain": [
       "         StartDate  Duration  RoadNumber  Hour  HectometerDirectionNum  \\\n",
       "1049585 2016-05-30    10.167           2     7                     0.0   \n",
       "108612  2023-10-04     3.633           2     7                     0.0   \n",
       "\n",
       "         Severity  \n",
       "1049585    23.883  \n",
       "108612      7.858  "
      ]
     },
     "execution_count": 16,
     "metadata": {},
     "output_type": "execute_result"
    }
   ],
   "source": [
    "a2d0 = selected_columns[(selected_columns['RoadNumber']==2)&(selected_columns['HectometerDirectionNum']==0)]\n",
    "a2d0.sample(2)"
   ]
  },
  {
   "cell_type": "code",
   "execution_count": 17,
   "metadata": {},
   "outputs": [
    {
     "data": {
      "text/plain": [
       "StartDate                     0\n",
       "Hour                          0\n",
       "Duration                  65685\n",
       "RoadNumber                65685\n",
       "HectometerDirectionNum    65685\n",
       "Severity                  65685\n",
       "dtype: int64"
      ]
     },
     "execution_count": 17,
     "metadata": {},
     "output_type": "execute_result"
    }
   ],
   "source": [
    "mergedoutera2d0 = pd.merge(calendar, a2d0, how='left', on=['StartDate', 'Hour'])\n",
    "mergedoutera2d0.isna().sum()"
   ]
  },
  {
   "cell_type": "code",
   "execution_count": 18,
   "metadata": {},
   "outputs": [
    {
     "data": {
      "text/plain": [
       "StartDate                 0\n",
       "Hour                      0\n",
       "Duration                  0\n",
       "RoadNumber                0\n",
       "HectometerDirectionNum    0\n",
       "Severity                  0\n",
       "dtype: int64"
      ]
     },
     "execution_count": 18,
     "metadata": {},
     "output_type": "execute_result"
    }
   ],
   "source": [
    "mergedoutera2d0['Duration'] = mergedoutera2d0['Duration'].fillna(0)\n",
    "mergedoutera2d0['Severity'] = mergedoutera2d0['Severity'].fillna(0)\n",
    "mergedoutera2d0['RoadNumber'] = mergedoutera2d0['RoadNumber'].fillna(2)\n",
    "mergedoutera2d0['HectometerDirectionNum'] = mergedoutera2d0['HectometerDirectionNum'].fillna(0)\n",
    "mergedoutera2d0.isna().sum()"
   ]
  },
  {
   "cell_type": "code",
   "execution_count": 19,
   "metadata": {},
   "outputs": [
    {
     "data": {
      "text/html": [
       "<div>\n",
       "<style scoped>\n",
       "    .dataframe tbody tr th:only-of-type {\n",
       "        vertical-align: middle;\n",
       "    }\n",
       "\n",
       "    .dataframe tbody tr th {\n",
       "        vertical-align: top;\n",
       "    }\n",
       "\n",
       "    .dataframe thead th {\n",
       "        text-align: right;\n",
       "    }\n",
       "</style>\n",
       "<table border=\"1\" class=\"dataframe\">\n",
       "  <thead>\n",
       "    <tr style=\"text-align: right;\">\n",
       "      <th></th>\n",
       "      <th>StartDate</th>\n",
       "      <th>Hour</th>\n",
       "      <th>Duration</th>\n",
       "      <th>RoadNumber</th>\n",
       "      <th>HectometerDirectionNum</th>\n",
       "      <th>Severity</th>\n",
       "    </tr>\n",
       "  </thead>\n",
       "  <tbody>\n",
       "    <tr>\n",
       "      <th>91331</th>\n",
       "      <td>2021-09-18</td>\n",
       "      <td>22</td>\n",
       "      <td>0.000</td>\n",
       "      <td>2.0</td>\n",
       "      <td>0.0</td>\n",
       "      <td>0.000</td>\n",
       "    </tr>\n",
       "    <tr>\n",
       "      <th>122250</th>\n",
       "      <td>2023-03-28</td>\n",
       "      <td>17</td>\n",
       "      <td>3.583</td>\n",
       "      <td>2.0</td>\n",
       "      <td>0.0</td>\n",
       "      <td>1.792</td>\n",
       "    </tr>\n",
       "  </tbody>\n",
       "</table>\n",
       "</div>"
      ],
      "text/plain": [
       "        StartDate  Hour  Duration  RoadNumber  HectometerDirectionNum  \\\n",
       "91331  2021-09-18    22     0.000         2.0                     0.0   \n",
       "122250 2023-03-28    17     3.583         2.0                     0.0   \n",
       "\n",
       "        Severity  \n",
       "91331      0.000  \n",
       "122250     1.792  "
      ]
     },
     "execution_count": 19,
     "metadata": {},
     "output_type": "execute_result"
    }
   ],
   "source": [
    "mergedoutera2d0.sample(2)"
   ]
  },
  {
   "cell_type": "markdown",
   "metadata": {},
   "source": [
    "### Join A73 and direction 1"
   ]
  },
  {
   "cell_type": "code",
   "execution_count": 20,
   "metadata": {},
   "outputs": [
    {
     "data": {
      "text/html": [
       "<div>\n",
       "<style scoped>\n",
       "    .dataframe tbody tr th:only-of-type {\n",
       "        vertical-align: middle;\n",
       "    }\n",
       "\n",
       "    .dataframe tbody tr th {\n",
       "        vertical-align: top;\n",
       "    }\n",
       "\n",
       "    .dataframe thead th {\n",
       "        text-align: right;\n",
       "    }\n",
       "</style>\n",
       "<table border=\"1\" class=\"dataframe\">\n",
       "  <thead>\n",
       "    <tr style=\"text-align: right;\">\n",
       "      <th></th>\n",
       "      <th>StartDate</th>\n",
       "      <th>Duration</th>\n",
       "      <th>RoadNumber</th>\n",
       "      <th>Hour</th>\n",
       "      <th>HectometerDirectionNum</th>\n",
       "      <th>Severity</th>\n",
       "    </tr>\n",
       "  </thead>\n",
       "  <tbody>\n",
       "    <tr>\n",
       "      <th>248248</th>\n",
       "      <td>2023-04-05</td>\n",
       "      <td>2.600</td>\n",
       "      <td>73</td>\n",
       "      <td>16</td>\n",
       "      <td>1.0</td>\n",
       "      <td>5.690</td>\n",
       "    </tr>\n",
       "    <tr>\n",
       "      <th>498938</th>\n",
       "      <td>2023-07-13</td>\n",
       "      <td>24.717</td>\n",
       "      <td>73</td>\n",
       "      <td>17</td>\n",
       "      <td>1.0</td>\n",
       "      <td>66.427</td>\n",
       "    </tr>\n",
       "  </tbody>\n",
       "</table>\n",
       "</div>"
      ],
      "text/plain": [
       "        StartDate  Duration  RoadNumber  Hour  HectometerDirectionNum  \\\n",
       "248248 2023-04-05     2.600          73    16                     1.0   \n",
       "498938 2023-07-13    24.717          73    17                     1.0   \n",
       "\n",
       "        Severity  \n",
       "248248     5.690  \n",
       "498938    66.427  "
      ]
     },
     "execution_count": 20,
     "metadata": {},
     "output_type": "execute_result"
    }
   ],
   "source": [
    "a73d1 = selected_columns[(selected_columns['RoadNumber']==73)&(selected_columns['HectometerDirectionNum']==1)]\n",
    "a73d1.sample(2)"
   ]
  },
  {
   "cell_type": "code",
   "execution_count": 21,
   "metadata": {},
   "outputs": [
    {
     "data": {
      "text/plain": [
       "StartDate                     0\n",
       "Hour                          0\n",
       "Duration                  76193\n",
       "RoadNumber                76193\n",
       "HectometerDirectionNum    76193\n",
       "Severity                  76193\n",
       "dtype: int64"
      ]
     },
     "execution_count": 21,
     "metadata": {},
     "output_type": "execute_result"
    }
   ],
   "source": [
    "mergedoutera73d1 = pd.merge(calendar, a73d1, how='left', on=['StartDate', 'Hour'])\n",
    "mergedoutera73d1.isna().sum()"
   ]
  },
  {
   "cell_type": "code",
   "execution_count": 22,
   "metadata": {},
   "outputs": [
    {
     "data": {
      "text/plain": [
       "StartDate                 0\n",
       "Hour                      0\n",
       "Duration                  0\n",
       "RoadNumber                0\n",
       "HectometerDirectionNum    0\n",
       "Severity                  0\n",
       "dtype: int64"
      ]
     },
     "execution_count": 22,
     "metadata": {},
     "output_type": "execute_result"
    }
   ],
   "source": [
    "mergedoutera73d1['Duration'] = mergedoutera73d1['Duration'].fillna(0)\n",
    "mergedoutera73d1['Severity'] = mergedoutera73d1['Severity'].fillna(0)\n",
    "mergedoutera73d1['RoadNumber'] = mergedoutera73d1['RoadNumber'].fillna(73)\n",
    "mergedoutera73d1['HectometerDirectionNum'] = mergedoutera73d1['HectometerDirectionNum'].fillna(1)\n",
    "mergedoutera73d1.isna().sum()"
   ]
  },
  {
   "cell_type": "code",
   "execution_count": 23,
   "metadata": {},
   "outputs": [
    {
     "data": {
      "text/html": [
       "<div>\n",
       "<style scoped>\n",
       "    .dataframe tbody tr th:only-of-type {\n",
       "        vertical-align: middle;\n",
       "    }\n",
       "\n",
       "    .dataframe tbody tr th {\n",
       "        vertical-align: top;\n",
       "    }\n",
       "\n",
       "    .dataframe thead th {\n",
       "        text-align: right;\n",
       "    }\n",
       "</style>\n",
       "<table border=\"1\" class=\"dataframe\">\n",
       "  <thead>\n",
       "    <tr style=\"text-align: right;\">\n",
       "      <th></th>\n",
       "      <th>StartDate</th>\n",
       "      <th>Hour</th>\n",
       "      <th>Duration</th>\n",
       "      <th>RoadNumber</th>\n",
       "      <th>HectometerDirectionNum</th>\n",
       "      <th>Severity</th>\n",
       "    </tr>\n",
       "  </thead>\n",
       "  <tbody>\n",
       "    <tr>\n",
       "      <th>22725</th>\n",
       "      <td>2017-07-20</td>\n",
       "      <td>23</td>\n",
       "      <td>0.0</td>\n",
       "      <td>73.0</td>\n",
       "      <td>1.0</td>\n",
       "      <td>0.0</td>\n",
       "    </tr>\n",
       "    <tr>\n",
       "      <th>65930</th>\n",
       "      <td>2022-04-19</td>\n",
       "      <td>23</td>\n",
       "      <td>0.0</td>\n",
       "      <td>73.0</td>\n",
       "      <td>1.0</td>\n",
       "      <td>0.0</td>\n",
       "    </tr>\n",
       "  </tbody>\n",
       "</table>\n",
       "</div>"
      ],
      "text/plain": [
       "       StartDate  Hour  Duration  RoadNumber  HectometerDirectionNum  Severity\n",
       "22725 2017-07-20    23       0.0        73.0                     1.0       0.0\n",
       "65930 2022-04-19    23       0.0        73.0                     1.0       0.0"
      ]
     },
     "execution_count": 23,
     "metadata": {},
     "output_type": "execute_result"
    }
   ],
   "source": [
    "mergedoutera73d1.sample(2)"
   ]
  },
  {
   "cell_type": "markdown",
   "metadata": {},
   "source": [
    "### Join A73 and direction 0"
   ]
  },
  {
   "cell_type": "code",
   "execution_count": 24,
   "metadata": {},
   "outputs": [
    {
     "data": {
      "text/html": [
       "<div>\n",
       "<style scoped>\n",
       "    .dataframe tbody tr th:only-of-type {\n",
       "        vertical-align: middle;\n",
       "    }\n",
       "\n",
       "    .dataframe tbody tr th {\n",
       "        vertical-align: top;\n",
       "    }\n",
       "\n",
       "    .dataframe thead th {\n",
       "        text-align: right;\n",
       "    }\n",
       "</style>\n",
       "<table border=\"1\" class=\"dataframe\">\n",
       "  <thead>\n",
       "    <tr style=\"text-align: right;\">\n",
       "      <th></th>\n",
       "      <th>StartDate</th>\n",
       "      <th>Duration</th>\n",
       "      <th>RoadNumber</th>\n",
       "      <th>Hour</th>\n",
       "      <th>HectometerDirectionNum</th>\n",
       "      <th>Severity</th>\n",
       "    </tr>\n",
       "  </thead>\n",
       "  <tbody>\n",
       "    <tr>\n",
       "      <th>195465</th>\n",
       "      <td>2022-11-25</td>\n",
       "      <td>5.55</td>\n",
       "      <td>73</td>\n",
       "      <td>15</td>\n",
       "      <td>0.0</td>\n",
       "      <td>13.847</td>\n",
       "    </tr>\n",
       "    <tr>\n",
       "      <th>30886</th>\n",
       "      <td>2023-06-29</td>\n",
       "      <td>14.55</td>\n",
       "      <td>73</td>\n",
       "      <td>17</td>\n",
       "      <td>0.0</td>\n",
       "      <td>42.772</td>\n",
       "    </tr>\n",
       "  </tbody>\n",
       "</table>\n",
       "</div>"
      ],
      "text/plain": [
       "        StartDate  Duration  RoadNumber  Hour  HectometerDirectionNum  \\\n",
       "195465 2022-11-25      5.55          73    15                     0.0   \n",
       "30886  2023-06-29     14.55          73    17                     0.0   \n",
       "\n",
       "        Severity  \n",
       "195465    13.847  \n",
       "30886     42.772  "
      ]
     },
     "execution_count": 24,
     "metadata": {},
     "output_type": "execute_result"
    }
   ],
   "source": [
    "a73d0 = selected_columns[(selected_columns['RoadNumber']==73)&(selected_columns['HectometerDirectionNum']==0)]\n",
    "a73d0.sample(2)"
   ]
  },
  {
   "cell_type": "code",
   "execution_count": 25,
   "metadata": {},
   "outputs": [
    {
     "data": {
      "text/plain": [
       "StartDate                     0\n",
       "Hour                          0\n",
       "Duration                  77575\n",
       "RoadNumber                77575\n",
       "HectometerDirectionNum    77575\n",
       "Severity                  77575\n",
       "dtype: int64"
      ]
     },
     "execution_count": 25,
     "metadata": {},
     "output_type": "execute_result"
    }
   ],
   "source": [
    "mergedoutera73d0 = pd.merge(calendar, a73d0, how='left', on=['StartDate', 'Hour'])\n",
    "mergedoutera73d0.isna().sum()"
   ]
  },
  {
   "cell_type": "code",
   "execution_count": 26,
   "metadata": {},
   "outputs": [
    {
     "data": {
      "text/plain": [
       "StartDate                 0\n",
       "Hour                      0\n",
       "Duration                  0\n",
       "RoadNumber                0\n",
       "HectometerDirectionNum    0\n",
       "Severity                  0\n",
       "dtype: int64"
      ]
     },
     "execution_count": 26,
     "metadata": {},
     "output_type": "execute_result"
    }
   ],
   "source": [
    "mergedoutera73d0['Duration'] = mergedoutera73d0['Duration'].fillna(0)\n",
    "mergedoutera73d0['Severity'] = mergedoutera73d0['Severity'].fillna(0)\n",
    "mergedoutera73d0['RoadNumber'] = mergedoutera73d0['RoadNumber'].fillna(73)\n",
    "mergedoutera73d0['HectometerDirectionNum'] = mergedoutera73d0['HectometerDirectionNum'].fillna(0)\n",
    "mergedoutera73d0.isna().sum()"
   ]
  },
  {
   "cell_type": "code",
   "execution_count": 27,
   "metadata": {},
   "outputs": [
    {
     "data": {
      "text/html": [
       "<div>\n",
       "<style scoped>\n",
       "    .dataframe tbody tr th:only-of-type {\n",
       "        vertical-align: middle;\n",
       "    }\n",
       "\n",
       "    .dataframe tbody tr th {\n",
       "        vertical-align: top;\n",
       "    }\n",
       "\n",
       "    .dataframe thead th {\n",
       "        text-align: right;\n",
       "    }\n",
       "</style>\n",
       "<table border=\"1\" class=\"dataframe\">\n",
       "  <thead>\n",
       "    <tr style=\"text-align: right;\">\n",
       "      <th></th>\n",
       "      <th>StartDate</th>\n",
       "      <th>Hour</th>\n",
       "      <th>Duration</th>\n",
       "      <th>RoadNumber</th>\n",
       "      <th>HectometerDirectionNum</th>\n",
       "      <th>Severity</th>\n",
       "    </tr>\n",
       "  </thead>\n",
       "  <tbody>\n",
       "    <tr>\n",
       "      <th>53789</th>\n",
       "      <td>2021-01-28</td>\n",
       "      <td>22</td>\n",
       "      <td>0.000</td>\n",
       "      <td>73.0</td>\n",
       "      <td>0.0</td>\n",
       "      <td>0.000</td>\n",
       "    </tr>\n",
       "    <tr>\n",
       "      <th>74774</th>\n",
       "      <td>2023-03-16</td>\n",
       "      <td>17</td>\n",
       "      <td>2.567</td>\n",
       "      <td>73.0</td>\n",
       "      <td>0.0</td>\n",
       "      <td>5.763</td>\n",
       "    </tr>\n",
       "  </tbody>\n",
       "</table>\n",
       "</div>"
      ],
      "text/plain": [
       "       StartDate  Hour  Duration  RoadNumber  HectometerDirectionNum  Severity\n",
       "53789 2021-01-28    22     0.000        73.0                     0.0     0.000\n",
       "74774 2023-03-16    17     2.567        73.0                     0.0     5.763"
      ]
     },
     "execution_count": 27,
     "metadata": {},
     "output_type": "execute_result"
    }
   ],
   "source": [
    "mergedoutera73d0.sample(2)"
   ]
  },
  {
   "cell_type": "markdown",
   "metadata": {},
   "source": [
    "### Appending the 4 dataframes"
   ]
  },
  {
   "cell_type": "code",
   "execution_count": 28,
   "metadata": {},
   "outputs": [
    {
     "data": {
      "text/plain": [
       "StartDate                 0\n",
       "Hour                      0\n",
       "Duration                  0\n",
       "RoadNumber                0\n",
       "HectometerDirectionNum    0\n",
       "Severity                  0\n",
       "dtype: int64"
      ]
     },
     "execution_count": 28,
     "metadata": {},
     "output_type": "execute_result"
    }
   ],
   "source": [
    "dataframes = [mergedoutera2d0, mergedoutera2d1, mergedoutera73d0, mergedoutera73d1]\n",
    "appended_frame = pd.concat(dataframes, axis=0)\n",
    "appended_frame.isna().sum()"
   ]
  },
  {
   "cell_type": "code",
   "execution_count": 29,
   "metadata": {},
   "outputs": [
    {
     "data": {
      "text/plain": [
       "(477126, 6)"
      ]
     },
     "execution_count": 29,
     "metadata": {},
     "output_type": "execute_result"
    }
   ],
   "source": [
    "appended_frame.shape"
   ]
  },
  {
   "cell_type": "code",
   "execution_count": 30,
   "metadata": {},
   "outputs": [
    {
     "data": {
      "text/html": [
       "<div>\n",
       "<style scoped>\n",
       "    .dataframe tbody tr th:only-of-type {\n",
       "        vertical-align: middle;\n",
       "    }\n",
       "\n",
       "    .dataframe tbody tr th {\n",
       "        vertical-align: top;\n",
       "    }\n",
       "\n",
       "    .dataframe thead th {\n",
       "        text-align: right;\n",
       "    }\n",
       "</style>\n",
       "<table border=\"1\" class=\"dataframe\">\n",
       "  <thead>\n",
       "    <tr style=\"text-align: right;\">\n",
       "      <th></th>\n",
       "      <th>StartDate</th>\n",
       "      <th>Hour</th>\n",
       "      <th>Duration</th>\n",
       "      <th>RoadNumber</th>\n",
       "      <th>HectometerDirectionNum</th>\n",
       "      <th>Severity</th>\n",
       "    </tr>\n",
       "  </thead>\n",
       "  <tbody>\n",
       "    <tr>\n",
       "      <th>53769</th>\n",
       "      <td>2020-12-17</td>\n",
       "      <td>18</td>\n",
       "      <td>0.000</td>\n",
       "      <td>73.0</td>\n",
       "      <td>1.0</td>\n",
       "      <td>0.000</td>\n",
       "    </tr>\n",
       "    <tr>\n",
       "      <th>42808</th>\n",
       "      <td>2019-11-04</td>\n",
       "      <td>7</td>\n",
       "      <td>4.433</td>\n",
       "      <td>73.0</td>\n",
       "      <td>0.0</td>\n",
       "      <td>13.300</td>\n",
       "    </tr>\n",
       "    <tr>\n",
       "      <th>46963</th>\n",
       "      <td>2020-03-14</td>\n",
       "      <td>14</td>\n",
       "      <td>0.000</td>\n",
       "      <td>73.0</td>\n",
       "      <td>1.0</td>\n",
       "      <td>0.000</td>\n",
       "    </tr>\n",
       "    <tr>\n",
       "      <th>74412</th>\n",
       "      <td>2023-01-06</td>\n",
       "      <td>19</td>\n",
       "      <td>0.000</td>\n",
       "      <td>73.0</td>\n",
       "      <td>1.0</td>\n",
       "      <td>0.000</td>\n",
       "    </tr>\n",
       "    <tr>\n",
       "      <th>60329</th>\n",
       "      <td>2019-03-17</td>\n",
       "      <td>17</td>\n",
       "      <td>64.517</td>\n",
       "      <td>2.0</td>\n",
       "      <td>0.0</td>\n",
       "      <td>216.817</td>\n",
       "    </tr>\n",
       "  </tbody>\n",
       "</table>\n",
       "</div>"
      ],
      "text/plain": [
       "       StartDate  Hour  Duration  RoadNumber  HectometerDirectionNum  Severity\n",
       "53769 2020-12-17    18     0.000        73.0                     1.0     0.000\n",
       "42808 2019-11-04     7     4.433        73.0                     0.0    13.300\n",
       "46963 2020-03-14    14     0.000        73.0                     1.0     0.000\n",
       "74412 2023-01-06    19     0.000        73.0                     1.0     0.000\n",
       "60329 2019-03-17    17    64.517         2.0                     0.0   216.817"
      ]
     },
     "execution_count": 30,
     "metadata": {},
     "output_type": "execute_result"
    }
   ],
   "source": [
    "appended_frame.sample(5)"
   ]
  },
  {
   "cell_type": "code",
   "execution_count": 46,
   "metadata": {},
   "outputs": [
    {
     "data": {
      "image/png": "[encoded data removed]",
      "text/plain": [
       "<Figure size 2000x1500 with 4 Axes>"
      ]
     },
     "metadata": {},
     "output_type": "display_data"
    }
   ],
   "source": [
    "import seaborn as sns\n",
    "\n",
    "actualtr0 = appended_frame[(appended_frame['Duration']!=0)&(appended_frame['HectometerDirectionNum']==0)&(appended_frame['RoadNumber']==2)]\n",
    "actualtr0 = actualtr0['Hour'].value_counts().sort_index() \n",
    "\n",
    "fig, axes = plt.subplots(2, 2, figsize=(20, 15))\n",
    "sns.barplot(x=actualtr0.index, y=actualtr0.values, ax = axes[0,0])\n",
    "axes[0, 0].set_title('Road A2 and direction 0')\n",
    "axes[0, 0].set_xlabel('Hour')\n",
    "axes[0, 0].set_ylabel('Traffic Jams')\n",
    "\n",
    "\n",
    "actualtr1 = appended_frame[(appended_frame['Duration']!=0)&(appended_frame['HectometerDirectionNum']==1)&(appended_frame['RoadNumber']==2)]\n",
    "actualtr1 = actualtr1['Hour'].value_counts().sort_index()\n",
    "\n",
    "sns.barplot(x=actualtr1.index, y=actualtr1.values, ax = axes[0,1])\n",
    "axes[0, 1].set_title('Road A2 and direction 1')\n",
    "axes[0, 1].set_xlabel('Hour')\n",
    "axes[0, 1].set_ylabel('Traffic Jams')\n",
    "\n",
    "actualtr2 = appended_frame[(appended_frame['Duration']!=0)&(appended_frame['HectometerDirectionNum']==0)&(appended_frame['RoadNumber']==73)]\n",
    "actualtr2 = actualtr2['Hour'].value_counts().sort_index() \n",
    "\n",
    "\n",
    "sns.barplot(x=actualtr2.index, y=actualtr2.values, ax = axes[1,0])\n",
    "axes[1, 0].set_title('Road A73 and direction 0')\n",
    "axes[1, 0].set_xlabel('Hour')\n",
    "axes[1, 0].set_ylabel('Traffic Jams')\n",
    "\n",
    "\n",
    "actualtr3 = appended_frame[(appended_frame['Duration']!=0)&(appended_frame['HectometerDirectionNum']==1)&(appended_frame['RoadNumber']==73)]\n",
    "actualtr3 = actualtr3['Hour'].value_counts().sort_index()\n",
    "\n",
    "sns.barplot(x=actualtr3.index, y=actualtr3.values, ax = axes[1,1])\n",
    "axes[1, 1].set_title('Road A73 and direction 1')\n",
    "axes[1, 1].set_xlabel('Hour')\n",
    "axes[1, 1].set_ylabel('Traffic Jams')\n",
    "\n",
    "plt.tight_layout()\n",
    "plt.show()"
   ]
  },
  {
   "cell_type": "code",
   "execution_count": 32,
   "metadata": {},
   "outputs": [
    {
     "data": {
      "text/html": [
       "<div>\n",
       "<style scoped>\n",
       "    .dataframe tbody tr th:only-of-type {\n",
       "        vertical-align: middle;\n",
       "    }\n",
       "\n",
       "    .dataframe tbody tr th {\n",
       "        vertical-align: top;\n",
       "    }\n",
       "\n",
       "    .dataframe thead th {\n",
       "        text-align: right;\n",
       "    }\n",
       "</style>\n",
       "<table border=\"1\" class=\"dataframe\">\n",
       "  <thead>\n",
       "    <tr style=\"text-align: right;\">\n",
       "      <th></th>\n",
       "      <th>StartDate</th>\n",
       "      <th>Hour</th>\n",
       "      <th>Duration</th>\n",
       "      <th>RoadNumber</th>\n",
       "      <th>HectometerDirectionNum</th>\n",
       "      <th>Severity</th>\n",
       "    </tr>\n",
       "  </thead>\n",
       "  <tbody>\n",
       "    <tr>\n",
       "      <th>0</th>\n",
       "      <td>2015-01-01</td>\n",
       "      <td>0</td>\n",
       "      <td>0.0</td>\n",
       "      <td>2.0</td>\n",
       "      <td>0.0</td>\n",
       "      <td>0.0</td>\n",
       "    </tr>\n",
       "    <tr>\n",
       "      <th>1</th>\n",
       "      <td>2015-01-01</td>\n",
       "      <td>1</td>\n",
       "      <td>0.0</td>\n",
       "      <td>2.0</td>\n",
       "      <td>0.0</td>\n",
       "      <td>0.0</td>\n",
       "    </tr>\n",
       "    <tr>\n",
       "      <th>2</th>\n",
       "      <td>2015-01-01</td>\n",
       "      <td>2</td>\n",
       "      <td>0.0</td>\n",
       "      <td>2.0</td>\n",
       "      <td>0.0</td>\n",
       "      <td>0.0</td>\n",
       "    </tr>\n",
       "    <tr>\n",
       "      <th>3</th>\n",
       "      <td>2015-01-01</td>\n",
       "      <td>3</td>\n",
       "      <td>0.0</td>\n",
       "      <td>2.0</td>\n",
       "      <td>0.0</td>\n",
       "      <td>0.0</td>\n",
       "    </tr>\n",
       "    <tr>\n",
       "      <th>4</th>\n",
       "      <td>2015-01-01</td>\n",
       "      <td>4</td>\n",
       "      <td>0.0</td>\n",
       "      <td>2.0</td>\n",
       "      <td>0.0</td>\n",
       "      <td>0.0</td>\n",
       "    </tr>\n",
       "    <tr>\n",
       "      <th>...</th>\n",
       "      <td>...</td>\n",
       "      <td>...</td>\n",
       "      <td>...</td>\n",
       "      <td>...</td>\n",
       "      <td>...</td>\n",
       "      <td>...</td>\n",
       "    </tr>\n",
       "    <tr>\n",
       "      <th>89613</th>\n",
       "      <td>2024-02-28</td>\n",
       "      <td>20</td>\n",
       "      <td>0.0</td>\n",
       "      <td>73.0</td>\n",
       "      <td>1.0</td>\n",
       "      <td>0.0</td>\n",
       "    </tr>\n",
       "    <tr>\n",
       "      <th>89614</th>\n",
       "      <td>2024-02-28</td>\n",
       "      <td>21</td>\n",
       "      <td>0.0</td>\n",
       "      <td>73.0</td>\n",
       "      <td>1.0</td>\n",
       "      <td>0.0</td>\n",
       "    </tr>\n",
       "    <tr>\n",
       "      <th>89615</th>\n",
       "      <td>2024-02-28</td>\n",
       "      <td>22</td>\n",
       "      <td>0.0</td>\n",
       "      <td>73.0</td>\n",
       "      <td>1.0</td>\n",
       "      <td>0.0</td>\n",
       "    </tr>\n",
       "    <tr>\n",
       "      <th>89616</th>\n",
       "      <td>2024-02-28</td>\n",
       "      <td>23</td>\n",
       "      <td>0.0</td>\n",
       "      <td>73.0</td>\n",
       "      <td>1.0</td>\n",
       "      <td>0.0</td>\n",
       "    </tr>\n",
       "    <tr>\n",
       "      <th>89617</th>\n",
       "      <td>2024-02-29</td>\n",
       "      <td>0</td>\n",
       "      <td>0.0</td>\n",
       "      <td>73.0</td>\n",
       "      <td>1.0</td>\n",
       "      <td>0.0</td>\n",
       "    </tr>\n",
       "  </tbody>\n",
       "</table>\n",
       "<p>477126 rows × 6 columns</p>\n",
       "</div>"
      ],
      "text/plain": [
       "       StartDate  Hour  Duration  RoadNumber  HectometerDirectionNum  Severity\n",
       "0     2015-01-01     0       0.0         2.0                     0.0       0.0\n",
       "1     2015-01-01     1       0.0         2.0                     0.0       0.0\n",
       "2     2015-01-01     2       0.0         2.0                     0.0       0.0\n",
       "3     2015-01-01     3       0.0         2.0                     0.0       0.0\n",
       "4     2015-01-01     4       0.0         2.0                     0.0       0.0\n",
       "...          ...   ...       ...         ...                     ...       ...\n",
       "89613 2024-02-28    20       0.0        73.0                     1.0       0.0\n",
       "89614 2024-02-28    21       0.0        73.0                     1.0       0.0\n",
       "89615 2024-02-28    22       0.0        73.0                     1.0       0.0\n",
       "89616 2024-02-28    23       0.0        73.0                     1.0       0.0\n",
       "89617 2024-02-29     0       0.0        73.0                     1.0       0.0\n",
       "\n",
       "[477126 rows x 6 columns]"
      ]
     },
     "execution_count": 32,
     "metadata": {},
     "output_type": "execute_result"
    }
   ],
   "source": [
    "appended_frame"
   ]
  },
  {
   "cell_type": "markdown",
   "metadata": {},
   "source": [
    "### Exporting the file"
   ]
  },
  {
   "cell_type": "code",
   "execution_count": 167,
   "metadata": {},
   "outputs": [],
   "source": [
    "appended_frame.to_csv(\"datasets/LeftJoin.csv\", index=False)"
   ]
  }
 ],
 "metadata": {
  "kernelspec": {
   "display_name": "Python 3",
   "language": "python",
   "name": "python3"
  },
  "language_info": {
   "codemirror_mode": {
    "name": "ipython",
    "version": 3
   },
   "file_extension": ".py",
   "mimetype": "text/x-python",
   "name": "python",
   "nbconvert_exporter": "python",
   "pygments_lexer": "ipython3",
   "version": "3.10.6"
  }
 },
 "nbformat": 4,
 "nbformat_minor": 2
}
